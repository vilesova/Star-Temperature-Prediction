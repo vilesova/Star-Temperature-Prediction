{
 "cells": [
  {
   "cell_type": "markdown",
   "id": "corresponding-armstrong",
   "metadata": {
    "ExecuteTime": {
     "end_time": "2022-05-05T04:58:05.692448Z",
     "start_time": "2022-05-05T04:58:05.688565Z"
    }
   },
   "source": [
    "## Загрузка данных"
   ]
  },
  {
   "cell_type": "markdown",
   "id": "812b7d03",
   "metadata": {},
   "source": [
    "Устанавливаем нужные библиотеки:"
   ]
  },
  {
   "cell_type": "code",
   "execution_count": 1,
   "id": "de19a784",
   "metadata": {},
   "outputs": [
    {
     "name": "stdout",
     "output_type": "stream",
     "text": [
      "\u001b[31mERROR: pip's dependency resolver does not currently take into account all the packages that are installed. This behaviour is the source of the following dependency conflicts.\r\n",
      "tensorflow-cpu 2.7.0 requires flatbuffers<3.0,>=1.12, but you have flatbuffers 24.3.25 which is incompatible.\r\n",
      "tensorflow-cpu 2.7.0 requires keras<2.8,>=2.7.0rc0, but you have keras 3.5.0 which is incompatible.\r\n",
      "scipy 1.9.1 requires numpy<1.25.0,>=1.18.5, but you have numpy 1.26.4 which is incompatible.\r\n",
      "numba 0.56.0 requires numpy<1.23,>=1.18, but you have numpy 1.26.4 which is incompatible.\u001b[0m\r\n"
     ]
    }
   ],
   "source": [
    "!pip install phik -q\n",
    "!pip install tensorflow -q"
   ]
  },
  {
   "cell_type": "markdown",
   "id": "d4c3c2e4",
   "metadata": {},
   "source": [
    "Импортируем необходимые библиотеки для работы с файлами, данными, построением графиков и визуализацией:"
   ]
  },
  {
   "cell_type": "code",
   "execution_count": 2,
   "id": "19970198",
   "metadata": {},
   "outputs": [
    {
     "name": "stderr",
     "output_type": "stream",
     "text": [
      "/opt/conda/lib/python3.9/site-packages/scipy/__init__.py:155: UserWarning: A NumPy version >=1.18.5 and <1.25.0 is required for this version of SciPy (detected version 1.26.4\n",
      "  warnings.warn(f\"A NumPy version >={np_minversion} and <{np_maxversion}\"\n"
     ]
    }
   ],
   "source": [
    "import os\n",
    "import pandas as pd\n",
    "import numpy as np\n",
    "import matplotlib.pyplot as plt\n",
    "import seaborn as sns\n",
    "from phik import phik_matrix\n",
    "import matplotlib.colors as mcolors\n",
    "from sklearn.model_selection import train_test_split\n",
    "from sklearn.preprocessing import StandardScaler, OneHotEncoder\n",
    "import warnings\n",
    "warnings.filterwarnings('ignore')\n",
    "os.environ['TF_CPP_MIN_LOG_LEVEL'] = '3'\n",
    "import tensorflow as tf\n",
    "from tensorflow.keras import layers, models\n",
    "from tensorflow.keras.layers import Dropout\n",
    "from sklearn.metrics import mean_squared_error\n",
    "from math import sqrt"
   ]
  },
  {
   "cell_type": "markdown",
   "id": "46a0e953",
   "metadata": {},
   "source": [
    "Создаем функцию, которая принимает путь к файлу и загружает данные в DataFrame, и выполняем её:"
   ]
  },
  {
   "cell_type": "code",
   "execution_count": 3,
   "id": "spectacular-folder",
   "metadata": {},
   "outputs": [
    {
     "name": "stdout",
     "output_type": "stream",
     "text": [
      "Данные из файла '/datasets/6_class.csv' успешно загружены.\n"
     ]
    }
   ],
   "source": [
    "def load_data(file_path, delimiter=','):\n",
    "    # Проверка существования файла по указанному пути\n",
    "    if os.path.exists(file_path):\n",
    "        # Загрузка данных из файла в датафрейм с использованием указанного разделителя\n",
    "        data = pd.read_csv(file_path, delimiter=delimiter)\n",
    "        print(f\"Данные из файла '{file_path}' успешно загружены.\")\n",
    "        return data\n",
    "    else:\n",
    "        # Вывод сообщения о том, что файл не существует\n",
    "        print(f\"Файл '{file_path}' не существует.\")\n",
    "        return None\n",
    "\n",
    "data = load_data('/datasets/6_class.csv')"
   ]
  },
  {
   "cell_type": "markdown",
   "id": "simple-subdivision",
   "metadata": {},
   "source": [
    "## Предобработка и анализ данных"
   ]
  },
  {
   "cell_type": "markdown",
   "id": "84902941",
   "metadata": {},
   "source": [
    "Удаляем столбец 'Unnamed: 0' из DataFrame, чтобы избежать дублирования индексов:"
   ]
  },
  {
   "cell_type": "code",
   "execution_count": 4,
   "id": "21bcf9f6",
   "metadata": {},
   "outputs": [],
   "source": [
    "data = data.drop('Unnamed: 0', axis=1)"
   ]
  },
  {
   "cell_type": "markdown",
   "id": "e3287a24",
   "metadata": {},
   "source": [
    "Анализируем данные, чтобы понять их структуру и качество, а также принять решения о дальнейшей обработке:"
   ]
  },
  {
   "cell_type": "code",
   "execution_count": 5,
   "id": "flush-dream",
   "metadata": {},
   "outputs": [
    {
     "data": {
      "text/html": [
       "<div>\n",
       "<style scoped>\n",
       "    .dataframe tbody tr th:only-of-type {\n",
       "        vertical-align: middle;\n",
       "    }\n",
       "\n",
       "    .dataframe tbody tr th {\n",
       "        vertical-align: top;\n",
       "    }\n",
       "\n",
       "    .dataframe thead th {\n",
       "        text-align: right;\n",
       "    }\n",
       "</style>\n",
       "<table border=\"1\" class=\"dataframe\">\n",
       "  <thead>\n",
       "    <tr style=\"text-align: right;\">\n",
       "      <th></th>\n",
       "      <th>Temperature (K)</th>\n",
       "      <th>Luminosity(L/Lo)</th>\n",
       "      <th>Radius(R/Ro)</th>\n",
       "      <th>Absolute magnitude(Mv)</th>\n",
       "      <th>Star type</th>\n",
       "      <th>Star color</th>\n",
       "    </tr>\n",
       "  </thead>\n",
       "  <tbody>\n",
       "    <tr>\n",
       "      <th>0</th>\n",
       "      <td>3068</td>\n",
       "      <td>0.002400</td>\n",
       "      <td>0.1700</td>\n",
       "      <td>16.12</td>\n",
       "      <td>0</td>\n",
       "      <td>Red</td>\n",
       "    </tr>\n",
       "    <tr>\n",
       "      <th>1</th>\n",
       "      <td>3042</td>\n",
       "      <td>0.000500</td>\n",
       "      <td>0.1542</td>\n",
       "      <td>16.60</td>\n",
       "      <td>0</td>\n",
       "      <td>Red</td>\n",
       "    </tr>\n",
       "    <tr>\n",
       "      <th>2</th>\n",
       "      <td>2600</td>\n",
       "      <td>0.000300</td>\n",
       "      <td>0.1020</td>\n",
       "      <td>18.70</td>\n",
       "      <td>0</td>\n",
       "      <td>Red</td>\n",
       "    </tr>\n",
       "    <tr>\n",
       "      <th>3</th>\n",
       "      <td>2800</td>\n",
       "      <td>0.000200</td>\n",
       "      <td>0.1600</td>\n",
       "      <td>16.65</td>\n",
       "      <td>0</td>\n",
       "      <td>Red</td>\n",
       "    </tr>\n",
       "    <tr>\n",
       "      <th>4</th>\n",
       "      <td>1939</td>\n",
       "      <td>0.000138</td>\n",
       "      <td>0.1030</td>\n",
       "      <td>20.06</td>\n",
       "      <td>0</td>\n",
       "      <td>Red</td>\n",
       "    </tr>\n",
       "  </tbody>\n",
       "</table>\n",
       "</div>"
      ],
      "text/plain": [
       "   Temperature (K)  Luminosity(L/Lo)  Radius(R/Ro)  Absolute magnitude(Mv)  \\\n",
       "0             3068          0.002400        0.1700                   16.12   \n",
       "1             3042          0.000500        0.1542                   16.60   \n",
       "2             2600          0.000300        0.1020                   18.70   \n",
       "3             2800          0.000200        0.1600                   16.65   \n",
       "4             1939          0.000138        0.1030                   20.06   \n",
       "\n",
       "   Star type Star color  \n",
       "0          0        Red  \n",
       "1          0        Red  \n",
       "2          0        Red  \n",
       "3          0        Red  \n",
       "4          0        Red  "
      ]
     },
     "metadata": {},
     "output_type": "display_data"
    },
    {
     "name": "stdout",
     "output_type": "stream",
     "text": [
      "<class 'pandas.core.frame.DataFrame'>\n",
      "RangeIndex: 240 entries, 0 to 239\n",
      "Data columns (total 6 columns):\n",
      " #   Column                  Non-Null Count  Dtype  \n",
      "---  ------                  --------------  -----  \n",
      " 0   Temperature (K)         240 non-null    int64  \n",
      " 1   Luminosity(L/Lo)        240 non-null    float64\n",
      " 2   Radius(R/Ro)            240 non-null    float64\n",
      " 3   Absolute magnitude(Mv)  240 non-null    float64\n",
      " 4   Star type               240 non-null    int64  \n",
      " 5   Star color              240 non-null    object \n",
      "dtypes: float64(3), int64(2), object(1)\n",
      "memory usage: 11.4+ KB\n"
     ]
    },
    {
     "data": {
      "text/html": [
       "<div>\n",
       "<style scoped>\n",
       "    .dataframe tbody tr th:only-of-type {\n",
       "        vertical-align: middle;\n",
       "    }\n",
       "\n",
       "    .dataframe tbody tr th {\n",
       "        vertical-align: top;\n",
       "    }\n",
       "\n",
       "    .dataframe thead th {\n",
       "        text-align: right;\n",
       "    }\n",
       "</style>\n",
       "<table border=\"1\" class=\"dataframe\">\n",
       "  <thead>\n",
       "    <tr style=\"text-align: right;\">\n",
       "      <th></th>\n",
       "      <th>Temperature (K)</th>\n",
       "      <th>Luminosity(L/Lo)</th>\n",
       "      <th>Radius(R/Ro)</th>\n",
       "      <th>Absolute magnitude(Mv)</th>\n",
       "      <th>Star type</th>\n",
       "    </tr>\n",
       "  </thead>\n",
       "  <tbody>\n",
       "    <tr>\n",
       "      <th>count</th>\n",
       "      <td>240.000000</td>\n",
       "      <td>240.000000</td>\n",
       "      <td>240.000000</td>\n",
       "      <td>240.000000</td>\n",
       "      <td>240.000000</td>\n",
       "    </tr>\n",
       "    <tr>\n",
       "      <th>mean</th>\n",
       "      <td>10497.462500</td>\n",
       "      <td>107188.361635</td>\n",
       "      <td>237.157781</td>\n",
       "      <td>4.382396</td>\n",
       "      <td>2.500000</td>\n",
       "    </tr>\n",
       "    <tr>\n",
       "      <th>std</th>\n",
       "      <td>9552.425037</td>\n",
       "      <td>179432.244940</td>\n",
       "      <td>517.155763</td>\n",
       "      <td>10.532512</td>\n",
       "      <td>1.711394</td>\n",
       "    </tr>\n",
       "    <tr>\n",
       "      <th>min</th>\n",
       "      <td>1939.000000</td>\n",
       "      <td>0.000080</td>\n",
       "      <td>0.008400</td>\n",
       "      <td>-11.920000</td>\n",
       "      <td>0.000000</td>\n",
       "    </tr>\n",
       "    <tr>\n",
       "      <th>25%</th>\n",
       "      <td>3344.250000</td>\n",
       "      <td>0.000865</td>\n",
       "      <td>0.102750</td>\n",
       "      <td>-6.232500</td>\n",
       "      <td>1.000000</td>\n",
       "    </tr>\n",
       "    <tr>\n",
       "      <th>50%</th>\n",
       "      <td>5776.000000</td>\n",
       "      <td>0.070500</td>\n",
       "      <td>0.762500</td>\n",
       "      <td>8.313000</td>\n",
       "      <td>2.500000</td>\n",
       "    </tr>\n",
       "    <tr>\n",
       "      <th>75%</th>\n",
       "      <td>15055.500000</td>\n",
       "      <td>198050.000000</td>\n",
       "      <td>42.750000</td>\n",
       "      <td>13.697500</td>\n",
       "      <td>4.000000</td>\n",
       "    </tr>\n",
       "    <tr>\n",
       "      <th>max</th>\n",
       "      <td>40000.000000</td>\n",
       "      <td>849420.000000</td>\n",
       "      <td>1948.500000</td>\n",
       "      <td>20.060000</td>\n",
       "      <td>5.000000</td>\n",
       "    </tr>\n",
       "  </tbody>\n",
       "</table>\n",
       "</div>"
      ],
      "text/plain": [
       "       Temperature (K)  Luminosity(L/Lo)  Radius(R/Ro)  \\\n",
       "count       240.000000        240.000000    240.000000   \n",
       "mean      10497.462500     107188.361635    237.157781   \n",
       "std        9552.425037     179432.244940    517.155763   \n",
       "min        1939.000000          0.000080      0.008400   \n",
       "25%        3344.250000          0.000865      0.102750   \n",
       "50%        5776.000000          0.070500      0.762500   \n",
       "75%       15055.500000     198050.000000     42.750000   \n",
       "max       40000.000000     849420.000000   1948.500000   \n",
       "\n",
       "       Absolute magnitude(Mv)   Star type  \n",
       "count              240.000000  240.000000  \n",
       "mean                 4.382396    2.500000  \n",
       "std                 10.532512    1.711394  \n",
       "min                -11.920000    0.000000  \n",
       "25%                 -6.232500    1.000000  \n",
       "50%                  8.313000    2.500000  \n",
       "75%                 13.697500    4.000000  \n",
       "max                 20.060000    5.000000  "
      ]
     },
     "metadata": {},
     "output_type": "display_data"
    }
   ],
   "source": [
    "# Просмотр первых строк данных\n",
    "display(data.head())\n",
    "\n",
    "# Общая информация о данных\n",
    "data.info()\n",
    "\n",
    "# Описательная статистика\n",
    "display(data.describe())"
   ]
  },
  {
   "cell_type": "markdown",
   "id": "75d713cd",
   "metadata": {},
   "source": [
    "Построим гистограммы, чтобы визуализировать распределение величин и понять, как часто встречаются различные значения в данных:"
   ]
  },
  {
   "cell_type": "code",
   "execution_count": 6,
   "id": "acf7e645",
   "metadata": {},
   "outputs": [
    {
     "data": {
      "image/png": "[encoded data removed]",
      "text/plain": [
       "<Figure size 1080x432 with 1 Axes>"
      ]
     },
     "metadata": {
      "needs_background": "light"
     },
     "output_type": "display_data"
    }
   ],
   "source": [
    "# Гистограмма Temperature (K)\n",
    "plt.figure(figsize=(15, 6))\n",
    "sns.histplot(data['Temperature (K)'], kde=True)\n",
    "plt.title('Гистограмма температуры')\n",
    "plt.xlabel('Температура (K)')\n",
    "plt.ylabel('Частота')\n",
    "plt.show()"
   ]
  },
  {
   "cell_type": "markdown",
   "id": "4f4fabc0",
   "metadata": {},
   "source": [
    "Гистограмма температуры показывает, что большинство звезд в данных имеют относительно низкую температуру, а количество звезд с более высокой температурой постепенно уменьшается. Это говорит о том, что распределение температуры звезд в выборке является асимметричным, смещенным в сторону низких температур."
   ]
  },
  {
   "cell_type": "code",
   "execution_count": 7,
   "id": "fc9c48ff",
   "metadata": {},
   "outputs": [
    {
     "data": {
      "image/png": "[encoded data removed]",
      "text/plain": [
       "<Figure size 1080x432 with 1 Axes>"
      ]
     },
     "metadata": {
      "needs_background": "light"
     },
     "output_type": "display_data"
    }
   ],
   "source": [
    "# Гистограмма Luminosity(L/Lo)\n",
    "plt.figure(figsize=(15, 6))\n",
    "sns.histplot(data['Luminosity(L/Lo)'], kde=True)\n",
    "plt.title('Гистограмма светимости')\n",
    "plt.xlabel('Светимость (L/Lo)')\n",
    "plt.ylabel('Частота')\n",
    "plt.show()"
   ]
  },
  {
   "cell_type": "markdown",
   "id": "a46fc2a3",
   "metadata": {},
   "source": [
    "Гистограмма светимости показывает, что большинство звезд в выборке имеют относительно низкую светимость, а количество звезд с более высокой светимостью постепенно уменьшается.  Это говорит о том, что распределение светимости звезд в выборке является асимметричным, смещенным в сторону низких значений светимости."
   ]
  },
  {
   "cell_type": "code",
   "execution_count": 8,
   "id": "1546b470",
   "metadata": {},
   "outputs": [
    {
     "data": {
      "image/png": "[encoded data removed]",
      "text/plain": [
       "<Figure size 1080x432 with 1 Axes>"
      ]
     },
     "metadata": {
      "needs_background": "light"
     },
     "output_type": "display_data"
    }
   ],
   "source": [
    "# Гистограмма Radius(R/Ro)\n",
    "plt.figure(figsize=(15, 6))\n",
    "sns.histplot(data['Radius(R/Ro)'], kde=True)\n",
    "plt.title('Гистограмма радиуса')\n",
    "plt.xlabel('Радиус (R/Ro)')\n",
    "plt.ylabel('Частота')\n",
    "plt.show()"
   ]
  },
  {
   "cell_type": "markdown",
   "id": "63578aff",
   "metadata": {},
   "source": [
    "Гистограмма радиуса показывает, что большинство звезд в выборке имеют относительно небольшой радиус, а количество звезд с более большим радиусом постепенно уменьшается. Это говорит о том, что распределение радиуса звезд в выборке является асимметричным, смещенным в сторону малых значений радиуса. \n",
    "\n",
    "Такое распределение может быть связано с тем, что в выборке преобладают звезды с низкой светимостью, которые обычно имеют меньший радиус, чем звезды с высокой светимостью."
   ]
  },
  {
   "cell_type": "code",
   "execution_count": 9,
   "id": "69f721b1",
   "metadata": {},
   "outputs": [
    {
     "data": {
      "image/png": "[encoded data removed]",
      "text/plain": [
       "<Figure size 1080x432 with 1 Axes>"
      ]
     },
     "metadata": {
      "needs_background": "light"
     },
     "output_type": "display_data"
    }
   ],
   "source": [
    "# Гистограмма Absolute magnitude(Mv)\n",
    "plt.figure(figsize=(15, 6))\n",
    "sns.histplot(data['Absolute magnitude(Mv)'], kde=True)\n",
    "plt.title('Гистограмма абсолютной звездной величины')\n",
    "plt.xlabel('Абсолютная звездная величина (Mv)')\n",
    "plt.ylabel('Частота')\n",
    "plt.show()"
   ]
  },
  {
   "cell_type": "markdown",
   "id": "d7241548",
   "metadata": {},
   "source": [
    "Гистограмма абсолютной звездной величины показывает, что в выборке есть две группы звезд с разными значениями абсолютной звездной величины.\n",
    "\n",
    "Это говорит о том, что в выборке присутствуют как звезды с относительно низкой светимостью (большая абсолютная звездная величина), так и звезды с высокой светимостью (меньшая абсолютная звездная величина)."
   ]
  },
  {
   "cell_type": "markdown",
   "id": "3dca33c6",
   "metadata": {},
   "source": [
    "Анализ гистограмм светимости, радиуса, температуры и абсолютной звездной величины показывает, что выборка звезд не является однородной и включает в себя звезды разных типов и светимости."
   ]
  },
  {
   "cell_type": "markdown",
   "id": "8f9ed85d",
   "metadata": {},
   "source": [
    "Проверяем уникальные значения в столбце 'Star color', чтобы понять, какие цвета звезд представлены в данных, и убедиться, что они записаны правильно, чтобы можно было правильно обрабатывать информацию о цвете звезд:"
   ]
  },
  {
   "cell_type": "code",
   "execution_count": 10,
   "id": "aa07ab7b",
   "metadata": {},
   "outputs": [
    {
     "data": {
      "text/plain": [
       "array(['Red', 'Blue White', 'White', 'Yellowish White', 'Blue white',\n",
       "       'Pale yellow orange', 'Blue', 'Blue-white', 'Whitish',\n",
       "       'yellow-white', 'Orange', 'White-Yellow', 'white', 'Blue ',\n",
       "       'yellowish', 'Yellowish', 'Orange-Red', 'Blue white ',\n",
       "       'Blue-White'], dtype=object)"
      ]
     },
     "execution_count": 10,
     "metadata": {},
     "output_type": "execute_result"
    }
   ],
   "source": [
    "data['Star color'].unique()"
   ]
  },
  {
   "cell_type": "markdown",
   "id": "531647cb",
   "metadata": {},
   "source": [
    "Удаляем дубликаты в столбце 'Star color', чтобы обеспечить корректную обработку данных:"
   ]
  },
  {
   "cell_type": "code",
   "execution_count": 11,
   "id": "c83a9d74",
   "metadata": {},
   "outputs": [],
   "source": [
    "data['Star color'] = data['Star color'].str.lower().str.strip().str.replace('-', ' ') # Удаляем \"-\" и пробелы"
   ]
  },
  {
   "cell_type": "code",
   "execution_count": 12,
   "id": "76a33363",
   "metadata": {},
   "outputs": [],
   "source": [
    "# Проверяем одинаковые комбинации слов\n",
    "for i in range(len(data['Star color'])):\n",
    "    color = data['Star color'][i].split()\n",
    "    if len(color) == 2:\n",
    "        reversed_color = ' '.join(reversed(color))\n",
    "        if reversed_color in data['Star color']:\n",
    "            data['Star color'][i] = min(color, reversed_color)  # Оставляем вариант с лексикографически меньшим порядком слов"
   ]
  },
  {
   "cell_type": "code",
   "execution_count": 13,
   "id": "9a9f10d4",
   "metadata": {},
   "outputs": [],
   "source": [
    "# Объединяем дубликаты\n",
    "data['Star color'] = data['Star color'].replace({'yellowish white': 'light yellow', \n",
    "                                                'white yellow': 'light yellow',\n",
    "                                                'yellowish': 'orange',\n",
    "                                                'yellow white': 'light yellow',\n",
    "                                                'yellowish orange': 'orange'})"
   ]
  },
  {
   "cell_type": "markdown",
   "id": "35947d86",
   "metadata": {},
   "source": [
    "Создаем горизонтальную столбчатую диаграмму, чтобы визуализировать количество звезд в выборке для каждого цвета, используя цветовую кодировку для наглядности:"
   ]
  },
  {
   "cell_type": "code",
   "execution_count": 14,
   "id": "06473fc0",
   "metadata": {},
   "outputs": [],
   "source": [
    "# Создаём цветовую кодировку\n",
    "color_mapping = {\n",
    "    'red': \"#ff0000\",  \n",
    "    'blue white': \"#42aaff\", \n",
    "    'pale yellow orange': '#ffca86',\n",
    "    'white': \"#ffffff\",  \n",
    "    'light yellow': \"#ffffe0\",\n",
    "    'blue': \"#0000ff\",  \n",
    "    'whitish': \"#f5f5f5\",  \n",
    "    'orange': \"#ffa500\",  \n",
    "    'orange red': \"#ff6347\", \n",
    "}"
   ]
  },
  {
   "cell_type": "code",
   "execution_count": 15,
   "id": "15c2435b",
   "metadata": {
    "scrolled": false
   },
   "outputs": [
    {
     "data": {
      "image/png": "[encoded data removed]",
      "text/plain": [
       "<Figure size 1080x432 with 1 Axes>"
      ]
     },
     "metadata": {
      "needs_background": "light"
     },
     "output_type": "display_data"
    }
   ],
   "source": [
    "# Cтроим диаграмму\n",
    "plt.figure(figsize=(15, 6))  # Изменили размер фигуры\n",
    "\n",
    "# Группируем данные по цвету\n",
    "star_colors = data['Star color'].unique()\n",
    "counts = [len(data[data['Star color'] == color]) for color in star_colors]\n",
    "\n",
    "# Сортировка по убыванию количества звезд\n",
    "sorted_indices = sorted(range(len(counts)), key=lambda k: counts[k], reverse=False)\n",
    "sorted_star_colors = [star_colors[i] for i in sorted_indices]\n",
    "sorted_counts = [counts[i] for i in sorted_indices]\n",
    "\n",
    "# Создаем диаграмму с помощью matplotlib.pyplot.bar\n",
    "plt.barh(sorted_star_colors, sorted_counts, color=[color_mapping.get(color, (0.5, 0.5, 0.5, 1.0)) for color in sorted_star_colors], edgecolor='black')\n",
    "\n",
    "# Добавляем числа на диаграмму\n",
    "for i, v in enumerate(sorted_counts):\n",
    "    plt.text(v + 1, i, str(v), va='center')\n",
    "\n",
    "plt.title('Количество звезд по цвету')\n",
    "plt.xlabel('Количество')\n",
    "plt.ylabel('Цвет звезды')\n",
    "plt.show()"
   ]
  },
  {
   "cell_type": "markdown",
   "id": "7a74c0c6",
   "metadata": {},
   "source": [
    "Диаграмма подтвердила предыдущие выводы, показав преобладание звезд с низкой светимостью - красных, и наличие звезд с более высокой светимостью - синих, голубых и белых."
   ]
  },
  {
   "cell_type": "markdown",
   "id": "58e2268f",
   "metadata": {},
   "source": [
    "Вычисляем матрицу корреляции, чтобы визуализировать взаимосвязи между параметрами звезд:"
   ]
  },
  {
   "cell_type": "code",
   "execution_count": 16,
   "id": "d9589d3f",
   "metadata": {},
   "outputs": [
    {
     "data": {
      "image/png": "[encoded data removed]",
      "text/plain": [
       "<Figure size 1080x576 with 2 Axes>"
      ]
     },
     "metadata": {
      "needs_background": "light"
     },
     "output_type": "display_data"
    }
   ],
   "source": [
    "# Установка интервальных столбцов\n",
    "interval_cols = ['Temperature (K)', 'Luminosity(L/Lo)', 'Radius(R/Ro)', 'Absolute magnitude(Mv)']\n",
    "data = data.astype({col: 'float' for col in interval_cols})\n",
    "\n",
    "# Вычисление матрицы корреляции с помощью phik\n",
    "correlation_matrix = phik_matrix(data, interval_cols=interval_cols)\n",
    "\n",
    "# Отображение тепловой карты\n",
    "plt.figure(figsize=(15, 8))\n",
    "sns.heatmap(correlation_matrix, annot=True)\n",
    "plt.title('Корреляционная матрица (phik)')\n",
    "plt.show()"
   ]
  },
  {
   "cell_type": "markdown",
   "id": "5547784a",
   "metadata": {},
   "source": [
    "Тепловая карта показывает, что между параметрами звезд, существует сильная положительная корреляция:\n",
    "\n",
    "- **Температура (K)** и **Светимость (L/Lo)** имеют высокую корреляцию (0.71), что согласуется с законами физики звезд. \n",
    "- **Температура (K)** и **Радиус (R/Ro)** также имеют высокую корреляцию (0.71), что говорит о том, что более горячие звезды, как правило, больше. \n",
    "- **Светимость (L/Lo)** и **Радиус (R/Ro)** также имеют высокую корреляцию (0.92), что подтверждает связь между размером звезды и ее светимостью.\n",
    "- **Абсолютная звездная величина (Mv)** имеет более слабую корреляцию с другими параметрами, но все же заметную (0.6-0.7).\n",
    "\n",
    "Эти взаимосвязи показывают, что звездные параметры не независимы друг от друга. Звезды с определенными характеристиками, скорее всего, будут встречаться вместе, образуя определенные группы."
   ]
  },
  {
   "cell_type": "markdown",
   "id": "funded-electric",
   "metadata": {},
   "source": [
    "## Построение базовой нейронной сети"
   ]
  },
  {
   "cell_type": "code",
   "execution_count": 17,
   "id": "104e56a9",
   "metadata": {},
   "outputs": [],
   "source": [
    "# OneHotEncoding для категориальных данных\n",
    "encoder = OneHotEncoder(sparse=False)\n",
    "\n",
    "# Преобразуем 'Star color' и 'Star type'\n",
    "encoded_color = encoder.fit_transform(data[['Star color']])\n",
    "encoded_type = encoder.fit_transform(data[['Star type']])\n",
    "\n",
    "# Преобразуем в DataFrame и добавляем к основным данным\n",
    "encoded_color_df = pd.DataFrame(encoded_color, columns=[f\"Star color_{i}\" for i in range(encoded_color.shape[1])])\n",
    "encoded_type_df = pd.DataFrame(encoded_type, columns=[f\"Star type_{i}\" for i in range(encoded_type.shape[1])])\n",
    "\n",
    "# Объединяем их с основным датафреймом\n",
    "data = pd.concat([data.drop(['Star color', 'Star type'], axis=1), encoded_color_df, encoded_type_df], axis=1)"
   ]
  },
  {
   "cell_type": "code",
   "execution_count": 18,
   "id": "1495e80f",
   "metadata": {},
   "outputs": [],
   "source": [
    "# Масштабируем количественные данные\n",
    "scaler = StandardScaler()\n",
    "\n",
    "# Выбираем количественные колонки\n",
    "numeric_columns = ['Temperature (K)', 'Luminosity(L/Lo)', 'Radius(R/Ro)', 'Absolute magnitude(Mv)']\n",
    "\n",
    "# Применяем StandardScaler\n",
    "data[numeric_columns] = scaler.fit_transform(data[numeric_columns])"
   ]
  },
  {
   "cell_type": "code",
   "execution_count": 19,
   "id": "7f102285",
   "metadata": {},
   "outputs": [],
   "source": [
    "# Отделяем целевой признак (Температура) и признаки (остальные)\n",
    "X = data.drop('Temperature (K)', axis=1)  # Признаки\n",
    "y = data['Temperature (K)']  # Целевой признак\n",
    "\n",
    "# Разделяем на обучающую и тестовую выборки\n",
    "X_train, X_test, y_train, y_test = train_test_split(X, y, test_size=0.2, random_state=42)"
   ]
  },
  {
   "cell_type": "code",
   "execution_count": 20,
   "id": "d7e42e2a",
   "metadata": {},
   "outputs": [
    {
     "data": {
      "text/html": [
       "<pre style=\"white-space:pre;overflow-x:auto;line-height:normal;font-family:Menlo,'DejaVu Sans Mono',consolas,'Courier New',monospace\"><span style=\"font-weight: bold\">Model: \"sequential\"</span>\n",
       "</pre>\n"
      ],
      "text/plain": [
       "\u001b[1mModel: \"sequential\"\u001b[0m\n"
      ]
     },
     "metadata": {},
     "output_type": "display_data"
    },
    {
     "data": {
      "text/html": [
       "<pre style=\"white-space:pre;overflow-x:auto;line-height:normal;font-family:Menlo,'DejaVu Sans Mono',consolas,'Courier New',monospace\">┏━━━━━━━━━━━━━━━━━━━━━━━━━━━━━━━━━┳━━━━━━━━━━━━━━━━━━━━━━━━┳━━━━━━━━━━━━━━━┓\n",
       "┃<span style=\"font-weight: bold\"> Layer (type)                    </span>┃<span style=\"font-weight: bold\"> Output Shape           </span>┃<span style=\"font-weight: bold\">       Param # </span>┃\n",
       "┡━━━━━━━━━━━━━━━━━━━━━━━━━━━━━━━━━╇━━━━━━━━━━━━━━━━━━━━━━━━╇━━━━━━━━━━━━━━━┩\n",
       "│ dense (<span style=\"color: #0087ff; text-decoration-color: #0087ff\">Dense</span>)                   │ (<span style=\"color: #00d7ff; text-decoration-color: #00d7ff\">None</span>, <span style=\"color: #00af00; text-decoration-color: #00af00\">64</span>)             │         <span style=\"color: #00af00; text-decoration-color: #00af00\">1,216</span> │\n",
       "├─────────────────────────────────┼────────────────────────┼───────────────┤\n",
       "│ dense_1 (<span style=\"color: #0087ff; text-decoration-color: #0087ff\">Dense</span>)                 │ (<span style=\"color: #00d7ff; text-decoration-color: #00d7ff\">None</span>, <span style=\"color: #00af00; text-decoration-color: #00af00\">32</span>)             │         <span style=\"color: #00af00; text-decoration-color: #00af00\">2,080</span> │\n",
       "├─────────────────────────────────┼────────────────────────┼───────────────┤\n",
       "│ dense_2 (<span style=\"color: #0087ff; text-decoration-color: #0087ff\">Dense</span>)                 │ (<span style=\"color: #00d7ff; text-decoration-color: #00d7ff\">None</span>, <span style=\"color: #00af00; text-decoration-color: #00af00\">1</span>)              │            <span style=\"color: #00af00; text-decoration-color: #00af00\">33</span> │\n",
       "└─────────────────────────────────┴────────────────────────┴───────────────┘\n",
       "</pre>\n"
      ],
      "text/plain": [
       "┏━━━━━━━━━━━━━━━━━━━━━━━━━━━━━━━━━┳━━━━━━━━━━━━━━━━━━━━━━━━┳━━━━━━━━━━━━━━━┓\n",
       "┃\u001b[1m \u001b[0m\u001b[1mLayer (type)                   \u001b[0m\u001b[1m \u001b[0m┃\u001b[1m \u001b[0m\u001b[1mOutput Shape          \u001b[0m\u001b[1m \u001b[0m┃\u001b[1m \u001b[0m\u001b[1m      Param #\u001b[0m\u001b[1m \u001b[0m┃\n",
       "┡━━━━━━━━━━━━━━━━━━━━━━━━━━━━━━━━━╇━━━━━━━━━━━━━━━━━━━━━━━━╇━━━━━━━━━━━━━━━┩\n",
       "│ dense (\u001b[38;5;33mDense\u001b[0m)                   │ (\u001b[38;5;45mNone\u001b[0m, \u001b[38;5;34m64\u001b[0m)             │         \u001b[38;5;34m1,216\u001b[0m │\n",
       "├─────────────────────────────────┼────────────────────────┼───────────────┤\n",
       "│ dense_1 (\u001b[38;5;33mDense\u001b[0m)                 │ (\u001b[38;5;45mNone\u001b[0m, \u001b[38;5;34m32\u001b[0m)             │         \u001b[38;5;34m2,080\u001b[0m │\n",
       "├─────────────────────────────────┼────────────────────────┼───────────────┤\n",
       "│ dense_2 (\u001b[38;5;33mDense\u001b[0m)                 │ (\u001b[38;5;45mNone\u001b[0m, \u001b[38;5;34m1\u001b[0m)              │            \u001b[38;5;34m33\u001b[0m │\n",
       "└─────────────────────────────────┴────────────────────────┴───────────────┘\n"
      ]
     },
     "metadata": {},
     "output_type": "display_data"
    },
    {
     "data": {
      "text/html": [
       "<pre style=\"white-space:pre;overflow-x:auto;line-height:normal;font-family:Menlo,'DejaVu Sans Mono',consolas,'Courier New',monospace\"><span style=\"font-weight: bold\"> Total params: </span><span style=\"color: #00af00; text-decoration-color: #00af00\">3,329</span> (13.00 KB)\n",
       "</pre>\n"
      ],
      "text/plain": [
       "\u001b[1m Total params: \u001b[0m\u001b[38;5;34m3,329\u001b[0m (13.00 KB)\n"
      ]
     },
     "metadata": {},
     "output_type": "display_data"
    },
    {
     "data": {
      "text/html": [
       "<pre style=\"white-space:pre;overflow-x:auto;line-height:normal;font-family:Menlo,'DejaVu Sans Mono',consolas,'Courier New',monospace\"><span style=\"font-weight: bold\"> Trainable params: </span><span style=\"color: #00af00; text-decoration-color: #00af00\">3,329</span> (13.00 KB)\n",
       "</pre>\n"
      ],
      "text/plain": [
       "\u001b[1m Trainable params: \u001b[0m\u001b[38;5;34m3,329\u001b[0m (13.00 KB)\n"
      ]
     },
     "metadata": {},
     "output_type": "display_data"
    },
    {
     "data": {
      "text/html": [
       "<pre style=\"white-space:pre;overflow-x:auto;line-height:normal;font-family:Menlo,'DejaVu Sans Mono',consolas,'Courier New',monospace\"><span style=\"font-weight: bold\"> Non-trainable params: </span><span style=\"color: #00af00; text-decoration-color: #00af00\">0</span> (0.00 B)\n",
       "</pre>\n"
      ],
      "text/plain": [
       "\u001b[1m Non-trainable params: \u001b[0m\u001b[38;5;34m0\u001b[0m (0.00 B)\n"
      ]
     },
     "metadata": {},
     "output_type": "display_data"
    }
   ],
   "source": [
    "# Определяем архитектуру нейронной сети\n",
    "def create_model(input_shape):\n",
    "    model = models.Sequential()\n",
    "\n",
    "    # Входной слой\n",
    "    model.add(layers.InputLayer(input_shape=(input_shape,)))\n",
    "\n",
    "    # Первый скрытый слой с 64 нейронами и функцией активации ReLU\n",
    "    model.add(layers.Dense(64, activation='relu'))\n",
    "\n",
    "    # Второй скрытый слой с 32 нейронами и функцией активации ReLU\n",
    "    model.add(layers.Dense(32, activation='relu'))\n",
    "\n",
    "    # Выходной слой (один нейрон, функция активации 'linear' для задачи регрессии)\n",
    "    model.add(layers.Dense(1, activation='linear'))\n",
    "\n",
    "    # Компиляция модели\n",
    "    model.compile(optimizer='adam', loss='mse', metrics=['mae'])\n",
    "    \n",
    "    return model\n",
    "\n",
    "# Создаем модель, указывая количество признаков на входе (X_train.shape[1])\n",
    "model = create_model(X_train.shape[1])\n",
    "\n",
    "# Выводим архитектуру модели\n",
    "model.summary()"
   ]
  },
  {
   "cell_type": "code",
   "execution_count": 21,
   "id": "13166ee4",
   "metadata": {
    "scrolled": false
   },
   "outputs": [
    {
     "name": "stdout",
     "output_type": "stream",
     "text": [
      "Epoch 1/100\n",
      "\u001b[1m5/5\u001b[0m \u001b[32m━━━━━━━━━━━━━━━━━━━━\u001b[0m\u001b[37m\u001b[0m \u001b[1m1s\u001b[0m 42ms/step - loss: 0.9580 - mae: 0.7574 - val_loss: 1.4287 - val_mae: 0.9269\n",
      "Epoch 2/100\n",
      "\u001b[1m5/5\u001b[0m \u001b[32m━━━━━━━━━━━━━━━━━━━━\u001b[0m\u001b[37m\u001b[0m \u001b[1m0s\u001b[0m 8ms/step - loss: 0.8687 - mae: 0.6898 - val_loss: 1.3061 - val_mae: 0.8547\n",
      "Epoch 3/100\n",
      "\u001b[1m5/5\u001b[0m \u001b[32m━━━━━━━━━━━━━━━━━━━━\u001b[0m\u001b[37m\u001b[0m \u001b[1m0s\u001b[0m 19ms/step - loss: 0.8242 - mae: 0.6311 - val_loss: 1.2101 - val_mae: 0.7943\n",
      "Epoch 4/100\n",
      "\u001b[1m5/5\u001b[0m \u001b[32m━━━━━━━━━━━━━━━━━━━━\u001b[0m\u001b[37m\u001b[0m \u001b[1m0s\u001b[0m 12ms/step - loss: 0.5727 - mae: 0.5133 - val_loss: 1.1367 - val_mae: 0.7469\n",
      "Epoch 5/100\n",
      "\u001b[1m5/5\u001b[0m \u001b[32m━━━━━━━━━━━━━━━━━━━━\u001b[0m\u001b[37m\u001b[0m \u001b[1m0s\u001b[0m 16ms/step - loss: 0.6393 - mae: 0.5176 - val_loss: 1.0669 - val_mae: 0.7115\n",
      "Epoch 6/100\n",
      "\u001b[1m5/5\u001b[0m \u001b[32m━━━━━━━━━━━━━━━━━━━━\u001b[0m\u001b[37m\u001b[0m \u001b[1m0s\u001b[0m 15ms/step - loss: 0.5325 - mae: 0.4599 - val_loss: 0.9989 - val_mae: 0.6842\n",
      "Epoch 7/100\n",
      "\u001b[1m5/5\u001b[0m \u001b[32m━━━━━━━━━━━━━━━━━━━━\u001b[0m\u001b[37m\u001b[0m \u001b[1m0s\u001b[0m 8ms/step - loss: 0.5809 - mae: 0.4793 - val_loss: 0.9449 - val_mae: 0.6632\n",
      "Epoch 8/100\n",
      "\u001b[1m5/5\u001b[0m \u001b[32m━━━━━━━━━━━━━━━━━━━━\u001b[0m\u001b[37m\u001b[0m \u001b[1m0s\u001b[0m 8ms/step - loss: 0.5276 - mae: 0.4524 - val_loss: 0.8964 - val_mae: 0.6447\n",
      "Epoch 9/100\n",
      "\u001b[1m5/5\u001b[0m \u001b[32m━━━━━━━━━━━━━━━━━━━━\u001b[0m\u001b[37m\u001b[0m \u001b[1m0s\u001b[0m 16ms/step - loss: 0.4950 - mae: 0.4231 - val_loss: 0.8488 - val_mae: 0.6246\n",
      "Epoch 10/100\n",
      "\u001b[1m5/5\u001b[0m \u001b[32m━━━━━━━━━━━━━━━━━━━━\u001b[0m\u001b[37m\u001b[0m \u001b[1m0s\u001b[0m 15ms/step - loss: 0.4510 - mae: 0.4142 - val_loss: 0.8100 - val_mae: 0.6055\n",
      "Epoch 11/100\n",
      "\u001b[1m5/5\u001b[0m \u001b[32m━━━━━━━━━━━━━━━━━━━━\u001b[0m\u001b[37m\u001b[0m \u001b[1m0s\u001b[0m 8ms/step - loss: 0.3618 - mae: 0.3717 - val_loss: 0.7806 - val_mae: 0.5869\n",
      "Epoch 12/100\n",
      "\u001b[1m5/5\u001b[0m \u001b[32m━━━━━━━━━━━━━━━━━━━━\u001b[0m\u001b[37m\u001b[0m \u001b[1m0s\u001b[0m 7ms/step - loss: 0.4006 - mae: 0.3761 - val_loss: 0.7340 - val_mae: 0.5699\n",
      "Epoch 13/100\n",
      "\u001b[1m5/5\u001b[0m \u001b[32m━━━━━━━━━━━━━━━━━━━━\u001b[0m\u001b[37m\u001b[0m \u001b[1m0s\u001b[0m 8ms/step - loss: 0.3215 - mae: 0.3565 - val_loss: 0.6918 - val_mae: 0.5551\n",
      "Epoch 14/100\n",
      "\u001b[1m5/5\u001b[0m \u001b[32m━━━━━━━━━━━━━━━━━━━━\u001b[0m\u001b[37m\u001b[0m \u001b[1m0s\u001b[0m 16ms/step - loss: 0.3254 - mae: 0.3384 - val_loss: 0.6608 - val_mae: 0.5414\n",
      "Epoch 15/100\n",
      "\u001b[1m5/5\u001b[0m \u001b[32m━━━━━━━━━━━━━━━━━━━━\u001b[0m\u001b[37m\u001b[0m \u001b[1m0s\u001b[0m 7ms/step - loss: 0.2946 - mae: 0.3213 - val_loss: 0.6234 - val_mae: 0.5233\n",
      "Epoch 16/100\n",
      "\u001b[1m5/5\u001b[0m \u001b[32m━━━━━━━━━━━━━━━━━━━━\u001b[0m\u001b[37m\u001b[0m \u001b[1m0s\u001b[0m 7ms/step - loss: 0.2598 - mae: 0.3194 - val_loss: 0.5931 - val_mae: 0.5066\n",
      "Epoch 17/100\n",
      "\u001b[1m5/5\u001b[0m \u001b[32m━━━━━━━━━━━━━━━━━━━━\u001b[0m\u001b[37m\u001b[0m \u001b[1m0s\u001b[0m 7ms/step - loss: 0.2248 - mae: 0.2720 - val_loss: 0.5515 - val_mae: 0.4890\n",
      "Epoch 18/100\n",
      "\u001b[1m5/5\u001b[0m \u001b[32m━━━━━━━━━━━━━━━━━━━━\u001b[0m\u001b[37m\u001b[0m \u001b[1m0s\u001b[0m 16ms/step - loss: 0.3164 - mae: 0.3188 - val_loss: 0.5193 - val_mae: 0.4735\n",
      "Epoch 19/100\n",
      "\u001b[1m5/5\u001b[0m \u001b[32m━━━━━━━━━━━━━━━━━━━━\u001b[0m\u001b[37m\u001b[0m \u001b[1m0s\u001b[0m 13ms/step - loss: 0.2704 - mae: 0.2870 - val_loss: 0.4847 - val_mae: 0.4592\n",
      "Epoch 20/100\n",
      "\u001b[1m5/5\u001b[0m \u001b[32m━━━━━━━━━━━━━━━━━━━━\u001b[0m\u001b[37m\u001b[0m \u001b[1m0s\u001b[0m 12ms/step - loss: 0.2262 - mae: 0.2669 - val_loss: 0.4699 - val_mae: 0.4464\n",
      "Epoch 21/100\n",
      "\u001b[1m5/5\u001b[0m \u001b[32m━━━━━━━━━━━━━━━━━━━━\u001b[0m\u001b[37m\u001b[0m \u001b[1m0s\u001b[0m 8ms/step - loss: 0.2336 - mae: 0.2691 - val_loss: 0.4501 - val_mae: 0.4340\n",
      "Epoch 22/100\n",
      "\u001b[1m5/5\u001b[0m \u001b[32m━━━━━━━━━━━━━━━━━━━━\u001b[0m\u001b[37m\u001b[0m \u001b[1m0s\u001b[0m 14ms/step - loss: 0.2161 - mae: 0.2573 - val_loss: 0.4390 - val_mae: 0.4241\n",
      "Epoch 23/100\n",
      "\u001b[1m5/5\u001b[0m \u001b[32m━━━━━━━━━━━━━━━━━━━━\u001b[0m\u001b[37m\u001b[0m \u001b[1m0s\u001b[0m 13ms/step - loss: 0.2514 - mae: 0.2834 - val_loss: 0.4102 - val_mae: 0.4139\n",
      "Epoch 24/100\n",
      "\u001b[1m5/5\u001b[0m \u001b[32m━━━━━━━━━━━━━━━━━━━━\u001b[0m\u001b[37m\u001b[0m \u001b[1m0s\u001b[0m 7ms/step - loss: 0.1963 - mae: 0.2587 - val_loss: 0.3953 - val_mae: 0.4066\n",
      "Epoch 25/100\n",
      "\u001b[1m5/5\u001b[0m \u001b[32m━━━━━━━━━━━━━━━━━━━━\u001b[0m\u001b[37m\u001b[0m \u001b[1m0s\u001b[0m 8ms/step - loss: 0.1861 - mae: 0.2394 - val_loss: 0.3792 - val_mae: 0.3984\n",
      "Epoch 26/100\n",
      "\u001b[1m5/5\u001b[0m \u001b[32m━━━━━━━━━━━━━━━━━━━━\u001b[0m\u001b[37m\u001b[0m \u001b[1m0s\u001b[0m 15ms/step - loss: 0.2003 - mae: 0.2446 - val_loss: 0.3701 - val_mae: 0.3936\n",
      "Epoch 27/100\n",
      "\u001b[1m5/5\u001b[0m \u001b[32m━━━━━━━━━━━━━━━━━━━━\u001b[0m\u001b[37m\u001b[0m \u001b[1m0s\u001b[0m 13ms/step - loss: 0.1786 - mae: 0.2390 - val_loss: 0.3646 - val_mae: 0.3887\n",
      "Epoch 28/100\n",
      "\u001b[1m5/5\u001b[0m \u001b[32m━━━━━━━━━━━━━━━━━━━━\u001b[0m\u001b[37m\u001b[0m \u001b[1m0s\u001b[0m 7ms/step - loss: 0.2100 - mae: 0.2530 - val_loss: 0.3556 - val_mae: 0.3833\n",
      "Epoch 29/100\n",
      "\u001b[1m5/5\u001b[0m \u001b[32m━━━━━━━━━━━━━━━━━━━━\u001b[0m\u001b[37m\u001b[0m \u001b[1m0s\u001b[0m 8ms/step - loss: 0.2216 - mae: 0.2543 - val_loss: 0.3390 - val_mae: 0.3790\n",
      "Epoch 30/100\n",
      "\u001b[1m5/5\u001b[0m \u001b[32m━━━━━━━━━━━━━━━━━━━━\u001b[0m\u001b[37m\u001b[0m \u001b[1m0s\u001b[0m 15ms/step - loss: 0.2090 - mae: 0.2481 - val_loss: 0.3254 - val_mae: 0.3709\n",
      "Epoch 31/100\n",
      "\u001b[1m5/5\u001b[0m \u001b[32m━━━━━━━━━━━━━━━━━━━━\u001b[0m\u001b[37m\u001b[0m \u001b[1m0s\u001b[0m 8ms/step - loss: 0.1777 - mae: 0.2277 - val_loss: 0.3158 - val_mae: 0.3653\n",
      "Epoch 32/100\n",
      "\u001b[1m5/5\u001b[0m \u001b[32m━━━━━━━━━━━━━━━━━━━━\u001b[0m\u001b[37m\u001b[0m \u001b[1m0s\u001b[0m 8ms/step - loss: 0.1593 - mae: 0.2111 - val_loss: 0.3088 - val_mae: 0.3627\n",
      "Epoch 33/100\n",
      "\u001b[1m5/5\u001b[0m \u001b[32m━━━━━━━━━━━━━━━━━━━━\u001b[0m\u001b[37m\u001b[0m \u001b[1m0s\u001b[0m 15ms/step - loss: 0.1287 - mae: 0.1948 - val_loss: 0.2952 - val_mae: 0.3610\n",
      "Epoch 34/100\n",
      "\u001b[1m5/5\u001b[0m \u001b[32m━━━━━━━━━━━━━━━━━━━━\u001b[0m\u001b[37m\u001b[0m \u001b[1m0s\u001b[0m 15ms/step - loss: 0.1695 - mae: 0.2309 - val_loss: 0.2856 - val_mae: 0.3573\n",
      "Epoch 35/100\n",
      "\u001b[1m5/5\u001b[0m \u001b[32m━━━━━━━━━━━━━━━━━━━━\u001b[0m\u001b[37m\u001b[0m \u001b[1m0s\u001b[0m 8ms/step - loss: 0.1643 - mae: 0.2204 - val_loss: 0.2855 - val_mae: 0.3515\n",
      "Epoch 36/100\n",
      "\u001b[1m5/5\u001b[0m \u001b[32m━━━━━━━━━━━━━━━━━━━━\u001b[0m\u001b[37m\u001b[0m \u001b[1m0s\u001b[0m 7ms/step - loss: 0.1765 - mae: 0.2254 - val_loss: 0.2803 - val_mae: 0.3462\n",
      "Epoch 37/100\n",
      "\u001b[1m5/5\u001b[0m \u001b[32m━━━━━━━━━━━━━━━━━━━━\u001b[0m\u001b[37m\u001b[0m \u001b[1m0s\u001b[0m 15ms/step - loss: 0.1599 - mae: 0.2111 - val_loss: 0.2661 - val_mae: 0.3423\n",
      "Epoch 38/100\n",
      "\u001b[1m5/5\u001b[0m \u001b[32m━━━━━━━━━━━━━━━━━━━━\u001b[0m\u001b[37m\u001b[0m \u001b[1m0s\u001b[0m 15ms/step - loss: 0.1526 - mae: 0.2175 - val_loss: 0.2538 - val_mae: 0.3373\n",
      "Epoch 39/100\n",
      "\u001b[1m5/5\u001b[0m \u001b[32m━━━━━━━━━━━━━━━━━━━━\u001b[0m\u001b[37m\u001b[0m \u001b[1m0s\u001b[0m 8ms/step - loss: 0.1302 - mae: 0.1915 - val_loss: 0.2528 - val_mae: 0.3329\n",
      "Epoch 40/100\n",
      "\u001b[1m5/5\u001b[0m \u001b[32m━━━━━━━━━━━━━━━━━━━━\u001b[0m\u001b[37m\u001b[0m \u001b[1m0s\u001b[0m 8ms/step - loss: 0.1769 - mae: 0.2199 - val_loss: 0.2500 - val_mae: 0.3331\n",
      "Epoch 41/100\n",
      "\u001b[1m5/5\u001b[0m \u001b[32m━━━━━━━━━━━━━━━━━━━━\u001b[0m\u001b[37m\u001b[0m \u001b[1m0s\u001b[0m 14ms/step - loss: 0.1477 - mae: 0.2055 - val_loss: 0.2448 - val_mae: 0.3263\n",
      "Epoch 42/100\n",
      "\u001b[1m5/5\u001b[0m \u001b[32m━━━━━━━━━━━━━━━━━━━━\u001b[0m\u001b[37m\u001b[0m \u001b[1m0s\u001b[0m 14ms/step - loss: 0.1497 - mae: 0.2153 - val_loss: 0.2355 - val_mae: 0.3220\n",
      "Epoch 43/100\n",
      "\u001b[1m5/5\u001b[0m \u001b[32m━━━━━━━━━━━━━━━━━━━━\u001b[0m\u001b[37m\u001b[0m \u001b[1m0s\u001b[0m 8ms/step - loss: 0.1861 - mae: 0.2305 - val_loss: 0.2271 - val_mae: 0.3152\n",
      "Epoch 44/100\n",
      "\u001b[1m5/5\u001b[0m \u001b[32m━━━━━━━━━━━━━━━━━━━━\u001b[0m\u001b[37m\u001b[0m \u001b[1m0s\u001b[0m 7ms/step - loss: 0.1564 - mae: 0.2110 - val_loss: 0.2272 - val_mae: 0.3145\n",
      "Epoch 45/100\n",
      "\u001b[1m5/5\u001b[0m \u001b[32m━━━━━━━━━━━━━━━━━━━━\u001b[0m\u001b[37m\u001b[0m \u001b[1m0s\u001b[0m 13ms/step - loss: 0.1555 - mae: 0.2173 - val_loss: 0.2278 - val_mae: 0.3113\n",
      "Epoch 46/100\n",
      "\u001b[1m5/5\u001b[0m \u001b[32m━━━━━━━━━━━━━━━━━━━━\u001b[0m\u001b[37m\u001b[0m \u001b[1m0s\u001b[0m 16ms/step - loss: 0.1443 - mae: 0.1964 - val_loss: 0.2158 - val_mae: 0.3077\n",
      "Epoch 47/100\n",
      "\u001b[1m5/5\u001b[0m \u001b[32m━━━━━━━━━━━━━━━━━━━━\u001b[0m\u001b[37m\u001b[0m \u001b[1m0s\u001b[0m 13ms/step - loss: 0.1470 - mae: 0.2023 - val_loss: 0.2130 - val_mae: 0.3082\n",
      "Epoch 48/100\n",
      "\u001b[1m5/5\u001b[0m \u001b[32m━━━━━━━━━━━━━━━━━━━━\u001b[0m\u001b[37m\u001b[0m \u001b[1m0s\u001b[0m 7ms/step - loss: 0.1253 - mae: 0.1914 - val_loss: 0.2154 - val_mae: 0.3044\n",
      "Epoch 49/100\n",
      "\u001b[1m5/5\u001b[0m \u001b[32m━━━━━━━━━━━━━━━━━━━━\u001b[0m\u001b[37m\u001b[0m \u001b[1m0s\u001b[0m 7ms/step - loss: 0.1203 - mae: 0.1804 - val_loss: 0.2077 - val_mae: 0.2993\n",
      "Epoch 50/100\n",
      "\u001b[1m5/5\u001b[0m \u001b[32m━━━━━━━━━━━━━━━━━━━━\u001b[0m\u001b[37m\u001b[0m \u001b[1m0s\u001b[0m 14ms/step - loss: 0.1113 - mae: 0.1751 - val_loss: 0.2040 - val_mae: 0.2986\n",
      "Epoch 51/100\n",
      "\u001b[1m5/5\u001b[0m \u001b[32m━━━━━━━━━━━━━━━━━━━━\u001b[0m\u001b[37m\u001b[0m \u001b[1m0s\u001b[0m 8ms/step - loss: 0.1399 - mae: 0.2006 - val_loss: 0.2003 - val_mae: 0.2939\n",
      "Epoch 52/100\n",
      "\u001b[1m5/5\u001b[0m \u001b[32m━━━━━━━━━━━━━━━━━━━━\u001b[0m\u001b[37m\u001b[0m \u001b[1m0s\u001b[0m 7ms/step - loss: 0.1340 - mae: 0.1926 - val_loss: 0.1985 - val_mae: 0.2915\n",
      "Epoch 53/100\n",
      "\u001b[1m5/5\u001b[0m \u001b[32m━━━━━━━━━━━━━━━━━━━━\u001b[0m\u001b[37m\u001b[0m \u001b[1m0s\u001b[0m 14ms/step - loss: 0.1242 - mae: 0.1983 - val_loss: 0.1965 - val_mae: 0.2921\n",
      "Epoch 54/100\n",
      "\u001b[1m5/5\u001b[0m \u001b[32m━━━━━━━━━━━━━━━━━━━━\u001b[0m\u001b[37m\u001b[0m \u001b[1m0s\u001b[0m 13ms/step - loss: 0.1231 - mae: 0.1800 - val_loss: 0.1902 - val_mae: 0.2860\n",
      "Epoch 55/100\n",
      "\u001b[1m5/5\u001b[0m \u001b[32m━━━━━━━━━━━━━━━━━━━━\u001b[0m\u001b[37m\u001b[0m \u001b[1m0s\u001b[0m 8ms/step - loss: 0.1456 - mae: 0.2047 - val_loss: 0.1963 - val_mae: 0.2887\n",
      "Epoch 56/100\n",
      "\u001b[1m5/5\u001b[0m \u001b[32m━━━━━━━━━━━━━━━━━━━━\u001b[0m\u001b[37m\u001b[0m \u001b[1m0s\u001b[0m 8ms/step - loss: 0.1471 - mae: 0.2069 - val_loss: 0.1935 - val_mae: 0.2932\n",
      "Epoch 57/100\n",
      "\u001b[1m5/5\u001b[0m \u001b[32m━━━━━━━━━━━━━━━━━━━━\u001b[0m\u001b[37m\u001b[0m \u001b[1m0s\u001b[0m 13ms/step - loss: 0.1176 - mae: 0.1772 - val_loss: 0.1932 - val_mae: 0.2841\n",
      "Epoch 58/100\n",
      "\u001b[1m5/5\u001b[0m \u001b[32m━━━━━━━━━━━━━━━━━━━━\u001b[0m\u001b[37m\u001b[0m \u001b[1m0s\u001b[0m 8ms/step - loss: 0.1584 - mae: 0.2025 - val_loss: 0.1866 - val_mae: 0.2782\n",
      "Epoch 59/100\n",
      "\u001b[1m5/5\u001b[0m \u001b[32m━━━━━━━━━━━━━━━━━━━━\u001b[0m\u001b[37m\u001b[0m \u001b[1m0s\u001b[0m 8ms/step - loss: 0.1278 - mae: 0.1894 - val_loss: 0.1810 - val_mae: 0.2773\n",
      "Epoch 60/100\n",
      "\u001b[1m5/5\u001b[0m \u001b[32m━━━━━━━━━━━━━━━━━━━━\u001b[0m\u001b[37m\u001b[0m \u001b[1m0s\u001b[0m 8ms/step - loss: 0.1142 - mae: 0.1738 - val_loss: 0.1827 - val_mae: 0.2768\n",
      "Epoch 61/100\n",
      "\u001b[1m5/5\u001b[0m \u001b[32m━━━━━━━━━━━━━━━━━━━━\u001b[0m\u001b[37m\u001b[0m \u001b[1m0s\u001b[0m 13ms/step - loss: 0.1293 - mae: 0.1825 - val_loss: 0.1816 - val_mae: 0.2717\n",
      "Epoch 62/100\n",
      "\u001b[1m5/5\u001b[0m \u001b[32m━━━━━━━━━━━━━━━━━━━━\u001b[0m\u001b[37m\u001b[0m \u001b[1m0s\u001b[0m 7ms/step - loss: 0.1217 - mae: 0.1772 - val_loss: 0.1810 - val_mae: 0.2758\n",
      "Epoch 63/100\n",
      "\u001b[1m5/5\u001b[0m \u001b[32m━━━━━━━━━━━━━━━━━━━━\u001b[0m\u001b[37m\u001b[0m \u001b[1m0s\u001b[0m 8ms/step - loss: 0.1242 - mae: 0.1749 - val_loss: 0.1758 - val_mae: 0.2652\n",
      "Epoch 64/100\n",
      "\u001b[1m5/5\u001b[0m \u001b[32m━━━━━━━━━━━━━━━━━━━━\u001b[0m\u001b[37m\u001b[0m \u001b[1m0s\u001b[0m 8ms/step - loss: 0.1077 - mae: 0.1684 - val_loss: 0.1793 - val_mae: 0.2718\n",
      "Epoch 65/100\n",
      "\u001b[1m5/5\u001b[0m \u001b[32m━━━━━━━━━━━━━━━━━━━━\u001b[0m\u001b[37m\u001b[0m \u001b[1m0s\u001b[0m 15ms/step - loss: 0.1162 - mae: 0.1741 - val_loss: 0.1803 - val_mae: 0.2780\n",
      "Epoch 66/100\n",
      "\u001b[1m5/5\u001b[0m \u001b[32m━━━━━━━━━━━━━━━━━━━━\u001b[0m\u001b[37m\u001b[0m \u001b[1m0s\u001b[0m 8ms/step - loss: 0.1341 - mae: 0.1855 - val_loss: 0.1784 - val_mae: 0.2721\n",
      "Epoch 67/100\n",
      "\u001b[1m5/5\u001b[0m \u001b[32m━━━━━━━━━━━━━━━━━━━━\u001b[0m\u001b[37m\u001b[0m \u001b[1m0s\u001b[0m 9ms/step - loss: 0.1221 - mae: 0.1754 - val_loss: 0.1772 - val_mae: 0.2702\n",
      "Epoch 68/100\n",
      "\u001b[1m5/5\u001b[0m \u001b[32m━━━━━━━━━━━━━━━━━━━━\u001b[0m\u001b[37m\u001b[0m \u001b[1m0s\u001b[0m 8ms/step - loss: 0.1130 - mae: 0.1815 - val_loss: 0.1766 - val_mae: 0.2660\n",
      "Epoch 69/100\n",
      "\u001b[1m5/5\u001b[0m \u001b[32m━━━━━━━━━━━━━━━━━━━━\u001b[0m\u001b[37m\u001b[0m \u001b[1m0s\u001b[0m 14ms/step - loss: 0.1298 - mae: 0.1864 - val_loss: 0.1767 - val_mae: 0.2591\n",
      "Epoch 70/100\n",
      "\u001b[1m5/5\u001b[0m \u001b[32m━━━━━━━━━━━━━━━━━━━━\u001b[0m\u001b[37m\u001b[0m \u001b[1m0s\u001b[0m 13ms/step - loss: 0.1388 - mae: 0.1858 - val_loss: 0.1722 - val_mae: 0.2648\n",
      "Epoch 71/100\n",
      "\u001b[1m5/5\u001b[0m \u001b[32m━━━━━━━━━━━━━━━━━━━━\u001b[0m\u001b[37m\u001b[0m \u001b[1m0s\u001b[0m 11ms/step - loss: 0.1256 - mae: 0.1676 - val_loss: 0.1730 - val_mae: 0.2619\n",
      "Epoch 72/100\n",
      "\u001b[1m5/5\u001b[0m \u001b[32m━━━━━━━━━━━━━━━━━━━━\u001b[0m\u001b[37m\u001b[0m \u001b[1m0s\u001b[0m 8ms/step - loss: 0.0949 - mae: 0.1555 - val_loss: 0.1751 - val_mae: 0.2648\n",
      "Epoch 73/100\n",
      "\u001b[1m5/5\u001b[0m \u001b[32m━━━━━━━━━━━━━━━━━━━━\u001b[0m\u001b[37m\u001b[0m \u001b[1m0s\u001b[0m 14ms/step - loss: 0.1430 - mae: 0.1969 - val_loss: 0.1737 - val_mae: 0.2588\n",
      "Epoch 74/100\n",
      "\u001b[1m5/5\u001b[0m \u001b[32m━━━━━━━━━━━━━━━━━━━━\u001b[0m\u001b[37m\u001b[0m \u001b[1m0s\u001b[0m 10ms/step - loss: 0.1132 - mae: 0.1656 - val_loss: 0.1686 - val_mae: 0.2607\n",
      "Epoch 75/100\n",
      "\u001b[1m5/5\u001b[0m \u001b[32m━━━━━━━━━━━━━━━━━━━━\u001b[0m\u001b[37m\u001b[0m \u001b[1m0s\u001b[0m 15ms/step - loss: 0.1713 - mae: 0.2169 - val_loss: 0.1721 - val_mae: 0.2557\n",
      "Epoch 76/100\n",
      "\u001b[1m5/5\u001b[0m \u001b[32m━━━━━━━━━━━━━━━━━━━━\u001b[0m\u001b[37m\u001b[0m \u001b[1m0s\u001b[0m 8ms/step - loss: 0.1135 - mae: 0.1690 - val_loss: 0.1678 - val_mae: 0.2559\n",
      "Epoch 77/100\n",
      "\u001b[1m5/5\u001b[0m \u001b[32m━━━━━━━━━━━━━━━━━━━━\u001b[0m\u001b[37m\u001b[0m \u001b[1m0s\u001b[0m 8ms/step - loss: 0.1018 - mae: 0.1621 - val_loss: 0.1718 - val_mae: 0.2613\n",
      "Epoch 78/100\n",
      "\u001b[1m5/5\u001b[0m \u001b[32m━━━━━━━━━━━━━━━━━━━━\u001b[0m\u001b[37m\u001b[0m \u001b[1m0s\u001b[0m 13ms/step - loss: 0.0936 - mae: 0.1541 - val_loss: 0.1709 - val_mae: 0.2611\n",
      "Epoch 79/100\n",
      "\u001b[1m5/5\u001b[0m \u001b[32m━━━━━━━━━━━━━━━━━━━━\u001b[0m\u001b[37m\u001b[0m \u001b[1m0s\u001b[0m 7ms/step - loss: 0.1344 - mae: 0.1891 - val_loss: 0.1670 - val_mae: 0.2550\n",
      "Epoch 80/100\n",
      "\u001b[1m5/5\u001b[0m \u001b[32m━━━━━━━━━━━━━━━━━━━━\u001b[0m\u001b[37m\u001b[0m \u001b[1m0s\u001b[0m 7ms/step - loss: 0.0976 - mae: 0.1524 - val_loss: 0.1746 - val_mae: 0.2637\n",
      "Epoch 81/100\n",
      "\u001b[1m5/5\u001b[0m \u001b[32m━━━━━━━━━━━━━━━━━━━━\u001b[0m\u001b[37m\u001b[0m \u001b[1m0s\u001b[0m 15ms/step - loss: 0.1226 - mae: 0.1739 - val_loss: 0.1720 - val_mae: 0.2594\n",
      "Epoch 82/100\n",
      "\u001b[1m5/5\u001b[0m \u001b[32m━━━━━━━━━━━━━━━━━━━━\u001b[0m\u001b[37m\u001b[0m \u001b[1m0s\u001b[0m 13ms/step - loss: 0.1054 - mae: 0.1641 - val_loss: 0.1630 - val_mae: 0.2583\n",
      "Epoch 83/100\n",
      "\u001b[1m5/5\u001b[0m \u001b[32m━━━━━━━━━━━━━━━━━━━━\u001b[0m\u001b[37m\u001b[0m \u001b[1m0s\u001b[0m 7ms/step - loss: 0.1019 - mae: 0.1648 - val_loss: 0.1681 - val_mae: 0.2582\n",
      "Epoch 84/100\n",
      "\u001b[1m5/5\u001b[0m \u001b[32m━━━━━━━━━━━━━━━━━━━━\u001b[0m\u001b[37m\u001b[0m \u001b[1m0s\u001b[0m 8ms/step - loss: 0.0954 - mae: 0.1578 - val_loss: 0.1709 - val_mae: 0.2533\n",
      "Epoch 85/100\n",
      "\u001b[1m5/5\u001b[0m \u001b[32m━━━━━━━━━━━━━━━━━━━━\u001b[0m\u001b[37m\u001b[0m \u001b[1m0s\u001b[0m 15ms/step - loss: 0.1227 - mae: 0.1786 - val_loss: 0.1649 - val_mae: 0.2567\n",
      "Epoch 86/100\n",
      "\u001b[1m5/5\u001b[0m \u001b[32m━━━━━━━━━━━━━━━━━━━━\u001b[0m\u001b[37m\u001b[0m \u001b[1m0s\u001b[0m 8ms/step - loss: 0.1168 - mae: 0.1678 - val_loss: 0.1641 - val_mae: 0.2538\n",
      "Epoch 87/100\n",
      "\u001b[1m5/5\u001b[0m \u001b[32m━━━━━━━━━━━━━━━━━━━━\u001b[0m\u001b[37m\u001b[0m \u001b[1m0s\u001b[0m 8ms/step - loss: 0.0976 - mae: 0.1517 - val_loss: 0.1655 - val_mae: 0.2529\n",
      "Epoch 88/100\n",
      "\u001b[1m5/5\u001b[0m \u001b[32m━━━━━━━━━━━━━━━━━━━━\u001b[0m\u001b[37m\u001b[0m \u001b[1m0s\u001b[0m 9ms/step - loss: 0.1078 - mae: 0.1627 - val_loss: 0.1721 - val_mae: 0.2624\n",
      "Epoch 89/100\n",
      "\u001b[1m5/5\u001b[0m \u001b[32m━━━━━━━━━━━━━━━━━━━━\u001b[0m\u001b[37m\u001b[0m \u001b[1m0s\u001b[0m 18ms/step - loss: 0.1014 - mae: 0.1655 - val_loss: 0.1694 - val_mae: 0.2679\n",
      "Epoch 90/100\n",
      "\u001b[1m5/5\u001b[0m \u001b[32m━━━━━━━━━━━━━━━━━━━━\u001b[0m\u001b[37m\u001b[0m \u001b[1m0s\u001b[0m 14ms/step - loss: 0.0935 - mae: 0.1555 - val_loss: 0.1684 - val_mae: 0.2547\n",
      "Epoch 91/100\n",
      "\u001b[1m5/5\u001b[0m \u001b[32m━━━━━━━━━━━━━━━━━━━━\u001b[0m\u001b[37m\u001b[0m \u001b[1m0s\u001b[0m 14ms/step - loss: 0.1328 - mae: 0.1820 - val_loss: 0.1648 - val_mae: 0.2628\n",
      "Epoch 92/100\n",
      "\u001b[1m5/5\u001b[0m \u001b[32m━━━━━━━━━━━━━━━━━━━━\u001b[0m\u001b[37m\u001b[0m \u001b[1m0s\u001b[0m 8ms/step - loss: 0.1282 - mae: 0.1862 - val_loss: 0.1641 - val_mae: 0.2508\n",
      "Epoch 93/100\n",
      "\u001b[1m5/5\u001b[0m \u001b[32m━━━━━━━━━━━━━━━━━━━━\u001b[0m\u001b[37m\u001b[0m \u001b[1m0s\u001b[0m 8ms/step - loss: 0.1018 - mae: 0.1614 - val_loss: 0.1662 - val_mae: 0.2525\n",
      "Epoch 94/100\n",
      "\u001b[1m5/5\u001b[0m \u001b[32m━━━━━━━━━━━━━━━━━━━━\u001b[0m\u001b[37m\u001b[0m \u001b[1m0s\u001b[0m 16ms/step - loss: 0.1234 - mae: 0.1755 - val_loss: 0.1637 - val_mae: 0.2634\n",
      "Epoch 95/100\n",
      "\u001b[1m5/5\u001b[0m \u001b[32m━━━━━━━━━━━━━━━━━━━━\u001b[0m\u001b[37m\u001b[0m \u001b[1m0s\u001b[0m 13ms/step - loss: 0.1062 - mae: 0.1760 - val_loss: 0.1685 - val_mae: 0.2533\n",
      "Epoch 96/100\n",
      "\u001b[1m5/5\u001b[0m \u001b[32m━━━━━━━━━━━━━━━━━━━━\u001b[0m\u001b[37m\u001b[0m \u001b[1m0s\u001b[0m 14ms/step - loss: 0.1207 - mae: 0.1759 - val_loss: 0.1679 - val_mae: 0.2572\n",
      "Epoch 97/100\n",
      "\u001b[1m5/5\u001b[0m \u001b[32m━━━━━━━━━━━━━━━━━━━━\u001b[0m\u001b[37m\u001b[0m \u001b[1m0s\u001b[0m 8ms/step - loss: 0.1434 - mae: 0.1907 - val_loss: 0.1625 - val_mae: 0.2604\n",
      "Epoch 98/100\n",
      "\u001b[1m5/5\u001b[0m \u001b[32m━━━━━━━━━━━━━━━━━━━━\u001b[0m\u001b[37m\u001b[0m \u001b[1m0s\u001b[0m 8ms/step - loss: 0.1338 - mae: 0.1795 - val_loss: 0.1664 - val_mae: 0.2483\n",
      "Epoch 99/100\n",
      "\u001b[1m5/5\u001b[0m \u001b[32m━━━━━━━━━━━━━━━━━━━━\u001b[0m\u001b[37m\u001b[0m \u001b[1m0s\u001b[0m 15ms/step - loss: 0.1228 - mae: 0.1758 - val_loss: 0.1687 - val_mae: 0.2600\n",
      "Epoch 100/100\n",
      "\u001b[1m5/5\u001b[0m \u001b[32m━━━━━━━━━━━━━━━━━━━━\u001b[0m\u001b[37m\u001b[0m \u001b[1m0s\u001b[0m 13ms/step - loss: 0.1295 - mae: 0.1910 - val_loss: 0.1621 - val_mae: 0.2644\n"
     ]
    }
   ],
   "source": [
    "# Обучение модели\n",
    "history = model.fit(X_train, y_train, epochs=100, batch_size=32, validation_split=0.2, verbose=1)"
   ]
  },
  {
   "cell_type": "code",
   "execution_count": 22,
   "id": "fe97655e",
   "metadata": {},
   "outputs": [
    {
     "data": {
      "image/png": "[encoded data removed]",
      "text/plain": [
       "<Figure size 864x432 with 2 Axes>"
      ]
     },
     "metadata": {
      "needs_background": "light"
     },
     "output_type": "display_data"
    }
   ],
   "source": [
    "# Визуализируем процесс обучения\n",
    "plt.figure(figsize=(12, 6))\n",
    "\n",
    "# График функции потерь\n",
    "plt.subplot(1, 2, 1)\n",
    "plt.plot(history.history['loss'], label='Train Loss')\n",
    "plt.plot(history.history['val_loss'], label='Validation Loss')\n",
    "plt.title('График функции потерь')\n",
    "plt.xlabel('Эпохи')\n",
    "plt.ylabel('Loss')\n",
    "plt.legend()\n",
    "\n",
    "# График MAE\n",
    "plt.subplot(1, 2, 2)\n",
    "plt.plot(history.history['mae'], label='Train MAE')\n",
    "plt.plot(history.history['val_mae'], label='Validation MAE')\n",
    "plt.title('График MAE')\n",
    "plt.xlabel('Эпохи')\n",
    "plt.ylabel('MAE')\n",
    "plt.legend()\n",
    "\n",
    "plt.show()"
   ]
  },
  {
   "cell_type": "markdown",
   "id": "2b8c8062",
   "metadata": {},
   "source": [
    "Модель работает хорошо. Нет явных признаков переобучения, так как разница между ошибками на обучающей и валидационной выборках небольшая, и обе метрики стабилизируются по мере обучения."
   ]
  },
  {
   "cell_type": "code",
   "execution_count": 23,
   "id": "edd14c6a",
   "metadata": {},
   "outputs": [
    {
     "name": "stdout",
     "output_type": "stream",
     "text": [
      "Test Loss: 0.3304359018802643, Test MAE: 0.3365447521209717\n",
      "\u001b[1m2/2\u001b[0m \u001b[32m━━━━━━━━━━━━━━━━━━━━\u001b[0m\u001b[37m\u001b[0m \u001b[1m0s\u001b[0m 30ms/step\n"
     ]
    },
    {
     "data": {
      "image/png": "[encoded data removed]",
      "text/plain": [
       "<Figure size 864x432 with 1 Axes>"
      ]
     },
     "metadata": {
      "needs_background": "light"
     },
     "output_type": "display_data"
    }
   ],
   "source": [
    "# Оценка модели на тестовой выборке\n",
    "test_loss, test_mae = model.evaluate(X_test, y_test, verbose=0)\n",
    "print(f\"Test Loss: {test_loss}, Test MAE: {test_mae}\")\n",
    "\n",
    "# Прогнозирование\n",
    "y_pred = model.predict(X_test)\n",
    "\n",
    "# Визуализация: Факт — Прогноз\n",
    "plt.figure(figsize=(12, 6))\n",
    "plt.plot(range(len(y_test)), y_test, label='Фактические значения')\n",
    "plt.plot(range(len(y_pred)), y_pred, label='Прогнозируемые значения', linestyle='--')\n",
    "plt.title('Факт — Прогноз по температуре')\n",
    "plt.xlabel('Номер звезды')\n",
    "plt.ylabel('Температура (K)')\n",
    "plt.legend()\n",
    "plt.show()"
   ]
  },
  {
   "cell_type": "markdown",
   "id": "9e99e14b",
   "metadata": {},
   "source": [
    "Модель достаточно хорошо предсказывает значения температуры. На большинстве участков графика предсказания очень близки к фактическим значениям.\n",
    "Видно, что модель может адекватно следовать за изменениями фактических значений температуры. В некоторых случаях имеются небольшие отклонения, но в целом динамика сохраняется."
   ]
  },
  {
   "cell_type": "code",
   "execution_count": 24,
   "id": "3195d203",
   "metadata": {},
   "outputs": [
    {
     "data": {
      "image/png": "[encoded data removed]",
      "text/plain": [
       "<Figure size 864x432 with 1 Axes>"
      ]
     },
     "metadata": {
      "needs_background": "light"
     },
     "output_type": "display_data"
    }
   ],
   "source": [
    "# Преобразуем y_pred в двумерный массив, если он трёхмерный\n",
    "if len(y_pred.shape) == 3:\n",
    "    y_pred = y_pred.squeeze()  # Убираем лишние измерения\n",
    "\n",
    "# Проверяем форму y_pred (должна быть двумерной: (n_samples, 1))\n",
    "if len(y_pred.shape) == 1:\n",
    "    y_pred = np.expand_dims(y_pred, axis=1)  # Добавляем ось, чтобы y_pred стал (n_samples, 1)\n",
    "\n",
    "# Подготовка данных для обратного преобразования\n",
    "# Создаем массив с 4 столбцами: первый столбец — это температурные данные, остальные — нули\n",
    "y_test_expanded = np.concatenate([np.expand_dims(y_test, axis=1), np.zeros((len(y_test), 3))], axis=1)\n",
    "y_pred_expanded = np.concatenate([y_pred, np.zeros((len(y_pred), 3))], axis=1)\n",
    "\n",
    "# Применяем обратное преобразование с помощью scaler\n",
    "y_test_original = scaler.inverse_transform(y_test_expanded)[:, 0]  # берем только первый столбец (температура)\n",
    "y_pred_original = scaler.inverse_transform(y_pred_expanded)[:, 0]  # берем только первый столбец (температура)\n",
    "\n",
    "# Построение столбчатой диаграммы\n",
    "plt.figure(figsize=(12, 6))\n",
    "\n",
    "# Задаём номера звёзд\n",
    "x = np.arange(len(y_test))\n",
    "\n",
    "# Ширина столбцов\n",
    "width = 0.4\n",
    "fact_width = width * 2  # Увеличиваем ширину столбцов \"Факт\" в два раза\n",
    "\n",
    "# Столбцы для фактических значений (позади)\n",
    "plt.bar(x, y_test_original, fact_width, label='Факт', color='lightblue', zorder=1)\n",
    "\n",
    "# Столбцы для прогнозируемых значений (поверх)\n",
    "plt.bar(x, y_pred_original, width, label='Прогноз', color='orange', zorder=2)\n",
    "\n",
    "# Настройки графика\n",
    "plt.title('Факт — Прогноз по температуре звёзд (в Кельвинах)')\n",
    "plt.xlabel('Номер звезды в таблице данных')\n",
    "plt.ylabel('Температура звезды (K)')\n",
    "plt.xticks(x)  # Отображаем номера звёзд на оси X\n",
    "plt.legend()\n",
    "\n",
    "# Показать график\n",
    "plt.show()"
   ]
  },
  {
   "cell_type": "markdown",
   "id": "ecc5b1d9",
   "metadata": {},
   "source": [
    "Модель, имеет тенденцию к недооценке фактических значений. Прогнозы часто оказываются значительно ниже фактических температур, особенно для высоких температур, что требует доработки модели или пересмотра данных для улучшения точности предсказаний."
   ]
  },
  {
   "cell_type": "markdown",
   "id": "growing-supply",
   "metadata": {},
   "source": [
    "## Улучшение нейронной сети"
   ]
  },
  {
   "cell_type": "markdown",
   "id": "8024a0a1",
   "metadata": {},
   "source": [
    "Для улучшения модели мы попробуем использовать перебор параметров нейросети, таких как размер батча и dropout (регуляризация). Это позволит нам понять, как именно эти гиперпараметры влияют на результаты модели."
   ]
  },
  {
   "cell_type": "code",
   "execution_count": 25,
   "id": "5a1a9212",
   "metadata": {},
   "outputs": [],
   "source": [
    "def create_model_with_dropout(input_shape, dropout_rate=0.0):\n",
    "    model = models.Sequential()\n",
    "    \n",
    "    # Входной слой\n",
    "    model.add(layers.InputLayer(input_shape=(input_shape,)))\n",
    "    \n",
    "    # Первый скрытый слой с 64 нейронами, активацией ReLU и Dropout\n",
    "    model.add(layers.Dense(64, activation='relu'))\n",
    "    model.add(Dropout(dropout_rate))  # Dropout для регуляризации\n",
    "    \n",
    "    # Второй скрытый слой с 32 нейронами и активацией ReLU\n",
    "    model.add(layers.Dense(32, activation='relu'))\n",
    "    model.add(Dropout(dropout_rate))  # Dropout для регуляризации\n",
    "    \n",
    "    # Выходной слой (один нейрон, функция активации 'linear' для задачи регрессии)\n",
    "    model.add(layers.Dense(1, activation='linear'))\n",
    "    \n",
    "    # Компиляция модели\n",
    "    model.compile(optimizer='adam', loss='mse', metrics=['mae'])\n",
    "    \n",
    "    return model"
   ]
  },
  {
   "cell_type": "code",
   "execution_count": null,
   "id": "d861dd3a",
   "metadata": {},
   "outputs": [
    {
     "name": "stdout",
     "output_type": "stream",
     "text": [
      "Обучение модели с dropout=0.1 и batch_size=16\n",
      "\u001b[1m2/2\u001b[0m \u001b[32m━━━━━━━━━━━━━━━━━━━━\u001b[0m\u001b[37m\u001b[0m \u001b[1m0s\u001b[0m 29ms/step\n",
      "RMSE: 7967.45680462753\n",
      "Обучение модели с dropout=0.1 и batch_size=32\n",
      "WARNING:tensorflow:5 out of the last 5 calls to <function TensorFlowTrainer.make_predict_function.<locals>.one_step_on_data_distributed at 0x7f821045a820> triggered tf.function retracing. Tracing is expensive and the excessive number of tracings could be due to (1) creating @tf.function repeatedly in a loop, (2) passing tensors with different shapes, (3) passing Python objects instead of tensors. For (1), please define your @tf.function outside of the loop. For (2), @tf.function has reduce_retracing=True option that can avoid unnecessary retracing. For (3), please refer to https://www.tensorflow.org/guide/function#controlling_retracing and https://www.tensorflow.org/api_docs/python/tf/function for  more details.\n",
      "\u001b[1m1/2\u001b[0m \u001b[32m━━━━━━━━━━\u001b[0m\u001b[37m━━━━━━━━━━\u001b[0m \u001b[1m0s\u001b[0m 42ms/stepWARNING:tensorflow:6 out of the last 6 calls to <function TensorFlowTrainer.make_predict_function.<locals>.one_step_on_data_distributed at 0x7f821045a820> triggered tf.function retracing. Tracing is expensive and the excessive number of tracings could be due to (1) creating @tf.function repeatedly in a loop, (2) passing tensors with different shapes, (3) passing Python objects instead of tensors. For (1), please define your @tf.function outside of the loop. For (2), @tf.function has reduce_retracing=True option that can avoid unnecessary retracing. For (3), please refer to https://www.tensorflow.org/guide/function#controlling_retracing and https://www.tensorflow.org/api_docs/python/tf/function for  more details.\n",
      "\u001b[1m2/2\u001b[0m \u001b[32m━━━━━━━━━━━━━━━━━━━━\u001b[0m\u001b[37m\u001b[0m \u001b[1m0s\u001b[0m 27ms/step\n",
      "RMSE: 7952.323466342888\n",
      "Обучение модели с dropout=0.1 и batch_size=64\n",
      "\u001b[1m2/2\u001b[0m \u001b[32m━━━━━━━━━━━━━━━━━━━━\u001b[0m\u001b[37m\u001b[0m \u001b[1m0s\u001b[0m 28ms/step\n",
      "RMSE: 8019.000044714273\n",
      "Обучение модели с dropout=0.2 и batch_size=16\n"
     ]
    }
   ],
   "source": [
    "# Гиперпараметры для перебора\n",
    "dropout_rates = [0.1, 0.2, 0.3]\n",
    "batch_sizes = [16, 32, 64]\n",
    "epochs = 100  # Количество эпох обучения\n",
    "results = []\n",
    "\n",
    "for dropout_rate in dropout_rates:\n",
    "    for batch_size in batch_sizes:\n",
    "        print(f\"Обучение модели с dropout={dropout_rate} и batch_size={batch_size}\")\n",
    "        \n",
    "        # Создаем модель\n",
    "        model = create_model_with_dropout(X_train.shape[1], dropout_rate=dropout_rate)\n",
    "        \n",
    "        # Обучаем модель\n",
    "        history = model.fit(X_train, y_train, epochs=epochs, batch_size=batch_size,\n",
    "                            validation_split=0.2, verbose=0)\n",
    "        \n",
    "        # Оценка модели на тестовой выборке\n",
    "        test_loss, test_mae = model.evaluate(X_test, y_test, verbose=0)\n",
    "        \n",
    "        # Прогнозирование\n",
    "        y_pred = model.predict(X_test)\n",
    "        \n",
    "        # Обратное преобразование масштабирования для предсказанных и фактических значений\n",
    "        y_pred_expanded = np.concatenate([y_pred, np.zeros((len(y_pred), 3))], axis=1)\n",
    "        y_pred_original = scaler.inverse_transform(y_pred_expanded)[:, 0]\n",
    "        \n",
    "        y_test_expanded = np.concatenate([np.expand_dims(y_test, axis=1), np.zeros((len(y_test), 3))], axis=1)\n",
    "        y_test_original = scaler.inverse_transform(y_test_expanded)[:, 0]\n",
    "        \n",
    "        # Вычисление RMSE\n",
    "        rmse = sqrt(mean_squared_error(y_test_original, y_pred_original))\n",
    "        \n",
    "        # Сохранение результатов\n",
    "        results.append({\n",
    "            'dropout_rate': dropout_rate,\n",
    "            'batch_size': batch_size,\n",
    "            'test_loss': test_loss,\n",
    "            'test_mae': test_mae,\n",
    "            'rmse': rmse\n",
    "        })\n",
    "\n",
    "        print(f\"RMSE: {rmse}\")"
   ]
  },
  {
   "cell_type": "code",
   "execution_count": null,
   "id": "5080408f",
   "metadata": {},
   "outputs": [],
   "source": [
    "# Гиперпараметры для перебора\n",
    "dropout_rates = [0.1, 0.2, 0.3]\n",
    "batch_sizes = [16, 32, 64]\n",
    "epochs = 100  # Количество эпох обучения\n",
    "results = []\n",
    "\n",
    "for dropout_rate in dropout_rates:\n",
    "    for batch_size in batch_sizes:\n",
    "        print(f\"Обучение модели с dropout={dropout_rate} и batch_size={batch_size}\")\n",
    "        \n",
    "        # Создаем модель\n",
    "        model = create_model_with_dropout(X_train.shape[1], dropout_rate=dropout_rate)\n",
    "        \n",
    "        # Обучаем модель\n",
    "        history = model.fit(X_train, y_train, epochs=epochs, batch_size=batch_size,\n",
    "                            validation_split=0.2, verbose=0)\n",
    "        \n",
    "        # Оценка модели на тестовой выборке\n",
    "        test_loss, test_mae = model.evaluate(X_test, y_test, verbose=0)\n",
    "        \n",
    "        # Прогнозирование\n",
    "        y_pred = model.predict(X_test)\n",
    "        \n",
    "        # Обратное преобразование масштабирования для предсказанных и фактических значений\n",
    "        y_pred_expanded = np.concatenate([y_pred, np.zeros((len(y_pred), 3))], axis=1)\n",
    "        y_pred_original = scaler.inverse_transform(y_pred_expanded)[:, 0]\n",
    "        \n",
    "        y_test_expanded = np.concatenate([np.expand_dims(y_test, axis=1), np.zeros((len(y_test), 3))], axis=1)\n",
    "        y_test_original = scaler.inverse_transform(y_test_expanded)[:, 0]\n",
    "        \n",
    "        # Вычисление RMSE\n",
    "        rmse = sqrt(mean_squared_error(y_test_original, y_pred_original))\n",
    "        \n",
    "        # Сохранение результатов\n",
    "        results.append({\n",
    "            'dropout_rate': dropout_rate,\n",
    "            'batch_size': batch_size,\n",
    "            'test_loss': test_loss,\n",
    "            'test_mae': test_mae,\n",
    "            'rmse': rmse\n",
    "        })\n",
    "\n",
    "        print(f\"RMSE: {rmse}\")"
   ]
  },
  {
   "cell_type": "code",
   "execution_count": null,
   "id": "8b551c60",
   "metadata": {},
   "outputs": [],
   "source": [
    "# Преобразуем результаты в DataFrame\n",
    "results_df = pd.DataFrame(results)\n",
    "\n",
    "# Сортируем по RMSE, чтобы выбрать наилучшие параметры\n",
    "results_df = results_df.sort_values(by='rmse').reset_index(drop=True)\n",
    "display(results_df)"
   ]
  },
  {
   "cell_type": "code",
   "execution_count": null,
   "id": "7c80e9cf",
   "metadata": {},
   "outputs": [],
   "source": [
    "# Построим график зависимости RMSE от dropout и batch_size\n",
    "plt.figure(figsize=(10, 6))\n",
    "\n",
    "for dropout_rate in dropout_rates:\n",
    "    subset = results_df[results_df['dropout_rate'] == dropout_rate]\n",
    "    plt.plot(subset['batch_size'], subset['rmse'], label=f'Dropout {dropout_rate}')\n",
    "\n",
    "plt.title('Зависимость RMSE от размера батча и dropout')\n",
    "plt.xlabel('Batch size')\n",
    "plt.ylabel('RMSE')\n",
    "plt.legend()\n",
    "plt.show()"
   ]
  },
  {
   "cell_type": "markdown",
   "id": "595ef545",
   "metadata": {},
   "source": [
    "Для данной модели лучшая регуляризация достигается при добавлении небольшого уровня шума и использовании маленького размера батча. Dropout = 0.3 и Batch size = 16 дают наилучший результат с RMSE = 5440.78."
   ]
  },
  {
   "cell_type": "markdown",
   "id": "accurate-infrastructure",
   "metadata": {},
   "source": [
    "## Выводы"
   ]
  },
  {
   "cell_type": "markdown",
   "id": "28495dfb",
   "metadata": {},
   "source": [
    "- Базовая модель (без Dropout и подбора гиперпараметров) продемонстрировала неплохие результаты, но имела тенденцию к недооценке высоких значений температуры.\n",
    "\n",
    "\n",
    "- Улучшенная модель (с Dropout и подбором гиперпараметров) показала более точные предсказания, особенно для низких и средних температур. Однако при крайне высоких температурах все еще наблюдаются незначительные отклонения.\n",
    "\n",
    "Заключение: Внедрение регуляризации Dropout и подбор гиперпараметров значительно улучшили качество предсказаний модели."
   ]
  }
 ],
 "metadata": {
  "ExecuteTimeLog": [
   {
    "duration": 399,
    "start_time": "2024-09-20T22:43:01.065Z"
   },
   {
    "duration": 75,
    "start_time": "2024-09-20T22:43:01.466Z"
   },
   {
    "duration": 52,
    "start_time": "2024-09-20T22:43:32.314Z"
   },
   {
    "duration": 1969,
    "start_time": "2024-09-20T22:45:39.542Z"
   },
   {
    "duration": 1051,
    "start_time": "2024-09-20T22:46:42.153Z"
   },
   {
    "duration": 937,
    "start_time": "2024-09-20T22:47:39.524Z"
   },
   {
    "duration": 342,
    "start_time": "2024-09-20T23:11:15.131Z"
   },
   {
    "duration": 279,
    "start_time": "2024-09-20T23:12:32.397Z"
   },
   {
    "duration": 252,
    "start_time": "2024-09-20T23:13:31.828Z"
   },
   {
    "duration": 242,
    "start_time": "2024-09-20T23:14:20.159Z"
   },
   {
    "duration": 261,
    "start_time": "2024-09-20T23:16:54.422Z"
   },
   {
    "duration": 430,
    "start_time": "2024-09-20T23:17:14.268Z"
   },
   {
    "duration": 27,
    "start_time": "2024-09-20T23:17:14.699Z"
   },
   {
    "duration": 48,
    "start_time": "2024-09-20T23:17:14.728Z"
   },
   {
    "duration": 1474,
    "start_time": "2024-09-20T23:17:14.778Z"
   },
   {
    "duration": 360,
    "start_time": "2024-09-20T23:17:16.254Z"
   },
   {
    "duration": 257,
    "start_time": "2024-09-20T23:18:02.786Z"
   },
   {
    "duration": 249,
    "start_time": "2024-09-20T23:18:47.788Z"
   },
   {
    "duration": 6,
    "start_time": "2024-09-20T23:19:50.637Z"
   },
   {
    "duration": 428,
    "start_time": "2024-09-20T23:22:43.287Z"
   },
   {
    "duration": 28,
    "start_time": "2024-09-20T23:22:43.717Z"
   },
   {
    "duration": 50,
    "start_time": "2024-09-20T23:22:43.747Z"
   },
   {
    "duration": 1511,
    "start_time": "2024-09-20T23:22:43.799Z"
   },
   {
    "duration": 6,
    "start_time": "2024-09-20T23:22:45.313Z"
   },
   {
    "duration": 49,
    "start_time": "2024-09-20T23:22:45.320Z"
   },
   {
    "duration": 344,
    "start_time": "2024-09-20T23:22:45.371Z"
   },
   {
    "duration": 6,
    "start_time": "2024-09-20T23:23:07.374Z"
   },
   {
    "duration": 389,
    "start_time": "2024-09-20T23:26:23.223Z"
   },
   {
    "duration": 27,
    "start_time": "2024-09-20T23:26:23.614Z"
   },
   {
    "duration": 49,
    "start_time": "2024-09-20T23:26:23.643Z"
   },
   {
    "duration": 1530,
    "start_time": "2024-09-20T23:26:23.694Z"
   },
   {
    "duration": 6,
    "start_time": "2024-09-20T23:26:25.226Z"
   },
   {
    "duration": 13,
    "start_time": "2024-09-20T23:26:25.235Z"
   },
   {
    "duration": 322,
    "start_time": "2024-09-20T23:26:25.250Z"
   },
   {
    "duration": 7,
    "start_time": "2024-09-20T23:27:35.271Z"
   },
   {
    "duration": 205,
    "start_time": "2024-09-20T23:28:34.783Z"
   },
   {
    "duration": 222,
    "start_time": "2024-09-20T23:29:59.109Z"
   },
   {
    "duration": 200,
    "start_time": "2024-09-20T23:30:36.209Z"
   },
   {
    "duration": 435,
    "start_time": "2024-09-20T23:31:16.083Z"
   },
   {
    "duration": 27,
    "start_time": "2024-09-20T23:31:16.520Z"
   },
   {
    "duration": 48,
    "start_time": "2024-09-20T23:31:16.549Z"
   },
   {
    "duration": 1472,
    "start_time": "2024-09-20T23:31:16.598Z"
   },
   {
    "duration": 6,
    "start_time": "2024-09-20T23:31:18.072Z"
   },
   {
    "duration": 24,
    "start_time": "2024-09-20T23:31:18.079Z"
   },
   {
    "duration": 342,
    "start_time": "2024-09-20T23:31:18.105Z"
   },
   {
    "duration": 197,
    "start_time": "2024-09-20T23:32:54.690Z"
   },
   {
    "duration": 215,
    "start_time": "2024-09-20T23:34:02.201Z"
   },
   {
    "duration": 210,
    "start_time": "2024-09-20T23:34:33.591Z"
   },
   {
    "duration": 5,
    "start_time": "2024-09-20T23:34:54.835Z"
   },
   {
    "duration": 144,
    "start_time": "2024-09-20T23:38:24.505Z"
   },
   {
    "duration": 274,
    "start_time": "2024-09-20T23:38:32.735Z"
   },
   {
    "duration": 211,
    "start_time": "2024-09-20T23:40:24.531Z"
   },
   {
    "duration": 193,
    "start_time": "2024-09-20T23:40:54.636Z"
   },
   {
    "duration": 196,
    "start_time": "2024-09-20T23:41:40.436Z"
   },
   {
    "duration": 213,
    "start_time": "2024-09-20T23:42:12.860Z"
   },
   {
    "duration": 20,
    "start_time": "2024-09-20T23:43:29.308Z"
   },
   {
    "duration": 138,
    "start_time": "2024-09-20T23:43:37.309Z"
   },
   {
    "duration": 195,
    "start_time": "2024-09-20T23:43:42.874Z"
   },
   {
    "duration": 232,
    "start_time": "2024-09-21T00:02:39.126Z"
   },
   {
    "duration": 441,
    "start_time": "2024-09-21T00:05:12.279Z"
   },
   {
    "duration": 27,
    "start_time": "2024-09-21T00:05:12.722Z"
   },
   {
    "duration": 76,
    "start_time": "2024-09-21T00:05:12.750Z"
   },
   {
    "duration": 1531,
    "start_time": "2024-09-21T00:05:12.828Z"
   },
   {
    "duration": 5,
    "start_time": "2024-09-21T00:05:14.362Z"
   },
   {
    "duration": 55,
    "start_time": "2024-09-21T00:05:14.369Z"
   },
   {
    "duration": 193,
    "start_time": "2024-09-21T00:05:14.425Z"
   },
   {
    "duration": 5,
    "start_time": "2024-09-21T00:05:38.421Z"
   },
   {
    "duration": 422,
    "start_time": "2024-09-21T00:07:04.798Z"
   },
   {
    "duration": 26,
    "start_time": "2024-09-21T00:07:05.222Z"
   },
   {
    "duration": 47,
    "start_time": "2024-09-21T00:07:05.250Z"
   },
   {
    "duration": 1551,
    "start_time": "2024-09-21T00:07:05.299Z"
   },
   {
    "duration": 6,
    "start_time": "2024-09-21T00:07:06.852Z"
   },
   {
    "duration": 14,
    "start_time": "2024-09-21T00:07:06.860Z"
   },
   {
    "duration": 198,
    "start_time": "2024-09-21T00:07:06.876Z"
   },
   {
    "duration": 5,
    "start_time": "2024-09-21T00:07:19.081Z"
   },
   {
    "duration": 170,
    "start_time": "2024-09-21T00:08:10.652Z"
   },
   {
    "duration": 173,
    "start_time": "2024-09-21T00:08:50.202Z"
   },
   {
    "duration": 171,
    "start_time": "2024-09-21T00:09:36.902Z"
   },
   {
    "duration": 445,
    "start_time": "2024-09-21T00:10:31.514Z"
   },
   {
    "duration": 27,
    "start_time": "2024-09-21T00:10:31.961Z"
   },
   {
    "duration": 48,
    "start_time": "2024-09-21T00:10:31.990Z"
   },
   {
    "duration": 1529,
    "start_time": "2024-09-21T00:10:32.041Z"
   },
   {
    "duration": 6,
    "start_time": "2024-09-21T00:10:33.572Z"
   },
   {
    "duration": 60,
    "start_time": "2024-09-21T00:10:33.579Z"
   },
   {
    "duration": 0,
    "start_time": "2024-09-21T00:10:33.641Z"
   },
   {
    "duration": 9,
    "start_time": "2024-09-21T00:10:58.673Z"
   },
   {
    "duration": 178,
    "start_time": "2024-09-21T00:10:59.261Z"
   },
   {
    "duration": 413,
    "start_time": "2024-09-21T00:12:59.908Z"
   },
   {
    "duration": 28,
    "start_time": "2024-09-21T00:13:00.323Z"
   },
   {
    "duration": 157,
    "start_time": "2024-09-21T00:13:00.353Z"
   },
   {
    "duration": 1548,
    "start_time": "2024-09-21T00:13:00.512Z"
   },
   {
    "duration": 6,
    "start_time": "2024-09-21T00:13:02.062Z"
   },
   {
    "duration": 35,
    "start_time": "2024-09-21T00:13:02.070Z"
   },
   {
    "duration": 185,
    "start_time": "2024-09-21T00:13:02.106Z"
   },
   {
    "duration": 5,
    "start_time": "2024-09-21T00:13:38.003Z"
   },
   {
    "duration": 459,
    "start_time": "2024-09-21T00:14:11.268Z"
   },
   {
    "duration": 27,
    "start_time": "2024-09-21T00:14:11.728Z"
   },
   {
    "duration": 47,
    "start_time": "2024-09-21T00:14:11.756Z"
   },
   {
    "duration": 1592,
    "start_time": "2024-09-21T00:14:11.805Z"
   },
   {
    "duration": 7,
    "start_time": "2024-09-21T00:14:13.399Z"
   },
   {
    "duration": 12,
    "start_time": "2024-09-21T00:14:13.408Z"
   },
   {
    "duration": 202,
    "start_time": "2024-09-21T00:14:13.422Z"
   },
   {
    "duration": 111,
    "start_time": "2024-09-21T00:15:02.286Z"
   },
   {
    "duration": 3595,
    "start_time": "2024-09-21T00:15:51.888Z"
   },
   {
    "duration": 429,
    "start_time": "2024-09-21T00:15:55.486Z"
   },
   {
    "duration": 26,
    "start_time": "2024-09-21T00:15:55.917Z"
   },
   {
    "duration": 48,
    "start_time": "2024-09-21T00:15:55.945Z"
   },
   {
    "duration": 1552,
    "start_time": "2024-09-21T00:15:55.998Z"
   },
   {
    "duration": 898,
    "start_time": "2024-09-21T00:15:57.551Z"
   },
   {
    "duration": 6,
    "start_time": "2024-09-21T00:15:58.451Z"
   },
   {
    "duration": 14,
    "start_time": "2024-09-21T00:15:58.459Z"
   },
   {
    "duration": 196,
    "start_time": "2024-09-21T00:15:58.474Z"
   },
   {
    "duration": 2485,
    "start_time": "2024-09-21T00:16:42.656Z"
   },
   {
    "duration": 363,
    "start_time": "2024-09-21T00:16:45.144Z"
   },
   {
    "duration": 26,
    "start_time": "2024-09-21T00:16:45.509Z"
   },
   {
    "duration": 48,
    "start_time": "2024-09-21T00:16:45.537Z"
   },
   {
    "duration": 967,
    "start_time": "2024-09-21T00:16:45.587Z"
   },
   {
    "duration": 888,
    "start_time": "2024-09-21T00:16:46.555Z"
   },
   {
    "duration": 7,
    "start_time": "2024-09-21T00:16:47.445Z"
   },
   {
    "duration": 17,
    "start_time": "2024-09-21T00:16:47.453Z"
   },
   {
    "duration": 201,
    "start_time": "2024-09-21T00:16:47.471Z"
   },
   {
    "duration": 2630,
    "start_time": "2024-09-21T00:20:51.977Z"
   },
   {
    "duration": 420,
    "start_time": "2024-09-21T00:20:54.609Z"
   },
   {
    "duration": 27,
    "start_time": "2024-09-21T00:20:55.031Z"
   },
   {
    "duration": 4,
    "start_time": "2024-09-21T00:20:55.059Z"
   },
   {
    "duration": 64,
    "start_time": "2024-09-21T00:20:55.065Z"
   },
   {
    "duration": 1009,
    "start_time": "2024-09-21T00:20:55.130Z"
   },
   {
    "duration": 676,
    "start_time": "2024-09-21T00:20:56.141Z"
   },
   {
    "duration": 10,
    "start_time": "2024-09-21T00:20:56.819Z"
   },
   {
    "duration": 9,
    "start_time": "2024-09-21T00:20:56.831Z"
   },
   {
    "duration": 206,
    "start_time": "2024-09-21T00:20:56.842Z"
   },
   {
    "duration": 673,
    "start_time": "2024-09-21T00:21:22.940Z"
   },
   {
    "duration": 633,
    "start_time": "2024-09-21T00:21:48.711Z"
   },
   {
    "duration": 5,
    "start_time": "2024-09-21T00:22:44.471Z"
   },
   {
    "duration": 65,
    "start_time": "2024-09-21T00:30:50.744Z"
   },
   {
    "duration": 270,
    "start_time": "2024-09-21T00:39:18.864Z"
   },
   {
    "duration": 234,
    "start_time": "2024-09-21T00:40:07.002Z"
   },
   {
    "duration": 974,
    "start_time": "2024-09-21T00:40:17.442Z"
   },
   {
    "duration": 1081,
    "start_time": "2024-09-21T00:40:31.870Z"
   },
   {
    "duration": 186,
    "start_time": "2024-09-21T00:42:46.977Z"
   },
   {
    "duration": 2517,
    "start_time": "2024-09-21T00:45:05.662Z"
   },
   {
    "duration": 1303,
    "start_time": "2024-09-21T00:45:08.183Z"
   },
   {
    "duration": 27,
    "start_time": "2024-09-21T00:45:09.488Z"
   },
   {
    "duration": 35,
    "start_time": "2024-09-21T00:45:09.517Z"
   },
   {
    "duration": 71,
    "start_time": "2024-09-21T00:45:09.554Z"
   },
   {
    "duration": 218,
    "start_time": "2024-09-21T00:45:09.626Z"
   },
   {
    "duration": 721,
    "start_time": "2024-09-21T00:45:09.846Z"
   },
   {
    "duration": 5,
    "start_time": "2024-09-21T00:45:10.568Z"
   },
   {
    "duration": 44,
    "start_time": "2024-09-21T00:45:10.574Z"
   },
   {
    "duration": 7,
    "start_time": "2024-09-21T00:45:10.621Z"
   },
   {
    "duration": 4,
    "start_time": "2024-09-21T00:45:10.630Z"
   },
   {
    "duration": 6,
    "start_time": "2024-09-21T00:45:10.636Z"
   },
   {
    "duration": 171,
    "start_time": "2024-09-21T00:45:10.643Z"
   },
   {
    "duration": 668,
    "start_time": "2024-09-21T00:45:10.816Z"
   },
   {
    "duration": 184,
    "start_time": "2024-09-21T00:46:41.203Z"
   },
   {
    "duration": 243,
    "start_time": "2024-09-21T00:48:48.725Z"
   },
   {
    "duration": 8,
    "start_time": "2024-09-21T00:49:00.457Z"
   },
   {
    "duration": 379,
    "start_time": "2024-09-21T00:54:07.774Z"
   },
   {
    "duration": 174,
    "start_time": "2024-09-21T00:54:12.162Z"
   },
   {
    "duration": 5,
    "start_time": "2024-09-21T00:56:57.992Z"
   },
   {
    "duration": 2539,
    "start_time": "2024-09-21T01:02:00.584Z"
   },
   {
    "duration": 1231,
    "start_time": "2024-09-21T01:02:03.126Z"
   },
   {
    "duration": 28,
    "start_time": "2024-09-21T01:02:04.358Z"
   },
   {
    "duration": 5,
    "start_time": "2024-09-21T01:02:04.387Z"
   },
   {
    "duration": 85,
    "start_time": "2024-09-21T01:02:04.395Z"
   },
   {
    "duration": 209,
    "start_time": "2024-09-21T01:02:04.482Z"
   },
   {
    "duration": 217,
    "start_time": "2024-09-21T01:02:04.693Z"
   },
   {
    "duration": 376,
    "start_time": "2024-09-21T01:02:04.912Z"
   },
   {
    "duration": 193,
    "start_time": "2024-09-21T01:02:05.290Z"
   },
   {
    "duration": 5,
    "start_time": "2024-09-21T01:02:05.484Z"
   },
   {
    "duration": 16,
    "start_time": "2024-09-21T01:02:05.498Z"
   },
   {
    "duration": 26,
    "start_time": "2024-09-21T01:02:05.515Z"
   },
   {
    "duration": 29,
    "start_time": "2024-09-21T01:02:05.543Z"
   },
   {
    "duration": 40,
    "start_time": "2024-09-21T01:02:05.574Z"
   },
   {
    "duration": 235,
    "start_time": "2024-09-21T01:02:05.616Z"
   },
   {
    "duration": 729,
    "start_time": "2024-09-21T01:02:05.853Z"
   },
   {
    "duration": 3,
    "start_time": "2024-09-21T01:08:05.491Z"
   },
   {
    "duration": 204,
    "start_time": "2024-09-21T01:08:29.076Z"
   },
   {
    "duration": 2516,
    "start_time": "2024-09-21T01:09:12.810Z"
   },
   {
    "duration": 1235,
    "start_time": "2024-09-21T01:09:15.328Z"
   },
   {
    "duration": 27,
    "start_time": "2024-09-21T01:09:16.565Z"
   },
   {
    "duration": 17,
    "start_time": "2024-09-21T01:09:16.594Z"
   },
   {
    "duration": 72,
    "start_time": "2024-09-21T01:09:16.613Z"
   },
   {
    "duration": 269,
    "start_time": "2024-09-21T01:09:16.687Z"
   },
   {
    "duration": 207,
    "start_time": "2024-09-21T01:09:16.957Z"
   },
   {
    "duration": 367,
    "start_time": "2024-09-21T01:09:17.166Z"
   },
   {
    "duration": 197,
    "start_time": "2024-09-21T01:09:17.534Z"
   },
   {
    "duration": 4,
    "start_time": "2024-09-21T01:09:17.734Z"
   },
   {
    "duration": 9,
    "start_time": "2024-09-21T01:09:17.739Z"
   },
   {
    "duration": 7,
    "start_time": "2024-09-21T01:09:17.750Z"
   },
   {
    "duration": 27,
    "start_time": "2024-09-21T01:09:17.758Z"
   },
   {
    "duration": 20,
    "start_time": "2024-09-21T01:09:17.787Z"
   },
   {
    "duration": 177,
    "start_time": "2024-09-21T01:09:17.809Z"
   },
   {
    "duration": 687,
    "start_time": "2024-09-21T01:09:17.988Z"
   },
   {
    "duration": 199,
    "start_time": "2024-09-21T01:19:07.354Z"
   },
   {
    "duration": 105,
    "start_time": "2024-09-21T01:34:40.245Z"
   },
   {
    "duration": 4,
    "start_time": "2024-09-21T01:34:50.727Z"
   },
   {
    "duration": 2511,
    "start_time": "2024-09-21T01:35:04.912Z"
   },
   {
    "duration": 1454,
    "start_time": "2024-09-21T01:35:07.426Z"
   },
   {
    "duration": 28,
    "start_time": "2024-09-21T01:35:08.882Z"
   },
   {
    "duration": 4,
    "start_time": "2024-09-21T01:35:08.912Z"
   },
   {
    "duration": 57,
    "start_time": "2024-09-21T01:35:08.917Z"
   },
   {
    "duration": 207,
    "start_time": "2024-09-21T01:35:08.976Z"
   },
   {
    "duration": 217,
    "start_time": "2024-09-21T01:35:09.185Z"
   },
   {
    "duration": 375,
    "start_time": "2024-09-21T01:35:09.404Z"
   },
   {
    "duration": 276,
    "start_time": "2024-09-21T01:35:09.781Z"
   },
   {
    "duration": 5,
    "start_time": "2024-09-21T01:35:10.060Z"
   },
   {
    "duration": 55,
    "start_time": "2024-09-21T01:35:10.067Z"
   },
   {
    "duration": 31,
    "start_time": "2024-09-21T01:35:10.124Z"
   },
   {
    "duration": 6,
    "start_time": "2024-09-21T01:35:10.157Z"
   },
   {
    "duration": 20,
    "start_time": "2024-09-21T01:35:10.165Z"
   },
   {
    "duration": 190,
    "start_time": "2024-09-21T01:35:10.187Z"
   },
   {
    "duration": 597,
    "start_time": "2024-09-21T01:35:10.378Z"
   },
   {
    "duration": 5,
    "start_time": "2024-09-21T01:35:10.977Z"
   },
   {
    "duration": 6,
    "start_time": "2024-09-21T01:38:28.660Z"
   },
   {
    "duration": 5,
    "start_time": "2024-09-21T01:38:32.867Z"
   },
   {
    "duration": 53,
    "start_time": "2024-09-21T01:38:35.122Z"
   },
   {
    "duration": 6,
    "start_time": "2024-09-21T01:38:54.677Z"
   },
   {
    "duration": 138,
    "start_time": "2024-09-21T01:38:54.968Z"
   },
   {
    "duration": 2566,
    "start_time": "2024-09-21T01:39:04.942Z"
   },
   {
    "duration": 1501,
    "start_time": "2024-09-21T01:39:07.512Z"
   },
   {
    "duration": 27,
    "start_time": "2024-09-21T01:39:09.015Z"
   },
   {
    "duration": 32,
    "start_time": "2024-09-21T01:39:09.044Z"
   },
   {
    "duration": 50,
    "start_time": "2024-09-21T01:39:09.078Z"
   },
   {
    "duration": 248,
    "start_time": "2024-09-21T01:39:09.129Z"
   },
   {
    "duration": 211,
    "start_time": "2024-09-21T01:39:09.379Z"
   },
   {
    "duration": 416,
    "start_time": "2024-09-21T01:39:09.592Z"
   },
   {
    "duration": 288,
    "start_time": "2024-09-21T01:39:10.010Z"
   },
   {
    "duration": 12,
    "start_time": "2024-09-21T01:39:10.301Z"
   },
   {
    "duration": 8,
    "start_time": "2024-09-21T01:39:10.315Z"
   },
   {
    "duration": 12,
    "start_time": "2024-09-21T01:39:10.325Z"
   },
   {
    "duration": 4,
    "start_time": "2024-09-21T01:39:10.340Z"
   },
   {
    "duration": 31,
    "start_time": "2024-09-21T01:39:10.346Z"
   },
   {
    "duration": 210,
    "start_time": "2024-09-21T01:39:10.379Z"
   },
   {
    "duration": 723,
    "start_time": "2024-09-21T01:39:10.591Z"
   },
   {
    "duration": 9,
    "start_time": "2024-09-21T01:39:11.317Z"
   },
   {
    "duration": 169,
    "start_time": "2024-09-21T01:39:11.328Z"
   },
   {
    "duration": 2446,
    "start_time": "2024-09-21T01:44:30.564Z"
   },
   {
    "duration": 1419,
    "start_time": "2024-09-21T01:44:33.013Z"
   },
   {
    "duration": 28,
    "start_time": "2024-09-21T01:44:34.434Z"
   },
   {
    "duration": 4,
    "start_time": "2024-09-21T01:44:34.464Z"
   },
   {
    "duration": 43,
    "start_time": "2024-09-21T01:44:34.471Z"
   },
   {
    "duration": 215,
    "start_time": "2024-09-21T01:44:34.516Z"
   },
   {
    "duration": 197,
    "start_time": "2024-09-21T01:44:34.733Z"
   },
   {
    "duration": 360,
    "start_time": "2024-09-21T01:44:34.932Z"
   },
   {
    "duration": 268,
    "start_time": "2024-09-21T01:44:35.298Z"
   },
   {
    "duration": 4,
    "start_time": "2024-09-21T01:44:35.568Z"
   },
   {
    "duration": 23,
    "start_time": "2024-09-21T01:44:35.574Z"
   },
   {
    "duration": 28,
    "start_time": "2024-09-21T01:44:35.599Z"
   },
   {
    "duration": 10,
    "start_time": "2024-09-21T01:44:35.628Z"
   },
   {
    "duration": 4,
    "start_time": "2024-09-21T01:44:35.641Z"
   },
   {
    "duration": 201,
    "start_time": "2024-09-21T01:44:35.647Z"
   },
   {
    "duration": 613,
    "start_time": "2024-09-21T01:44:35.850Z"
   },
   {
    "duration": 119,
    "start_time": "2024-09-21T01:44:36.465Z"
   },
   {
    "duration": 0,
    "start_time": "2024-09-21T01:44:36.585Z"
   },
   {
    "duration": 0,
    "start_time": "2024-09-21T01:44:36.586Z"
   },
   {
    "duration": 0,
    "start_time": "2024-09-21T01:44:36.597Z"
   },
   {
    "duration": 0,
    "start_time": "2024-09-21T01:44:36.599Z"
   },
   {
    "duration": 0,
    "start_time": "2024-09-21T01:44:36.600Z"
   },
   {
    "duration": 1,
    "start_time": "2024-09-21T01:44:36.600Z"
   },
   {
    "duration": 21,
    "start_time": "2024-09-21T01:45:15.267Z"
   },
   {
    "duration": 2515,
    "start_time": "2024-09-21T01:45:23.799Z"
   },
   {
    "duration": 1451,
    "start_time": "2024-09-21T01:45:26.317Z"
   },
   {
    "duration": 27,
    "start_time": "2024-09-21T01:45:27.769Z"
   },
   {
    "duration": 5,
    "start_time": "2024-09-21T01:45:27.797Z"
   },
   {
    "duration": 43,
    "start_time": "2024-09-21T01:45:27.805Z"
   },
   {
    "duration": 222,
    "start_time": "2024-09-21T01:45:27.849Z"
   },
   {
    "duration": 203,
    "start_time": "2024-09-21T01:45:28.073Z"
   },
   {
    "duration": 390,
    "start_time": "2024-09-21T01:45:28.278Z"
   },
   {
    "duration": 275,
    "start_time": "2024-09-21T01:45:28.670Z"
   },
   {
    "duration": 5,
    "start_time": "2024-09-21T01:45:28.947Z"
   },
   {
    "duration": 15,
    "start_time": "2024-09-21T01:45:28.953Z"
   },
   {
    "duration": 5,
    "start_time": "2024-09-21T01:45:28.970Z"
   },
   {
    "duration": 6,
    "start_time": "2024-09-21T01:45:28.977Z"
   },
   {
    "duration": 13,
    "start_time": "2024-09-21T01:45:28.986Z"
   },
   {
    "duration": 225,
    "start_time": "2024-09-21T01:45:29.001Z"
   },
   {
    "duration": 650,
    "start_time": "2024-09-21T01:45:29.228Z"
   },
   {
    "duration": 130,
    "start_time": "2024-09-21T01:45:29.879Z"
   },
   {
    "duration": 0,
    "start_time": "2024-09-21T01:45:30.011Z"
   },
   {
    "duration": 0,
    "start_time": "2024-09-21T01:45:30.012Z"
   },
   {
    "duration": 0,
    "start_time": "2024-09-21T01:45:30.014Z"
   },
   {
    "duration": 0,
    "start_time": "2024-09-21T01:45:30.016Z"
   },
   {
    "duration": 0,
    "start_time": "2024-09-21T01:45:30.017Z"
   },
   {
    "duration": 0,
    "start_time": "2024-09-21T01:45:30.018Z"
   },
   {
    "duration": 2569,
    "start_time": "2024-09-21T01:45:57.501Z"
   },
   {
    "duration": 1389,
    "start_time": "2024-09-21T01:46:00.072Z"
   },
   {
    "duration": 28,
    "start_time": "2024-09-21T01:46:01.462Z"
   },
   {
    "duration": 5,
    "start_time": "2024-09-21T01:46:01.492Z"
   },
   {
    "duration": 61,
    "start_time": "2024-09-21T01:46:01.499Z"
   },
   {
    "duration": 211,
    "start_time": "2024-09-21T01:46:01.562Z"
   },
   {
    "duration": 215,
    "start_time": "2024-09-21T01:46:01.774Z"
   },
   {
    "duration": 381,
    "start_time": "2024-09-21T01:46:01.990Z"
   },
   {
    "duration": 286,
    "start_time": "2024-09-21T01:46:02.372Z"
   },
   {
    "duration": 5,
    "start_time": "2024-09-21T01:46:02.661Z"
   },
   {
    "duration": 5,
    "start_time": "2024-09-21T01:46:02.667Z"
   },
   {
    "duration": 13,
    "start_time": "2024-09-21T01:46:02.674Z"
   },
   {
    "duration": 17,
    "start_time": "2024-09-21T01:46:02.698Z"
   },
   {
    "duration": 41,
    "start_time": "2024-09-21T01:46:02.717Z"
   },
   {
    "duration": 217,
    "start_time": "2024-09-21T01:46:02.760Z"
   },
   {
    "duration": 626,
    "start_time": "2024-09-21T01:46:02.979Z"
   },
   {
    "duration": 17,
    "start_time": "2024-09-21T01:46:03.607Z"
   },
   {
    "duration": 9,
    "start_time": "2024-09-21T01:46:03.626Z"
   },
   {
    "duration": 28,
    "start_time": "2024-09-21T01:46:03.636Z"
   },
   {
    "duration": 42995,
    "start_time": "2024-09-21T01:46:03.666Z"
   },
   {
    "duration": 1855,
    "start_time": "2024-09-21T01:46:46.663Z"
   },
   {
    "duration": 5510,
    "start_time": "2024-09-21T01:46:48.520Z"
   },
   {
    "duration": 404,
    "start_time": "2024-09-21T01:46:54.031Z"
   },
   {
    "duration": 47272,
    "start_time": "2024-09-21T01:47:13.254Z"
   },
   {
    "duration": 1393,
    "start_time": "2024-09-21T01:48:00.528Z"
   },
   {
    "duration": 29,
    "start_time": "2024-09-21T01:48:01.922Z"
   },
   {
    "duration": 10,
    "start_time": "2024-09-21T01:48:01.952Z"
   },
   {
    "duration": 45,
    "start_time": "2024-09-21T01:48:01.964Z"
   },
   {
    "duration": 234,
    "start_time": "2024-09-21T01:48:02.011Z"
   },
   {
    "duration": 217,
    "start_time": "2024-09-21T01:48:02.247Z"
   },
   {
    "duration": 376,
    "start_time": "2024-09-21T01:48:02.466Z"
   },
   {
    "duration": 280,
    "start_time": "2024-09-21T01:48:02.844Z"
   },
   {
    "duration": 4,
    "start_time": "2024-09-21T01:48:03.126Z"
   },
   {
    "duration": 9,
    "start_time": "2024-09-21T01:48:03.132Z"
   },
   {
    "duration": 22,
    "start_time": "2024-09-21T01:48:03.143Z"
   },
   {
    "duration": 10,
    "start_time": "2024-09-21T01:48:03.167Z"
   },
   {
    "duration": 10,
    "start_time": "2024-09-21T01:48:03.178Z"
   },
   {
    "duration": 215,
    "start_time": "2024-09-21T01:48:03.190Z"
   },
   {
    "duration": 665,
    "start_time": "2024-09-21T01:48:03.409Z"
   },
   {
    "duration": 10,
    "start_time": "2024-09-21T01:48:04.076Z"
   },
   {
    "duration": 30,
    "start_time": "2024-09-21T01:48:04.097Z"
   },
   {
    "duration": 14,
    "start_time": "2024-09-21T01:48:04.129Z"
   },
   {
    "duration": 2537,
    "start_time": "2024-09-21T01:48:04.145Z"
   },
   {
    "duration": 0,
    "start_time": "2024-09-21T01:48:06.684Z"
   },
   {
    "duration": 0,
    "start_time": "2024-09-21T01:48:06.685Z"
   },
   {
    "duration": 5514,
    "start_time": "2024-09-21T01:50:23.558Z"
   },
   {
    "duration": 1526,
    "start_time": "2024-09-21T01:50:29.074Z"
   },
   {
    "duration": 29,
    "start_time": "2024-09-21T01:50:30.603Z"
   },
   {
    "duration": 4,
    "start_time": "2024-09-21T01:50:30.634Z"
   },
   {
    "duration": 52,
    "start_time": "2024-09-21T01:50:30.641Z"
   },
   {
    "duration": 237,
    "start_time": "2024-09-21T01:50:30.695Z"
   },
   {
    "duration": 221,
    "start_time": "2024-09-21T01:50:30.934Z"
   },
   {
    "duration": 402,
    "start_time": "2024-09-21T01:50:31.157Z"
   },
   {
    "duration": 303,
    "start_time": "2024-09-21T01:50:31.561Z"
   },
   {
    "duration": 5,
    "start_time": "2024-09-21T01:50:31.867Z"
   },
   {
    "duration": 24,
    "start_time": "2024-09-21T01:50:31.874Z"
   },
   {
    "duration": 20,
    "start_time": "2024-09-21T01:50:31.900Z"
   },
   {
    "duration": 6,
    "start_time": "2024-09-21T01:50:31.922Z"
   },
   {
    "duration": 4,
    "start_time": "2024-09-21T01:50:31.931Z"
   },
   {
    "duration": 223,
    "start_time": "2024-09-21T01:50:31.936Z"
   },
   {
    "duration": 648,
    "start_time": "2024-09-21T01:50:32.160Z"
   },
   {
    "duration": 14,
    "start_time": "2024-09-21T01:50:32.811Z"
   },
   {
    "duration": 86,
    "start_time": "2024-09-21T01:50:32.826Z"
   },
   {
    "duration": 13,
    "start_time": "2024-09-21T01:50:32.914Z"
   },
   {
    "duration": 2430,
    "start_time": "2024-09-21T01:50:32.929Z"
   },
   {
    "duration": 0,
    "start_time": "2024-09-21T01:50:35.361Z"
   },
   {
    "duration": 0,
    "start_time": "2024-09-21T01:50:35.362Z"
   },
   {
    "duration": 0,
    "start_time": "2024-09-21T01:50:35.364Z"
   },
   {
    "duration": 4302,
    "start_time": "2024-09-21T01:51:20.161Z"
   },
   {
    "duration": 1242,
    "start_time": "2024-09-21T01:51:42.142Z"
   },
   {
    "duration": 5531,
    "start_time": "2024-09-21T01:51:43.387Z"
   },
   {
    "duration": 1417,
    "start_time": "2024-09-21T01:51:48.920Z"
   },
   {
    "duration": 28,
    "start_time": "2024-09-21T01:51:50.339Z"
   },
   {
    "duration": 5,
    "start_time": "2024-09-21T01:51:50.370Z"
   },
   {
    "duration": 41,
    "start_time": "2024-09-21T01:51:50.377Z"
   },
   {
    "duration": 211,
    "start_time": "2024-09-21T01:51:50.420Z"
   },
   {
    "duration": 201,
    "start_time": "2024-09-21T01:51:50.632Z"
   },
   {
    "duration": 345,
    "start_time": "2024-09-21T01:51:50.835Z"
   },
   {
    "duration": 270,
    "start_time": "2024-09-21T01:51:51.182Z"
   },
   {
    "duration": 5,
    "start_time": "2024-09-21T01:51:51.453Z"
   },
   {
    "duration": 6,
    "start_time": "2024-09-21T01:51:51.459Z"
   },
   {
    "duration": 15,
    "start_time": "2024-09-21T01:51:51.467Z"
   },
   {
    "duration": 41,
    "start_time": "2024-09-21T01:51:51.485Z"
   },
   {
    "duration": 11,
    "start_time": "2024-09-21T01:51:51.527Z"
   },
   {
    "duration": 197,
    "start_time": "2024-09-21T01:51:51.539Z"
   },
   {
    "duration": 638,
    "start_time": "2024-09-21T01:51:51.738Z"
   },
   {
    "duration": 10,
    "start_time": "2024-09-21T01:51:52.377Z"
   },
   {
    "duration": 20,
    "start_time": "2024-09-21T01:51:52.389Z"
   },
   {
    "duration": 10,
    "start_time": "2024-09-21T01:51:52.411Z"
   },
   {
    "duration": 2223,
    "start_time": "2024-09-21T01:51:52.422Z"
   },
   {
    "duration": 0,
    "start_time": "2024-09-21T01:51:54.647Z"
   },
   {
    "duration": 0,
    "start_time": "2024-09-21T01:51:54.648Z"
   },
   {
    "duration": 0,
    "start_time": "2024-09-21T01:51:54.649Z"
   },
   {
    "duration": 12247,
    "start_time": "2024-09-21T01:52:46.712Z"
   },
   {
    "duration": 47177,
    "start_time": "2024-09-21T01:52:58.961Z"
   },
   {
    "duration": 1390,
    "start_time": "2024-09-21T01:53:46.140Z"
   },
   {
    "duration": 30,
    "start_time": "2024-09-21T01:53:47.533Z"
   },
   {
    "duration": 5,
    "start_time": "2024-09-21T01:53:47.564Z"
   },
   {
    "duration": 50,
    "start_time": "2024-09-21T01:53:47.570Z"
   },
   {
    "duration": 225,
    "start_time": "2024-09-21T01:53:47.622Z"
   },
   {
    "duration": 195,
    "start_time": "2024-09-21T01:53:47.849Z"
   },
   {
    "duration": 369,
    "start_time": "2024-09-21T01:53:48.046Z"
   },
   {
    "duration": 279,
    "start_time": "2024-09-21T01:53:48.418Z"
   },
   {
    "duration": 4,
    "start_time": "2024-09-21T01:53:48.699Z"
   },
   {
    "duration": 18,
    "start_time": "2024-09-21T01:53:48.705Z"
   },
   {
    "duration": 5,
    "start_time": "2024-09-21T01:53:48.725Z"
   },
   {
    "duration": 5,
    "start_time": "2024-09-21T01:53:48.732Z"
   },
   {
    "duration": 4,
    "start_time": "2024-09-21T01:53:48.738Z"
   },
   {
    "duration": 212,
    "start_time": "2024-09-21T01:53:48.743Z"
   },
   {
    "duration": 609,
    "start_time": "2024-09-21T01:53:48.956Z"
   },
   {
    "duration": 13,
    "start_time": "2024-09-21T01:53:49.567Z"
   },
   {
    "duration": 23,
    "start_time": "2024-09-21T01:53:49.582Z"
   },
   {
    "duration": 7,
    "start_time": "2024-09-21T01:53:49.606Z"
   },
   {
    "duration": 2421,
    "start_time": "2024-09-21T01:53:49.615Z"
   },
   {
    "duration": 0,
    "start_time": "2024-09-21T01:53:52.038Z"
   },
   {
    "duration": 0,
    "start_time": "2024-09-21T01:53:52.039Z"
   },
   {
    "duration": 0,
    "start_time": "2024-09-21T01:53:52.040Z"
   },
   {
    "duration": 5701,
    "start_time": "2024-09-21T01:54:58.290Z"
   },
   {
    "duration": 1502,
    "start_time": "2024-09-21T01:55:03.993Z"
   },
   {
    "duration": 30,
    "start_time": "2024-09-21T01:55:05.497Z"
   },
   {
    "duration": 4,
    "start_time": "2024-09-21T01:55:05.528Z"
   },
   {
    "duration": 71,
    "start_time": "2024-09-21T01:55:05.534Z"
   },
   {
    "duration": 245,
    "start_time": "2024-09-21T01:55:05.607Z"
   },
   {
    "duration": 226,
    "start_time": "2024-09-21T01:55:05.854Z"
   },
   {
    "duration": 400,
    "start_time": "2024-09-21T01:55:06.081Z"
   },
   {
    "duration": 332,
    "start_time": "2024-09-21T01:55:06.482Z"
   },
   {
    "duration": 6,
    "start_time": "2024-09-21T01:55:06.816Z"
   },
   {
    "duration": 17,
    "start_time": "2024-09-21T01:55:06.824Z"
   },
   {
    "duration": 95,
    "start_time": "2024-09-21T01:55:06.843Z"
   },
   {
    "duration": 15,
    "start_time": "2024-09-21T01:55:06.940Z"
   },
   {
    "duration": 5,
    "start_time": "2024-09-21T01:55:06.958Z"
   },
   {
    "duration": 198,
    "start_time": "2024-09-21T01:55:06.965Z"
   },
   {
    "duration": 636,
    "start_time": "2024-09-21T01:55:07.165Z"
   },
   {
    "duration": 15,
    "start_time": "2024-09-21T01:55:07.803Z"
   },
   {
    "duration": 22,
    "start_time": "2024-09-21T01:55:07.821Z"
   },
   {
    "duration": 20,
    "start_time": "2024-09-21T01:55:07.844Z"
   },
   {
    "duration": 2438,
    "start_time": "2024-09-21T01:55:07.866Z"
   },
   {
    "duration": 0,
    "start_time": "2024-09-21T01:55:10.306Z"
   },
   {
    "duration": 0,
    "start_time": "2024-09-21T01:55:10.309Z"
   },
   {
    "duration": 0,
    "start_time": "2024-09-21T01:55:10.311Z"
   },
   {
    "duration": 5474,
    "start_time": "2024-09-21T01:58:04.599Z"
   },
   {
    "duration": 1465,
    "start_time": "2024-09-21T01:58:10.076Z"
   },
   {
    "duration": 29,
    "start_time": "2024-09-21T01:58:11.542Z"
   },
   {
    "duration": 4,
    "start_time": "2024-09-21T01:58:11.573Z"
   },
   {
    "duration": 44,
    "start_time": "2024-09-21T01:58:11.580Z"
   },
   {
    "duration": 237,
    "start_time": "2024-09-21T01:58:11.625Z"
   },
   {
    "duration": 211,
    "start_time": "2024-09-21T01:58:11.864Z"
   },
   {
    "duration": 394,
    "start_time": "2024-09-21T01:58:12.077Z"
   },
   {
    "duration": 275,
    "start_time": "2024-09-21T01:58:12.472Z"
   },
   {
    "duration": 5,
    "start_time": "2024-09-21T01:58:12.749Z"
   },
   {
    "duration": 5,
    "start_time": "2024-09-21T01:58:12.756Z"
   },
   {
    "duration": 6,
    "start_time": "2024-09-21T01:58:12.763Z"
   },
   {
    "duration": 31,
    "start_time": "2024-09-21T01:58:12.771Z"
   },
   {
    "duration": 19,
    "start_time": "2024-09-21T01:58:12.807Z"
   },
   {
    "duration": 210,
    "start_time": "2024-09-21T01:58:12.829Z"
   },
   {
    "duration": 638,
    "start_time": "2024-09-21T01:58:13.041Z"
   },
   {
    "duration": 19,
    "start_time": "2024-09-21T01:58:13.681Z"
   },
   {
    "duration": 11,
    "start_time": "2024-09-21T01:58:13.702Z"
   },
   {
    "duration": 6,
    "start_time": "2024-09-21T01:58:13.715Z"
   },
   {
    "duration": 2562,
    "start_time": "2024-09-21T01:58:13.723Z"
   },
   {
    "duration": 0,
    "start_time": "2024-09-21T01:58:16.287Z"
   },
   {
    "duration": 0,
    "start_time": "2024-09-21T01:58:16.288Z"
   },
   {
    "duration": 0,
    "start_time": "2024-09-21T01:58:16.289Z"
   },
   {
    "duration": 73240,
    "start_time": "2024-09-22T18:31:50.337Z"
   },
   {
    "duration": 2567,
    "start_time": "2024-09-22T18:33:03.579Z"
   },
   {
    "duration": 88,
    "start_time": "2024-09-22T18:33:06.147Z"
   },
   {
    "duration": 3477,
    "start_time": "2024-09-22T18:33:06.237Z"
   },
   {
    "duration": 2646,
    "start_time": "2024-09-22T18:33:09.717Z"
   },
   {
    "duration": 1196,
    "start_time": "2024-09-22T18:33:12.365Z"
   },
   {
    "duration": 1368,
    "start_time": "2024-09-22T18:33:13.562Z"
   },
   {
    "duration": 1039,
    "start_time": "2024-09-22T18:33:14.932Z"
   },
   {
    "duration": 544,
    "start_time": "2024-09-22T18:33:15.972Z"
   },
   {
    "duration": 481,
    "start_time": "2024-09-22T18:33:16.517Z"
   },
   {
    "duration": 555,
    "start_time": "2024-09-22T18:33:17.000Z"
   },
   {
    "duration": 437,
    "start_time": "2024-09-22T18:33:17.557Z"
   },
   {
    "duration": 391,
    "start_time": "2024-09-22T18:33:17.996Z"
   },
   {
    "duration": 297,
    "start_time": "2024-09-22T18:33:18.389Z"
   },
   {
    "duration": 626,
    "start_time": "2024-09-22T18:33:18.688Z"
   },
   {
    "duration": 1493,
    "start_time": "2024-09-22T18:33:19.315Z"
   },
   {
    "duration": 10,
    "start_time": "2024-09-22T18:33:20.809Z"
   },
   {
    "duration": 740,
    "start_time": "2024-09-22T18:33:20.821Z"
   },
   {
    "duration": 576,
    "start_time": "2024-09-22T18:33:21.562Z"
   },
   {
    "duration": 2911,
    "start_time": "2024-09-22T18:33:22.139Z"
   },
   {
    "duration": 0,
    "start_time": "2024-09-22T18:33:25.052Z"
   },
   {
    "duration": 0,
    "start_time": "2024-09-22T18:33:25.053Z"
   },
   {
    "duration": 0,
    "start_time": "2024-09-22T18:33:25.054Z"
   },
   {
    "duration": 8595,
    "start_time": "2024-09-22T18:36:40.620Z"
   },
   {
    "duration": 1315,
    "start_time": "2024-09-22T18:36:49.218Z"
   },
   {
    "duration": 31,
    "start_time": "2024-09-22T18:36:50.534Z"
   },
   {
    "duration": 4,
    "start_time": "2024-09-22T18:36:50.566Z"
   },
   {
    "duration": 38,
    "start_time": "2024-09-22T18:36:50.571Z"
   },
   {
    "duration": 198,
    "start_time": "2024-09-22T18:36:50.610Z"
   },
   {
    "duration": 182,
    "start_time": "2024-09-22T18:36:50.809Z"
   },
   {
    "duration": 334,
    "start_time": "2024-09-22T18:36:50.993Z"
   },
   {
    "duration": 245,
    "start_time": "2024-09-22T18:36:51.328Z"
   },
   {
    "duration": 4,
    "start_time": "2024-09-22T18:36:51.576Z"
   },
   {
    "duration": 78,
    "start_time": "2024-09-22T18:36:51.581Z"
   },
   {
    "duration": 6,
    "start_time": "2024-09-22T18:36:51.660Z"
   },
   {
    "duration": 5,
    "start_time": "2024-09-22T18:36:51.667Z"
   },
   {
    "duration": 4,
    "start_time": "2024-09-22T18:36:51.674Z"
   },
   {
    "duration": 237,
    "start_time": "2024-09-22T18:36:51.679Z"
   },
   {
    "duration": 546,
    "start_time": "2024-09-22T18:36:51.918Z"
   },
   {
    "duration": 9,
    "start_time": "2024-09-22T18:36:52.465Z"
   },
   {
    "duration": 19,
    "start_time": "2024-09-22T18:36:52.475Z"
   },
   {
    "duration": 5,
    "start_time": "2024-09-22T18:36:52.495Z"
   },
   {
    "duration": 2018,
    "start_time": "2024-09-22T18:36:52.501Z"
   },
   {
    "duration": 7902,
    "start_time": "2024-09-22T18:36:54.521Z"
   },
   {
    "duration": 460,
    "start_time": "2024-09-22T18:37:02.425Z"
   },
   {
    "duration": 446,
    "start_time": "2024-09-22T18:37:02.889Z"
   },
   {
    "duration": 4854,
    "start_time": "2024-09-22T18:42:46.094Z"
   },
   {
    "duration": 3032,
    "start_time": "2024-09-22T18:42:50.950Z"
   },
   {
    "duration": 30,
    "start_time": "2024-09-22T18:42:53.983Z"
   },
   {
    "duration": 4,
    "start_time": "2024-09-22T18:42:54.015Z"
   },
   {
    "duration": 39,
    "start_time": "2024-09-22T18:42:54.020Z"
   },
   {
    "duration": 184,
    "start_time": "2024-09-22T18:42:54.060Z"
   },
   {
    "duration": 180,
    "start_time": "2024-09-22T18:42:54.245Z"
   },
   {
    "duration": 476,
    "start_time": "2024-09-22T18:42:54.426Z"
   },
   {
    "duration": 177,
    "start_time": "2024-09-22T18:42:54.904Z"
   },
   {
    "duration": 5,
    "start_time": "2024-09-22T18:42:55.089Z"
   },
   {
    "duration": 4,
    "start_time": "2024-09-22T18:42:55.095Z"
   },
   {
    "duration": 11,
    "start_time": "2024-09-22T18:42:55.100Z"
   },
   {
    "duration": 4,
    "start_time": "2024-09-22T18:42:55.112Z"
   },
   {
    "duration": 4,
    "start_time": "2024-09-22T18:42:55.117Z"
   },
   {
    "duration": 188,
    "start_time": "2024-09-22T18:42:55.122Z"
   },
   {
    "duration": 537,
    "start_time": "2024-09-22T18:42:55.311Z"
   },
   {
    "duration": 9,
    "start_time": "2024-09-22T18:42:55.850Z"
   },
   {
    "duration": 10,
    "start_time": "2024-09-22T18:42:55.860Z"
   },
   {
    "duration": 5,
    "start_time": "2024-09-22T18:42:55.872Z"
   },
   {
    "duration": 5,
    "start_time": "2024-09-22T18:42:55.890Z"
   },
   {
    "duration": 158,
    "start_time": "2024-09-22T18:42:55.896Z"
   },
   {
    "duration": 7936,
    "start_time": "2024-09-22T18:42:56.055Z"
   },
   {
    "duration": 260,
    "start_time": "2024-09-22T18:43:03.993Z"
   },
   {
    "duration": 396,
    "start_time": "2024-09-22T18:43:04.255Z"
   },
   {
    "duration": 269,
    "start_time": "2024-09-22T18:50:24.816Z"
   },
   {
    "duration": 90,
    "start_time": "2024-09-22T18:51:13.989Z"
   },
   {
    "duration": 4786,
    "start_time": "2024-09-22T18:51:27.612Z"
   },
   {
    "duration": 3140,
    "start_time": "2024-09-22T18:51:32.400Z"
   },
   {
    "duration": 30,
    "start_time": "2024-09-22T18:51:35.542Z"
   },
   {
    "duration": 4,
    "start_time": "2024-09-22T18:51:35.573Z"
   },
   {
    "duration": 58,
    "start_time": "2024-09-22T18:51:35.579Z"
   },
   {
    "duration": 207,
    "start_time": "2024-09-22T18:51:35.639Z"
   },
   {
    "duration": 188,
    "start_time": "2024-09-22T18:51:35.848Z"
   },
   {
    "duration": 484,
    "start_time": "2024-09-22T18:51:36.038Z"
   },
   {
    "duration": 178,
    "start_time": "2024-09-22T18:51:36.524Z"
   },
   {
    "duration": 6,
    "start_time": "2024-09-22T18:51:36.703Z"
   },
   {
    "duration": 21,
    "start_time": "2024-09-22T18:51:36.710Z"
   },
   {
    "duration": 6,
    "start_time": "2024-09-22T18:51:36.732Z"
   },
   {
    "duration": 5,
    "start_time": "2024-09-22T18:51:36.739Z"
   },
   {
    "duration": 11,
    "start_time": "2024-09-22T18:51:36.746Z"
   },
   {
    "duration": 184,
    "start_time": "2024-09-22T18:51:36.758Z"
   },
   {
    "duration": 595,
    "start_time": "2024-09-22T18:51:36.943Z"
   },
   {
    "duration": 10,
    "start_time": "2024-09-22T18:51:37.540Z"
   },
   {
    "duration": 15,
    "start_time": "2024-09-22T18:51:37.551Z"
   },
   {
    "duration": 5,
    "start_time": "2024-09-22T18:51:37.568Z"
   },
   {
    "duration": 4,
    "start_time": "2024-09-22T18:51:37.574Z"
   },
   {
    "duration": 149,
    "start_time": "2024-09-22T18:51:37.590Z"
   },
   {
    "duration": 7857,
    "start_time": "2024-09-22T18:51:37.741Z"
   },
   {
    "duration": 274,
    "start_time": "2024-09-22T18:51:45.600Z"
   },
   {
    "duration": 395,
    "start_time": "2024-09-22T18:51:45.875Z"
   },
   {
    "duration": 243,
    "start_time": "2024-09-22T18:51:46.272Z"
   },
   {
    "duration": 91,
    "start_time": "2024-09-22T18:51:51.446Z"
   },
   {
    "duration": 4829,
    "start_time": "2024-09-22T18:52:00.194Z"
   },
   {
    "duration": 3077,
    "start_time": "2024-09-22T18:52:05.025Z"
   },
   {
    "duration": 31,
    "start_time": "2024-09-22T18:52:08.104Z"
   },
   {
    "duration": 5,
    "start_time": "2024-09-22T18:52:08.137Z"
   },
   {
    "duration": 40,
    "start_time": "2024-09-22T18:52:08.143Z"
   },
   {
    "duration": 193,
    "start_time": "2024-09-22T18:52:08.184Z"
   },
   {
    "duration": 174,
    "start_time": "2024-09-22T18:52:08.378Z"
   },
   {
    "duration": 482,
    "start_time": "2024-09-22T18:52:08.553Z"
   },
   {
    "duration": 169,
    "start_time": "2024-09-22T18:52:09.037Z"
   },
   {
    "duration": 5,
    "start_time": "2024-09-22T18:52:09.208Z"
   },
   {
    "duration": 8,
    "start_time": "2024-09-22T18:52:09.214Z"
   },
   {
    "duration": 18,
    "start_time": "2024-09-22T18:52:09.223Z"
   },
   {
    "duration": 3,
    "start_time": "2024-09-22T18:52:09.243Z"
   },
   {
    "duration": 3,
    "start_time": "2024-09-22T18:52:09.248Z"
   },
   {
    "duration": 191,
    "start_time": "2024-09-22T18:52:09.253Z"
   },
   {
    "duration": 591,
    "start_time": "2024-09-22T18:52:09.446Z"
   },
   {
    "duration": 11,
    "start_time": "2024-09-22T18:52:10.039Z"
   },
   {
    "duration": 17,
    "start_time": "2024-09-22T18:52:10.052Z"
   },
   {
    "duration": 5,
    "start_time": "2024-09-22T18:52:10.071Z"
   },
   {
    "duration": 2,
    "start_time": "2024-09-22T18:52:10.089Z"
   },
   {
    "duration": 184,
    "start_time": "2024-09-22T18:52:10.093Z"
   },
   {
    "duration": 7841,
    "start_time": "2024-09-22T18:52:10.291Z"
   },
   {
    "duration": 277,
    "start_time": "2024-09-22T18:52:18.133Z"
   },
   {
    "duration": 383,
    "start_time": "2024-09-22T18:52:18.411Z"
   },
   {
    "duration": 316,
    "start_time": "2024-09-22T18:52:18.796Z"
   },
   {
    "duration": 93,
    "start_time": "2024-09-22T18:53:17.174Z"
   },
   {
    "duration": 4849,
    "start_time": "2024-09-22T18:57:02.123Z"
   },
   {
    "duration": 3144,
    "start_time": "2024-09-22T18:57:06.975Z"
   },
   {
    "duration": 31,
    "start_time": "2024-09-22T18:57:10.121Z"
   },
   {
    "duration": 5,
    "start_time": "2024-09-22T18:57:10.153Z"
   },
   {
    "duration": 51,
    "start_time": "2024-09-22T18:57:10.159Z"
   },
   {
    "duration": 219,
    "start_time": "2024-09-22T18:57:10.212Z"
   },
   {
    "duration": 174,
    "start_time": "2024-09-22T18:57:10.433Z"
   },
   {
    "duration": 488,
    "start_time": "2024-09-22T18:57:10.608Z"
   },
   {
    "duration": 186,
    "start_time": "2024-09-22T18:57:11.098Z"
   },
   {
    "duration": 5,
    "start_time": "2024-09-22T18:57:11.289Z"
   },
   {
    "duration": 4,
    "start_time": "2024-09-22T18:57:11.296Z"
   },
   {
    "duration": 6,
    "start_time": "2024-09-22T18:57:11.302Z"
   },
   {
    "duration": 13,
    "start_time": "2024-09-22T18:57:11.309Z"
   },
   {
    "duration": 2,
    "start_time": "2024-09-22T18:57:11.325Z"
   },
   {
    "duration": 191,
    "start_time": "2024-09-22T18:57:11.329Z"
   },
   {
    "duration": 550,
    "start_time": "2024-09-22T18:57:11.522Z"
   },
   {
    "duration": 9,
    "start_time": "2024-09-22T18:57:12.073Z"
   },
   {
    "duration": 13,
    "start_time": "2024-09-22T18:57:12.090Z"
   },
   {
    "duration": 6,
    "start_time": "2024-09-22T18:57:12.104Z"
   },
   {
    "duration": 3,
    "start_time": "2024-09-22T18:57:12.112Z"
   },
   {
    "duration": 140,
    "start_time": "2024-09-22T18:57:12.116Z"
   },
   {
    "duration": 7780,
    "start_time": "2024-09-22T18:57:12.257Z"
   },
   {
    "duration": 316,
    "start_time": "2024-09-22T18:57:20.038Z"
   },
   {
    "duration": 386,
    "start_time": "2024-09-22T18:57:20.356Z"
   },
   {
    "duration": 248,
    "start_time": "2024-09-22T18:57:20.744Z"
   },
   {
    "duration": 4756,
    "start_time": "2024-09-22T18:58:08.265Z"
   },
   {
    "duration": 3035,
    "start_time": "2024-09-22T18:58:13.024Z"
   },
   {
    "duration": 31,
    "start_time": "2024-09-22T18:58:16.060Z"
   },
   {
    "duration": 4,
    "start_time": "2024-09-22T18:58:16.093Z"
   },
   {
    "duration": 44,
    "start_time": "2024-09-22T18:58:16.098Z"
   },
   {
    "duration": 211,
    "start_time": "2024-09-22T18:58:16.143Z"
   },
   {
    "duration": 178,
    "start_time": "2024-09-22T18:58:16.355Z"
   },
   {
    "duration": 491,
    "start_time": "2024-09-22T18:58:16.534Z"
   },
   {
    "duration": 175,
    "start_time": "2024-09-22T18:58:17.027Z"
   },
   {
    "duration": 4,
    "start_time": "2024-09-22T18:58:17.204Z"
   },
   {
    "duration": 10,
    "start_time": "2024-09-22T18:58:17.210Z"
   },
   {
    "duration": 5,
    "start_time": "2024-09-22T18:58:17.221Z"
   },
   {
    "duration": 6,
    "start_time": "2024-09-22T18:58:17.228Z"
   },
   {
    "duration": 6,
    "start_time": "2024-09-22T18:58:17.235Z"
   },
   {
    "duration": 202,
    "start_time": "2024-09-22T18:58:17.242Z"
   },
   {
    "duration": 580,
    "start_time": "2024-09-22T18:58:17.446Z"
   },
   {
    "duration": 10,
    "start_time": "2024-09-22T18:58:18.027Z"
   },
   {
    "duration": 9,
    "start_time": "2024-09-22T18:58:18.038Z"
   },
   {
    "duration": 5,
    "start_time": "2024-09-22T18:58:18.049Z"
   },
   {
    "duration": 7,
    "start_time": "2024-09-22T18:58:18.056Z"
   },
   {
    "duration": 168,
    "start_time": "2024-09-22T18:58:18.064Z"
   },
   {
    "duration": 7867,
    "start_time": "2024-09-22T18:58:18.234Z"
   },
   {
    "duration": 289,
    "start_time": "2024-09-22T18:58:26.103Z"
   },
   {
    "duration": 405,
    "start_time": "2024-09-22T18:58:26.394Z"
   },
   {
    "duration": 249,
    "start_time": "2024-09-22T18:58:26.801Z"
   },
   {
    "duration": 74,
    "start_time": "2024-09-22T18:59:24.598Z"
   },
   {
    "duration": 72,
    "start_time": "2024-09-22T19:00:04.734Z"
   },
   {
    "duration": 563,
    "start_time": "2024-09-22T19:00:40.352Z"
   },
   {
    "duration": 573,
    "start_time": "2024-09-22T19:04:05.858Z"
   },
   {
    "duration": 4839,
    "start_time": "2024-09-22T19:08:38.919Z"
   },
   {
    "duration": 3125,
    "start_time": "2024-09-22T19:08:43.760Z"
   },
   {
    "duration": 30,
    "start_time": "2024-09-22T19:08:46.889Z"
   },
   {
    "duration": 4,
    "start_time": "2024-09-22T19:08:46.921Z"
   },
   {
    "duration": 37,
    "start_time": "2024-09-22T19:08:46.926Z"
   },
   {
    "duration": 183,
    "start_time": "2024-09-22T19:08:46.965Z"
   },
   {
    "duration": 179,
    "start_time": "2024-09-22T19:08:47.150Z"
   },
   {
    "duration": 486,
    "start_time": "2024-09-22T19:08:47.330Z"
   },
   {
    "duration": 180,
    "start_time": "2024-09-22T19:08:47.818Z"
   },
   {
    "duration": 4,
    "start_time": "2024-09-22T19:08:48.000Z"
   },
   {
    "duration": 12,
    "start_time": "2024-09-22T19:08:48.006Z"
   },
   {
    "duration": 4,
    "start_time": "2024-09-22T19:08:48.020Z"
   },
   {
    "duration": 7,
    "start_time": "2024-09-22T19:08:48.026Z"
   },
   {
    "duration": 8,
    "start_time": "2024-09-22T19:08:48.034Z"
   },
   {
    "duration": 197,
    "start_time": "2024-09-22T19:08:48.043Z"
   },
   {
    "duration": 593,
    "start_time": "2024-09-22T19:08:48.242Z"
   },
   {
    "duration": 10,
    "start_time": "2024-09-22T19:08:48.837Z"
   },
   {
    "duration": 9,
    "start_time": "2024-09-22T19:08:48.849Z"
   },
   {
    "duration": 9,
    "start_time": "2024-09-22T19:08:48.859Z"
   },
   {
    "duration": 21,
    "start_time": "2024-09-22T19:08:48.869Z"
   },
   {
    "duration": 143,
    "start_time": "2024-09-22T19:08:48.891Z"
   },
   {
    "duration": 7764,
    "start_time": "2024-09-22T19:08:49.035Z"
   },
   {
    "duration": 266,
    "start_time": "2024-09-22T19:08:56.800Z"
   },
   {
    "duration": 387,
    "start_time": "2024-09-22T19:08:57.067Z"
   },
   {
    "duration": 548,
    "start_time": "2024-09-22T19:08:57.456Z"
   },
   {
    "duration": 4876,
    "start_time": "2024-09-22T19:10:36.648Z"
   },
   {
    "duration": 3110,
    "start_time": "2024-09-22T19:10:41.526Z"
   },
   {
    "duration": 31,
    "start_time": "2024-09-22T19:10:44.638Z"
   },
   {
    "duration": 4,
    "start_time": "2024-09-22T19:10:44.670Z"
   },
   {
    "duration": 39,
    "start_time": "2024-09-22T19:10:44.676Z"
   },
   {
    "duration": 195,
    "start_time": "2024-09-22T19:10:44.717Z"
   },
   {
    "duration": 183,
    "start_time": "2024-09-22T19:10:44.913Z"
   },
   {
    "duration": 486,
    "start_time": "2024-09-22T19:10:45.098Z"
   },
   {
    "duration": 177,
    "start_time": "2024-09-22T19:10:45.590Z"
   },
   {
    "duration": 4,
    "start_time": "2024-09-22T19:10:45.770Z"
   },
   {
    "duration": 17,
    "start_time": "2024-09-22T19:10:45.776Z"
   },
   {
    "duration": 6,
    "start_time": "2024-09-22T19:10:45.794Z"
   },
   {
    "duration": 5,
    "start_time": "2024-09-22T19:10:45.802Z"
   },
   {
    "duration": 13,
    "start_time": "2024-09-22T19:10:45.808Z"
   },
   {
    "duration": 192,
    "start_time": "2024-09-22T19:10:45.823Z"
   },
   {
    "duration": 547,
    "start_time": "2024-09-22T19:10:46.017Z"
   },
   {
    "duration": 10,
    "start_time": "2024-09-22T19:10:46.566Z"
   },
   {
    "duration": 17,
    "start_time": "2024-09-22T19:10:46.578Z"
   },
   {
    "duration": 5,
    "start_time": "2024-09-22T19:10:46.597Z"
   },
   {
    "duration": 2,
    "start_time": "2024-09-22T19:10:46.604Z"
   },
   {
    "duration": 153,
    "start_time": "2024-09-22T19:10:46.608Z"
   },
   {
    "duration": 7876,
    "start_time": "2024-09-22T19:10:46.763Z"
   },
   {
    "duration": 278,
    "start_time": "2024-09-22T19:10:54.640Z"
   },
   {
    "duration": 394,
    "start_time": "2024-09-22T19:10:54.920Z"
   },
   {
    "duration": 554,
    "start_time": "2024-09-22T19:10:55.316Z"
   },
   {
    "duration": 4,
    "start_time": "2024-09-22T19:10:55.872Z"
   },
   {
    "duration": 316,
    "start_time": "2024-09-22T19:10:55.877Z"
   },
   {
    "duration": 0,
    "start_time": "2024-09-22T19:10:56.195Z"
   },
   {
    "duration": 0,
    "start_time": "2024-09-22T19:10:56.196Z"
   },
   {
    "duration": 0,
    "start_time": "2024-09-22T19:10:56.197Z"
   },
   {
    "duration": 4791,
    "start_time": "2024-09-22T19:12:15.673Z"
   },
   {
    "duration": 3225,
    "start_time": "2024-09-22T19:12:20.466Z"
   },
   {
    "duration": 31,
    "start_time": "2024-09-22T19:12:23.692Z"
   },
   {
    "duration": 8,
    "start_time": "2024-09-22T19:12:23.724Z"
   },
   {
    "duration": 39,
    "start_time": "2024-09-22T19:12:23.734Z"
   },
   {
    "duration": 190,
    "start_time": "2024-09-22T19:12:23.775Z"
   },
   {
    "duration": 174,
    "start_time": "2024-09-22T19:12:23.967Z"
   },
   {
    "duration": 481,
    "start_time": "2024-09-22T19:12:24.143Z"
   },
   {
    "duration": 167,
    "start_time": "2024-09-22T19:12:24.625Z"
   },
   {
    "duration": 4,
    "start_time": "2024-09-22T19:12:24.793Z"
   },
   {
    "duration": 5,
    "start_time": "2024-09-22T19:12:24.799Z"
   },
   {
    "duration": 11,
    "start_time": "2024-09-22T19:12:24.806Z"
   },
   {
    "duration": 18,
    "start_time": "2024-09-22T19:12:24.818Z"
   },
   {
    "duration": 4,
    "start_time": "2024-09-22T19:12:24.839Z"
   },
   {
    "duration": 191,
    "start_time": "2024-09-22T19:12:24.845Z"
   },
   {
    "duration": 593,
    "start_time": "2024-09-22T19:12:25.038Z"
   },
   {
    "duration": 10,
    "start_time": "2024-09-22T19:12:25.632Z"
   },
   {
    "duration": 29,
    "start_time": "2024-09-22T19:12:25.643Z"
   },
   {
    "duration": 6,
    "start_time": "2024-09-22T19:12:25.673Z"
   },
   {
    "duration": 152,
    "start_time": "2024-09-22T19:12:25.680Z"
   },
   {
    "duration": 7974,
    "start_time": "2024-09-22T19:12:25.834Z"
   },
   {
    "duration": 268,
    "start_time": "2024-09-22T19:12:33.810Z"
   },
   {
    "duration": 392,
    "start_time": "2024-09-22T19:12:34.079Z"
   },
   {
    "duration": 553,
    "start_time": "2024-09-22T19:12:34.473Z"
   },
   {
    "duration": 4,
    "start_time": "2024-09-22T19:12:35.028Z"
   },
   {
    "duration": 67035,
    "start_time": "2024-09-22T19:12:35.033Z"
   },
   {
    "duration": 66596,
    "start_time": "2024-09-22T19:13:42.069Z"
   },
   {
    "duration": 24,
    "start_time": "2024-09-22T19:14:48.667Z"
   },
   {
    "duration": 175,
    "start_time": "2024-09-22T19:14:48.693Z"
   },
   {
    "duration": 4742,
    "start_time": "2024-09-22T19:22:37.665Z"
   },
   {
    "duration": 3113,
    "start_time": "2024-09-22T19:22:42.409Z"
   },
   {
    "duration": 31,
    "start_time": "2024-09-22T19:22:45.526Z"
   },
   {
    "duration": 4,
    "start_time": "2024-09-22T19:22:45.558Z"
   },
   {
    "duration": 43,
    "start_time": "2024-09-22T19:22:45.564Z"
   },
   {
    "duration": 197,
    "start_time": "2024-09-22T19:22:45.609Z"
   },
   {
    "duration": 178,
    "start_time": "2024-09-22T19:22:45.808Z"
   },
   {
    "duration": 477,
    "start_time": "2024-09-22T19:22:45.989Z"
   },
   {
    "duration": 167,
    "start_time": "2024-09-22T19:22:46.468Z"
   },
   {
    "duration": 4,
    "start_time": "2024-09-22T19:22:46.637Z"
   },
   {
    "duration": 6,
    "start_time": "2024-09-22T19:22:46.642Z"
   },
   {
    "duration": 5,
    "start_time": "2024-09-22T19:22:46.650Z"
   },
   {
    "duration": 6,
    "start_time": "2024-09-22T19:22:46.657Z"
   },
   {
    "duration": 26,
    "start_time": "2024-09-22T19:22:46.664Z"
   },
   {
    "duration": 185,
    "start_time": "2024-09-22T19:22:46.691Z"
   },
   {
    "duration": 568,
    "start_time": "2024-09-22T19:22:46.878Z"
   },
   {
    "duration": 10,
    "start_time": "2024-09-22T19:22:47.447Z"
   },
   {
    "duration": 9,
    "start_time": "2024-09-22T19:22:47.458Z"
   },
   {
    "duration": 5,
    "start_time": "2024-09-22T19:22:47.468Z"
   },
   {
    "duration": 142,
    "start_time": "2024-09-22T19:22:47.489Z"
   },
   {
    "duration": 7889,
    "start_time": "2024-09-22T19:22:47.632Z"
   },
   {
    "duration": 276,
    "start_time": "2024-09-22T19:22:55.523Z"
   },
   {
    "duration": 378,
    "start_time": "2024-09-22T19:22:55.801Z"
   },
   {
    "duration": 555,
    "start_time": "2024-09-22T19:22:56.181Z"
   },
   {
    "duration": 5,
    "start_time": "2024-09-22T19:22:56.737Z"
   },
   {
    "duration": 5903,
    "start_time": "2024-09-22T19:22:56.743Z"
   },
   {
    "duration": 0,
    "start_time": "2024-09-22T19:23:02.648Z"
   },
   {
    "duration": 0,
    "start_time": "2024-09-22T19:23:02.649Z"
   },
   {
    "duration": 0,
    "start_time": "2024-09-22T19:23:02.650Z"
   },
   {
    "duration": 4,
    "start_time": "2024-09-22T19:25:55.964Z"
   },
   {
    "duration": 4812,
    "start_time": "2024-09-22T19:26:08.463Z"
   },
   {
    "duration": 3124,
    "start_time": "2024-09-22T19:26:13.277Z"
   },
   {
    "duration": 30,
    "start_time": "2024-09-22T19:26:16.403Z"
   },
   {
    "duration": 4,
    "start_time": "2024-09-22T19:26:16.435Z"
   },
   {
    "duration": 44,
    "start_time": "2024-09-22T19:26:16.440Z"
   },
   {
    "duration": 184,
    "start_time": "2024-09-22T19:26:16.485Z"
   },
   {
    "duration": 183,
    "start_time": "2024-09-22T19:26:16.671Z"
   },
   {
    "duration": 495,
    "start_time": "2024-09-22T19:26:16.855Z"
   },
   {
    "duration": 177,
    "start_time": "2024-09-22T19:26:17.351Z"
   },
   {
    "duration": 4,
    "start_time": "2024-09-22T19:26:17.530Z"
   },
   {
    "duration": 13,
    "start_time": "2024-09-22T19:26:17.535Z"
   },
   {
    "duration": 5,
    "start_time": "2024-09-22T19:26:17.549Z"
   },
   {
    "duration": 4,
    "start_time": "2024-09-22T19:26:17.556Z"
   },
   {
    "duration": 5,
    "start_time": "2024-09-22T19:26:17.561Z"
   },
   {
    "duration": 187,
    "start_time": "2024-09-22T19:26:17.568Z"
   },
   {
    "duration": 579,
    "start_time": "2024-09-22T19:26:17.757Z"
   },
   {
    "duration": 9,
    "start_time": "2024-09-22T19:26:18.338Z"
   },
   {
    "duration": 7,
    "start_time": "2024-09-22T19:26:18.349Z"
   },
   {
    "duration": 6,
    "start_time": "2024-09-22T19:26:18.357Z"
   },
   {
    "duration": 157,
    "start_time": "2024-09-22T19:26:18.364Z"
   },
   {
    "duration": 7798,
    "start_time": "2024-09-22T19:26:18.522Z"
   },
   {
    "duration": 268,
    "start_time": "2024-09-22T19:26:26.322Z"
   },
   {
    "duration": 399,
    "start_time": "2024-09-22T19:26:26.591Z"
   },
   {
    "duration": 570,
    "start_time": "2024-09-22T19:26:26.993Z"
   },
   {
    "duration": 6,
    "start_time": "2024-09-22T19:26:27.565Z"
   },
   {
    "duration": 67020,
    "start_time": "2024-09-22T19:26:27.572Z"
   },
   {
    "duration": 66726,
    "start_time": "2024-09-22T19:27:34.594Z"
   },
   {
    "duration": 11,
    "start_time": "2024-09-22T19:28:41.324Z"
   },
   {
    "duration": 188,
    "start_time": "2024-09-22T19:28:41.337Z"
   },
   {
    "duration": 72164,
    "start_time": "2024-09-23T16:51:00.271Z"
   },
   {
    "duration": 5782,
    "start_time": "2024-09-23T16:52:12.437Z"
   },
   {
    "duration": 77,
    "start_time": "2024-09-23T16:52:18.224Z"
   },
   {
    "duration": 3353,
    "start_time": "2024-09-23T16:52:18.303Z"
   },
   {
    "duration": 124,
    "start_time": "2024-09-23T16:52:21.658Z"
   },
   {
    "duration": 207,
    "start_time": "2024-09-23T16:52:21.784Z"
   },
   {
    "duration": 183,
    "start_time": "2024-09-23T16:52:21.993Z"
   },
   {
    "duration": 518,
    "start_time": "2024-09-23T16:52:22.178Z"
   },
   {
    "duration": 183,
    "start_time": "2024-09-23T16:52:22.699Z"
   },
   {
    "duration": 4,
    "start_time": "2024-09-23T16:52:22.884Z"
   },
   {
    "duration": 42,
    "start_time": "2024-09-23T16:52:22.890Z"
   },
   {
    "duration": 12,
    "start_time": "2024-09-23T16:52:22.934Z"
   },
   {
    "duration": 5,
    "start_time": "2024-09-23T16:52:22.947Z"
   },
   {
    "duration": 5,
    "start_time": "2024-09-23T16:52:22.953Z"
   },
   {
    "duration": 220,
    "start_time": "2024-09-23T16:52:22.959Z"
   },
   {
    "duration": 635,
    "start_time": "2024-09-23T16:52:23.180Z"
   },
   {
    "duration": 11,
    "start_time": "2024-09-23T16:52:23.816Z"
   },
   {
    "duration": 13,
    "start_time": "2024-09-23T16:52:23.829Z"
   },
   {
    "duration": 7,
    "start_time": "2024-09-23T16:52:23.844Z"
   },
   {
    "duration": 167,
    "start_time": "2024-09-23T16:52:23.864Z"
   },
   {
    "duration": 8742,
    "start_time": "2024-09-23T16:52:24.032Z"
   },
   {
    "duration": 303,
    "start_time": "2024-09-23T16:52:32.776Z"
   },
   {
    "duration": 391,
    "start_time": "2024-09-23T16:52:33.081Z"
   },
   {
    "duration": 593,
    "start_time": "2024-09-23T16:52:33.473Z"
   },
   {
    "duration": 5,
    "start_time": "2024-09-23T16:52:34.068Z"
   }
  ],
  "kernelspec": {
   "display_name": "Python 3 (ipykernel)",
   "language": "python",
   "name": "python3"
  },
  "language_info": {
   "codemirror_mode": {
    "name": "ipython",
    "version": 3
   },
   "file_extension": ".py",
   "mimetype": "text/x-python",
   "name": "python",
   "nbconvert_exporter": "python",
   "pygments_lexer": "ipython3",
   "version": "3.9.5"
  },
  "toc": {
   "base_numbering": 1,
   "nav_menu": {},
   "number_sections": false,
   "sideBar": true,
   "skip_h1_title": false,
   "title_cell": "Table of Contents",
   "title_sidebar": "Contents",
   "toc_cell": false,
   "toc_position": {},
   "toc_section_display": true,
   "toc_window_display": false
  },
  "varInspector": {
   "cols": {
    "lenName": 16,
    "lenType": 16,
    "lenVar": 40
   },
   "kernels_config": {
    "python": {
     "delete_cmd_postfix": "",
     "delete_cmd_prefix": "del ",
     "library": "var_list.py",
     "varRefreshCmd": "print(var_dic_list())"
    },
    "r": {
     "delete_cmd_postfix": ") ",
     "delete_cmd_prefix": "rm(",
     "library": "var_list.r",
     "varRefreshCmd": "cat(var_dic_list()) "
    }
   },
   "types_to_exclude": [
    "module",
    "function",
    "builtin_function_or_method",
    "instance",
    "_Feature"
   ],
   "window_display": false
  }
 },
 "nbformat": 4,
 "nbformat_minor": 5
}
