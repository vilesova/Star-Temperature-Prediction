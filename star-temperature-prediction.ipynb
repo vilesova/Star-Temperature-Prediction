{
 "cells": [
  {
   "cell_type": "markdown",
   "id": "corresponding-armstrong",
   "metadata": {
    "ExecuteTime": {
     "end_time": "2022-05-05T04:58:05.692448Z",
     "start_time": "2022-05-05T04:58:05.688565Z"
    }
   },
   "source": [
    "## Загрузка данных"
   ]
  },
  {
   "cell_type": "markdown",
   "id": "1ee40010",
   "metadata": {},
   "source": [
    "Устанавливаем нужные библиотеки:"
   ]
  },
  {
   "cell_type": "code",
   "execution_count": 1,
   "id": "33af2e59",
   "metadata": {},
   "outputs": [
    {
     "name": "stdout",
     "output_type": "stream",
     "text": [
      "\u001b[33mWARNING: Ignoring invalid distribution -ensorboard-data-server (/opt/conda/lib/python3.9/site-packages)\u001b[0m\n",
      "\u001b[33mWARNING: Ignoring invalid distribution -ensorboard-data-server (/opt/conda/lib/python3.9/site-packages)\u001b[0m\n",
      "\u001b[33mWARNING: Ignoring invalid distribution -ensorboard-data-server (/opt/conda/lib/python3.9/site-packages)\u001b[0m\n",
      "\u001b[33mWARNING: Ignoring invalid distribution -ensorboard-data-server (/opt/conda/lib/python3.9/site-packages)\u001b[0m\n",
      "\u001b[33mWARNING: Ignoring invalid distribution -ensorboard-data-server (/opt/conda/lib/python3.9/site-packages)\u001b[0m\n",
      "\u001b[33mWARNING: Ignoring invalid distribution -ensorboard-data-server (/opt/conda/lib/python3.9/site-packages)\u001b[0m\n",
      "\u001b[33mWARNING: Ignoring invalid distribution -ensorboard-data-server (/opt/conda/lib/python3.9/site-packages)\u001b[0m\n",
      "\u001b[33mWARNING: Ignoring invalid distribution -ensorboard-data-server (/opt/conda/lib/python3.9/site-packages)\u001b[0m\n",
      "\u001b[33mWARNING: Ignoring invalid distribution -ensorboard-data-server (/opt/conda/lib/python3.9/site-packages)\u001b[0m\n",
      "\u001b[33mWARNING: Ignoring invalid distribution -ensorboard-data-server (/opt/conda/lib/python3.9/site-packages)\u001b[0m\n",
      "\u001b[33mWARNING: Ignoring invalid distribution -ensorboard-data-server (/opt/conda/lib/python3.9/site-packages)\u001b[0m\n",
      "\u001b[33mWARNING: Ignoring invalid distribution -ensorboard-data-server (/opt/conda/lib/python3.9/site-packages)\u001b[0m\n"
     ]
    }
   ],
   "source": [
    "!pip install phik -q\n",
    "!pip install tensorflow -q"
   ]
  },
  {
   "cell_type": "markdown",
   "id": "dd2fb90f",
   "metadata": {},
   "source": [
    "Импортируем необходимые библиотеки для работы с файлами, данными, построением графиков и визуализацией:"
   ]
  },
  {
   "cell_type": "code",
   "execution_count": 2,
   "id": "d874ca21",
   "metadata": {},
   "outputs": [],
   "source": [
    "import os\n",
    "import pandas as pd\n",
    "import matplotlib.pyplot as plt\n",
    "import seaborn as sns\n",
    "from phik import phik_matrix\n",
    "import matplotlib.colors as mcolors\n",
    "from sklearn.model_selection import train_test_split\n",
    "from sklearn.preprocessing import StandardScaler, OneHotEncoder"
   ]
  },
  {
   "cell_type": "markdown",
   "id": "e1499093",
   "metadata": {},
   "source": [
    "Создаем функцию, которая принимает путь к файлу и загружает данные в DataFrame, и выполняем её:"
   ]
  },
  {
   "cell_type": "code",
   "execution_count": 3,
   "id": "spectacular-folder",
   "metadata": {},
   "outputs": [
    {
     "name": "stdout",
     "output_type": "stream",
     "text": [
      "Данные из файла '/datasets/6_class.csv' успешно загружены.\n"
     ]
    }
   ],
   "source": [
    "def load_data(file_path, delimiter=','):\n",
    "    # Проверка существования файла по указанному пути\n",
    "    if os.path.exists(file_path):\n",
    "        # Загрузка данных из файла в датафрейм с использованием указанного разделителя\n",
    "        data = pd.read_csv(file_path, delimiter=delimiter)\n",
    "        print(f\"Данные из файла '{file_path}' успешно загружены.\")\n",
    "        return data\n",
    "    else:\n",
    "        # Вывод сообщения о том, что файл не существует\n",
    "        print(f\"Файл '{file_path}' не существует.\")\n",
    "        return None\n",
    "\n",
    "data = load_data('/datasets/6_class.csv')"
   ]
  },
  {
   "cell_type": "markdown",
   "id": "simple-subdivision",
   "metadata": {},
   "source": [
    "## Предобработка и анализ данных"
   ]
  },
  {
   "cell_type": "markdown",
   "id": "6d9d06c6",
   "metadata": {},
   "source": [
    "Удаляем столбец 'Unnamed: 0' из DataFrame, чтобы избежать дублирования индексов:"
   ]
  },
  {
   "cell_type": "code",
   "execution_count": 4,
   "id": "65cee743",
   "metadata": {},
   "outputs": [],
   "source": [
    "data = data.drop('Unnamed: 0', axis=1)"
   ]
  },
  {
   "cell_type": "markdown",
   "id": "f0a3ec2e",
   "metadata": {},
   "source": [
    "Анализируем данные, чтобы понять их структуру и качество, а также принять решения о дальнейшей обработке:"
   ]
  },
  {
   "cell_type": "code",
   "execution_count": 5,
   "id": "flush-dream",
   "metadata": {},
   "outputs": [
    {
     "data": {
      "text/html": [
       "<div>\n",
       "<style scoped>\n",
       "    .dataframe tbody tr th:only-of-type {\n",
       "        vertical-align: middle;\n",
       "    }\n",
       "\n",
       "    .dataframe tbody tr th {\n",
       "        vertical-align: top;\n",
       "    }\n",
       "\n",
       "    .dataframe thead th {\n",
       "        text-align: right;\n",
       "    }\n",
       "</style>\n",
       "<table border=\"1\" class=\"dataframe\">\n",
       "  <thead>\n",
       "    <tr style=\"text-align: right;\">\n",
       "      <th></th>\n",
       "      <th>Temperature (K)</th>\n",
       "      <th>Luminosity(L/Lo)</th>\n",
       "      <th>Radius(R/Ro)</th>\n",
       "      <th>Absolute magnitude(Mv)</th>\n",
       "      <th>Star type</th>\n",
       "      <th>Star color</th>\n",
       "    </tr>\n",
       "  </thead>\n",
       "  <tbody>\n",
       "    <tr>\n",
       "      <th>0</th>\n",
       "      <td>3068</td>\n",
       "      <td>0.002400</td>\n",
       "      <td>0.1700</td>\n",
       "      <td>16.12</td>\n",
       "      <td>0</td>\n",
       "      <td>Red</td>\n",
       "    </tr>\n",
       "    <tr>\n",
       "      <th>1</th>\n",
       "      <td>3042</td>\n",
       "      <td>0.000500</td>\n",
       "      <td>0.1542</td>\n",
       "      <td>16.60</td>\n",
       "      <td>0</td>\n",
       "      <td>Red</td>\n",
       "    </tr>\n",
       "    <tr>\n",
       "      <th>2</th>\n",
       "      <td>2600</td>\n",
       "      <td>0.000300</td>\n",
       "      <td>0.1020</td>\n",
       "      <td>18.70</td>\n",
       "      <td>0</td>\n",
       "      <td>Red</td>\n",
       "    </tr>\n",
       "    <tr>\n",
       "      <th>3</th>\n",
       "      <td>2800</td>\n",
       "      <td>0.000200</td>\n",
       "      <td>0.1600</td>\n",
       "      <td>16.65</td>\n",
       "      <td>0</td>\n",
       "      <td>Red</td>\n",
       "    </tr>\n",
       "    <tr>\n",
       "      <th>4</th>\n",
       "      <td>1939</td>\n",
       "      <td>0.000138</td>\n",
       "      <td>0.1030</td>\n",
       "      <td>20.06</td>\n",
       "      <td>0</td>\n",
       "      <td>Red</td>\n",
       "    </tr>\n",
       "  </tbody>\n",
       "</table>\n",
       "</div>"
      ],
      "text/plain": [
       "   Temperature (K)  Luminosity(L/Lo)  Radius(R/Ro)  Absolute magnitude(Mv)  \\\n",
       "0             3068          0.002400        0.1700                   16.12   \n",
       "1             3042          0.000500        0.1542                   16.60   \n",
       "2             2600          0.000300        0.1020                   18.70   \n",
       "3             2800          0.000200        0.1600                   16.65   \n",
       "4             1939          0.000138        0.1030                   20.06   \n",
       "\n",
       "   Star type Star color  \n",
       "0          0        Red  \n",
       "1          0        Red  \n",
       "2          0        Red  \n",
       "3          0        Red  \n",
       "4          0        Red  "
      ]
     },
     "metadata": {},
     "output_type": "display_data"
    },
    {
     "name": "stdout",
     "output_type": "stream",
     "text": [
      "<class 'pandas.core.frame.DataFrame'>\n",
      "RangeIndex: 240 entries, 0 to 239\n",
      "Data columns (total 6 columns):\n",
      " #   Column                  Non-Null Count  Dtype  \n",
      "---  ------                  --------------  -----  \n",
      " 0   Temperature (K)         240 non-null    int64  \n",
      " 1   Luminosity(L/Lo)        240 non-null    float64\n",
      " 2   Radius(R/Ro)            240 non-null    float64\n",
      " 3   Absolute magnitude(Mv)  240 non-null    float64\n",
      " 4   Star type               240 non-null    int64  \n",
      " 5   Star color              240 non-null    object \n",
      "dtypes: float64(3), int64(2), object(1)\n",
      "memory usage: 11.4+ KB\n"
     ]
    },
    {
     "data": {
      "text/html": [
       "<div>\n",
       "<style scoped>\n",
       "    .dataframe tbody tr th:only-of-type {\n",
       "        vertical-align: middle;\n",
       "    }\n",
       "\n",
       "    .dataframe tbody tr th {\n",
       "        vertical-align: top;\n",
       "    }\n",
       "\n",
       "    .dataframe thead th {\n",
       "        text-align: right;\n",
       "    }\n",
       "</style>\n",
       "<table border=\"1\" class=\"dataframe\">\n",
       "  <thead>\n",
       "    <tr style=\"text-align: right;\">\n",
       "      <th></th>\n",
       "      <th>Temperature (K)</th>\n",
       "      <th>Luminosity(L/Lo)</th>\n",
       "      <th>Radius(R/Ro)</th>\n",
       "      <th>Absolute magnitude(Mv)</th>\n",
       "      <th>Star type</th>\n",
       "    </tr>\n",
       "  </thead>\n",
       "  <tbody>\n",
       "    <tr>\n",
       "      <th>count</th>\n",
       "      <td>240.000000</td>\n",
       "      <td>240.000000</td>\n",
       "      <td>240.000000</td>\n",
       "      <td>240.000000</td>\n",
       "      <td>240.000000</td>\n",
       "    </tr>\n",
       "    <tr>\n",
       "      <th>mean</th>\n",
       "      <td>10497.462500</td>\n",
       "      <td>107188.361635</td>\n",
       "      <td>237.157781</td>\n",
       "      <td>4.382396</td>\n",
       "      <td>2.500000</td>\n",
       "    </tr>\n",
       "    <tr>\n",
       "      <th>std</th>\n",
       "      <td>9552.425037</td>\n",
       "      <td>179432.244940</td>\n",
       "      <td>517.155763</td>\n",
       "      <td>10.532512</td>\n",
       "      <td>1.711394</td>\n",
       "    </tr>\n",
       "    <tr>\n",
       "      <th>min</th>\n",
       "      <td>1939.000000</td>\n",
       "      <td>0.000080</td>\n",
       "      <td>0.008400</td>\n",
       "      <td>-11.920000</td>\n",
       "      <td>0.000000</td>\n",
       "    </tr>\n",
       "    <tr>\n",
       "      <th>25%</th>\n",
       "      <td>3344.250000</td>\n",
       "      <td>0.000865</td>\n",
       "      <td>0.102750</td>\n",
       "      <td>-6.232500</td>\n",
       "      <td>1.000000</td>\n",
       "    </tr>\n",
       "    <tr>\n",
       "      <th>50%</th>\n",
       "      <td>5776.000000</td>\n",
       "      <td>0.070500</td>\n",
       "      <td>0.762500</td>\n",
       "      <td>8.313000</td>\n",
       "      <td>2.500000</td>\n",
       "    </tr>\n",
       "    <tr>\n",
       "      <th>75%</th>\n",
       "      <td>15055.500000</td>\n",
       "      <td>198050.000000</td>\n",
       "      <td>42.750000</td>\n",
       "      <td>13.697500</td>\n",
       "      <td>4.000000</td>\n",
       "    </tr>\n",
       "    <tr>\n",
       "      <th>max</th>\n",
       "      <td>40000.000000</td>\n",
       "      <td>849420.000000</td>\n",
       "      <td>1948.500000</td>\n",
       "      <td>20.060000</td>\n",
       "      <td>5.000000</td>\n",
       "    </tr>\n",
       "  </tbody>\n",
       "</table>\n",
       "</div>"
      ],
      "text/plain": [
       "       Temperature (K)  Luminosity(L/Lo)  Radius(R/Ro)  \\\n",
       "count       240.000000        240.000000    240.000000   \n",
       "mean      10497.462500     107188.361635    237.157781   \n",
       "std        9552.425037     179432.244940    517.155763   \n",
       "min        1939.000000          0.000080      0.008400   \n",
       "25%        3344.250000          0.000865      0.102750   \n",
       "50%        5776.000000          0.070500      0.762500   \n",
       "75%       15055.500000     198050.000000     42.750000   \n",
       "max       40000.000000     849420.000000   1948.500000   \n",
       "\n",
       "       Absolute magnitude(Mv)   Star type  \n",
       "count              240.000000  240.000000  \n",
       "mean                 4.382396    2.500000  \n",
       "std                 10.532512    1.711394  \n",
       "min                -11.920000    0.000000  \n",
       "25%                 -6.232500    1.000000  \n",
       "50%                  8.313000    2.500000  \n",
       "75%                 13.697500    4.000000  \n",
       "max                 20.060000    5.000000  "
      ]
     },
     "metadata": {},
     "output_type": "display_data"
    }
   ],
   "source": [
    "# Просмотр первых строк данных\n",
    "display(data.head())\n",
    "\n",
    "# Общая информация о данных\n",
    "data.info()\n",
    "\n",
    "# Описательная статистика\n",
    "display(data.describe())"
   ]
  },
  {
   "cell_type": "markdown",
   "id": "f194b68e",
   "metadata": {},
   "source": [
    "Построим гистограммы, чтобы визуализировать распределение величин и понять, как часто встречаются различные значения в данных:"
   ]
  },
  {
   "cell_type": "code",
   "execution_count": 6,
   "id": "10cecd45",
   "metadata": {},
   "outputs": [
    {
     "data": {
      "image/png": "[encoded data removed]",
      "text/plain": [
       "<Figure size 1080x432 with 1 Axes>"
      ]
     },
     "metadata": {
      "needs_background": "light"
     },
     "output_type": "display_data"
    }
   ],
   "source": [
    "# Гистограмма Temperature (K)\n",
    "plt.figure(figsize=(15, 6))\n",
    "sns.histplot(data['Temperature (K)'], kde=True)\n",
    "plt.title('Гистограмма температуры')\n",
    "plt.xlabel('Температура (K)')\n",
    "plt.ylabel('Частота')\n",
    "plt.show()"
   ]
  },
  {
   "cell_type": "markdown",
   "id": "f110dd9c",
   "metadata": {},
   "source": [
    "Гистограмма температуры показывает, что большинство звезд в данных имеют относительно низкую температуру, а количество звезд с более высокой температурой постепенно уменьшается. Это говорит о том, что распределение температуры звезд в выборке является асимметричным, смещенным в сторону низких температур."
   ]
  },
  {
   "cell_type": "code",
   "execution_count": 7,
   "id": "da57688e",
   "metadata": {},
   "outputs": [
    {
     "data": {
      "image/png": "[encoded data removed]",
      "text/plain": [
       "<Figure size 1080x432 with 1 Axes>"
      ]
     },
     "metadata": {
      "needs_background": "light"
     },
     "output_type": "display_data"
    }
   ],
   "source": [
    "# Гистограмма Luminosity(L/Lo)\n",
    "plt.figure(figsize=(15, 6))\n",
    "sns.histplot(data['Luminosity(L/Lo)'], kde=True)\n",
    "plt.title('Гистограмма светимости')\n",
    "plt.xlabel('Светимость (L/Lo)')\n",
    "plt.ylabel('Частота')\n",
    "plt.show()"
   ]
  },
  {
   "cell_type": "markdown",
   "id": "e2313ef2",
   "metadata": {},
   "source": [
    "Гистограмма светимости показывает, что большинство звезд в выборке имеют относительно низкую светимость, а количество звезд с более высокой светимостью постепенно уменьшается.  Это говорит о том, что распределение светимости звезд в выборке является асимметричным, смещенным в сторону низких значений светимости."
   ]
  },
  {
   "cell_type": "code",
   "execution_count": 8,
   "id": "6a4510ae",
   "metadata": {},
   "outputs": [
    {
     "data": {
      "image/png": "[encoded data removed]",
      "text/plain": [
       "<Figure size 1080x432 with 1 Axes>"
      ]
     },
     "metadata": {
      "needs_background": "light"
     },
     "output_type": "display_data"
    }
   ],
   "source": [
    "# Гистограмма Radius(R/Ro)\n",
    "plt.figure(figsize=(15, 6))\n",
    "sns.histplot(data['Radius(R/Ro)'], kde=True)\n",
    "plt.title('Гистограмма радиуса')\n",
    "plt.xlabel('Радиус (R/Ro)')\n",
    "plt.ylabel('Частота')\n",
    "plt.show()"
   ]
  },
  {
   "cell_type": "markdown",
   "id": "a8b373f6",
   "metadata": {},
   "source": [
    "Гистограмма радиуса показывает, что большинство звезд в выборке имеют относительно небольшой радиус, а количество звезд с более большим радиусом постепенно уменьшается. Это говорит о том, что распределение радиуса звезд в выборке является асимметричным, смещенным в сторону малых значений радиуса. \n",
    "\n",
    "Такое распределение может быть связано с тем, что в выборке преобладают звезды с низкой светимостью, которые обычно имеют меньший радиус, чем звезды с высокой светимостью."
   ]
  },
  {
   "cell_type": "code",
   "execution_count": 9,
   "id": "1ebbae6a",
   "metadata": {},
   "outputs": [
    {
     "data": {
      "image/png": "[encoded data removed]",
      "text/plain": [
       "<Figure size 1080x432 with 1 Axes>"
      ]
     },
     "metadata": {
      "needs_background": "light"
     },
     "output_type": "display_data"
    }
   ],
   "source": [
    "# Гистограмма Absolute magnitude(Mv)\n",
    "plt.figure(figsize=(15, 6))\n",
    "sns.histplot(data['Absolute magnitude(Mv)'], kde=True)\n",
    "plt.title('Гистограмма абсолютной звездной величины')\n",
    "plt.xlabel('Абсолютная звездная величина (Mv)')\n",
    "plt.ylabel('Частота')\n",
    "plt.show()"
   ]
  },
  {
   "cell_type": "markdown",
   "id": "9d8d4339",
   "metadata": {},
   "source": [
    "Гистограмма абсолютной звездной величины показывает, что в выборке есть две группы звезд с разными значениями абсолютной звездной величины.\n",
    "\n",
    "Это говорит о том, что в выборке присутствуют как звезды с относительно низкой светимостью (большая абсолютная звездная величина), так и звезды с высокой светимостью (меньшая абсолютная звездная величина)."
   ]
  },
  {
   "cell_type": "markdown",
   "id": "df3b69de",
   "metadata": {},
   "source": [
    "Анализ гистограмм светимости, радиуса, температуры и абсолютной звездной величины показывает, что выборка звезд не является однородной и включает в себя звезды разных типов и светимости."
   ]
  },
  {
   "cell_type": "markdown",
   "id": "8890501a",
   "metadata": {},
   "source": [
    "Проверяем уникальные значения в столбце 'Star color', чтобы понять, какие цвета звезд представлены в данных, и убедиться, что они записаны правильно, чтобы можно было правильно обрабатывать информацию о цвете звезд:"
   ]
  },
  {
   "cell_type": "code",
   "execution_count": 10,
   "id": "40bccfc9",
   "metadata": {},
   "outputs": [
    {
     "data": {
      "text/plain": [
       "array(['Red', 'Blue White', 'White', 'Yellowish White', 'Blue white',\n",
       "       'Pale yellow orange', 'Blue', 'Blue-white', 'Whitish',\n",
       "       'yellow-white', 'Orange', 'White-Yellow', 'white', 'Blue ',\n",
       "       'yellowish', 'Yellowish', 'Orange-Red', 'Blue white ',\n",
       "       'Blue-White'], dtype=object)"
      ]
     },
     "execution_count": 10,
     "metadata": {},
     "output_type": "execute_result"
    }
   ],
   "source": [
    "data['Star color'].unique()"
   ]
  },
  {
   "cell_type": "markdown",
   "id": "3c2ebcbc",
   "metadata": {},
   "source": [
    "Удаляем дубликаты в столбце 'Star color', чтобы обеспечить корректную обработку данных:"
   ]
  },
  {
   "cell_type": "code",
   "execution_count": 11,
   "id": "07c20620",
   "metadata": {},
   "outputs": [],
   "source": [
    "data['Star color'] = data['Star color'].str.lower().str.strip().str.replace('-', ' ') # Удаляем \"-\" и пробелы"
   ]
  },
  {
   "cell_type": "code",
   "execution_count": 12,
   "id": "1e11c099",
   "metadata": {},
   "outputs": [],
   "source": [
    "# Проверяем одинаковые комбинации слов\n",
    "for i in range(len(data['Star color'])):\n",
    "    color = data['Star color'][i].split()\n",
    "    if len(color) == 2:\n",
    "        reversed_color = ' '.join(reversed(color))\n",
    "        if reversed_color in data['Star color']:\n",
    "            data['Star color'][i] = min(color, reversed_color)  # Оставляем вариант с лексикографически меньшим порядком слов"
   ]
  },
  {
   "cell_type": "code",
   "execution_count": 13,
   "id": "60d81e3e",
   "metadata": {},
   "outputs": [],
   "source": [
    "# Объединяем дубликаты\n",
    "data['Star color'] = data['Star color'].replace({'yellowish white': 'light yellow', \n",
    "                                                'white yellow': 'light yellow',\n",
    "                                                'yellowish': 'orange',\n",
    "                                                'yellow white': 'light yellow',\n",
    "                                                'yellowish orange': 'orange'})"
   ]
  },
  {
   "cell_type": "markdown",
   "id": "8ba3e5a3",
   "metadata": {},
   "source": [
    "Создаем горизонтальную столбчатую диаграмму, чтобы визуализировать количество звезд в выборке для каждого цвета, используя цветовую кодировку для наглядности:"
   ]
  },
  {
   "cell_type": "code",
   "execution_count": 14,
   "id": "f905d1b2",
   "metadata": {},
   "outputs": [],
   "source": [
    "# Создаём цветовую кодировку\n",
    "color_mapping = {\n",
    "    'red': \"#ff0000\",  \n",
    "    'blue white': \"#42aaff\", \n",
    "    'pale yellow orange': '#ffca86',\n",
    "    'white': \"#ffffff\",  \n",
    "    'light yellow': \"#ffffe0\",\n",
    "    'blue': \"#0000ff\",  \n",
    "    'whitish': \"#f5f5f5\",  \n",
    "    'orange': \"#ffa500\",  \n",
    "    'orange red': \"#ff6347\", \n",
    "}"
   ]
  },
  {
   "cell_type": "code",
   "execution_count": 15,
   "id": "56b37b68",
   "metadata": {
    "scrolled": false
   },
   "outputs": [
    {
     "data": {
      "image/png": "[encoded data removed]",
      "text/plain": [
       "<Figure size 1080x432 with 1 Axes>"
      ]
     },
     "metadata": {
      "needs_background": "light"
     },
     "output_type": "display_data"
    }
   ],
   "source": [
    "# Cтроим диаграмму\n",
    "plt.figure(figsize=(15, 6))  # Изменили размер фигуры\n",
    "\n",
    "# Группируем данные по цвету\n",
    "star_colors = data['Star color'].unique()\n",
    "counts = [len(data[data['Star color'] == color]) for color in star_colors]\n",
    "\n",
    "# Сортировка по убыванию количества звезд\n",
    "sorted_indices = sorted(range(len(counts)), key=lambda k: counts[k], reverse=False)\n",
    "sorted_star_colors = [star_colors[i] for i in sorted_indices]\n",
    "sorted_counts = [counts[i] for i in sorted_indices]\n",
    "\n",
    "# Создаем диаграмму с помощью matplotlib.pyplot.bar\n",
    "plt.barh(sorted_star_colors, sorted_counts, color=[color_mapping.get(color, (0.5, 0.5, 0.5, 1.0)) for color in sorted_star_colors], edgecolor='black')\n",
    "\n",
    "# Добавляем числа на диаграмму\n",
    "for i, v in enumerate(sorted_counts):\n",
    "    plt.text(v + 1, i, str(v), va='center')\n",
    "\n",
    "plt.title('Количество звезд по цвету')\n",
    "plt.xlabel('Количество')\n",
    "plt.ylabel('Цвет звезды')\n",
    "plt.show()"
   ]
  },
  {
   "cell_type": "markdown",
   "id": "e0a7c0ec",
   "metadata": {},
   "source": [
    "Диаграмма подтвердила предыдущие выводы, показав преобладание звезд с низкой светимостью - красных, и наличие звезд с более высокой светимостью - синих, голубых и белых."
   ]
  },
  {
   "cell_type": "markdown",
   "id": "6693dd66",
   "metadata": {},
   "source": [
    "Вычисляем матрицу корреляции, чтобы визуализировать взаимосвязи между параметрами звезд:"
   ]
  },
  {
   "cell_type": "code",
   "execution_count": 16,
   "id": "3f50063d",
   "metadata": {},
   "outputs": [
    {
     "data": {
      "image/png": "[encoded data removed]",
      "text/plain": [
       "<Figure size 1080x576 with 2 Axes>"
      ]
     },
     "metadata": {
      "needs_background": "light"
     },
     "output_type": "display_data"
    }
   ],
   "source": [
    "# Установка интервальных столбцов\n",
    "interval_cols = ['Temperature (K)', 'Luminosity(L/Lo)', 'Radius(R/Ro)', 'Absolute magnitude(Mv)']\n",
    "data = data.astype({col: 'float' for col in interval_cols})\n",
    "\n",
    "# Вычисление матрицы корреляции с помощью phik\n",
    "correlation_matrix = phik_matrix(data, interval_cols=interval_cols)\n",
    "\n",
    "# Отображение тепловой карты\n",
    "plt.figure(figsize=(15, 8))\n",
    "sns.heatmap(correlation_matrix, annot=True)\n",
    "plt.title('Корреляционная матрица (phik)')\n",
    "plt.show()"
   ]
  },
  {
   "cell_type": "markdown",
   "id": "5aae70d2",
   "metadata": {},
   "source": [
    "Тепловая карта показывает, что между параметрами звезд, существует сильная положительная корреляция:\n",
    "\n",
    "- **Температура (K)** и **Светимость (L/Lo)** имеют высокую корреляцию (0.71), что согласуется с законами физики звезд. \n",
    "- **Температура (K)** и **Радиус (R/Ro)** также имеют высокую корреляцию (0.71), что говорит о том, что более горячие звезды, как правило, больше. \n",
    "- **Светимость (L/Lo)** и **Радиус (R/Ro)** также имеют высокую корреляцию (0.92), что подтверждает связь между размером звезды и ее светимостью.\n",
    "- **Абсолютная звездная величина (Mv)** имеет более слабую корреляцию с другими параметрами, но все же заметную (0.6-0.7).\n",
    "\n",
    "Эти взаимосвязи показывают, что звездные параметры не независимы друг от друга. Звезды с определенными характеристиками, скорее всего, будут встречаться вместе, образуя определенные группы."
   ]
  },
  {
   "cell_type": "markdown",
   "id": "funded-electric",
   "metadata": {},
   "source": [
    "## Построение базовой нейронной сети"
   ]
  },
  {
   "cell_type": "code",
   "execution_count": 17,
   "id": "22b1dcbe",
   "metadata": {},
   "outputs": [],
   "source": [
    "# OneHotEncoding для категориальных данных\n",
    "encoder = OneHotEncoder(sparse=False)\n",
    "\n",
    "# Преобразуем 'Star color' и 'Star type'\n",
    "encoded_color = encoder.fit_transform(data[['Star color']])\n",
    "encoded_type = encoder.fit_transform(data[['Star type']])\n",
    "\n",
    "# Преобразуем в DataFrame и добавляем к основным данным\n",
    "encoded_color_df = pd.DataFrame(encoded_color, columns=[f\"Star color_{i}\" for i in range(encoded_color.shape[1])])\n",
    "encoded_type_df = pd.DataFrame(encoded_type, columns=[f\"Star type_{i}\" for i in range(encoded_type.shape[1])])\n",
    "\n",
    "# Объединяем их с основным датафреймом\n",
    "data = pd.concat([data.drop(['Star color', 'Star type'], axis=1), encoded_color_df, encoded_type_df], axis=1)"
   ]
  },
  {
   "cell_type": "code",
   "execution_count": 18,
   "id": "be34ee8e",
   "metadata": {},
   "outputs": [],
   "source": [
    "# Масштабируем количественные данные\n",
    "scaler = StandardScaler()\n",
    "\n",
    "# Выбираем количественные колонки\n",
    "numeric_columns = ['Temperature (K)', 'Luminosity(L/Lo)', 'Radius(R/Ro)', 'Absolute magnitude(Mv)']\n",
    "\n",
    "# Применяем StandardScaler\n",
    "data[numeric_columns] = scaler.fit_transform(data[numeric_columns])"
   ]
  },
  {
   "cell_type": "code",
   "execution_count": 19,
   "id": "f295f663",
   "metadata": {},
   "outputs": [],
   "source": [
    "# Отделяем целевой признак (Температура) и признаки (остальные)\n",
    "X = data.drop('Temperature (K)', axis=1)  # Признаки\n",
    "y = data['Temperature (K)']  # Целевой признак\n",
    "\n",
    "# Разделяем на обучающую и тестовую выборки\n",
    "X_train, X_test, y_train, y_test = train_test_split(X, y, test_size=0.2, random_state=42)"
   ]
  },
  {
   "cell_type": "code",
   "execution_count": 20,
   "id": "1fe0fd45",
   "metadata": {},
   "outputs": [
    {
     "name": "stderr",
     "output_type": "stream",
     "text": [
      "2024-09-21 01:55:08.130109: I tensorflow/core/util/port.cc:153] oneDNN custom operations are on. You may see slightly different numerical results due to floating-point round-off errors from different computation orders. To turn them off, set the environment variable `TF_ENABLE_ONEDNN_OPTS=0`.\n",
      "2024-09-21 01:55:08.132396: I external/local_xla/xla/tsl/cuda/cudart_stub.cc:32] Could not find cuda drivers on your machine, GPU will not be used.\n",
      "2024-09-21 01:55:08.137270: I external/local_xla/xla/tsl/cuda/cudart_stub.cc:32] Could not find cuda drivers on your machine, GPU will not be used.\n",
      "2024-09-21 01:55:08.150100: E external/local_xla/xla/stream_executor/cuda/cuda_fft.cc:485] Unable to register cuFFT factory: Attempting to register factory for plugin cuFFT when one has already been registered\n",
      "2024-09-21 01:55:08.171885: E external/local_xla/xla/stream_executor/cuda/cuda_dnn.cc:8454] Unable to register cuDNN factory: Attempting to register factory for plugin cuDNN when one has already been registered\n",
      "2024-09-21 01:55:08.177985: E external/local_xla/xla/stream_executor/cuda/cuda_blas.cc:1452] Unable to register cuBLAS factory: Attempting to register factory for plugin cuBLAS when one has already been registered\n",
      "2024-09-21 01:55:08.196761: I tensorflow/core/platform/cpu_feature_guard.cc:210] This TensorFlow binary is optimized to use available CPU instructions in performance-critical operations.\n",
      "To enable the following instructions: AVX2 AVX512F AVX512_VNNI FMA, in other operations, rebuild TensorFlow with the appropriate compiler flags.\n",
      "2024-09-21 01:55:09.330292: W tensorflow/compiler/tf2tensorrt/utils/py_utils.cc:38] TF-TRT Warning: Could not find TensorRT\n",
      "/opt/conda/lib/python3.9/site-packages/keras/src/layers/core/input_layer.py:26: UserWarning: Argument `input_shape` is deprecated. Use `shape` instead.\n",
      "  warnings.warn(\n"
     ]
    },
    {
     "ename": "ValueError",
     "evalue": "Cannot convert '18' to a shape.",
     "output_type": "error",
     "traceback": [
      "\u001b[0;31m---------------------------------------------------------------------------\u001b[0m",
      "\u001b[0;31mValueError\u001b[0m                                Traceback (most recent call last)",
      "\u001b[0;32m/tmp/ipykernel_2060/3427926246.py\u001b[0m in \u001b[0;36m<module>\u001b[0;34m\u001b[0m\n\u001b[1;32m     24\u001b[0m \u001b[0;34m\u001b[0m\u001b[0m\n\u001b[1;32m     25\u001b[0m \u001b[0;31m# Создаем модель, указывая количество признаков на входе (X_train.shape[1])\u001b[0m\u001b[0;34m\u001b[0m\u001b[0;34m\u001b[0m\u001b[0;34m\u001b[0m\u001b[0m\n\u001b[0;32m---> 26\u001b[0;31m \u001b[0mmodel\u001b[0m \u001b[0;34m=\u001b[0m \u001b[0mcreate_model\u001b[0m\u001b[0;34m(\u001b[0m\u001b[0mX_train\u001b[0m\u001b[0;34m.\u001b[0m\u001b[0mshape\u001b[0m\u001b[0;34m[\u001b[0m\u001b[0;36m1\u001b[0m\u001b[0;34m]\u001b[0m\u001b[0;34m)\u001b[0m\u001b[0;34m\u001b[0m\u001b[0;34m\u001b[0m\u001b[0m\n\u001b[0m\u001b[1;32m     27\u001b[0m \u001b[0;34m\u001b[0m\u001b[0m\n\u001b[1;32m     28\u001b[0m \u001b[0;31m# Выводим архитектуру модели\u001b[0m\u001b[0;34m\u001b[0m\u001b[0;34m\u001b[0m\u001b[0;34m\u001b[0m\u001b[0m\n",
      "\u001b[0;32m/tmp/ipykernel_2060/3427926246.py\u001b[0m in \u001b[0;36mcreate_model\u001b[0;34m(input_shape)\u001b[0m\n\u001b[1;32m      7\u001b[0m \u001b[0;34m\u001b[0m\u001b[0m\n\u001b[1;32m      8\u001b[0m     \u001b[0;31m# Входной слой\u001b[0m\u001b[0;34m\u001b[0m\u001b[0;34m\u001b[0m\u001b[0;34m\u001b[0m\u001b[0m\n\u001b[0;32m----> 9\u001b[0;31m     \u001b[0mmodel\u001b[0m\u001b[0;34m.\u001b[0m\u001b[0madd\u001b[0m\u001b[0;34m(\u001b[0m\u001b[0mlayers\u001b[0m\u001b[0;34m.\u001b[0m\u001b[0mInputLayer\u001b[0m\u001b[0;34m(\u001b[0m\u001b[0minput_shape\u001b[0m\u001b[0;34m=\u001b[0m\u001b[0minput_shape\u001b[0m\u001b[0;34m)\u001b[0m\u001b[0;34m)\u001b[0m\u001b[0;34m\u001b[0m\u001b[0;34m\u001b[0m\u001b[0m\n\u001b[0m\u001b[1;32m     10\u001b[0m \u001b[0;34m\u001b[0m\u001b[0m\n\u001b[1;32m     11\u001b[0m     \u001b[0;31m# Первый скрытый слой с 64 нейронами и функцией активации ReLU\u001b[0m\u001b[0;34m\u001b[0m\u001b[0;34m\u001b[0m\u001b[0;34m\u001b[0m\u001b[0m\n",
      "\u001b[0;32m/opt/conda/lib/python3.9/site-packages/keras/src/layers/core/input_layer.py\u001b[0m in \u001b[0;36m__init__\u001b[0;34m(self, shape, batch_size, dtype, sparse, batch_shape, input_tensor, optional, name, **kwargs)\u001b[0m\n\u001b[1;32m     45\u001b[0m \u001b[0;34m\u001b[0m\u001b[0m\n\u001b[1;32m     46\u001b[0m         \u001b[0;32mif\u001b[0m \u001b[0mshape\u001b[0m \u001b[0;32mis\u001b[0m \u001b[0;32mnot\u001b[0m \u001b[0;32mNone\u001b[0m\u001b[0;34m:\u001b[0m\u001b[0;34m\u001b[0m\u001b[0;34m\u001b[0m\u001b[0m\n\u001b[0;32m---> 47\u001b[0;31m             \u001b[0mshape\u001b[0m \u001b[0;34m=\u001b[0m \u001b[0mbackend\u001b[0m\u001b[0;34m.\u001b[0m\u001b[0mstandardize_shape\u001b[0m\u001b[0;34m(\u001b[0m\u001b[0mshape\u001b[0m\u001b[0;34m)\u001b[0m\u001b[0;34m\u001b[0m\u001b[0;34m\u001b[0m\u001b[0m\n\u001b[0m\u001b[1;32m     48\u001b[0m             \u001b[0mbatch_shape\u001b[0m \u001b[0;34m=\u001b[0m \u001b[0;34m(\u001b[0m\u001b[0mbatch_size\u001b[0m\u001b[0;34m,\u001b[0m\u001b[0;34m)\u001b[0m \u001b[0;34m+\u001b[0m \u001b[0mshape\u001b[0m\u001b[0;34m\u001b[0m\u001b[0;34m\u001b[0m\u001b[0m\n\u001b[1;32m     49\u001b[0m         \u001b[0mself\u001b[0m\u001b[0;34m.\u001b[0m\u001b[0m_batch_shape\u001b[0m \u001b[0;34m=\u001b[0m \u001b[0mbackend\u001b[0m\u001b[0;34m.\u001b[0m\u001b[0mstandardize_shape\u001b[0m\u001b[0;34m(\u001b[0m\u001b[0mbatch_shape\u001b[0m\u001b[0;34m)\u001b[0m\u001b[0;34m\u001b[0m\u001b[0;34m\u001b[0m\u001b[0m\n",
      "\u001b[0;32m/opt/conda/lib/python3.9/site-packages/keras/src/backend/common/variables.py\u001b[0m in \u001b[0;36mstandardize_shape\u001b[0;34m(shape)\u001b[0m\n\u001b[1;32m    513\u001b[0m             \u001b[0;32mraise\u001b[0m \u001b[0mValueError\u001b[0m\u001b[0;34m(\u001b[0m\u001b[0;34m\"Undefined shapes are not supported.\"\u001b[0m\u001b[0;34m)\u001b[0m\u001b[0;34m\u001b[0m\u001b[0;34m\u001b[0m\u001b[0m\n\u001b[1;32m    514\u001b[0m         \u001b[0;32mif\u001b[0m \u001b[0;32mnot\u001b[0m \u001b[0mhasattr\u001b[0m\u001b[0;34m(\u001b[0m\u001b[0mshape\u001b[0m\u001b[0;34m,\u001b[0m \u001b[0;34m\"__iter__\"\u001b[0m\u001b[0;34m)\u001b[0m\u001b[0;34m:\u001b[0m\u001b[0;34m\u001b[0m\u001b[0;34m\u001b[0m\u001b[0m\n\u001b[0;32m--> 515\u001b[0;31m             \u001b[0;32mraise\u001b[0m \u001b[0mValueError\u001b[0m\u001b[0;34m(\u001b[0m\u001b[0;34mf\"Cannot convert '{shape}' to a shape.\"\u001b[0m\u001b[0;34m)\u001b[0m\u001b[0;34m\u001b[0m\u001b[0;34m\u001b[0m\u001b[0m\n\u001b[0m\u001b[1;32m    516\u001b[0m         \u001b[0;32mif\u001b[0m \u001b[0mconfig\u001b[0m\u001b[0;34m.\u001b[0m\u001b[0mbackend\u001b[0m\u001b[0;34m(\u001b[0m\u001b[0;34m)\u001b[0m \u001b[0;34m==\u001b[0m \u001b[0;34m\"tensorflow\"\u001b[0m\u001b[0;34m:\u001b[0m\u001b[0;34m\u001b[0m\u001b[0;34m\u001b[0m\u001b[0m\n\u001b[1;32m    517\u001b[0m             \u001b[0;32mif\u001b[0m \u001b[0misinstance\u001b[0m\u001b[0;34m(\u001b[0m\u001b[0mshape\u001b[0m\u001b[0;34m,\u001b[0m \u001b[0mtf\u001b[0m\u001b[0;34m.\u001b[0m\u001b[0mTensorShape\u001b[0m\u001b[0;34m)\u001b[0m\u001b[0;34m:\u001b[0m\u001b[0;34m\u001b[0m\u001b[0;34m\u001b[0m\u001b[0m\n",
      "\u001b[0;31mValueError\u001b[0m: Cannot convert '18' to a shape."
     ]
    }
   ],
   "source": [
    "import tensorflow as tf\n",
    "from tensorflow.keras import layers, models\n",
    "\n",
    "# Определяем архитектуру нейронной сети\n",
    "def create_model(input_shape):\n",
    "    model = models.Sequential()\n",
    "\n",
    "    # Входной слой\n",
    "    model.add(layers.InputLayer(input_shape=input_shape))\n",
    "\n",
    "    # Первый скрытый слой с 64 нейронами и функцией активации ReLU\n",
    "    model.add(layers.Dense(64, activation='relu'))\n",
    "\n",
    "    # Второй скрытый слой с 32 нейронами и функцией активации ReLU\n",
    "    model.add(layers.Dense(32, activation='relu'))\n",
    "\n",
    "    # Выходной слой (один нейрон, функция активации 'linear' для задачи регрессии)\n",
    "    model.add(layers.Dense(1, activation='linear'))\n",
    "\n",
    "    # Компиляция модели\n",
    "    model.compile(optimizer='adam', loss='mse', metrics=['mae'])\n",
    "    \n",
    "    return model\n",
    "\n",
    "# Создаем модель, указывая количество признаков на входе (X_train.shape[1])\n",
    "model = create_model(X_train.shape[1])\n",
    "\n",
    "# Выводим архитектуру модели\n",
    "model.summary()"
   ]
  },
  {
   "cell_type": "code",
   "execution_count": null,
   "id": "2102a962",
   "metadata": {},
   "outputs": [],
   "source": [
    "# Обучение модели\n",
    "history = model.fit(X_train, y_train, epochs=100, batch_size=32, validation_split=0.2, verbose=1)"
   ]
  },
  {
   "cell_type": "code",
   "execution_count": null,
   "id": "98adb7dc",
   "metadata": {},
   "outputs": [],
   "source": [
    "import matplotlib.pyplot as plt\n",
    "\n",
    "# Визуализируем процесс обучения\n",
    "plt.figure(figsize=(12, 6))\n",
    "\n",
    "# График функции потерь\n",
    "plt.subplot(1, 2, 1)\n",
    "plt.plot(history.history['loss'], label='Train Loss')\n",
    "plt.plot(history.history['val_loss'], label='Validation Loss')\n",
    "plt.title('График функции потерь')\n",
    "plt.xlabel('Эпохи')\n",
    "plt.ylabel('Loss')\n",
    "plt.legend()\n",
    "\n",
    "# График MAE\n",
    "plt.subplot(1, 2, 2)\n",
    "plt.plot(history.history['mae'], label='Train MAE')\n",
    "plt.plot(history.history['val_mae'], label='Validation MAE')\n",
    "plt.title('График MAE')\n",
    "plt.xlabel('Эпохи')\n",
    "plt.ylabel('MAE')\n",
    "plt.legend()\n",
    "\n",
    "plt.show()"
   ]
  },
  {
   "cell_type": "code",
   "execution_count": null,
   "id": "aee14a27",
   "metadata": {},
   "outputs": [],
   "source": [
    "# Оценка модели на тестовой выборке\n",
    "test_loss, test_mae = model.evaluate(X_test, y_test, verbose=0)\n",
    "print(f\"Test Loss: {test_loss}, Test MAE: {test_mae}\")\n",
    "\n",
    "# Прогнозирование\n",
    "y_pred = model.predict(X_test)\n",
    "\n",
    "# Визуализация: Факт — Прогноз\n",
    "plt.figure(figsize=(12, 6))\n",
    "plt.plot(range(len(y_test)), y_test, label='Фактические значения')\n",
    "plt.plot(range(len(y_pred)), y_pred, label='Прогнозируемые значения', linestyle='--')\n",
    "plt.title('Факт — Прогноз по температуре')\n",
    "plt.xlabel('Номер звезды')\n",
    "plt.ylabel('Температура (K)')\n",
    "plt.legend()\n",
    "plt.show()"
   ]
  },
  {
   "cell_type": "code",
   "execution_count": null,
   "id": "c2bd1fb9",
   "metadata": {},
   "outputs": [],
   "source": []
  },
  {
   "cell_type": "markdown",
   "id": "growing-supply",
   "metadata": {},
   "source": [
    "## Улучшение нейронной сети"
   ]
  },
  {
   "cell_type": "code",
   "execution_count": null,
   "id": "acceptable-forwarding",
   "metadata": {},
   "outputs": [],
   "source": []
  },
  {
   "cell_type": "markdown",
   "id": "accurate-infrastructure",
   "metadata": {},
   "source": [
    "## Выводы"
   ]
  }
 ],
 "metadata": {
  "ExecuteTimeLog": [
   {
    "duration": 399,
    "start_time": "2024-09-20T22:43:01.065Z"
   },
   {
    "duration": 75,
    "start_time": "2024-09-20T22:43:01.466Z"
   },
   {
    "duration": 52,
    "start_time": "2024-09-20T22:43:32.314Z"
   },
   {
    "duration": 1969,
    "start_time": "2024-09-20T22:45:39.542Z"
   },
   {
    "duration": 1051,
    "start_time": "2024-09-20T22:46:42.153Z"
   },
   {
    "duration": 937,
    "start_time": "2024-09-20T22:47:39.524Z"
   },
   {
    "duration": 342,
    "start_time": "2024-09-20T23:11:15.131Z"
   },
   {
    "duration": 279,
    "start_time": "2024-09-20T23:12:32.397Z"
   },
   {
    "duration": 252,
    "start_time": "2024-09-20T23:13:31.828Z"
   },
   {
    "duration": 242,
    "start_time": "2024-09-20T23:14:20.159Z"
   },
   {
    "duration": 261,
    "start_time": "2024-09-20T23:16:54.422Z"
   },
   {
    "duration": 430,
    "start_time": "2024-09-20T23:17:14.268Z"
   },
   {
    "duration": 27,
    "start_time": "2024-09-20T23:17:14.699Z"
   },
   {
    "duration": 48,
    "start_time": "2024-09-20T23:17:14.728Z"
   },
   {
    "duration": 1474,
    "start_time": "2024-09-20T23:17:14.778Z"
   },
   {
    "duration": 360,
    "start_time": "2024-09-20T23:17:16.254Z"
   },
   {
    "duration": 257,
    "start_time": "2024-09-20T23:18:02.786Z"
   },
   {
    "duration": 249,
    "start_time": "2024-09-20T23:18:47.788Z"
   },
   {
    "duration": 6,
    "start_time": "2024-09-20T23:19:50.637Z"
   },
   {
    "duration": 428,
    "start_time": "2024-09-20T23:22:43.287Z"
   },
   {
    "duration": 28,
    "start_time": "2024-09-20T23:22:43.717Z"
   },
   {
    "duration": 50,
    "start_time": "2024-09-20T23:22:43.747Z"
   },
   {
    "duration": 1511,
    "start_time": "2024-09-20T23:22:43.799Z"
   },
   {
    "duration": 6,
    "start_time": "2024-09-20T23:22:45.313Z"
   },
   {
    "duration": 49,
    "start_time": "2024-09-20T23:22:45.320Z"
   },
   {
    "duration": 344,
    "start_time": "2024-09-20T23:22:45.371Z"
   },
   {
    "duration": 6,
    "start_time": "2024-09-20T23:23:07.374Z"
   },
   {
    "duration": 389,
    "start_time": "2024-09-20T23:26:23.223Z"
   },
   {
    "duration": 27,
    "start_time": "2024-09-20T23:26:23.614Z"
   },
   {
    "duration": 49,
    "start_time": "2024-09-20T23:26:23.643Z"
   },
   {
    "duration": 1530,
    "start_time": "2024-09-20T23:26:23.694Z"
   },
   {
    "duration": 6,
    "start_time": "2024-09-20T23:26:25.226Z"
   },
   {
    "duration": 13,
    "start_time": "2024-09-20T23:26:25.235Z"
   },
   {
    "duration": 322,
    "start_time": "2024-09-20T23:26:25.250Z"
   },
   {
    "duration": 7,
    "start_time": "2024-09-20T23:27:35.271Z"
   },
   {
    "duration": 205,
    "start_time": "2024-09-20T23:28:34.783Z"
   },
   {
    "duration": 222,
    "start_time": "2024-09-20T23:29:59.109Z"
   },
   {
    "duration": 200,
    "start_time": "2024-09-20T23:30:36.209Z"
   },
   {
    "duration": 435,
    "start_time": "2024-09-20T23:31:16.083Z"
   },
   {
    "duration": 27,
    "start_time": "2024-09-20T23:31:16.520Z"
   },
   {
    "duration": 48,
    "start_time": "2024-09-20T23:31:16.549Z"
   },
   {
    "duration": 1472,
    "start_time": "2024-09-20T23:31:16.598Z"
   },
   {
    "duration": 6,
    "start_time": "2024-09-20T23:31:18.072Z"
   },
   {
    "duration": 24,
    "start_time": "2024-09-20T23:31:18.079Z"
   },
   {
    "duration": 342,
    "start_time": "2024-09-20T23:31:18.105Z"
   },
   {
    "duration": 197,
    "start_time": "2024-09-20T23:32:54.690Z"
   },
   {
    "duration": 215,
    "start_time": "2024-09-20T23:34:02.201Z"
   },
   {
    "duration": 210,
    "start_time": "2024-09-20T23:34:33.591Z"
   },
   {
    "duration": 5,
    "start_time": "2024-09-20T23:34:54.835Z"
   },
   {
    "duration": 144,
    "start_time": "2024-09-20T23:38:24.505Z"
   },
   {
    "duration": 274,
    "start_time": "2024-09-20T23:38:32.735Z"
   },
   {
    "duration": 211,
    "start_time": "2024-09-20T23:40:24.531Z"
   },
   {
    "duration": 193,
    "start_time": "2024-09-20T23:40:54.636Z"
   },
   {
    "duration": 196,
    "start_time": "2024-09-20T23:41:40.436Z"
   },
   {
    "duration": 213,
    "start_time": "2024-09-20T23:42:12.860Z"
   },
   {
    "duration": 20,
    "start_time": "2024-09-20T23:43:29.308Z"
   },
   {
    "duration": 138,
    "start_time": "2024-09-20T23:43:37.309Z"
   },
   {
    "duration": 195,
    "start_time": "2024-09-20T23:43:42.874Z"
   },
   {
    "duration": 232,
    "start_time": "2024-09-21T00:02:39.126Z"
   },
   {
    "duration": 441,
    "start_time": "2024-09-21T00:05:12.279Z"
   },
   {
    "duration": 27,
    "start_time": "2024-09-21T00:05:12.722Z"
   },
   {
    "duration": 76,
    "start_time": "2024-09-21T00:05:12.750Z"
   },
   {
    "duration": 1531,
    "start_time": "2024-09-21T00:05:12.828Z"
   },
   {
    "duration": 5,
    "start_time": "2024-09-21T00:05:14.362Z"
   },
   {
    "duration": 55,
    "start_time": "2024-09-21T00:05:14.369Z"
   },
   {
    "duration": 193,
    "start_time": "2024-09-21T00:05:14.425Z"
   },
   {
    "duration": 5,
    "start_time": "2024-09-21T00:05:38.421Z"
   },
   {
    "duration": 422,
    "start_time": "2024-09-21T00:07:04.798Z"
   },
   {
    "duration": 26,
    "start_time": "2024-09-21T00:07:05.222Z"
   },
   {
    "duration": 47,
    "start_time": "2024-09-21T00:07:05.250Z"
   },
   {
    "duration": 1551,
    "start_time": "2024-09-21T00:07:05.299Z"
   },
   {
    "duration": 6,
    "start_time": "2024-09-21T00:07:06.852Z"
   },
   {
    "duration": 14,
    "start_time": "2024-09-21T00:07:06.860Z"
   },
   {
    "duration": 198,
    "start_time": "2024-09-21T00:07:06.876Z"
   },
   {
    "duration": 5,
    "start_time": "2024-09-21T00:07:19.081Z"
   },
   {
    "duration": 170,
    "start_time": "2024-09-21T00:08:10.652Z"
   },
   {
    "duration": 173,
    "start_time": "2024-09-21T00:08:50.202Z"
   },
   {
    "duration": 171,
    "start_time": "2024-09-21T00:09:36.902Z"
   },
   {
    "duration": 445,
    "start_time": "2024-09-21T00:10:31.514Z"
   },
   {
    "duration": 27,
    "start_time": "2024-09-21T00:10:31.961Z"
   },
   {
    "duration": 48,
    "start_time": "2024-09-21T00:10:31.990Z"
   },
   {
    "duration": 1529,
    "start_time": "2024-09-21T00:10:32.041Z"
   },
   {
    "duration": 6,
    "start_time": "2024-09-21T00:10:33.572Z"
   },
   {
    "duration": 60,
    "start_time": "2024-09-21T00:10:33.579Z"
   },
   {
    "duration": 0,
    "start_time": "2024-09-21T00:10:33.641Z"
   },
   {
    "duration": 9,
    "start_time": "2024-09-21T00:10:58.673Z"
   },
   {
    "duration": 178,
    "start_time": "2024-09-21T00:10:59.261Z"
   },
   {
    "duration": 413,
    "start_time": "2024-09-21T00:12:59.908Z"
   },
   {
    "duration": 28,
    "start_time": "2024-09-21T00:13:00.323Z"
   },
   {
    "duration": 157,
    "start_time": "2024-09-21T00:13:00.353Z"
   },
   {
    "duration": 1548,
    "start_time": "2024-09-21T00:13:00.512Z"
   },
   {
    "duration": 6,
    "start_time": "2024-09-21T00:13:02.062Z"
   },
   {
    "duration": 35,
    "start_time": "2024-09-21T00:13:02.070Z"
   },
   {
    "duration": 185,
    "start_time": "2024-09-21T00:13:02.106Z"
   },
   {
    "duration": 5,
    "start_time": "2024-09-21T00:13:38.003Z"
   },
   {
    "duration": 459,
    "start_time": "2024-09-21T00:14:11.268Z"
   },
   {
    "duration": 27,
    "start_time": "2024-09-21T00:14:11.728Z"
   },
   {
    "duration": 47,
    "start_time": "2024-09-21T00:14:11.756Z"
   },
   {
    "duration": 1592,
    "start_time": "2024-09-21T00:14:11.805Z"
   },
   {
    "duration": 7,
    "start_time": "2024-09-21T00:14:13.399Z"
   },
   {
    "duration": 12,
    "start_time": "2024-09-21T00:14:13.408Z"
   },
   {
    "duration": 202,
    "start_time": "2024-09-21T00:14:13.422Z"
   },
   {
    "duration": 111,
    "start_time": "2024-09-21T00:15:02.286Z"
   },
   {
    "duration": 3595,
    "start_time": "2024-09-21T00:15:51.888Z"
   },
   {
    "duration": 429,
    "start_time": "2024-09-21T00:15:55.486Z"
   },
   {
    "duration": 26,
    "start_time": "2024-09-21T00:15:55.917Z"
   },
   {
    "duration": 48,
    "start_time": "2024-09-21T00:15:55.945Z"
   },
   {
    "duration": 1552,
    "start_time": "2024-09-21T00:15:55.998Z"
   },
   {
    "duration": 898,
    "start_time": "2024-09-21T00:15:57.551Z"
   },
   {
    "duration": 6,
    "start_time": "2024-09-21T00:15:58.451Z"
   },
   {
    "duration": 14,
    "start_time": "2024-09-21T00:15:58.459Z"
   },
   {
    "duration": 196,
    "start_time": "2024-09-21T00:15:58.474Z"
   },
   {
    "duration": 2485,
    "start_time": "2024-09-21T00:16:42.656Z"
   },
   {
    "duration": 363,
    "start_time": "2024-09-21T00:16:45.144Z"
   },
   {
    "duration": 26,
    "start_time": "2024-09-21T00:16:45.509Z"
   },
   {
    "duration": 48,
    "start_time": "2024-09-21T00:16:45.537Z"
   },
   {
    "duration": 967,
    "start_time": "2024-09-21T00:16:45.587Z"
   },
   {
    "duration": 888,
    "start_time": "2024-09-21T00:16:46.555Z"
   },
   {
    "duration": 7,
    "start_time": "2024-09-21T00:16:47.445Z"
   },
   {
    "duration": 17,
    "start_time": "2024-09-21T00:16:47.453Z"
   },
   {
    "duration": 201,
    "start_time": "2024-09-21T00:16:47.471Z"
   },
   {
    "duration": 2630,
    "start_time": "2024-09-21T00:20:51.977Z"
   },
   {
    "duration": 420,
    "start_time": "2024-09-21T00:20:54.609Z"
   },
   {
    "duration": 27,
    "start_time": "2024-09-21T00:20:55.031Z"
   },
   {
    "duration": 4,
    "start_time": "2024-09-21T00:20:55.059Z"
   },
   {
    "duration": 64,
    "start_time": "2024-09-21T00:20:55.065Z"
   },
   {
    "duration": 1009,
    "start_time": "2024-09-21T00:20:55.130Z"
   },
   {
    "duration": 676,
    "start_time": "2024-09-21T00:20:56.141Z"
   },
   {
    "duration": 10,
    "start_time": "2024-09-21T00:20:56.819Z"
   },
   {
    "duration": 9,
    "start_time": "2024-09-21T00:20:56.831Z"
   },
   {
    "duration": 206,
    "start_time": "2024-09-21T00:20:56.842Z"
   },
   {
    "duration": 673,
    "start_time": "2024-09-21T00:21:22.940Z"
   },
   {
    "duration": 633,
    "start_time": "2024-09-21T00:21:48.711Z"
   },
   {
    "duration": 5,
    "start_time": "2024-09-21T00:22:44.471Z"
   },
   {
    "duration": 65,
    "start_time": "2024-09-21T00:30:50.744Z"
   },
   {
    "duration": 270,
    "start_time": "2024-09-21T00:39:18.864Z"
   },
   {
    "duration": 234,
    "start_time": "2024-09-21T00:40:07.002Z"
   },
   {
    "duration": 974,
    "start_time": "2024-09-21T00:40:17.442Z"
   },
   {
    "duration": 1081,
    "start_time": "2024-09-21T00:40:31.870Z"
   },
   {
    "duration": 186,
    "start_time": "2024-09-21T00:42:46.977Z"
   },
   {
    "duration": 2517,
    "start_time": "2024-09-21T00:45:05.662Z"
   },
   {
    "duration": 1303,
    "start_time": "2024-09-21T00:45:08.183Z"
   },
   {
    "duration": 27,
    "start_time": "2024-09-21T00:45:09.488Z"
   },
   {
    "duration": 35,
    "start_time": "2024-09-21T00:45:09.517Z"
   },
   {
    "duration": 71,
    "start_time": "2024-09-21T00:45:09.554Z"
   },
   {
    "duration": 218,
    "start_time": "2024-09-21T00:45:09.626Z"
   },
   {
    "duration": 721,
    "start_time": "2024-09-21T00:45:09.846Z"
   },
   {
    "duration": 5,
    "start_time": "2024-09-21T00:45:10.568Z"
   },
   {
    "duration": 44,
    "start_time": "2024-09-21T00:45:10.574Z"
   },
   {
    "duration": 7,
    "start_time": "2024-09-21T00:45:10.621Z"
   },
   {
    "duration": 4,
    "start_time": "2024-09-21T00:45:10.630Z"
   },
   {
    "duration": 6,
    "start_time": "2024-09-21T00:45:10.636Z"
   },
   {
    "duration": 171,
    "start_time": "2024-09-21T00:45:10.643Z"
   },
   {
    "duration": 668,
    "start_time": "2024-09-21T00:45:10.816Z"
   },
   {
    "duration": 184,
    "start_time": "2024-09-21T00:46:41.203Z"
   },
   {
    "duration": 243,
    "start_time": "2024-09-21T00:48:48.725Z"
   },
   {
    "duration": 8,
    "start_time": "2024-09-21T00:49:00.457Z"
   },
   {
    "duration": 379,
    "start_time": "2024-09-21T00:54:07.774Z"
   },
   {
    "duration": 174,
    "start_time": "2024-09-21T00:54:12.162Z"
   },
   {
    "duration": 5,
    "start_time": "2024-09-21T00:56:57.992Z"
   },
   {
    "duration": 2539,
    "start_time": "2024-09-21T01:02:00.584Z"
   },
   {
    "duration": 1231,
    "start_time": "2024-09-21T01:02:03.126Z"
   },
   {
    "duration": 28,
    "start_time": "2024-09-21T01:02:04.358Z"
   },
   {
    "duration": 5,
    "start_time": "2024-09-21T01:02:04.387Z"
   },
   {
    "duration": 85,
    "start_time": "2024-09-21T01:02:04.395Z"
   },
   {
    "duration": 209,
    "start_time": "2024-09-21T01:02:04.482Z"
   },
   {
    "duration": 217,
    "start_time": "2024-09-21T01:02:04.693Z"
   },
   {
    "duration": 376,
    "start_time": "2024-09-21T01:02:04.912Z"
   },
   {
    "duration": 193,
    "start_time": "2024-09-21T01:02:05.290Z"
   },
   {
    "duration": 5,
    "start_time": "2024-09-21T01:02:05.484Z"
   },
   {
    "duration": 16,
    "start_time": "2024-09-21T01:02:05.498Z"
   },
   {
    "duration": 26,
    "start_time": "2024-09-21T01:02:05.515Z"
   },
   {
    "duration": 29,
    "start_time": "2024-09-21T01:02:05.543Z"
   },
   {
    "duration": 40,
    "start_time": "2024-09-21T01:02:05.574Z"
   },
   {
    "duration": 235,
    "start_time": "2024-09-21T01:02:05.616Z"
   },
   {
    "duration": 729,
    "start_time": "2024-09-21T01:02:05.853Z"
   },
   {
    "duration": 3,
    "start_time": "2024-09-21T01:08:05.491Z"
   },
   {
    "duration": 204,
    "start_time": "2024-09-21T01:08:29.076Z"
   },
   {
    "duration": 2516,
    "start_time": "2024-09-21T01:09:12.810Z"
   },
   {
    "duration": 1235,
    "start_time": "2024-09-21T01:09:15.328Z"
   },
   {
    "duration": 27,
    "start_time": "2024-09-21T01:09:16.565Z"
   },
   {
    "duration": 17,
    "start_time": "2024-09-21T01:09:16.594Z"
   },
   {
    "duration": 72,
    "start_time": "2024-09-21T01:09:16.613Z"
   },
   {
    "duration": 269,
    "start_time": "2024-09-21T01:09:16.687Z"
   },
   {
    "duration": 207,
    "start_time": "2024-09-21T01:09:16.957Z"
   },
   {
    "duration": 367,
    "start_time": "2024-09-21T01:09:17.166Z"
   },
   {
    "duration": 197,
    "start_time": "2024-09-21T01:09:17.534Z"
   },
   {
    "duration": 4,
    "start_time": "2024-09-21T01:09:17.734Z"
   },
   {
    "duration": 9,
    "start_time": "2024-09-21T01:09:17.739Z"
   },
   {
    "duration": 7,
    "start_time": "2024-09-21T01:09:17.750Z"
   },
   {
    "duration": 27,
    "start_time": "2024-09-21T01:09:17.758Z"
   },
   {
    "duration": 20,
    "start_time": "2024-09-21T01:09:17.787Z"
   },
   {
    "duration": 177,
    "start_time": "2024-09-21T01:09:17.809Z"
   },
   {
    "duration": 687,
    "start_time": "2024-09-21T01:09:17.988Z"
   },
   {
    "duration": 199,
    "start_time": "2024-09-21T01:19:07.354Z"
   },
   {
    "duration": 105,
    "start_time": "2024-09-21T01:34:40.245Z"
   },
   {
    "duration": 4,
    "start_time": "2024-09-21T01:34:50.727Z"
   },
   {
    "duration": 2511,
    "start_time": "2024-09-21T01:35:04.912Z"
   },
   {
    "duration": 1454,
    "start_time": "2024-09-21T01:35:07.426Z"
   },
   {
    "duration": 28,
    "start_time": "2024-09-21T01:35:08.882Z"
   },
   {
    "duration": 4,
    "start_time": "2024-09-21T01:35:08.912Z"
   },
   {
    "duration": 57,
    "start_time": "2024-09-21T01:35:08.917Z"
   },
   {
    "duration": 207,
    "start_time": "2024-09-21T01:35:08.976Z"
   },
   {
    "duration": 217,
    "start_time": "2024-09-21T01:35:09.185Z"
   },
   {
    "duration": 375,
    "start_time": "2024-09-21T01:35:09.404Z"
   },
   {
    "duration": 276,
    "start_time": "2024-09-21T01:35:09.781Z"
   },
   {
    "duration": 5,
    "start_time": "2024-09-21T01:35:10.060Z"
   },
   {
    "duration": 55,
    "start_time": "2024-09-21T01:35:10.067Z"
   },
   {
    "duration": 31,
    "start_time": "2024-09-21T01:35:10.124Z"
   },
   {
    "duration": 6,
    "start_time": "2024-09-21T01:35:10.157Z"
   },
   {
    "duration": 20,
    "start_time": "2024-09-21T01:35:10.165Z"
   },
   {
    "duration": 190,
    "start_time": "2024-09-21T01:35:10.187Z"
   },
   {
    "duration": 597,
    "start_time": "2024-09-21T01:35:10.378Z"
   },
   {
    "duration": 5,
    "start_time": "2024-09-21T01:35:10.977Z"
   },
   {
    "duration": 6,
    "start_time": "2024-09-21T01:38:28.660Z"
   },
   {
    "duration": 5,
    "start_time": "2024-09-21T01:38:32.867Z"
   },
   {
    "duration": 53,
    "start_time": "2024-09-21T01:38:35.122Z"
   },
   {
    "duration": 6,
    "start_time": "2024-09-21T01:38:54.677Z"
   },
   {
    "duration": 138,
    "start_time": "2024-09-21T01:38:54.968Z"
   },
   {
    "duration": 2566,
    "start_time": "2024-09-21T01:39:04.942Z"
   },
   {
    "duration": 1501,
    "start_time": "2024-09-21T01:39:07.512Z"
   },
   {
    "duration": 27,
    "start_time": "2024-09-21T01:39:09.015Z"
   },
   {
    "duration": 32,
    "start_time": "2024-09-21T01:39:09.044Z"
   },
   {
    "duration": 50,
    "start_time": "2024-09-21T01:39:09.078Z"
   },
   {
    "duration": 248,
    "start_time": "2024-09-21T01:39:09.129Z"
   },
   {
    "duration": 211,
    "start_time": "2024-09-21T01:39:09.379Z"
   },
   {
    "duration": 416,
    "start_time": "2024-09-21T01:39:09.592Z"
   },
   {
    "duration": 288,
    "start_time": "2024-09-21T01:39:10.010Z"
   },
   {
    "duration": 12,
    "start_time": "2024-09-21T01:39:10.301Z"
   },
   {
    "duration": 8,
    "start_time": "2024-09-21T01:39:10.315Z"
   },
   {
    "duration": 12,
    "start_time": "2024-09-21T01:39:10.325Z"
   },
   {
    "duration": 4,
    "start_time": "2024-09-21T01:39:10.340Z"
   },
   {
    "duration": 31,
    "start_time": "2024-09-21T01:39:10.346Z"
   },
   {
    "duration": 210,
    "start_time": "2024-09-21T01:39:10.379Z"
   },
   {
    "duration": 723,
    "start_time": "2024-09-21T01:39:10.591Z"
   },
   {
    "duration": 9,
    "start_time": "2024-09-21T01:39:11.317Z"
   },
   {
    "duration": 169,
    "start_time": "2024-09-21T01:39:11.328Z"
   },
   {
    "duration": 2446,
    "start_time": "2024-09-21T01:44:30.564Z"
   },
   {
    "duration": 1419,
    "start_time": "2024-09-21T01:44:33.013Z"
   },
   {
    "duration": 28,
    "start_time": "2024-09-21T01:44:34.434Z"
   },
   {
    "duration": 4,
    "start_time": "2024-09-21T01:44:34.464Z"
   },
   {
    "duration": 43,
    "start_time": "2024-09-21T01:44:34.471Z"
   },
   {
    "duration": 215,
    "start_time": "2024-09-21T01:44:34.516Z"
   },
   {
    "duration": 197,
    "start_time": "2024-09-21T01:44:34.733Z"
   },
   {
    "duration": 360,
    "start_time": "2024-09-21T01:44:34.932Z"
   },
   {
    "duration": 268,
    "start_time": "2024-09-21T01:44:35.298Z"
   },
   {
    "duration": 4,
    "start_time": "2024-09-21T01:44:35.568Z"
   },
   {
    "duration": 23,
    "start_time": "2024-09-21T01:44:35.574Z"
   },
   {
    "duration": 28,
    "start_time": "2024-09-21T01:44:35.599Z"
   },
   {
    "duration": 10,
    "start_time": "2024-09-21T01:44:35.628Z"
   },
   {
    "duration": 4,
    "start_time": "2024-09-21T01:44:35.641Z"
   },
   {
    "duration": 201,
    "start_time": "2024-09-21T01:44:35.647Z"
   },
   {
    "duration": 613,
    "start_time": "2024-09-21T01:44:35.850Z"
   },
   {
    "duration": 119,
    "start_time": "2024-09-21T01:44:36.465Z"
   },
   {
    "duration": 0,
    "start_time": "2024-09-21T01:44:36.585Z"
   },
   {
    "duration": 0,
    "start_time": "2024-09-21T01:44:36.586Z"
   },
   {
    "duration": 0,
    "start_time": "2024-09-21T01:44:36.597Z"
   },
   {
    "duration": 0,
    "start_time": "2024-09-21T01:44:36.599Z"
   },
   {
    "duration": 0,
    "start_time": "2024-09-21T01:44:36.600Z"
   },
   {
    "duration": 1,
    "start_time": "2024-09-21T01:44:36.600Z"
   },
   {
    "duration": 21,
    "start_time": "2024-09-21T01:45:15.267Z"
   },
   {
    "duration": 2515,
    "start_time": "2024-09-21T01:45:23.799Z"
   },
   {
    "duration": 1451,
    "start_time": "2024-09-21T01:45:26.317Z"
   },
   {
    "duration": 27,
    "start_time": "2024-09-21T01:45:27.769Z"
   },
   {
    "duration": 5,
    "start_time": "2024-09-21T01:45:27.797Z"
   },
   {
    "duration": 43,
    "start_time": "2024-09-21T01:45:27.805Z"
   },
   {
    "duration": 222,
    "start_time": "2024-09-21T01:45:27.849Z"
   },
   {
    "duration": 203,
    "start_time": "2024-09-21T01:45:28.073Z"
   },
   {
    "duration": 390,
    "start_time": "2024-09-21T01:45:28.278Z"
   },
   {
    "duration": 275,
    "start_time": "2024-09-21T01:45:28.670Z"
   },
   {
    "duration": 5,
    "start_time": "2024-09-21T01:45:28.947Z"
   },
   {
    "duration": 15,
    "start_time": "2024-09-21T01:45:28.953Z"
   },
   {
    "duration": 5,
    "start_time": "2024-09-21T01:45:28.970Z"
   },
   {
    "duration": 6,
    "start_time": "2024-09-21T01:45:28.977Z"
   },
   {
    "duration": 13,
    "start_time": "2024-09-21T01:45:28.986Z"
   },
   {
    "duration": 225,
    "start_time": "2024-09-21T01:45:29.001Z"
   },
   {
    "duration": 650,
    "start_time": "2024-09-21T01:45:29.228Z"
   },
   {
    "duration": 130,
    "start_time": "2024-09-21T01:45:29.879Z"
   },
   {
    "duration": 0,
    "start_time": "2024-09-21T01:45:30.011Z"
   },
   {
    "duration": 0,
    "start_time": "2024-09-21T01:45:30.012Z"
   },
   {
    "duration": 0,
    "start_time": "2024-09-21T01:45:30.014Z"
   },
   {
    "duration": 0,
    "start_time": "2024-09-21T01:45:30.016Z"
   },
   {
    "duration": 0,
    "start_time": "2024-09-21T01:45:30.017Z"
   },
   {
    "duration": 0,
    "start_time": "2024-09-21T01:45:30.018Z"
   },
   {
    "duration": 2569,
    "start_time": "2024-09-21T01:45:57.501Z"
   },
   {
    "duration": 1389,
    "start_time": "2024-09-21T01:46:00.072Z"
   },
   {
    "duration": 28,
    "start_time": "2024-09-21T01:46:01.462Z"
   },
   {
    "duration": 5,
    "start_time": "2024-09-21T01:46:01.492Z"
   },
   {
    "duration": 61,
    "start_time": "2024-09-21T01:46:01.499Z"
   },
   {
    "duration": 211,
    "start_time": "2024-09-21T01:46:01.562Z"
   },
   {
    "duration": 215,
    "start_time": "2024-09-21T01:46:01.774Z"
   },
   {
    "duration": 381,
    "start_time": "2024-09-21T01:46:01.990Z"
   },
   {
    "duration": 286,
    "start_time": "2024-09-21T01:46:02.372Z"
   },
   {
    "duration": 5,
    "start_time": "2024-09-21T01:46:02.661Z"
   },
   {
    "duration": 5,
    "start_time": "2024-09-21T01:46:02.667Z"
   },
   {
    "duration": 13,
    "start_time": "2024-09-21T01:46:02.674Z"
   },
   {
    "duration": 17,
    "start_time": "2024-09-21T01:46:02.698Z"
   },
   {
    "duration": 41,
    "start_time": "2024-09-21T01:46:02.717Z"
   },
   {
    "duration": 217,
    "start_time": "2024-09-21T01:46:02.760Z"
   },
   {
    "duration": 626,
    "start_time": "2024-09-21T01:46:02.979Z"
   },
   {
    "duration": 17,
    "start_time": "2024-09-21T01:46:03.607Z"
   },
   {
    "duration": 9,
    "start_time": "2024-09-21T01:46:03.626Z"
   },
   {
    "duration": 28,
    "start_time": "2024-09-21T01:46:03.636Z"
   },
   {
    "duration": 42995,
    "start_time": "2024-09-21T01:46:03.666Z"
   },
   {
    "duration": 1855,
    "start_time": "2024-09-21T01:46:46.663Z"
   },
   {
    "duration": 5510,
    "start_time": "2024-09-21T01:46:48.520Z"
   },
   {
    "duration": 404,
    "start_time": "2024-09-21T01:46:54.031Z"
   },
   {
    "duration": 47272,
    "start_time": "2024-09-21T01:47:13.254Z"
   },
   {
    "duration": 1393,
    "start_time": "2024-09-21T01:48:00.528Z"
   },
   {
    "duration": 29,
    "start_time": "2024-09-21T01:48:01.922Z"
   },
   {
    "duration": 10,
    "start_time": "2024-09-21T01:48:01.952Z"
   },
   {
    "duration": 45,
    "start_time": "2024-09-21T01:48:01.964Z"
   },
   {
    "duration": 234,
    "start_time": "2024-09-21T01:48:02.011Z"
   },
   {
    "duration": 217,
    "start_time": "2024-09-21T01:48:02.247Z"
   },
   {
    "duration": 376,
    "start_time": "2024-09-21T01:48:02.466Z"
   },
   {
    "duration": 280,
    "start_time": "2024-09-21T01:48:02.844Z"
   },
   {
    "duration": 4,
    "start_time": "2024-09-21T01:48:03.126Z"
   },
   {
    "duration": 9,
    "start_time": "2024-09-21T01:48:03.132Z"
   },
   {
    "duration": 22,
    "start_time": "2024-09-21T01:48:03.143Z"
   },
   {
    "duration": 10,
    "start_time": "2024-09-21T01:48:03.167Z"
   },
   {
    "duration": 10,
    "start_time": "2024-09-21T01:48:03.178Z"
   },
   {
    "duration": 215,
    "start_time": "2024-09-21T01:48:03.190Z"
   },
   {
    "duration": 665,
    "start_time": "2024-09-21T01:48:03.409Z"
   },
   {
    "duration": 10,
    "start_time": "2024-09-21T01:48:04.076Z"
   },
   {
    "duration": 30,
    "start_time": "2024-09-21T01:48:04.097Z"
   },
   {
    "duration": 14,
    "start_time": "2024-09-21T01:48:04.129Z"
   },
   {
    "duration": 2537,
    "start_time": "2024-09-21T01:48:04.145Z"
   },
   {
    "duration": 0,
    "start_time": "2024-09-21T01:48:06.684Z"
   },
   {
    "duration": 0,
    "start_time": "2024-09-21T01:48:06.685Z"
   },
   {
    "duration": 5514,
    "start_time": "2024-09-21T01:50:23.558Z"
   },
   {
    "duration": 1526,
    "start_time": "2024-09-21T01:50:29.074Z"
   },
   {
    "duration": 29,
    "start_time": "2024-09-21T01:50:30.603Z"
   },
   {
    "duration": 4,
    "start_time": "2024-09-21T01:50:30.634Z"
   },
   {
    "duration": 52,
    "start_time": "2024-09-21T01:50:30.641Z"
   },
   {
    "duration": 237,
    "start_time": "2024-09-21T01:50:30.695Z"
   },
   {
    "duration": 221,
    "start_time": "2024-09-21T01:50:30.934Z"
   },
   {
    "duration": 402,
    "start_time": "2024-09-21T01:50:31.157Z"
   },
   {
    "duration": 303,
    "start_time": "2024-09-21T01:50:31.561Z"
   },
   {
    "duration": 5,
    "start_time": "2024-09-21T01:50:31.867Z"
   },
   {
    "duration": 24,
    "start_time": "2024-09-21T01:50:31.874Z"
   },
   {
    "duration": 20,
    "start_time": "2024-09-21T01:50:31.900Z"
   },
   {
    "duration": 6,
    "start_time": "2024-09-21T01:50:31.922Z"
   },
   {
    "duration": 4,
    "start_time": "2024-09-21T01:50:31.931Z"
   },
   {
    "duration": 223,
    "start_time": "2024-09-21T01:50:31.936Z"
   },
   {
    "duration": 648,
    "start_time": "2024-09-21T01:50:32.160Z"
   },
   {
    "duration": 14,
    "start_time": "2024-09-21T01:50:32.811Z"
   },
   {
    "duration": 86,
    "start_time": "2024-09-21T01:50:32.826Z"
   },
   {
    "duration": 13,
    "start_time": "2024-09-21T01:50:32.914Z"
   },
   {
    "duration": 2430,
    "start_time": "2024-09-21T01:50:32.929Z"
   },
   {
    "duration": 0,
    "start_time": "2024-09-21T01:50:35.361Z"
   },
   {
    "duration": 0,
    "start_time": "2024-09-21T01:50:35.362Z"
   },
   {
    "duration": 0,
    "start_time": "2024-09-21T01:50:35.364Z"
   },
   {
    "duration": 4302,
    "start_time": "2024-09-21T01:51:20.161Z"
   },
   {
    "duration": 1242,
    "start_time": "2024-09-21T01:51:42.142Z"
   },
   {
    "duration": 5531,
    "start_time": "2024-09-21T01:51:43.387Z"
   },
   {
    "duration": 1417,
    "start_time": "2024-09-21T01:51:48.920Z"
   },
   {
    "duration": 28,
    "start_time": "2024-09-21T01:51:50.339Z"
   },
   {
    "duration": 5,
    "start_time": "2024-09-21T01:51:50.370Z"
   },
   {
    "duration": 41,
    "start_time": "2024-09-21T01:51:50.377Z"
   },
   {
    "duration": 211,
    "start_time": "2024-09-21T01:51:50.420Z"
   },
   {
    "duration": 201,
    "start_time": "2024-09-21T01:51:50.632Z"
   },
   {
    "duration": 345,
    "start_time": "2024-09-21T01:51:50.835Z"
   },
   {
    "duration": 270,
    "start_time": "2024-09-21T01:51:51.182Z"
   },
   {
    "duration": 5,
    "start_time": "2024-09-21T01:51:51.453Z"
   },
   {
    "duration": 6,
    "start_time": "2024-09-21T01:51:51.459Z"
   },
   {
    "duration": 15,
    "start_time": "2024-09-21T01:51:51.467Z"
   },
   {
    "duration": 41,
    "start_time": "2024-09-21T01:51:51.485Z"
   },
   {
    "duration": 11,
    "start_time": "2024-09-21T01:51:51.527Z"
   },
   {
    "duration": 197,
    "start_time": "2024-09-21T01:51:51.539Z"
   },
   {
    "duration": 638,
    "start_time": "2024-09-21T01:51:51.738Z"
   },
   {
    "duration": 10,
    "start_time": "2024-09-21T01:51:52.377Z"
   },
   {
    "duration": 20,
    "start_time": "2024-09-21T01:51:52.389Z"
   },
   {
    "duration": 10,
    "start_time": "2024-09-21T01:51:52.411Z"
   },
   {
    "duration": 2223,
    "start_time": "2024-09-21T01:51:52.422Z"
   },
   {
    "duration": 0,
    "start_time": "2024-09-21T01:51:54.647Z"
   },
   {
    "duration": 0,
    "start_time": "2024-09-21T01:51:54.648Z"
   },
   {
    "duration": 0,
    "start_time": "2024-09-21T01:51:54.649Z"
   },
   {
    "duration": 12247,
    "start_time": "2024-09-21T01:52:46.712Z"
   },
   {
    "duration": 47177,
    "start_time": "2024-09-21T01:52:58.961Z"
   },
   {
    "duration": 1390,
    "start_time": "2024-09-21T01:53:46.140Z"
   },
   {
    "duration": 30,
    "start_time": "2024-09-21T01:53:47.533Z"
   },
   {
    "duration": 5,
    "start_time": "2024-09-21T01:53:47.564Z"
   },
   {
    "duration": 50,
    "start_time": "2024-09-21T01:53:47.570Z"
   },
   {
    "duration": 225,
    "start_time": "2024-09-21T01:53:47.622Z"
   },
   {
    "duration": 195,
    "start_time": "2024-09-21T01:53:47.849Z"
   },
   {
    "duration": 369,
    "start_time": "2024-09-21T01:53:48.046Z"
   },
   {
    "duration": 279,
    "start_time": "2024-09-21T01:53:48.418Z"
   },
   {
    "duration": 4,
    "start_time": "2024-09-21T01:53:48.699Z"
   },
   {
    "duration": 18,
    "start_time": "2024-09-21T01:53:48.705Z"
   },
   {
    "duration": 5,
    "start_time": "2024-09-21T01:53:48.725Z"
   },
   {
    "duration": 5,
    "start_time": "2024-09-21T01:53:48.732Z"
   },
   {
    "duration": 4,
    "start_time": "2024-09-21T01:53:48.738Z"
   },
   {
    "duration": 212,
    "start_time": "2024-09-21T01:53:48.743Z"
   },
   {
    "duration": 609,
    "start_time": "2024-09-21T01:53:48.956Z"
   },
   {
    "duration": 13,
    "start_time": "2024-09-21T01:53:49.567Z"
   },
   {
    "duration": 23,
    "start_time": "2024-09-21T01:53:49.582Z"
   },
   {
    "duration": 7,
    "start_time": "2024-09-21T01:53:49.606Z"
   },
   {
    "duration": 2421,
    "start_time": "2024-09-21T01:53:49.615Z"
   },
   {
    "duration": 0,
    "start_time": "2024-09-21T01:53:52.038Z"
   },
   {
    "duration": 0,
    "start_time": "2024-09-21T01:53:52.039Z"
   },
   {
    "duration": 0,
    "start_time": "2024-09-21T01:53:52.040Z"
   },
   {
    "duration": 5701,
    "start_time": "2024-09-21T01:54:58.290Z"
   },
   {
    "duration": 1502,
    "start_time": "2024-09-21T01:55:03.993Z"
   },
   {
    "duration": 30,
    "start_time": "2024-09-21T01:55:05.497Z"
   },
   {
    "duration": 4,
    "start_time": "2024-09-21T01:55:05.528Z"
   },
   {
    "duration": 71,
    "start_time": "2024-09-21T01:55:05.534Z"
   },
   {
    "duration": 245,
    "start_time": "2024-09-21T01:55:05.607Z"
   },
   {
    "duration": 226,
    "start_time": "2024-09-21T01:55:05.854Z"
   },
   {
    "duration": 400,
    "start_time": "2024-09-21T01:55:06.081Z"
   },
   {
    "duration": 332,
    "start_time": "2024-09-21T01:55:06.482Z"
   },
   {
    "duration": 6,
    "start_time": "2024-09-21T01:55:06.816Z"
   },
   {
    "duration": 17,
    "start_time": "2024-09-21T01:55:06.824Z"
   },
   {
    "duration": 95,
    "start_time": "2024-09-21T01:55:06.843Z"
   },
   {
    "duration": 15,
    "start_time": "2024-09-21T01:55:06.940Z"
   },
   {
    "duration": 5,
    "start_time": "2024-09-21T01:55:06.958Z"
   },
   {
    "duration": 198,
    "start_time": "2024-09-21T01:55:06.965Z"
   },
   {
    "duration": 636,
    "start_time": "2024-09-21T01:55:07.165Z"
   },
   {
    "duration": 15,
    "start_time": "2024-09-21T01:55:07.803Z"
   },
   {
    "duration": 22,
    "start_time": "2024-09-21T01:55:07.821Z"
   },
   {
    "duration": 20,
    "start_time": "2024-09-21T01:55:07.844Z"
   },
   {
    "duration": 2438,
    "start_time": "2024-09-21T01:55:07.866Z"
   },
   {
    "duration": 0,
    "start_time": "2024-09-21T01:55:10.306Z"
   },
   {
    "duration": 0,
    "start_time": "2024-09-21T01:55:10.309Z"
   },
   {
    "duration": 0,
    "start_time": "2024-09-21T01:55:10.311Z"
   }
  ],
  "kernelspec": {
   "display_name": "Python 3 (ipykernel)",
   "language": "python",
   "name": "python3"
  },
  "language_info": {
   "codemirror_mode": {
    "name": "ipython",
    "version": 3
   },
   "file_extension": ".py",
   "mimetype": "text/x-python",
   "name": "python",
   "nbconvert_exporter": "python",
   "pygments_lexer": "ipython3",
   "version": "3.9.5"
  },
  "toc": {
   "base_numbering": 1,
   "nav_menu": {},
   "number_sections": false,
   "sideBar": true,
   "skip_h1_title": false,
   "title_cell": "Table of Contents",
   "title_sidebar": "Contents",
   "toc_cell": false,
   "toc_position": {},
   "toc_section_display": true,
   "toc_window_display": false
  },
  "varInspector": {
   "cols": {
    "lenName": 16,
    "lenType": 16,
    "lenVar": 40
   },
   "kernels_config": {
    "python": {
     "delete_cmd_postfix": "",
     "delete_cmd_prefix": "del ",
     "library": "var_list.py",
     "varRefreshCmd": "print(var_dic_list())"
    },
    "r": {
     "delete_cmd_postfix": ") ",
     "delete_cmd_prefix": "rm(",
     "library": "var_list.r",
     "varRefreshCmd": "cat(var_dic_list()) "
    }
   },
   "types_to_exclude": [
    "module",
    "function",
    "builtin_function_or_method",
    "instance",
    "_Feature"
   ],
   "window_display": false
  }
 },
 "nbformat": 4,
 "nbformat_minor": 5
}
