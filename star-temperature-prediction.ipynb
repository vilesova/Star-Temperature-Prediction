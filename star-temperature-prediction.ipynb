{
 "cells": [
  {
   "cell_type": "markdown",
   "id": "corresponding-armstrong",
   "metadata": {
    "ExecuteTime": {
     "end_time": "2022-05-05T04:58:05.692448Z",
     "start_time": "2022-05-05T04:58:05.688565Z"
    }
   },
   "source": [
    "## Загрузка данных"
   ]
  },
  {
   "cell_type": "markdown",
   "id": "812b7d03",
   "metadata": {},
   "source": [
    "Устанавливаем нужные библиотеки:"
   ]
  },
  {
   "cell_type": "code",
   "execution_count": 1,
   "id": "de19a784",
   "metadata": {},
   "outputs": [],
   "source": [
    "!pip install phik -q\n",
    "!pip install tensorflow -q"
   ]
  },
  {
   "cell_type": "markdown",
   "id": "d4c3c2e4",
   "metadata": {},
   "source": [
    "Импортируем необходимые библиотеки для работы с файлами, данными, построением графиков и визуализацией:"
   ]
  },
  {
   "cell_type": "code",
   "execution_count": 2,
   "id": "19970198",
   "metadata": {},
   "outputs": [],
   "source": [
    "import os\n",
    "import pandas as pd\n",
    "import numpy as np\n",
    "import matplotlib.pyplot as plt\n",
    "import seaborn as sns\n",
    "from phik import phik_matrix\n",
    "import matplotlib.colors as mcolors\n",
    "from sklearn.model_selection import train_test_split\n",
    "from sklearn.preprocessing import StandardScaler, OneHotEncoder\n",
    "import warnings\n",
    "warnings.filterwarnings('ignore')\n",
    "os.environ['TF_CPP_MIN_LOG_LEVEL'] = '3'\n",
    "import tensorflow as tf\n",
    "from tensorflow.keras import layers, models\n",
    "from tensorflow.keras.layers import Dropout\n",
    "from sklearn.metrics import mean_squared_error\n",
    "from math import sqrt\n",
    "from sklearn.metrics import make_scorer\n",
    "from sklearn.preprocessing import MinMaxScaler\n",
    "import tensorflow as tf\n",
    "from math import sqrt\n",
    "from tensorflow.keras import models, layers"
   ]
  },
  {
   "cell_type": "markdown",
   "id": "46a0e953",
   "metadata": {},
   "source": [
    "Создаем функцию, которая принимает путь к файлу и загружает данные в DataFrame, и выполняем её:"
   ]
  },
  {
   "cell_type": "code",
   "execution_count": 3,
   "id": "spectacular-folder",
   "metadata": {},
   "outputs": [
    {
     "name": "stdout",
     "output_type": "stream",
     "text": [
      "Данные из файла '/datasets/6_class.csv' успешно загружены.\n"
     ]
    }
   ],
   "source": [
    "def load_data(file_path, delimiter=','):\n",
    "    # Проверка существования файла по указанному пути\n",
    "    if os.path.exists(file_path):\n",
    "        # Загрузка данных из файла в датафрейм с использованием указанного разделителя\n",
    "        data = pd.read_csv(file_path, delimiter=delimiter)\n",
    "        print(f\"Данные из файла '{file_path}' успешно загружены.\")\n",
    "        return data\n",
    "    else:\n",
    "        # Вывод сообщения о том, что файл не существует\n",
    "        print(f\"Файл '{file_path}' не существует.\")\n",
    "        return None\n",
    "\n",
    "data = load_data('/datasets/6_class.csv')"
   ]
  },
  {
   "cell_type": "markdown",
   "id": "simple-subdivision",
   "metadata": {},
   "source": [
    "## Предобработка и анализ данных"
   ]
  },
  {
   "cell_type": "markdown",
   "id": "84902941",
   "metadata": {},
   "source": [
    "Удаляем столбец 'Unnamed: 0' из DataFrame, чтобы избежать дублирования индексов:"
   ]
  },
  {
   "cell_type": "code",
   "execution_count": 4,
   "id": "21bcf9f6",
   "metadata": {},
   "outputs": [],
   "source": [
    "data = data.drop('Unnamed: 0', axis=1)"
   ]
  },
  {
   "cell_type": "markdown",
   "id": "e3287a24",
   "metadata": {},
   "source": [
    "Анализируем данные, чтобы понять их структуру и качество, а также принять решения о дальнейшей обработке:"
   ]
  },
  {
   "cell_type": "code",
   "execution_count": 5,
   "id": "flush-dream",
   "metadata": {},
   "outputs": [
    {
     "data": {
      "text/html": [
       "<div>\n",
       "<style scoped>\n",
       "    .dataframe tbody tr th:only-of-type {\n",
       "        vertical-align: middle;\n",
       "    }\n",
       "\n",
       "    .dataframe tbody tr th {\n",
       "        vertical-align: top;\n",
       "    }\n",
       "\n",
       "    .dataframe thead th {\n",
       "        text-align: right;\n",
       "    }\n",
       "</style>\n",
       "<table border=\"1\" class=\"dataframe\">\n",
       "  <thead>\n",
       "    <tr style=\"text-align: right;\">\n",
       "      <th></th>\n",
       "      <th>Temperature (K)</th>\n",
       "      <th>Luminosity(L/Lo)</th>\n",
       "      <th>Radius(R/Ro)</th>\n",
       "      <th>Absolute magnitude(Mv)</th>\n",
       "      <th>Star type</th>\n",
       "      <th>Star color</th>\n",
       "    </tr>\n",
       "  </thead>\n",
       "  <tbody>\n",
       "    <tr>\n",
       "      <th>0</th>\n",
       "      <td>3068</td>\n",
       "      <td>0.002400</td>\n",
       "      <td>0.1700</td>\n",
       "      <td>16.12</td>\n",
       "      <td>0</td>\n",
       "      <td>Red</td>\n",
       "    </tr>\n",
       "    <tr>\n",
       "      <th>1</th>\n",
       "      <td>3042</td>\n",
       "      <td>0.000500</td>\n",
       "      <td>0.1542</td>\n",
       "      <td>16.60</td>\n",
       "      <td>0</td>\n",
       "      <td>Red</td>\n",
       "    </tr>\n",
       "    <tr>\n",
       "      <th>2</th>\n",
       "      <td>2600</td>\n",
       "      <td>0.000300</td>\n",
       "      <td>0.1020</td>\n",
       "      <td>18.70</td>\n",
       "      <td>0</td>\n",
       "      <td>Red</td>\n",
       "    </tr>\n",
       "    <tr>\n",
       "      <th>3</th>\n",
       "      <td>2800</td>\n",
       "      <td>0.000200</td>\n",
       "      <td>0.1600</td>\n",
       "      <td>16.65</td>\n",
       "      <td>0</td>\n",
       "      <td>Red</td>\n",
       "    </tr>\n",
       "    <tr>\n",
       "      <th>4</th>\n",
       "      <td>1939</td>\n",
       "      <td>0.000138</td>\n",
       "      <td>0.1030</td>\n",
       "      <td>20.06</td>\n",
       "      <td>0</td>\n",
       "      <td>Red</td>\n",
       "    </tr>\n",
       "  </tbody>\n",
       "</table>\n",
       "</div>"
      ],
      "text/plain": [
       "   Temperature (K)  Luminosity(L/Lo)  Radius(R/Ro)  Absolute magnitude(Mv)  \\\n",
       "0             3068          0.002400        0.1700                   16.12   \n",
       "1             3042          0.000500        0.1542                   16.60   \n",
       "2             2600          0.000300        0.1020                   18.70   \n",
       "3             2800          0.000200        0.1600                   16.65   \n",
       "4             1939          0.000138        0.1030                   20.06   \n",
       "\n",
       "   Star type Star color  \n",
       "0          0        Red  \n",
       "1          0        Red  \n",
       "2          0        Red  \n",
       "3          0        Red  \n",
       "4          0        Red  "
      ]
     },
     "metadata": {},
     "output_type": "display_data"
    },
    {
     "name": "stdout",
     "output_type": "stream",
     "text": [
      "<class 'pandas.core.frame.DataFrame'>\n",
      "RangeIndex: 240 entries, 0 to 239\n",
      "Data columns (total 6 columns):\n",
      " #   Column                  Non-Null Count  Dtype  \n",
      "---  ------                  --------------  -----  \n",
      " 0   Temperature (K)         240 non-null    int64  \n",
      " 1   Luminosity(L/Lo)        240 non-null    float64\n",
      " 2   Radius(R/Ro)            240 non-null    float64\n",
      " 3   Absolute magnitude(Mv)  240 non-null    float64\n",
      " 4   Star type               240 non-null    int64  \n",
      " 5   Star color              240 non-null    object \n",
      "dtypes: float64(3), int64(2), object(1)\n",
      "memory usage: 11.4+ KB\n"
     ]
    },
    {
     "data": {
      "text/html": [
       "<div>\n",
       "<style scoped>\n",
       "    .dataframe tbody tr th:only-of-type {\n",
       "        vertical-align: middle;\n",
       "    }\n",
       "\n",
       "    .dataframe tbody tr th {\n",
       "        vertical-align: top;\n",
       "    }\n",
       "\n",
       "    .dataframe thead th {\n",
       "        text-align: right;\n",
       "    }\n",
       "</style>\n",
       "<table border=\"1\" class=\"dataframe\">\n",
       "  <thead>\n",
       "    <tr style=\"text-align: right;\">\n",
       "      <th></th>\n",
       "      <th>Temperature (K)</th>\n",
       "      <th>Luminosity(L/Lo)</th>\n",
       "      <th>Radius(R/Ro)</th>\n",
       "      <th>Absolute magnitude(Mv)</th>\n",
       "      <th>Star type</th>\n",
       "    </tr>\n",
       "  </thead>\n",
       "  <tbody>\n",
       "    <tr>\n",
       "      <th>count</th>\n",
       "      <td>240.000000</td>\n",
       "      <td>240.000000</td>\n",
       "      <td>240.000000</td>\n",
       "      <td>240.000000</td>\n",
       "      <td>240.000000</td>\n",
       "    </tr>\n",
       "    <tr>\n",
       "      <th>mean</th>\n",
       "      <td>10497.462500</td>\n",
       "      <td>107188.361635</td>\n",
       "      <td>237.157781</td>\n",
       "      <td>4.382396</td>\n",
       "      <td>2.500000</td>\n",
       "    </tr>\n",
       "    <tr>\n",
       "      <th>std</th>\n",
       "      <td>9552.425037</td>\n",
       "      <td>179432.244940</td>\n",
       "      <td>517.155763</td>\n",
       "      <td>10.532512</td>\n",
       "      <td>1.711394</td>\n",
       "    </tr>\n",
       "    <tr>\n",
       "      <th>min</th>\n",
       "      <td>1939.000000</td>\n",
       "      <td>0.000080</td>\n",
       "      <td>0.008400</td>\n",
       "      <td>-11.920000</td>\n",
       "      <td>0.000000</td>\n",
       "    </tr>\n",
       "    <tr>\n",
       "      <th>25%</th>\n",
       "      <td>3344.250000</td>\n",
       "      <td>0.000865</td>\n",
       "      <td>0.102750</td>\n",
       "      <td>-6.232500</td>\n",
       "      <td>1.000000</td>\n",
       "    </tr>\n",
       "    <tr>\n",
       "      <th>50%</th>\n",
       "      <td>5776.000000</td>\n",
       "      <td>0.070500</td>\n",
       "      <td>0.762500</td>\n",
       "      <td>8.313000</td>\n",
       "      <td>2.500000</td>\n",
       "    </tr>\n",
       "    <tr>\n",
       "      <th>75%</th>\n",
       "      <td>15055.500000</td>\n",
       "      <td>198050.000000</td>\n",
       "      <td>42.750000</td>\n",
       "      <td>13.697500</td>\n",
       "      <td>4.000000</td>\n",
       "    </tr>\n",
       "    <tr>\n",
       "      <th>max</th>\n",
       "      <td>40000.000000</td>\n",
       "      <td>849420.000000</td>\n",
       "      <td>1948.500000</td>\n",
       "      <td>20.060000</td>\n",
       "      <td>5.000000</td>\n",
       "    </tr>\n",
       "  </tbody>\n",
       "</table>\n",
       "</div>"
      ],
      "text/plain": [
       "       Temperature (K)  Luminosity(L/Lo)  Radius(R/Ro)  \\\n",
       "count       240.000000        240.000000    240.000000   \n",
       "mean      10497.462500     107188.361635    237.157781   \n",
       "std        9552.425037     179432.244940    517.155763   \n",
       "min        1939.000000          0.000080      0.008400   \n",
       "25%        3344.250000          0.000865      0.102750   \n",
       "50%        5776.000000          0.070500      0.762500   \n",
       "75%       15055.500000     198050.000000     42.750000   \n",
       "max       40000.000000     849420.000000   1948.500000   \n",
       "\n",
       "       Absolute magnitude(Mv)   Star type  \n",
       "count              240.000000  240.000000  \n",
       "mean                 4.382396    2.500000  \n",
       "std                 10.532512    1.711394  \n",
       "min                -11.920000    0.000000  \n",
       "25%                 -6.232500    1.000000  \n",
       "50%                  8.313000    2.500000  \n",
       "75%                 13.697500    4.000000  \n",
       "max                 20.060000    5.000000  "
      ]
     },
     "metadata": {},
     "output_type": "display_data"
    }
   ],
   "source": [
    "# Просмотр первых строк данных\n",
    "display(data.head())\n",
    "\n",
    "# Общая информация о данных\n",
    "data.info()\n",
    "\n",
    "# Описательная статистика\n",
    "display(data.describe())"
   ]
  },
  {
   "cell_type": "markdown",
   "id": "75d713cd",
   "metadata": {},
   "source": [
    "Построим гистограммы, чтобы визуализировать распределение величин и понять, как часто встречаются различные значения в данных:"
   ]
  },
  {
   "cell_type": "code",
   "execution_count": 6,
   "id": "acf7e645",
   "metadata": {},
   "outputs": [
    {
     "data": {
      "image/png": "[encoded data removed]",
      "text/plain": [
       "<Figure size 1080x432 with 1 Axes>"
      ]
     },
     "metadata": {
      "needs_background": "light"
     },
     "output_type": "display_data"
    }
   ],
   "source": [
    "# Гистограмма Temperature (K)\n",
    "plt.figure(figsize=(15, 6))\n",
    "sns.histplot(data['Temperature (K)'], kde=True)\n",
    "plt.title('Гистограмма температуры')\n",
    "plt.xlabel('Температура (K)')\n",
    "plt.ylabel('Частота')\n",
    "plt.show()"
   ]
  },
  {
   "cell_type": "markdown",
   "id": "4f4fabc0",
   "metadata": {},
   "source": [
    "Гистограмма температуры показывает, что большинство звезд в данных имеют относительно низкую температуру, а количество звезд с более высокой температурой постепенно уменьшается. Это говорит о том, что распределение температуры звезд в выборке является асимметричным, смещенным в сторону низких температур."
   ]
  },
  {
   "cell_type": "code",
   "execution_count": 7,
   "id": "fc9c48ff",
   "metadata": {},
   "outputs": [
    {
     "data": {
      "image/png": "[encoded data removed]",
      "text/plain": [
       "<Figure size 1080x432 with 1 Axes>"
      ]
     },
     "metadata": {
      "needs_background": "light"
     },
     "output_type": "display_data"
    }
   ],
   "source": [
    "# Гистограмма Luminosity(L/Lo)\n",
    "plt.figure(figsize=(15, 6))\n",
    "sns.histplot(data['Luminosity(L/Lo)'], kde=True)\n",
    "plt.title('Гистограмма светимости')\n",
    "plt.xlabel('Светимость (L/Lo)')\n",
    "plt.ylabel('Частота')\n",
    "plt.show()"
   ]
  },
  {
   "cell_type": "markdown",
   "id": "a46fc2a3",
   "metadata": {},
   "source": [
    "Гистограмма светимости показывает, что большинство звезд в выборке имеют относительно низкую светимость, а количество звезд с более высокой светимостью постепенно уменьшается.  Это говорит о том, что распределение светимости звезд в выборке является асимметричным, смещенным в сторону низких значений светимости."
   ]
  },
  {
   "cell_type": "code",
   "execution_count": 8,
   "id": "1546b470",
   "metadata": {},
   "outputs": [
    {
     "data": {
      "image/png": "[encoded data removed]",
      "text/plain": [
       "<Figure size 1080x432 with 1 Axes>"
      ]
     },
     "metadata": {
      "needs_background": "light"
     },
     "output_type": "display_data"
    }
   ],
   "source": [
    "# Гистограмма Radius(R/Ro)\n",
    "plt.figure(figsize=(15, 6))\n",
    "sns.histplot(data['Radius(R/Ro)'], kde=True)\n",
    "plt.title('Гистограмма радиуса')\n",
    "plt.xlabel('Радиус (R/Ro)')\n",
    "plt.ylabel('Частота')\n",
    "plt.show()"
   ]
  },
  {
   "cell_type": "markdown",
   "id": "63578aff",
   "metadata": {},
   "source": [
    "Гистограмма радиуса показывает, что большинство звезд в выборке имеют относительно небольшой радиус, а количество звезд с более большим радиусом постепенно уменьшается. Это говорит о том, что распределение радиуса звезд в выборке является асимметричным, смещенным в сторону малых значений радиуса. \n",
    "\n",
    "Такое распределение может быть связано с тем, что в выборке преобладают звезды с низкой светимостью, которые обычно имеют меньший радиус, чем звезды с высокой светимостью."
   ]
  },
  {
   "cell_type": "code",
   "execution_count": 9,
   "id": "69f721b1",
   "metadata": {},
   "outputs": [
    {
     "data": {
      "image/png": "[encoded data removed]",
      "text/plain": [
       "<Figure size 1080x432 with 1 Axes>"
      ]
     },
     "metadata": {
      "needs_background": "light"
     },
     "output_type": "display_data"
    }
   ],
   "source": [
    "# Гистограмма Absolute magnitude(Mv)\n",
    "plt.figure(figsize=(15, 6))\n",
    "sns.histplot(data['Absolute magnitude(Mv)'], kde=True)\n",
    "plt.title('Гистограмма абсолютной звездной величины')\n",
    "plt.xlabel('Абсолютная звездная величина (Mv)')\n",
    "plt.ylabel('Частота')\n",
    "plt.show()"
   ]
  },
  {
   "cell_type": "markdown",
   "id": "d7241548",
   "metadata": {},
   "source": [
    "Гистограмма абсолютной звездной величины показывает, что в выборке есть две группы звезд с разными значениями абсолютной звездной величины.\n",
    "\n",
    "Это говорит о том, что в выборке присутствуют как звезды с относительно низкой светимостью (большая абсолютная звездная величина), так и звезды с высокой светимостью (меньшая абсолютная звездная величина)."
   ]
  },
  {
   "cell_type": "markdown",
   "id": "3dca33c6",
   "metadata": {},
   "source": [
    "Анализ гистограмм светимости, радиуса, температуры и абсолютной звездной величины показывает, что выборка звезд не является однородной и включает в себя звезды разных типов и светимости."
   ]
  },
  {
   "cell_type": "markdown",
   "id": "8f9ed85d",
   "metadata": {},
   "source": [
    "Проверяем уникальные значения в столбце 'Star color', чтобы понять, какие цвета звезд представлены в данных, и убедиться, что они записаны правильно, чтобы можно было правильно обрабатывать информацию о цвете звезд:"
   ]
  },
  {
   "cell_type": "code",
   "execution_count": 10,
   "id": "aa07ab7b",
   "metadata": {},
   "outputs": [
    {
     "data": {
      "text/plain": [
       "array(['Red', 'Blue White', 'White', 'Yellowish White', 'Blue white',\n",
       "       'Pale yellow orange', 'Blue', 'Blue-white', 'Whitish',\n",
       "       'yellow-white', 'Orange', 'White-Yellow', 'white', 'Blue ',\n",
       "       'yellowish', 'Yellowish', 'Orange-Red', 'Blue white ',\n",
       "       'Blue-White'], dtype=object)"
      ]
     },
     "execution_count": 10,
     "metadata": {},
     "output_type": "execute_result"
    }
   ],
   "source": [
    "data['Star color'].unique()"
   ]
  },
  {
   "cell_type": "markdown",
   "id": "531647cb",
   "metadata": {},
   "source": [
    "Удаляем дубликаты в столбце 'Star color', чтобы обеспечить корректную обработку данных:"
   ]
  },
  {
   "cell_type": "code",
   "execution_count": 11,
   "id": "c83a9d74",
   "metadata": {},
   "outputs": [],
   "source": [
    "data['Star color'] = data['Star color'].str.lower().str.strip().str.replace('-', ' ') # Удаляем \"-\" и пробелы"
   ]
  },
  {
   "cell_type": "code",
   "execution_count": 12,
   "id": "76a33363",
   "metadata": {},
   "outputs": [],
   "source": [
    "# Проверяем одинаковые комбинации слов\n",
    "for i in range(len(data['Star color'])):\n",
    "    color = data['Star color'][i].split()\n",
    "    if len(color) == 2:\n",
    "        reversed_color = ' '.join(reversed(color))\n",
    "        if reversed_color in data['Star color']:\n",
    "            data['Star color'][i] = min(color, reversed_color)  # Оставляем вариант с лексикографически меньшим порядком слов"
   ]
  },
  {
   "cell_type": "code",
   "execution_count": 13,
   "id": "370619df",
   "metadata": {},
   "outputs": [
    {
     "data": {
      "text/html": [
       "<div>\n",
       "<style scoped>\n",
       "    .dataframe tbody tr th:only-of-type {\n",
       "        vertical-align: middle;\n",
       "    }\n",
       "\n",
       "    .dataframe tbody tr th {\n",
       "        vertical-align: top;\n",
       "    }\n",
       "\n",
       "    .dataframe thead th {\n",
       "        text-align: right;\n",
       "    }\n",
       "</style>\n",
       "<table border=\"1\" class=\"dataframe\">\n",
       "  <thead>\n",
       "    <tr style=\"text-align: right;\">\n",
       "      <th></th>\n",
       "      <th>count</th>\n",
       "      <th>mean</th>\n",
       "      <th>std</th>\n",
       "      <th>min</th>\n",
       "      <th>25%</th>\n",
       "      <th>50%</th>\n",
       "      <th>75%</th>\n",
       "      <th>max</th>\n",
       "    </tr>\n",
       "    <tr>\n",
       "      <th>Star color</th>\n",
       "      <th></th>\n",
       "      <th></th>\n",
       "      <th></th>\n",
       "      <th></th>\n",
       "      <th></th>\n",
       "      <th></th>\n",
       "      <th></th>\n",
       "      <th></th>\n",
       "    </tr>\n",
       "  </thead>\n",
       "  <tbody>\n",
       "    <tr>\n",
       "      <th>blue</th>\n",
       "      <td>56.0</td>\n",
       "      <td>21918.339286</td>\n",
       "      <td>9453.979609</td>\n",
       "      <td>5752.0</td>\n",
       "      <td>14797.75</td>\n",
       "      <td>19921.5</td>\n",
       "      <td>27489.50</td>\n",
       "      <td>40000.0</td>\n",
       "    </tr>\n",
       "    <tr>\n",
       "      <th>blue white</th>\n",
       "      <td>41.0</td>\n",
       "      <td>16659.951220</td>\n",
       "      <td>6560.050964</td>\n",
       "      <td>8570.0</td>\n",
       "      <td>11900.00</td>\n",
       "      <td>14100.0</td>\n",
       "      <td>22012.00</td>\n",
       "      <td>30000.0</td>\n",
       "    </tr>\n",
       "    <tr>\n",
       "      <th>yellowish white</th>\n",
       "      <td>3.0</td>\n",
       "      <td>10826.666667</td>\n",
       "      <td>2773.451520</td>\n",
       "      <td>7700.0</td>\n",
       "      <td>9745.00</td>\n",
       "      <td>11790.0</td>\n",
       "      <td>12390.00</td>\n",
       "      <td>12990.0</td>\n",
       "    </tr>\n",
       "    <tr>\n",
       "      <th>white</th>\n",
       "      <td>10.0</td>\n",
       "      <td>9720.300000</td>\n",
       "      <td>2563.623176</td>\n",
       "      <td>7220.0</td>\n",
       "      <td>7930.00</td>\n",
       "      <td>8879.5</td>\n",
       "      <td>10239.25</td>\n",
       "      <td>14732.0</td>\n",
       "    </tr>\n",
       "    <tr>\n",
       "      <th>whitish</th>\n",
       "      <td>2.0</td>\n",
       "      <td>8876.000000</td>\n",
       "      <td>1165.311975</td>\n",
       "      <td>8052.0</td>\n",
       "      <td>8464.00</td>\n",
       "      <td>8876.0</td>\n",
       "      <td>9288.00</td>\n",
       "      <td>9700.0</td>\n",
       "    </tr>\n",
       "    <tr>\n",
       "      <th>pale yellow orange</th>\n",
       "      <td>1.0</td>\n",
       "      <td>7230.000000</td>\n",
       "      <td>NaN</td>\n",
       "      <td>7230.0</td>\n",
       "      <td>7230.00</td>\n",
       "      <td>7230.0</td>\n",
       "      <td>7230.00</td>\n",
       "      <td>7230.0</td>\n",
       "    </tr>\n",
       "    <tr>\n",
       "      <th>white yellow</th>\n",
       "      <td>1.0</td>\n",
       "      <td>7100.000000</td>\n",
       "      <td>NaN</td>\n",
       "      <td>7100.0</td>\n",
       "      <td>7100.00</td>\n",
       "      <td>7100.0</td>\n",
       "      <td>7100.00</td>\n",
       "      <td>7100.0</td>\n",
       "    </tr>\n",
       "    <tr>\n",
       "      <th>yellow white</th>\n",
       "      <td>8.0</td>\n",
       "      <td>6466.250000</td>\n",
       "      <td>1049.074524</td>\n",
       "      <td>5300.0</td>\n",
       "      <td>5746.75</td>\n",
       "      <td>6158.0</td>\n",
       "      <td>6997.75</td>\n",
       "      <td>8250.0</td>\n",
       "    </tr>\n",
       "    <tr>\n",
       "      <th>orange red</th>\n",
       "      <td>1.0</td>\n",
       "      <td>5112.000000</td>\n",
       "      <td>NaN</td>\n",
       "      <td>5112.0</td>\n",
       "      <td>5112.00</td>\n",
       "      <td>5112.0</td>\n",
       "      <td>5112.00</td>\n",
       "      <td>5112.0</td>\n",
       "    </tr>\n",
       "    <tr>\n",
       "      <th>yellowish</th>\n",
       "      <td>3.0</td>\n",
       "      <td>4527.666667</td>\n",
       "      <td>451.502307</td>\n",
       "      <td>4077.0</td>\n",
       "      <td>4301.50</td>\n",
       "      <td>4526.0</td>\n",
       "      <td>4753.00</td>\n",
       "      <td>4980.0</td>\n",
       "    </tr>\n",
       "    <tr>\n",
       "      <th>orange</th>\n",
       "      <td>2.0</td>\n",
       "      <td>4018.000000</td>\n",
       "      <td>380.423448</td>\n",
       "      <td>3749.0</td>\n",
       "      <td>3883.50</td>\n",
       "      <td>4018.0</td>\n",
       "      <td>4152.50</td>\n",
       "      <td>4287.0</td>\n",
       "    </tr>\n",
       "    <tr>\n",
       "      <th>red</th>\n",
       "      <td>112.0</td>\n",
       "      <td>3291.785714</td>\n",
       "      <td>490.780761</td>\n",
       "      <td>1939.0</td>\n",
       "      <td>2987.50</td>\n",
       "      <td>3324.0</td>\n",
       "      <td>3550.75</td>\n",
       "      <td>6850.0</td>\n",
       "    </tr>\n",
       "  </tbody>\n",
       "</table>\n",
       "</div>"
      ],
      "text/plain": [
       "                    count          mean          std     min       25%  \\\n",
       "Star color                                                               \n",
       "blue                 56.0  21918.339286  9453.979609  5752.0  14797.75   \n",
       "blue white           41.0  16659.951220  6560.050964  8570.0  11900.00   \n",
       "yellowish white       3.0  10826.666667  2773.451520  7700.0   9745.00   \n",
       "white                10.0   9720.300000  2563.623176  7220.0   7930.00   \n",
       "whitish               2.0   8876.000000  1165.311975  8052.0   8464.00   \n",
       "pale yellow orange    1.0   7230.000000          NaN  7230.0   7230.00   \n",
       "white yellow          1.0   7100.000000          NaN  7100.0   7100.00   \n",
       "yellow white          8.0   6466.250000  1049.074524  5300.0   5746.75   \n",
       "orange red            1.0   5112.000000          NaN  5112.0   5112.00   \n",
       "yellowish             3.0   4527.666667   451.502307  4077.0   4301.50   \n",
       "orange                2.0   4018.000000   380.423448  3749.0   3883.50   \n",
       "red                 112.0   3291.785714   490.780761  1939.0   2987.50   \n",
       "\n",
       "                        50%       75%      max  \n",
       "Star color                                      \n",
       "blue                19921.5  27489.50  40000.0  \n",
       "blue white          14100.0  22012.00  30000.0  \n",
       "yellowish white     11790.0  12390.00  12990.0  \n",
       "white                8879.5  10239.25  14732.0  \n",
       "whitish              8876.0   9288.00   9700.0  \n",
       "pale yellow orange   7230.0   7230.00   7230.0  \n",
       "white yellow         7100.0   7100.00   7100.0  \n",
       "yellow white         6158.0   6997.75   8250.0  \n",
       "orange red           5112.0   5112.00   5112.0  \n",
       "yellowish            4526.0   4753.00   4980.0  \n",
       "orange               4018.0   4152.50   4287.0  \n",
       "red                  3324.0   3550.75   6850.0  "
      ]
     },
     "execution_count": 13,
     "metadata": {},
     "output_type": "execute_result"
    }
   ],
   "source": [
    "data.groupby('Star color')['Temperature (K)'].describe().sort_values(by='mean', ascending=False)"
   ]
  },
  {
   "cell_type": "code",
   "execution_count": 14,
   "id": "9a9f10d4",
   "metadata": {},
   "outputs": [],
   "source": [
    "# Объединяем дубликаты\n",
    "data['Star color'] = data['Star color'].replace({'yellowish white': 'white',\n",
    "                                                 'whitish': 'white',\n",
    "                                                 'pale yellow orange': 'yellow',\n",
    "                                                 'white yellow': 'yellow',\n",
    "                                                 'yellow white': 'yellow',\n",
    "                                                 'orange red': 'orange',\n",
    "                                                 'yellowish': 'orange'})"
   ]
  },
  {
   "cell_type": "code",
   "execution_count": 15,
   "id": "666cbd69",
   "metadata": {},
   "outputs": [
    {
     "data": {
      "text/html": [
       "<div>\n",
       "<style scoped>\n",
       "    .dataframe tbody tr th:only-of-type {\n",
       "        vertical-align: middle;\n",
       "    }\n",
       "\n",
       "    .dataframe tbody tr th {\n",
       "        vertical-align: top;\n",
       "    }\n",
       "\n",
       "    .dataframe thead th {\n",
       "        text-align: right;\n",
       "    }\n",
       "</style>\n",
       "<table border=\"1\" class=\"dataframe\">\n",
       "  <thead>\n",
       "    <tr style=\"text-align: right;\">\n",
       "      <th></th>\n",
       "      <th>count</th>\n",
       "      <th>mean</th>\n",
       "      <th>std</th>\n",
       "      <th>min</th>\n",
       "      <th>25%</th>\n",
       "      <th>50%</th>\n",
       "      <th>75%</th>\n",
       "      <th>max</th>\n",
       "    </tr>\n",
       "    <tr>\n",
       "      <th>Star color</th>\n",
       "      <th></th>\n",
       "      <th></th>\n",
       "      <th></th>\n",
       "      <th></th>\n",
       "      <th></th>\n",
       "      <th></th>\n",
       "      <th></th>\n",
       "      <th></th>\n",
       "    </tr>\n",
       "  </thead>\n",
       "  <tbody>\n",
       "    <tr>\n",
       "      <th>blue</th>\n",
       "      <td>56.0</td>\n",
       "      <td>21918.339286</td>\n",
       "      <td>9453.979609</td>\n",
       "      <td>5752.0</td>\n",
       "      <td>14797.75</td>\n",
       "      <td>19921.5</td>\n",
       "      <td>27489.50</td>\n",
       "      <td>40000.0</td>\n",
       "    </tr>\n",
       "    <tr>\n",
       "      <th>blue white</th>\n",
       "      <td>41.0</td>\n",
       "      <td>16659.951220</td>\n",
       "      <td>6560.050964</td>\n",
       "      <td>8570.0</td>\n",
       "      <td>11900.00</td>\n",
       "      <td>14100.0</td>\n",
       "      <td>22012.00</td>\n",
       "      <td>30000.0</td>\n",
       "    </tr>\n",
       "    <tr>\n",
       "      <th>white</th>\n",
       "      <td>15.0</td>\n",
       "      <td>9829.000000</td>\n",
       "      <td>2402.559409</td>\n",
       "      <td>7220.0</td>\n",
       "      <td>7896.00</td>\n",
       "      <td>8930.0</td>\n",
       "      <td>11182.00</td>\n",
       "      <td>14732.0</td>\n",
       "    </tr>\n",
       "    <tr>\n",
       "      <th>yellow</th>\n",
       "      <td>10.0</td>\n",
       "      <td>6606.000000</td>\n",
       "      <td>971.456753</td>\n",
       "      <td>5300.0</td>\n",
       "      <td>5834.00</td>\n",
       "      <td>6568.5</td>\n",
       "      <td>7197.50</td>\n",
       "      <td>8250.0</td>\n",
       "    </tr>\n",
       "    <tr>\n",
       "      <th>orange</th>\n",
       "      <td>6.0</td>\n",
       "      <td>4455.166667</td>\n",
       "      <td>525.710725</td>\n",
       "      <td>3749.0</td>\n",
       "      <td>4129.50</td>\n",
       "      <td>4406.5</td>\n",
       "      <td>4866.50</td>\n",
       "      <td>5112.0</td>\n",
       "    </tr>\n",
       "    <tr>\n",
       "      <th>red</th>\n",
       "      <td>112.0</td>\n",
       "      <td>3291.785714</td>\n",
       "      <td>490.780761</td>\n",
       "      <td>1939.0</td>\n",
       "      <td>2987.50</td>\n",
       "      <td>3324.0</td>\n",
       "      <td>3550.75</td>\n",
       "      <td>6850.0</td>\n",
       "    </tr>\n",
       "  </tbody>\n",
       "</table>\n",
       "</div>"
      ],
      "text/plain": [
       "            count          mean          std     min       25%      50%  \\\n",
       "Star color                                                                \n",
       "blue         56.0  21918.339286  9453.979609  5752.0  14797.75  19921.5   \n",
       "blue white   41.0  16659.951220  6560.050964  8570.0  11900.00  14100.0   \n",
       "white        15.0   9829.000000  2402.559409  7220.0   7896.00   8930.0   \n",
       "yellow       10.0   6606.000000   971.456753  5300.0   5834.00   6568.5   \n",
       "orange        6.0   4455.166667   525.710725  3749.0   4129.50   4406.5   \n",
       "red         112.0   3291.785714   490.780761  1939.0   2987.50   3324.0   \n",
       "\n",
       "                 75%      max  \n",
       "Star color                     \n",
       "blue        27489.50  40000.0  \n",
       "blue white  22012.00  30000.0  \n",
       "white       11182.00  14732.0  \n",
       "yellow       7197.50   8250.0  \n",
       "orange       4866.50   5112.0  \n",
       "red          3550.75   6850.0  "
      ]
     },
     "execution_count": 15,
     "metadata": {},
     "output_type": "execute_result"
    }
   ],
   "source": [
    "data.groupby('Star color')['Temperature (K)'].describe().sort_values(by='mean', ascending=False)"
   ]
  },
  {
   "cell_type": "markdown",
   "id": "35947d86",
   "metadata": {},
   "source": [
    "Создаем горизонтальную столбчатую диаграмму, чтобы визуализировать количество звезд в выборке для каждого цвета, используя цветовую кодировку для наглядности:"
   ]
  },
  {
   "cell_type": "code",
   "execution_count": 16,
   "id": "06473fc0",
   "metadata": {},
   "outputs": [],
   "source": [
    "# Создаём цветовую кодировку\n",
    "color_mapping = {\n",
    "    'red': \"#ff0000\",  \n",
    "    'blue white': \"#42aaff\", \n",
    "    'white': \"#ffffff\",  \n",
    "    'blue': \"#0000ff\",  \n",
    "    'orange': \"#ffa500\", \n",
    "    'yellow': \"#ffff00\"\n",
    "}"
   ]
  },
  {
   "cell_type": "code",
   "execution_count": 17,
   "id": "15c2435b",
   "metadata": {
    "scrolled": false
   },
   "outputs": [
    {
     "data": {
      "image/png": "[encoded data removed]",
      "text/plain": [
       "<Figure size 1080x432 with 1 Axes>"
      ]
     },
     "metadata": {
      "needs_background": "light"
     },
     "output_type": "display_data"
    }
   ],
   "source": [
    "# Cтроим диаграмму\n",
    "plt.figure(figsize=(15, 6))  # Изменили размер фигуры\n",
    "\n",
    "# Группируем данные по цвету\n",
    "star_colors = data['Star color'].unique()\n",
    "counts = [len(data[data['Star color'] == color]) for color in star_colors]\n",
    "\n",
    "# Сортировка по убыванию количества звезд\n",
    "sorted_indices = sorted(range(len(counts)), key=lambda k: counts[k], reverse=False)\n",
    "sorted_star_colors = [star_colors[i] for i in sorted_indices]\n",
    "sorted_counts = [counts[i] for i in sorted_indices]\n",
    "\n",
    "# Создаем диаграмму с помощью matplotlib.pyplot.bar\n",
    "plt.barh(sorted_star_colors, sorted_counts, color=[color_mapping.get(color, (0.5, 0.5, 0.5, 1.0)) for color in sorted_star_colors], edgecolor='black')\n",
    "\n",
    "# Добавляем числа на диаграмму\n",
    "for i, v in enumerate(sorted_counts):\n",
    "    plt.text(v + 1, i, str(v), va='center')\n",
    "\n",
    "plt.title('Количество звезд по цвету')\n",
    "plt.xlabel('Количество')\n",
    "plt.ylabel('Цвет звезды')\n",
    "plt.show()"
   ]
  },
  {
   "cell_type": "markdown",
   "id": "7a74c0c6",
   "metadata": {},
   "source": [
    "Диаграмма подтвердила предыдущие выводы, показав преобладание звезд с низкой светимостью - красных, и наличие звезд с более высокой светимостью - синих, голубых и белых."
   ]
  },
  {
   "cell_type": "markdown",
   "id": "58e2268f",
   "metadata": {},
   "source": [
    "Вычисляем матрицу корреляции, чтобы визуализировать взаимосвязи между параметрами звезд:"
   ]
  },
  {
   "cell_type": "code",
   "execution_count": 18,
   "id": "d9589d3f",
   "metadata": {},
   "outputs": [
    {
     "data": {
      "image/png": "[encoded data removed]",
      "text/plain": [
       "<Figure size 1080x576 with 2 Axes>"
      ]
     },
     "metadata": {
      "needs_background": "light"
     },
     "output_type": "display_data"
    }
   ],
   "source": [
    "# Установка интервальных столбцов\n",
    "interval_cols = ['Temperature (K)', 'Luminosity(L/Lo)', 'Radius(R/Ro)', 'Absolute magnitude(Mv)']\n",
    "data = data.astype({col: 'float' for col in interval_cols})\n",
    "\n",
    "# Вычисление матрицы корреляции с помощью phik\n",
    "correlation_matrix = phik_matrix(data, interval_cols=interval_cols)\n",
    "\n",
    "# Отображение тепловой карты\n",
    "plt.figure(figsize=(15, 8))\n",
    "sns.heatmap(correlation_matrix, annot=True)\n",
    "plt.title('Корреляционная матрица (phik)')\n",
    "plt.show()"
   ]
  },
  {
   "cell_type": "markdown",
   "id": "5547784a",
   "metadata": {},
   "source": [
    "Тепловая карта показывает, что между параметрами звезд, существует сильная положительная корреляция:\n",
    "\n",
    "- **Температура (K)** и **Светимость (L/Lo)** имеют высокую корреляцию (0.71), что согласуется с законами физики звезд. \n",
    "- **Температура (K)** и **Радиус (R/Ro)** также имеют высокую корреляцию (0.71), что говорит о том, что более горячие звезды, как правило, больше. \n",
    "- **Светимость (L/Lo)** и **Радиус (R/Ro)** также имеют высокую корреляцию (0.92), что подтверждает связь между размером звезды и ее светимостью.\n",
    "- **Абсолютная звездная величина (Mv)** имеет более слабую корреляцию с другими параметрами, но все же заметную (0.6-0.7).\n",
    "\n",
    "Эти взаимосвязи показывают, что звездные параметры не независимы друг от друга. Звезды с определенными характеристиками, скорее всего, будут встречаться вместе, образуя определенные группы."
   ]
  },
  {
   "cell_type": "markdown",
   "id": "funded-electric",
   "metadata": {},
   "source": [
    "## Построение базовой нейронной сети"
   ]
  },
  {
   "cell_type": "code",
   "execution_count": 19,
   "id": "2269d247",
   "metadata": {},
   "outputs": [],
   "source": [
    "# Разделяем данные на признаки (X) и целевой признак (y)\n",
    "X = data.drop('Temperature (K)', axis=1)  # Признаки\n",
    "y = data['Temperature (K)']  # Целевой признак\n",
    "\n",
    "# Разделяем на обучающую и тестовую выборки\n",
    "X_train, X_test, y_train, y_test = train_test_split(X, y, test_size=0.1, random_state=42)\n",
    "\n",
    "# --- Кодирование категориальных признаков ---\n",
    "\n",
    "# Указываем, какие колонки будут кодироваться\n",
    "categorical_columns = ['Star color', 'Star type']\n",
    "\n",
    "# Создаем OneHotEncoder с удалением первого фиктивного столбца\n",
    "encoder = OneHotEncoder(sparse=False, drop='first')\n",
    "\n",
    "# Обучаем кодировщик на обучающей выборке и применяем к обучающей выборке\n",
    "X_train_encoded = encoder.fit_transform(X_train[categorical_columns])\n",
    "\n",
    "# Применяем кодировщик к тестовой выборке\n",
    "X_test_encoded = encoder.transform(X_test[categorical_columns])\n",
    "\n",
    "# Преобразуем закодированные данные в DataFrame с соответствующими именами столбцов\n",
    "encoded_columns = encoder.get_feature_names(categorical_columns)\n",
    "X_train_encoded_df = pd.DataFrame(X_train_encoded, columns=encoded_columns, index=X_train.index)\n",
    "X_test_encoded_df = pd.DataFrame(X_test_encoded, columns=encoded_columns, index=X_test.index)\n",
    "\n",
    "# Заменяем категориальные признаки на закодированные в обеих выборках\n",
    "X_train = pd.concat([X_train.drop(categorical_columns, axis=1), X_train_encoded_df], axis=1)\n",
    "X_test = pd.concat([X_test.drop(categorical_columns, axis=1), X_test_encoded_df], axis=1)\n",
    "\n",
    "# --- Масштабирование числовых признаков ---\n",
    "\n",
    "# Указываем числовые колонки\n",
    "numeric_columns = ['Luminosity(L/Lo)', 'Radius(R/Ro)', 'Absolute magnitude(Mv)']\n",
    "\n",
    "# Создаем StandardScaler\n",
    "scaler = StandardScaler()\n",
    "\n",
    "# Обучаем масштабировщик на обучающей выборке и применяем к обучающей выборке\n",
    "X_train[numeric_columns] = scaler.fit_transform(X_train[numeric_columns])\n",
    "\n",
    "# Применяем масштабировщик к тестовой выборке\n",
    "X_test[numeric_columns] = scaler.transform(X_test[numeric_columns])"
   ]
  },
  {
   "cell_type": "code",
   "execution_count": 20,
   "id": "575efeda",
   "metadata": {
    "scrolled": false
   },
   "outputs": [
    {
     "data": {
      "text/html": [
       "<pre style=\"white-space:pre;overflow-x:auto;line-height:normal;font-family:Menlo,'DejaVu Sans Mono',consolas,'Courier New',monospace\"><span style=\"font-weight: bold\">Model: \"sequential\"</span>\n",
       "</pre>\n"
      ],
      "text/plain": [
       "\u001b[1mModel: \"sequential\"\u001b[0m\n"
      ]
     },
     "metadata": {},
     "output_type": "display_data"
    },
    {
     "data": {
      "text/html": [
       "<pre style=\"white-space:pre;overflow-x:auto;line-height:normal;font-family:Menlo,'DejaVu Sans Mono',consolas,'Courier New',monospace\">┏━━━━━━━━━━━━━━━━━━━━━━━━━━━━━━━━━┳━━━━━━━━━━━━━━━━━━━━━━━━┳━━━━━━━━━━━━━━━┓\n",
       "┃<span style=\"font-weight: bold\"> Layer (type)                    </span>┃<span style=\"font-weight: bold\"> Output Shape           </span>┃<span style=\"font-weight: bold\">       Param # </span>┃\n",
       "┡━━━━━━━━━━━━━━━━━━━━━━━━━━━━━━━━━╇━━━━━━━━━━━━━━━━━━━━━━━━╇━━━━━━━━━━━━━━━┩\n",
       "│ dense (<span style=\"color: #0087ff; text-decoration-color: #0087ff\">Dense</span>)                   │ (<span style=\"color: #00d7ff; text-decoration-color: #00d7ff\">None</span>, <span style=\"color: #00af00; text-decoration-color: #00af00\">16</span>)             │           <span style=\"color: #00af00; text-decoration-color: #00af00\">224</span> │\n",
       "├─────────────────────────────────┼────────────────────────┼───────────────┤\n",
       "│ dense_1 (<span style=\"color: #0087ff; text-decoration-color: #0087ff\">Dense</span>)                 │ (<span style=\"color: #00d7ff; text-decoration-color: #00d7ff\">None</span>, <span style=\"color: #00af00; text-decoration-color: #00af00\">8</span>)              │           <span style=\"color: #00af00; text-decoration-color: #00af00\">136</span> │\n",
       "├─────────────────────────────────┼────────────────────────┼───────────────┤\n",
       "│ dense_2 (<span style=\"color: #0087ff; text-decoration-color: #0087ff\">Dense</span>)                 │ (<span style=\"color: #00d7ff; text-decoration-color: #00d7ff\">None</span>, <span style=\"color: #00af00; text-decoration-color: #00af00\">1</span>)              │             <span style=\"color: #00af00; text-decoration-color: #00af00\">9</span> │\n",
       "└─────────────────────────────────┴────────────────────────┴───────────────┘\n",
       "</pre>\n"
      ],
      "text/plain": [
       "┏━━━━━━━━━━━━━━━━━━━━━━━━━━━━━━━━━┳━━━━━━━━━━━━━━━━━━━━━━━━┳━━━━━━━━━━━━━━━┓\n",
       "┃\u001b[1m \u001b[0m\u001b[1mLayer (type)                   \u001b[0m\u001b[1m \u001b[0m┃\u001b[1m \u001b[0m\u001b[1mOutput Shape          \u001b[0m\u001b[1m \u001b[0m┃\u001b[1m \u001b[0m\u001b[1m      Param #\u001b[0m\u001b[1m \u001b[0m┃\n",
       "┡━━━━━━━━━━━━━━━━━━━━━━━━━━━━━━━━━╇━━━━━━━━━━━━━━━━━━━━━━━━╇━━━━━━━━━━━━━━━┩\n",
       "│ dense (\u001b[38;5;33mDense\u001b[0m)                   │ (\u001b[38;5;45mNone\u001b[0m, \u001b[38;5;34m16\u001b[0m)             │           \u001b[38;5;34m224\u001b[0m │\n",
       "├─────────────────────────────────┼────────────────────────┼───────────────┤\n",
       "│ dense_1 (\u001b[38;5;33mDense\u001b[0m)                 │ (\u001b[38;5;45mNone\u001b[0m, \u001b[38;5;34m8\u001b[0m)              │           \u001b[38;5;34m136\u001b[0m │\n",
       "├─────────────────────────────────┼────────────────────────┼───────────────┤\n",
       "│ dense_2 (\u001b[38;5;33mDense\u001b[0m)                 │ (\u001b[38;5;45mNone\u001b[0m, \u001b[38;5;34m1\u001b[0m)              │             \u001b[38;5;34m9\u001b[0m │\n",
       "└─────────────────────────────────┴────────────────────────┴───────────────┘\n"
      ]
     },
     "metadata": {},
     "output_type": "display_data"
    },
    {
     "data": {
      "text/html": [
       "<pre style=\"white-space:pre;overflow-x:auto;line-height:normal;font-family:Menlo,'DejaVu Sans Mono',consolas,'Courier New',monospace\"><span style=\"font-weight: bold\"> Total params: </span><span style=\"color: #00af00; text-decoration-color: #00af00\">369</span> (1.44 KB)\n",
       "</pre>\n"
      ],
      "text/plain": [
       "\u001b[1m Total params: \u001b[0m\u001b[38;5;34m369\u001b[0m (1.44 KB)\n"
      ]
     },
     "metadata": {},
     "output_type": "display_data"
    },
    {
     "data": {
      "text/html": [
       "<pre style=\"white-space:pre;overflow-x:auto;line-height:normal;font-family:Menlo,'DejaVu Sans Mono',consolas,'Courier New',monospace\"><span style=\"font-weight: bold\"> Trainable params: </span><span style=\"color: #00af00; text-decoration-color: #00af00\">369</span> (1.44 KB)\n",
       "</pre>\n"
      ],
      "text/plain": [
       "\u001b[1m Trainable params: \u001b[0m\u001b[38;5;34m369\u001b[0m (1.44 KB)\n"
      ]
     },
     "metadata": {},
     "output_type": "display_data"
    },
    {
     "data": {
      "text/html": [
       "<pre style=\"white-space:pre;overflow-x:auto;line-height:normal;font-family:Menlo,'DejaVu Sans Mono',consolas,'Courier New',monospace\"><span style=\"font-weight: bold\"> Non-trainable params: </span><span style=\"color: #00af00; text-decoration-color: #00af00\">0</span> (0.00 B)\n",
       "</pre>\n"
      ],
      "text/plain": [
       "\u001b[1m Non-trainable params: \u001b[0m\u001b[38;5;34m0\u001b[0m (0.00 B)\n"
      ]
     },
     "metadata": {},
     "output_type": "display_data"
    },
    {
     "name": "stdout",
     "output_type": "stream",
     "text": [
      "\u001b[1m1/1\u001b[0m \u001b[32m━━━━━━━━━━━━━━━━━━━━\u001b[0m\u001b[37m\u001b[0m \u001b[1m0s\u001b[0m 54ms/step\n",
      "\n",
      "Эпоха 500: RMSE на тестовой выборке = 12857.8065\n",
      "\u001b[1m1/1\u001b[0m \u001b[32m━━━━━━━━━━━━━━━━━━━━\u001b[0m\u001b[37m\u001b[0m \u001b[1m0s\u001b[0m 18ms/step\n",
      "\n",
      "Эпоха 1000: RMSE на тестовой выборке = 9553.2349\n",
      "\u001b[1m1/1\u001b[0m \u001b[32m━━━━━━━━━━━━━━━━━━━━\u001b[0m\u001b[37m\u001b[0m \u001b[1m0s\u001b[0m 32ms/step\n",
      "\n",
      "Эпоха 1500: RMSE на тестовой выборке = 8839.4434\n",
      "\u001b[1m1/1\u001b[0m \u001b[32m━━━━━━━━━━━━━━━━━━━━\u001b[0m\u001b[37m\u001b[0m \u001b[1m0s\u001b[0m 19ms/step\n",
      "\n",
      "Эпоха 2000: RMSE на тестовой выборке = 8088.5887\n",
      "\u001b[1m1/1\u001b[0m \u001b[32m━━━━━━━━━━━━━━━━━━━━\u001b[0m\u001b[37m\u001b[0m \u001b[1m0s\u001b[0m 26ms/step\n",
      "\n",
      "Эпоха 2500: RMSE на тестовой выборке = 7254.5306\n",
      "\u001b[1m1/1\u001b[0m \u001b[32m━━━━━━━━━━━━━━━━━━━━\u001b[0m\u001b[37m\u001b[0m \u001b[1m0s\u001b[0m 17ms/step\n",
      "\n",
      "Эпоха 3000: RMSE на тестовой выборке = 6437.2195\n",
      "\u001b[1m1/1\u001b[0m \u001b[32m━━━━━━━━━━━━━━━━━━━━\u001b[0m\u001b[37m\u001b[0m \u001b[1m0s\u001b[0m 18ms/step\n",
      "\n",
      "Эпоха 3500: RMSE на тестовой выборке = 5816.9483\n",
      "\u001b[1m1/1\u001b[0m \u001b[32m━━━━━━━━━━━━━━━━━━━━\u001b[0m\u001b[37m\u001b[0m \u001b[1m0s\u001b[0m 18ms/step\n",
      "\n",
      "Эпоха 4000: RMSE на тестовой выборке = 5379.6909\n",
      "\u001b[1m1/1\u001b[0m \u001b[32m━━━━━━━━━━━━━━━━━━━━\u001b[0m\u001b[37m\u001b[0m \u001b[1m0s\u001b[0m 19ms/step\n",
      "\n",
      "Эпоха 4500: RMSE на тестовой выборке = 5087.2236\n",
      "\u001b[1m1/1\u001b[0m \u001b[32m━━━━━━━━━━━━━━━━━━━━\u001b[0m\u001b[37m\u001b[0m \u001b[1m0s\u001b[0m 19ms/step\n",
      "\n",
      "Эпоха 5000: RMSE на тестовой выборке = 4889.9281\n",
      "\u001b[1m1/1\u001b[0m \u001b[32m━━━━━━━━━━━━━━━━━━━━\u001b[0m\u001b[37m\u001b[0m \u001b[1m0s\u001b[0m 18ms/step\n",
      "\n",
      "Эпоха 5500: RMSE на тестовой выборке = 4820.4077\n",
      "\u001b[1m1/1\u001b[0m \u001b[32m━━━━━━━━━━━━━━━━━━━━\u001b[0m\u001b[37m\u001b[0m \u001b[1m0s\u001b[0m 19ms/step\n",
      "\n",
      "Эпоха 6000: RMSE на тестовой выборке = 4675.8774\n",
      "\u001b[1m1/1\u001b[0m \u001b[32m━━━━━━━━━━━━━━━━━━━━\u001b[0m\u001b[37m\u001b[0m \u001b[1m0s\u001b[0m 19ms/step\n",
      "\n",
      "Эпоха 6500: RMSE на тестовой выборке = 4633.7074\n",
      "\u001b[1m1/1\u001b[0m \u001b[32m━━━━━━━━━━━━━━━━━━━━\u001b[0m\u001b[37m\u001b[0m \u001b[1m0s\u001b[0m 20ms/step\n",
      "\n",
      "Эпоха 7000: RMSE на тестовой выборке = 4589.5391\n",
      "\u001b[1m1/1\u001b[0m \u001b[32m━━━━━━━━━━━━━━━━━━━━\u001b[0m\u001b[37m\u001b[0m \u001b[1m0s\u001b[0m 32ms/step\n",
      "\n",
      "Эпоха 7500: RMSE на тестовой выборке = 4585.4273\n",
      "\u001b[1m1/1\u001b[0m \u001b[32m━━━━━━━━━━━━━━━━━━━━\u001b[0m\u001b[37m\u001b[0m \u001b[1m0s\u001b[0m 24ms/step\n",
      "\n",
      "Эпоха 8000: RMSE на тестовой выборке = 4590.3328\n",
      "RMSE не улучшилось. Останавливаем обучение на 8000-й эпохе.\n"
     ]
    }
   ],
   "source": [
    "# --- Создание модели ---\n",
    "def create_model(input_shape):\n",
    "    model = tf.keras.models.Sequential()\n",
    "\n",
    "    # Входной слой\n",
    "    model.add(tf.keras.layers.InputLayer(input_shape=(input_shape,)))\n",
    "\n",
    "    # Первый скрытый слой с 16 нейронами и функцией активации ReLU\n",
    "    model.add(tf.keras.layers.Dense(16, activation='relu'))\n",
    "\n",
    "    # Второй скрытый слой с 8 нейронами и функцией активации ReLU\n",
    "    model.add(tf.keras.layers.Dense(8, activation='relu'))\n",
    "\n",
    "    # Выходной слой (один нейрон, функция активации 'linear' для задачи регрессии)\n",
    "    model.add(tf.keras.layers.Dense(1, activation='linear'))\n",
    "\n",
    "    # Компиляция модели\n",
    "    model.compile(optimizer='adam', loss='mse', metrics=['mae'])\n",
    "\n",
    "    return model\n",
    "\n",
    "# Кастомный колбэк для отслеживания RMSE на тестовой выборке каждые 100 эпох и остановки обучения при росте RMSE\n",
    "class RmseOnTestCallback(tf.keras.callbacks.Callback):\n",
    "    def __init__(self, test_data, patience=100):\n",
    "        super(RmseOnTestCallback, self).__init__()\n",
    "        self.test_data = test_data  # Сохраняем тестовые данные\n",
    "        self.patience = patience  # Интервал в эпохах для проверки RMSE\n",
    "        self.best_rmse = np.inf   # Инициализируем лучшее RMSE как бесконечность\n",
    "    \n",
    "    def on_epoch_end(self, epoch, logs=None):\n",
    "        # Проверяем каждые `patience` эпох\n",
    "        if (epoch + 1) % self.patience == 0:\n",
    "            # Прогнозируем на тестовой выборке\n",
    "            test_predict = self.model.predict(self.test_data[0])\n",
    "            test_true = self.test_data[1]\n",
    "            \n",
    "            # Вычисляем RMSE на тестовой выборке\n",
    "            rmse = sqrt(mean_squared_error(test_true, test_predict))\n",
    "            print(f\"\\nЭпоха {epoch + 1}: RMSE на тестовой выборке = {rmse:.4f}\")\n",
    "\n",
    "            # Если RMSE не улучшился, останавливаем обучение\n",
    "            if rmse >= self.best_rmse:\n",
    "                print(f\"RMSE не улучшилось. Останавливаем обучение на {epoch + 1}-й эпохе.\")\n",
    "                self.model.stop_training = True\n",
    "            else:\n",
    "                self.best_rmse = rmse  # Обновляем лучшее RMSE, если оно улучшилось\n",
    "\n",
    "# Создаем модель, указывая количество признаков на входе (X_train.shape[1])\n",
    "model = create_model(X_train.shape[1])\n",
    "\n",
    "# Выводим архитектуру модели\n",
    "model.summary()\n",
    "\n",
    "# --- Обучение модели ---\n",
    "# Пример предоставления тестовых данных\n",
    "test_data = (X_test, y_test)\n",
    "\n",
    "# Создаем экземпляр кастомного колбэка, передавая тестовые данные\n",
    "rmse_on_test_callback = RmseOnTestCallback(test_data=test_data, patience=500)\n",
    "\n",
    "# Обучаем модель с кастомным колбэком\n",
    "history = model.fit(\n",
    "    X_train, \n",
    "    y_train, \n",
    "    epochs=100000, \n",
    "    batch_size=64, \n",
    "    validation_data=(X_test, y_test), \n",
    "    verbose=0, \n",
    "    callbacks=[rmse_on_test_callback]\n",
    ")"
   ]
  },
  {
   "cell_type": "code",
   "execution_count": 21,
   "id": "fe97655e",
   "metadata": {},
   "outputs": [
    {
     "name": "stdout",
     "output_type": "stream",
     "text": [
      "\u001b[1m1/1\u001b[0m \u001b[32m━━━━━━━━━━━━━━━━━━━━\u001b[0m\u001b[37m\u001b[0m \u001b[1m0s\u001b[0m 18ms/step\n"
     ]
    },
    {
     "data": {
      "image/png": "[encoded data removed]",
      "text/plain": [
       "<Figure size 864x432 with 2 Axes>"
      ]
     },
     "metadata": {
      "needs_background": "light"
     },
     "output_type": "display_data"
    }
   ],
   "source": [
    "# --- Оценка модели ---\n",
    "# Прогнозируем на тестовой выборке\n",
    "y_pred = model.predict(X_test)\n",
    "\n",
    "# Визуализируем процесс обучения\n",
    "import matplotlib.pyplot as plt\n",
    "plt.figure(figsize=(12, 6))\n",
    "\n",
    "# График функции потерь\n",
    "plt.subplot(1, 2, 1)\n",
    "plt.plot(history.history['loss'], label='Train Loss')\n",
    "plt.plot(history.history['val_loss'], label='Validation Loss')\n",
    "plt.title('График функции потерь')\n",
    "plt.xlabel('Эпохи')\n",
    "plt.ylabel('Loss')\n",
    "plt.legend()\n",
    "\n",
    "# График MAE\n",
    "plt.subplot(1, 2, 2)\n",
    "plt.plot(history.history['mae'], label='Train MAE')\n",
    "plt.plot(history.history['val_mae'], label='Validation MAE')\n",
    "plt.title('График MAE')\n",
    "plt.xlabel('Эпохи')\n",
    "plt.ylabel('MAE')\n",
    "plt.legend()\n",
    "\n",
    "plt.show()"
   ]
  },
  {
   "cell_type": "markdown",
   "id": "2b8c8062",
   "metadata": {},
   "source": [
    "Модель работает хорошо, но нужная метрика ещё не достигнута. Нет явных признаков переобучения, так как разница между ошибками на обучающей и валидационной выборках небольшая, и обе метрики стабилизируются по мере обучения."
   ]
  },
  {
   "cell_type": "code",
   "execution_count": 22,
   "id": "edd14c6a",
   "metadata": {},
   "outputs": [
    {
     "name": "stdout",
     "output_type": "stream",
     "text": [
      "Test Loss: 21071156.0, Test MAE: 2761.914794921875\n",
      "\u001b[1m1/1\u001b[0m \u001b[32m━━━━━━━━━━━━━━━━━━━━\u001b[0m\u001b[37m\u001b[0m \u001b[1m0s\u001b[0m 18ms/step\n"
     ]
    },
    {
     "data": {
      "image/png": "[encoded data removed]",
      "text/plain": [
       "<Figure size 1152x432 with 1 Axes>"
      ]
     },
     "metadata": {
      "needs_background": "light"
     },
     "output_type": "display_data"
    }
   ],
   "source": [
    "# Оценка модели на тестовой выборке\n",
    "test_loss, test_mae = model.evaluate(X_test, y_test, verbose=0)\n",
    "print(f\"Test Loss: {test_loss}, Test MAE: {test_mae}\")\n",
    "\n",
    "# Прогнозирование\n",
    "y_pred = model.predict(X_test)\n",
    "\n",
    "# Визуализация: Факт — Прогноз\n",
    "plt.figure(figsize=(16, 6))\n",
    "plt.plot(range(len(y_test)), y_test, label='Фактические значения')\n",
    "plt.plot(range(len(y_pred)), y_pred, label='Прогнозируемые значения', linestyle='--')\n",
    "plt.title('Факт — Прогноз по температуре')\n",
    "plt.xlabel('Номер звезды')\n",
    "plt.ylabel('Температура (K)')\n",
    "plt.legend()\n",
    "plt.show()"
   ]
  },
  {
   "cell_type": "markdown",
   "id": "9e99e14b",
   "metadata": {},
   "source": [
    "Модель достаточно хорошо предсказывает значения температуры. На большинстве участков графика предсказания очень близки к фактическим значениям.\n",
    "Видно, что модель может адекватно следовать за изменениями фактических значений температуры. В некоторых случаях имеются небольшие отклонения, но в целом динамика сохраняется."
   ]
  },
  {
   "cell_type": "code",
   "execution_count": 23,
   "id": "3195d203",
   "metadata": {},
   "outputs": [
    {
     "data": {
      "image/png": "[encoded data removed]",
      "text/plain": [
       "<Figure size 1296x432 with 1 Axes>"
      ]
     },
     "metadata": {
      "needs_background": "light"
     },
     "output_type": "display_data"
    }
   ],
   "source": [
    "# Преобразуем y_pred в двумерный массив, если он трёхмерный\n",
    "if len(y_pred.shape) == 3:\n",
    "    y_pred = y_pred.squeeze()  # Убираем лишние измерения\n",
    "\n",
    "# Проверяем форму y_pred (должна быть двумерной: (n_samples, 1))\n",
    "if len(y_pred.shape) == 1:\n",
    "    y_pred = np.expand_dims(y_pred, axis=1)  # Добавляем ось, чтобы y_pred стал (n_samples, 1)\n",
    "\n",
    "# Подготовка данных для обратного преобразования\n",
    "# Создаем массив с 3 столбцами: первый столбец — это температурные данные, остальные — нули\n",
    "y_test_expanded = np.concatenate([np.expand_dims(y_test, axis=1), np.zeros((len(y_test), 2))], axis=1)\n",
    "y_pred_expanded = np.concatenate([y_pred, np.zeros((len(y_pred), 2))], axis=1)\n",
    "\n",
    "# Применяем обратное преобразование с помощью scaler\n",
    "y_test_original = scaler.inverse_transform(y_test_expanded)[:, 0]  # берем только первый столбец (температура)\n",
    "y_pred_original = scaler.inverse_transform(y_pred_expanded)[:, 0]  # берем только первый столбец (температура)\n",
    "\n",
    "# Построение столбчатой диаграммы\n",
    "plt.figure(figsize=(18, 6))\n",
    "\n",
    "# Задаём номера звёзд\n",
    "x = np.arange(len(y_test))\n",
    "\n",
    "# Ширина столбцов\n",
    "width = 0.4\n",
    "fact_width = width * 2  # Увеличиваем ширину столбцов \"Факт\" в два раза\n",
    "\n",
    "# Столбцы для фактических значений (позади)\n",
    "plt.bar(x, y_test_original, fact_width, label='Факт', color='lightblue', zorder=1)\n",
    "\n",
    "# Столбцы для прогнозируемых значений (поверх)\n",
    "plt.bar(x, y_pred_original, width, label='Прогноз', color='orange', zorder=2)\n",
    "\n",
    "# Настройки графика\n",
    "plt.title('Факт — Прогноз по температуре звёзд (в Кельвинах)')\n",
    "plt.xlabel('Номер звезды в таблице данных')\n",
    "plt.ylabel('Температура звезды (K)')\n",
    "plt.xticks(x)  # Отображаем номера звёзд на оси X\n",
    "plt.legend()\n",
    "\n",
    "# Показать график\n",
    "plt.show()"
   ]
  },
  {
   "cell_type": "markdown",
   "id": "ecc5b1d9",
   "metadata": {},
   "source": [
    "Модель, имеет тенденцию к недооценке фактических значений. Прогнозы часто оказываются значительно ниже фактических температур, особенно для высоких температур, что требует доработки модели или пересмотра данных для улучшения точности предсказаний."
   ]
  },
  {
   "cell_type": "markdown",
   "id": "growing-supply",
   "metadata": {},
   "source": [
    "## Улучшение нейронной сети"
   ]
  },
  {
   "cell_type": "markdown",
   "id": "8024a0a1",
   "metadata": {},
   "source": [
    "Для улучшения модели мы попробуем использовать перебор параметров нейросети, таких как размер батча и dropout (регуляризация). Это позволит нам понять, как именно эти гиперпараметры влияют на результаты модели."
   ]
  },
  {
   "cell_type": "code",
   "execution_count": 24,
   "id": "248c90b5",
   "metadata": {
    "scrolled": false
   },
   "outputs": [
    {
     "name": "stdout",
     "output_type": "stream",
     "text": [
      "Обучаем модель с dropout_rate=0, batch_size=2\n",
      "\u001b[1m1/1\u001b[0m \u001b[32m━━━━━━━━━━━━━━━━━━━━\u001b[0m\u001b[37m\u001b[0m \u001b[1m0s\u001b[0m 47ms/step\n",
      "\n",
      "Эпоха 500: RMSE на тестовой выборке = 5865.6784\n",
      "\u001b[1m1/1\u001b[0m \u001b[32m━━━━━━━━━━━━━━━━━━━━\u001b[0m\u001b[37m\u001b[0m \u001b[1m0s\u001b[0m 44ms/step\n",
      "\n",
      "Эпоха 1000: RMSE на тестовой выборке = 4769.9689\n",
      "\u001b[1m1/1\u001b[0m \u001b[32m━━━━━━━━━━━━━━━━━━━━\u001b[0m\u001b[37m\u001b[0m \u001b[1m0s\u001b[0m 40ms/step\n",
      "\n",
      "Эпоха 1500: RMSE на тестовой выборке = 4573.1752\n",
      "\u001b[1m1/1\u001b[0m \u001b[32m━━━━━━━━━━━━━━━━━━━━\u001b[0m\u001b[37m\u001b[0m \u001b[1m0s\u001b[0m 19ms/step\n",
      "\n",
      "Эпоха 2000: RMSE на тестовой выборке = 4510.4008\n",
      "\u001b[1m1/1\u001b[0m \u001b[32m━━━━━━━━━━━━━━━━━━━━\u001b[0m\u001b[37m\u001b[0m \u001b[1m0s\u001b[0m 19ms/step\n",
      "\n",
      "Эпоха 2500: RMSE на тестовой выборке = 4500.5987\n",
      "\u001b[1m1/1\u001b[0m \u001b[32m━━━━━━━━━━━━━━━━━━━━\u001b[0m\u001b[37m\u001b[0m \u001b[1m0s\u001b[0m 38ms/step\n",
      "\n",
      "Эпоха 3000: RMSE на тестовой выборке = 4497.8420\n",
      "\u001b[1m1/1\u001b[0m \u001b[32m━━━━━━━━━━━━━━━━━━━━\u001b[0m\u001b[37m\u001b[0m \u001b[1m0s\u001b[0m 18ms/step\n",
      "\n",
      "Эпоха 3500: RMSE на тестовой выборке = 4499.1271\n",
      "RMSE не улучшилось. Останавливаем обучение на 3500-й эпохе.\n",
      "\u001b[1m1/1\u001b[0m \u001b[32m━━━━━━━━━━━━━━━━━━━━\u001b[0m\u001b[37m\u001b[0m \u001b[1m0s\u001b[0m 18ms/step\n",
      "Обучаем модель с dropout_rate=0, batch_size=16\n",
      "\u001b[1m1/1\u001b[0m \u001b[32m━━━━━━━━━━━━━━━━━━━━\u001b[0m\u001b[37m\u001b[0m \u001b[1m0s\u001b[0m 63ms/step\n",
      "\n",
      "Эпоха 500: RMSE на тестовой выборке = 8841.9659\n",
      "\u001b[1m1/1\u001b[0m \u001b[32m━━━━━━━━━━━━━━━━━━━━\u001b[0m\u001b[37m\u001b[0m \u001b[1m0s\u001b[0m 20ms/step\n",
      "\n",
      "Эпоха 1000: RMSE на тестовой выборке = 6973.9100\n",
      "\u001b[1m1/1\u001b[0m \u001b[32m━━━━━━━━━━━━━━━━━━━━\u001b[0m\u001b[37m\u001b[0m \u001b[1m0s\u001b[0m 19ms/step\n",
      "\n",
      "Эпоха 1500: RMSE на тестовой выборке = 5773.6205\n",
      "\u001b[1m1/1\u001b[0m \u001b[32m━━━━━━━━━━━━━━━━━━━━\u001b[0m\u001b[37m\u001b[0m \u001b[1m0s\u001b[0m 18ms/step\n",
      "\n",
      "Эпоха 2000: RMSE на тестовой выборке = 5125.6942\n",
      "\u001b[1m1/1\u001b[0m \u001b[32m━━━━━━━━━━━━━━━━━━━━\u001b[0m\u001b[37m\u001b[0m \u001b[1m0s\u001b[0m 17ms/step\n",
      "\n",
      "Эпоха 2500: RMSE на тестовой выборке = 4753.4730\n",
      "\u001b[1m1/1\u001b[0m \u001b[32m━━━━━━━━━━━━━━━━━━━━\u001b[0m\u001b[37m\u001b[0m \u001b[1m0s\u001b[0m 20ms/step\n",
      "\n",
      "Эпоха 3000: RMSE на тестовой выборке = 4583.5253\n",
      "\u001b[1m1/1\u001b[0m \u001b[32m━━━━━━━━━━━━━━━━━━━━\u001b[0m\u001b[37m\u001b[0m \u001b[1m0s\u001b[0m 37ms/step\n",
      "\n",
      "Эпоха 3500: RMSE на тестовой выборке = 4531.7177\n",
      "\u001b[1m1/1\u001b[0m \u001b[32m━━━━━━━━━━━━━━━━━━━━\u001b[0m\u001b[37m\u001b[0m \u001b[1m0s\u001b[0m 20ms/step\n",
      "\n",
      "Эпоха 4000: RMSE на тестовой выборке = 4483.9716\n",
      "\u001b[1m1/1\u001b[0m \u001b[32m━━━━━━━━━━━━━━━━━━━━\u001b[0m\u001b[37m\u001b[0m \u001b[1m0s\u001b[0m 21ms/step\n",
      "\n",
      "Эпоха 4500: RMSE на тестовой выборке = 4495.3860\n",
      "RMSE не улучшилось. Останавливаем обучение на 4500-й эпохе.\n",
      "\u001b[1m1/1\u001b[0m \u001b[32m━━━━━━━━━━━━━━━━━━━━\u001b[0m\u001b[37m\u001b[0m \u001b[1m0s\u001b[0m 20ms/step\n",
      "Обучаем модель с dropout_rate=0.2, batch_size=2\n",
      "\u001b[1m1/1\u001b[0m \u001b[32m━━━━━━━━━━━━━━━━━━━━\u001b[0m\u001b[37m\u001b[0m \u001b[1m0s\u001b[0m 74ms/step\n",
      "\n",
      "Эпоха 500: RMSE на тестовой выборке = 6413.0589\n",
      "\u001b[1m1/1\u001b[0m \u001b[32m━━━━━━━━━━━━━━━━━━━━\u001b[0m\u001b[37m\u001b[0m \u001b[1m0s\u001b[0m 19ms/step\n",
      "\n",
      "Эпоха 1000: RMSE на тестовой выборке = 5472.8921\n",
      "\u001b[1m1/1\u001b[0m \u001b[32m━━━━━━━━━━━━━━━━━━━━\u001b[0m\u001b[37m\u001b[0m \u001b[1m0s\u001b[0m 19ms/step\n",
      "\n",
      "Эпоха 1500: RMSE на тестовой выборке = 5257.0346\n",
      "\u001b[1m1/1\u001b[0m \u001b[32m━━━━━━━━━━━━━━━━━━━━\u001b[0m\u001b[37m\u001b[0m \u001b[1m0s\u001b[0m 20ms/step\n",
      "\n",
      "Эпоха 2000: RMSE на тестовой выборке = 5122.9438\n",
      "\u001b[1m1/1\u001b[0m \u001b[32m━━━━━━━━━━━━━━━━━━━━\u001b[0m\u001b[37m\u001b[0m \u001b[1m0s\u001b[0m 19ms/step\n",
      "\n",
      "Эпоха 2500: RMSE на тестовой выборке = 5110.4463\n",
      "\u001b[1m1/1\u001b[0m \u001b[32m━━━━━━━━━━━━━━━━━━━━\u001b[0m\u001b[37m\u001b[0m \u001b[1m0s\u001b[0m 20ms/step\n",
      "\n",
      "Эпоха 3000: RMSE на тестовой выборке = 5102.4401\n",
      "\u001b[1m1/1\u001b[0m \u001b[32m━━━━━━━━━━━━━━━━━━━━\u001b[0m\u001b[37m\u001b[0m \u001b[1m0s\u001b[0m 20ms/step\n",
      "\n",
      "Эпоха 3500: RMSE на тестовой выборке = 5320.8060\n",
      "RMSE не улучшилось. Останавливаем обучение на 3500-й эпохе.\n",
      "\u001b[1m1/1\u001b[0m \u001b[32m━━━━━━━━━━━━━━━━━━━━\u001b[0m\u001b[37m\u001b[0m \u001b[1m0s\u001b[0m 19ms/step\n",
      "Обучаем модель с dropout_rate=0.2, batch_size=16\n",
      "\u001b[1m1/1\u001b[0m \u001b[32m━━━━━━━━━━━━━━━━━━━━\u001b[0m\u001b[37m\u001b[0m \u001b[1m0s\u001b[0m 47ms/step\n",
      "\n",
      "Эпоха 500: RMSE на тестовой выборке = 9323.4401\n",
      "\u001b[1m1/1\u001b[0m \u001b[32m━━━━━━━━━━━━━━━━━━━━\u001b[0m\u001b[37m\u001b[0m \u001b[1m0s\u001b[0m 19ms/step\n",
      "\n",
      "Эпоха 1000: RMSE на тестовой выборке = 7850.3303\n",
      "\u001b[1m1/1\u001b[0m \u001b[32m━━━━━━━━━━━━━━━━━━━━\u001b[0m\u001b[37m\u001b[0m \u001b[1m0s\u001b[0m 36ms/step\n",
      "\n",
      "Эпоха 1500: RMSE на тестовой выборке = 6675.6032\n",
      "\u001b[1m1/1\u001b[0m \u001b[32m━━━━━━━━━━━━━━━━━━━━\u001b[0m\u001b[37m\u001b[0m \u001b[1m0s\u001b[0m 19ms/step\n",
      "\n",
      "Эпоха 2000: RMSE на тестовой выборке = 6036.8604\n",
      "\u001b[1m1/1\u001b[0m \u001b[32m━━━━━━━━━━━━━━━━━━━━\u001b[0m\u001b[37m\u001b[0m \u001b[1m0s\u001b[0m 26ms/step\n",
      "\n",
      "Эпоха 2500: RMSE на тестовой выборке = 5656.6660\n",
      "\u001b[1m1/1\u001b[0m \u001b[32m━━━━━━━━━━━━━━━━━━━━\u001b[0m\u001b[37m\u001b[0m \u001b[1m0s\u001b[0m 37ms/step\n",
      "\n",
      "Эпоха 3000: RMSE на тестовой выборке = 5469.9497\n",
      "\u001b[1m1/1\u001b[0m \u001b[32m━━━━━━━━━━━━━━━━━━━━\u001b[0m\u001b[37m\u001b[0m \u001b[1m0s\u001b[0m 19ms/step\n",
      "\n",
      "Эпоха 3500: RMSE на тестовой выборке = 5461.9439\n",
      "\u001b[1m1/1\u001b[0m \u001b[32m━━━━━━━━━━━━━━━━━━━━\u001b[0m\u001b[37m\u001b[0m \u001b[1m0s\u001b[0m 19ms/step\n",
      "\n",
      "Эпоха 4000: RMSE на тестовой выборке = 5334.9786\n",
      "\u001b[1m1/1\u001b[0m \u001b[32m━━━━━━━━━━━━━━━━━━━━\u001b[0m\u001b[37m\u001b[0m \u001b[1m0s\u001b[0m 36ms/step\n",
      "\n",
      "Эпоха 4500: RMSE на тестовой выборке = 5182.7045\n",
      "\u001b[1m1/1\u001b[0m \u001b[32m━━━━━━━━━━━━━━━━━━━━\u001b[0m\u001b[37m\u001b[0m \u001b[1m0s\u001b[0m 20ms/step\n",
      "\n",
      "Эпоха 5000: RMSE на тестовой выборке = 5214.2175\n",
      "RMSE не улучшилось. Останавливаем обучение на 5000-й эпохе.\n",
      "\u001b[1m1/1\u001b[0m \u001b[32m━━━━━━━━━━━━━━━━━━━━\u001b[0m\u001b[37m\u001b[0m \u001b[1m0s\u001b[0m 24ms/step\n",
      "Лучшие параметры: {'dropout_rate': 0, 'batch_size': 16}, RMSE: 4495.3860\n"
     ]
    }
   ],
   "source": [
    "# Функция для создания модели с гиперпараметрами\n",
    "def create_model(input_shape, dropout_rate=0.0):\n",
    "    model = models.Sequential()\n",
    "    \n",
    "    model.add(layers.InputLayer(input_shape=(input_shape,)))\n",
    "    model.add(layers.Dense(16, activation='relu'))\n",
    "    model.add(layers.Dropout(dropout_rate))  # Dropout слой\n",
    "    \n",
    "    model.add(layers.Dense(8, activation='relu'))\n",
    "    model.add(layers.Dropout(dropout_rate))\n",
    "    \n",
    "    model.add(layers.Dense(1, activation='linear'))  # Выходной слой для регрессии\n",
    "    \n",
    "    model.compile(optimizer='adam', loss='mse', metrics=['mae'])\n",
    "    \n",
    "    return model\n",
    "\n",
    "\n",
    "# Определяем гиперпараметры для поиска\n",
    "dropout_rates = [0, 0.2]  # Возможные значения dropout\n",
    "batch_sizes = [2, 16]         # Размеры батча\n",
    "\n",
    "# Количество эпох\n",
    "epochs = 100000\n",
    "\n",
    "# Для хранения результатов\n",
    "best_rmse = float('inf')  # Инициализируем минимальный RMSE как бесконечность\n",
    "best_params = None        # Переменная для хранения лучших параметров\n",
    "\n",
    "# Перебор всех комбинаций гиперпараметров\n",
    "for dropout_rate in dropout_rates:\n",
    "    for batch_size in batch_sizes:\n",
    "        print(f\"Обучаем модель с dropout_rate={dropout_rate}, batch_size={batch_size}\")\n",
    "        \n",
    "        # Создаём модель с текущими параметрами\n",
    "        model = create_model(X_train.shape[1], dropout_rate=dropout_rate)\n",
    "        \n",
    "        # Создаем кастомный колбэк с тестовыми данными\n",
    "        rmse_callback = RmseOnTestCallback(test_data=(X_test, y_test), patience=500)\n",
    "        \n",
    "        # Обучение модели\n",
    "        history = model.fit(X_train, y_train, \n",
    "                            epochs=epochs, \n",
    "                            batch_size=batch_size, \n",
    "                            verbose=0, \n",
    "                            callbacks=[rmse_callback])  # Добавляем кастомный колбэк\n",
    "        \n",
    "        # Прогноз на тестовой выборке после обучения\n",
    "        y_pred = model.predict(X_test)\n",
    "        \n",
    "        # Вычисляем RMSE на тестовой выборке\n",
    "        rmse_value = sqrt(mean_squared_error(y_test, y_pred))\n",
    "        \n",
    "        # Сохраняем лучшие параметры, если RMSE улучшилось\n",
    "        if rmse_value < best_rmse:\n",
    "            best_rmse = rmse_value\n",
    "            best_params = {'dropout_rate': dropout_rate, 'batch_size': batch_size}\n",
    "\n",
    "# Выводим лучшие параметры\n",
    "print(f\"Лучшие параметры: {best_params}, RMSE: {best_rmse:.4f}\")"
   ]
  },
  {
   "cell_type": "markdown",
   "id": "595ef545",
   "metadata": {},
   "source": [
    "Для данной модели лучшая регуляризация достигается при использовании маленького размера батча. Dropout = 0 и Batch size = 16 дают наилучший результат с RMSE: 4495.39."
   ]
  },
  {
   "cell_type": "markdown",
   "id": "accurate-infrastructure",
   "metadata": {},
   "source": [
    "## Выводы"
   ]
  },
  {
   "cell_type": "markdown",
   "id": "28495dfb",
   "metadata": {},
   "source": [
    "- Базовая модель (без Dropout и подбора гиперпараметров) продемонстрировала неплохие результаты, но имела тенденцию к недооценке высоких значений температуры.\n",
    "\n",
    "\n",
    "- Улучшенная модель (с Dropout и подбором гиперпараметров) показала более точные предсказания, особенно для низких и средних температур. Однако при крайне высоких температурах все еще наблюдаются незначительные отклонения.\n",
    "\n",
    "Рекомендуется использовать модель с Dropout = 0 и Batch size = 16."
   ]
  },
  {
   "cell_type": "markdown",
   "id": "d4ecb40e",
   "metadata": {},
   "source": [
    "<div class=\"alert alert-success\">\n",
    "<b>👍 Успех:</b> Отличная работа! Было очень приятно проверять твой проект!\n",
    "\n",
    "Оставлю хороший учебник по ML:\n",
    "+  https://academy.yandex.ru/handbook/ml\n",
    "\n",
    "Немного новостей с мира DL(вдруг заинтересует):\n",
    "+  https://habr.com/ru/company/ods/blog/686962/\n",
    "\n",
    "Вот тут проходят всякие соревнования, можешь себя попробовать:\n",
    "+  https://hacks-ai.ru/\n",
    "\n",
    "\n",
    "Возможно, что нить пригодится:\n",
    "+  https://arxiv.org/ftp/arxiv/papers/2201/2201.00650.pdf\n",
    "+  https://github.com/slgero/testovoe\n",
    "\n",
    "\n",
    "Курс от МФТИ математика для DS:\n",
    "\n",
    "+  https://www.youtube.com/watch?v=xccjt6lOoow&list=PLk4h7dmY2eYHHTyfLyrl7HmP-H3mMAW08&index=1\n",
    "\n",
    "\n",
    "Тут много соревнований/лекций:\n",
    "\n",
    "+  https://ods.ai/\n",
    "\n",
    "stepic NLP/CV:\n",
    "\n",
    "+  https://stepik.org/course/54098/syllabus\n",
    "+  https://stepik.org/course/50352/syllabus\n",
    "\n",
    "Еще есть от ВШЭ:\n",
    "\n",
    "+  https://www.youtube.com/watch?v=mwjQaNt8qxk&list=PLEwK9wdS5g0og-DcF1apxutSM0GDLHz_3&ab_channel=%D0%A4%D0%9A%D0%9D%D0%92%D0%A8%D0%AD%E2%80%94%D0%B4%D0%B8%D1%81%D1%82%D0%B0%D0%BD%D1%86%D0%B8%D0%BE%D0%BD%D0%BD%D1%8B%D0%B5%D0%B7%D0%B0%D0%BD%D1%8F%D1%82%D0%B8%D1%8F\n",
    "+  https://github.com/hse-ds/iad-deep-learning\n",
    "\n",
    "Удачи в следующих проектах!!!\n",
    "</div>\n"
   ]
  }
 ],
 "metadata": {
  "ExecuteTimeLog": [
   {
    "duration": 399,
    "start_time": "2024-09-20T22:43:01.065Z"
   },
   {
    "duration": 75,
    "start_time": "2024-09-20T22:43:01.466Z"
   },
   {
    "duration": 52,
    "start_time": "2024-09-20T22:43:32.314Z"
   },
   {
    "duration": 1969,
    "start_time": "2024-09-20T22:45:39.542Z"
   },
   {
    "duration": 1051,
    "start_time": "2024-09-20T22:46:42.153Z"
   },
   {
    "duration": 937,
    "start_time": "2024-09-20T22:47:39.524Z"
   },
   {
    "duration": 342,
    "start_time": "2024-09-20T23:11:15.131Z"
   },
   {
    "duration": 279,
    "start_time": "2024-09-20T23:12:32.397Z"
   },
   {
    "duration": 252,
    "start_time": "2024-09-20T23:13:31.828Z"
   },
   {
    "duration": 242,
    "start_time": "2024-09-20T23:14:20.159Z"
   },
   {
    "duration": 261,
    "start_time": "2024-09-20T23:16:54.422Z"
   },
   {
    "duration": 430,
    "start_time": "2024-09-20T23:17:14.268Z"
   },
   {
    "duration": 27,
    "start_time": "2024-09-20T23:17:14.699Z"
   },
   {
    "duration": 48,
    "start_time": "2024-09-20T23:17:14.728Z"
   },
   {
    "duration": 1474,
    "start_time": "2024-09-20T23:17:14.778Z"
   },
   {
    "duration": 360,
    "start_time": "2024-09-20T23:17:16.254Z"
   },
   {
    "duration": 257,
    "start_time": "2024-09-20T23:18:02.786Z"
   },
   {
    "duration": 249,
    "start_time": "2024-09-20T23:18:47.788Z"
   },
   {
    "duration": 6,
    "start_time": "2024-09-20T23:19:50.637Z"
   },
   {
    "duration": 428,
    "start_time": "2024-09-20T23:22:43.287Z"
   },
   {
    "duration": 28,
    "start_time": "2024-09-20T23:22:43.717Z"
   },
   {
    "duration": 50,
    "start_time": "2024-09-20T23:22:43.747Z"
   },
   {
    "duration": 1511,
    "start_time": "2024-09-20T23:22:43.799Z"
   },
   {
    "duration": 6,
    "start_time": "2024-09-20T23:22:45.313Z"
   },
   {
    "duration": 49,
    "start_time": "2024-09-20T23:22:45.320Z"
   },
   {
    "duration": 344,
    "start_time": "2024-09-20T23:22:45.371Z"
   },
   {
    "duration": 6,
    "start_time": "2024-09-20T23:23:07.374Z"
   },
   {
    "duration": 389,
    "start_time": "2024-09-20T23:26:23.223Z"
   },
   {
    "duration": 27,
    "start_time": "2024-09-20T23:26:23.614Z"
   },
   {
    "duration": 49,
    "start_time": "2024-09-20T23:26:23.643Z"
   },
   {
    "duration": 1530,
    "start_time": "2024-09-20T23:26:23.694Z"
   },
   {
    "duration": 6,
    "start_time": "2024-09-20T23:26:25.226Z"
   },
   {
    "duration": 13,
    "start_time": "2024-09-20T23:26:25.235Z"
   },
   {
    "duration": 322,
    "start_time": "2024-09-20T23:26:25.250Z"
   },
   {
    "duration": 7,
    "start_time": "2024-09-20T23:27:35.271Z"
   },
   {
    "duration": 205,
    "start_time": "2024-09-20T23:28:34.783Z"
   },
   {
    "duration": 222,
    "start_time": "2024-09-20T23:29:59.109Z"
   },
   {
    "duration": 200,
    "start_time": "2024-09-20T23:30:36.209Z"
   },
   {
    "duration": 435,
    "start_time": "2024-09-20T23:31:16.083Z"
   },
   {
    "duration": 27,
    "start_time": "2024-09-20T23:31:16.520Z"
   },
   {
    "duration": 48,
    "start_time": "2024-09-20T23:31:16.549Z"
   },
   {
    "duration": 1472,
    "start_time": "2024-09-20T23:31:16.598Z"
   },
   {
    "duration": 6,
    "start_time": "2024-09-20T23:31:18.072Z"
   },
   {
    "duration": 24,
    "start_time": "2024-09-20T23:31:18.079Z"
   },
   {
    "duration": 342,
    "start_time": "2024-09-20T23:31:18.105Z"
   },
   {
    "duration": 197,
    "start_time": "2024-09-20T23:32:54.690Z"
   },
   {
    "duration": 215,
    "start_time": "2024-09-20T23:34:02.201Z"
   },
   {
    "duration": 210,
    "start_time": "2024-09-20T23:34:33.591Z"
   },
   {
    "duration": 5,
    "start_time": "2024-09-20T23:34:54.835Z"
   },
   {
    "duration": 144,
    "start_time": "2024-09-20T23:38:24.505Z"
   },
   {
    "duration": 274,
    "start_time": "2024-09-20T23:38:32.735Z"
   },
   {
    "duration": 211,
    "start_time": "2024-09-20T23:40:24.531Z"
   },
   {
    "duration": 193,
    "start_time": "2024-09-20T23:40:54.636Z"
   },
   {
    "duration": 196,
    "start_time": "2024-09-20T23:41:40.436Z"
   },
   {
    "duration": 213,
    "start_time": "2024-09-20T23:42:12.860Z"
   },
   {
    "duration": 20,
    "start_time": "2024-09-20T23:43:29.308Z"
   },
   {
    "duration": 138,
    "start_time": "2024-09-20T23:43:37.309Z"
   },
   {
    "duration": 195,
    "start_time": "2024-09-20T23:43:42.874Z"
   },
   {
    "duration": 232,
    "start_time": "2024-09-21T00:02:39.126Z"
   },
   {
    "duration": 441,
    "start_time": "2024-09-21T00:05:12.279Z"
   },
   {
    "duration": 27,
    "start_time": "2024-09-21T00:05:12.722Z"
   },
   {
    "duration": 76,
    "start_time": "2024-09-21T00:05:12.750Z"
   },
   {
    "duration": 1531,
    "start_time": "2024-09-21T00:05:12.828Z"
   },
   {
    "duration": 5,
    "start_time": "2024-09-21T00:05:14.362Z"
   },
   {
    "duration": 55,
    "start_time": "2024-09-21T00:05:14.369Z"
   },
   {
    "duration": 193,
    "start_time": "2024-09-21T00:05:14.425Z"
   },
   {
    "duration": 5,
    "start_time": "2024-09-21T00:05:38.421Z"
   },
   {
    "duration": 422,
    "start_time": "2024-09-21T00:07:04.798Z"
   },
   {
    "duration": 26,
    "start_time": "2024-09-21T00:07:05.222Z"
   },
   {
    "duration": 47,
    "start_time": "2024-09-21T00:07:05.250Z"
   },
   {
    "duration": 1551,
    "start_time": "2024-09-21T00:07:05.299Z"
   },
   {
    "duration": 6,
    "start_time": "2024-09-21T00:07:06.852Z"
   },
   {
    "duration": 14,
    "start_time": "2024-09-21T00:07:06.860Z"
   },
   {
    "duration": 198,
    "start_time": "2024-09-21T00:07:06.876Z"
   },
   {
    "duration": 5,
    "start_time": "2024-09-21T00:07:19.081Z"
   },
   {
    "duration": 170,
    "start_time": "2024-09-21T00:08:10.652Z"
   },
   {
    "duration": 173,
    "start_time": "2024-09-21T00:08:50.202Z"
   },
   {
    "duration": 171,
    "start_time": "2024-09-21T00:09:36.902Z"
   },
   {
    "duration": 445,
    "start_time": "2024-09-21T00:10:31.514Z"
   },
   {
    "duration": 27,
    "start_time": "2024-09-21T00:10:31.961Z"
   },
   {
    "duration": 48,
    "start_time": "2024-09-21T00:10:31.990Z"
   },
   {
    "duration": 1529,
    "start_time": "2024-09-21T00:10:32.041Z"
   },
   {
    "duration": 6,
    "start_time": "2024-09-21T00:10:33.572Z"
   },
   {
    "duration": 60,
    "start_time": "2024-09-21T00:10:33.579Z"
   },
   {
    "duration": 0,
    "start_time": "2024-09-21T00:10:33.641Z"
   },
   {
    "duration": 9,
    "start_time": "2024-09-21T00:10:58.673Z"
   },
   {
    "duration": 178,
    "start_time": "2024-09-21T00:10:59.261Z"
   },
   {
    "duration": 413,
    "start_time": "2024-09-21T00:12:59.908Z"
   },
   {
    "duration": 28,
    "start_time": "2024-09-21T00:13:00.323Z"
   },
   {
    "duration": 157,
    "start_time": "2024-09-21T00:13:00.353Z"
   },
   {
    "duration": 1548,
    "start_time": "2024-09-21T00:13:00.512Z"
   },
   {
    "duration": 6,
    "start_time": "2024-09-21T00:13:02.062Z"
   },
   {
    "duration": 35,
    "start_time": "2024-09-21T00:13:02.070Z"
   },
   {
    "duration": 185,
    "start_time": "2024-09-21T00:13:02.106Z"
   },
   {
    "duration": 5,
    "start_time": "2024-09-21T00:13:38.003Z"
   },
   {
    "duration": 459,
    "start_time": "2024-09-21T00:14:11.268Z"
   },
   {
    "duration": 27,
    "start_time": "2024-09-21T00:14:11.728Z"
   },
   {
    "duration": 47,
    "start_time": "2024-09-21T00:14:11.756Z"
   },
   {
    "duration": 1592,
    "start_time": "2024-09-21T00:14:11.805Z"
   },
   {
    "duration": 7,
    "start_time": "2024-09-21T00:14:13.399Z"
   },
   {
    "duration": 12,
    "start_time": "2024-09-21T00:14:13.408Z"
   },
   {
    "duration": 202,
    "start_time": "2024-09-21T00:14:13.422Z"
   },
   {
    "duration": 111,
    "start_time": "2024-09-21T00:15:02.286Z"
   },
   {
    "duration": 3595,
    "start_time": "2024-09-21T00:15:51.888Z"
   },
   {
    "duration": 429,
    "start_time": "2024-09-21T00:15:55.486Z"
   },
   {
    "duration": 26,
    "start_time": "2024-09-21T00:15:55.917Z"
   },
   {
    "duration": 48,
    "start_time": "2024-09-21T00:15:55.945Z"
   },
   {
    "duration": 1552,
    "start_time": "2024-09-21T00:15:55.998Z"
   },
   {
    "duration": 898,
    "start_time": "2024-09-21T00:15:57.551Z"
   },
   {
    "duration": 6,
    "start_time": "2024-09-21T00:15:58.451Z"
   },
   {
    "duration": 14,
    "start_time": "2024-09-21T00:15:58.459Z"
   },
   {
    "duration": 196,
    "start_time": "2024-09-21T00:15:58.474Z"
   },
   {
    "duration": 2485,
    "start_time": "2024-09-21T00:16:42.656Z"
   },
   {
    "duration": 363,
    "start_time": "2024-09-21T00:16:45.144Z"
   },
   {
    "duration": 26,
    "start_time": "2024-09-21T00:16:45.509Z"
   },
   {
    "duration": 48,
    "start_time": "2024-09-21T00:16:45.537Z"
   },
   {
    "duration": 967,
    "start_time": "2024-09-21T00:16:45.587Z"
   },
   {
    "duration": 888,
    "start_time": "2024-09-21T00:16:46.555Z"
   },
   {
    "duration": 7,
    "start_time": "2024-09-21T00:16:47.445Z"
   },
   {
    "duration": 17,
    "start_time": "2024-09-21T00:16:47.453Z"
   },
   {
    "duration": 201,
    "start_time": "2024-09-21T00:16:47.471Z"
   },
   {
    "duration": 2630,
    "start_time": "2024-09-21T00:20:51.977Z"
   },
   {
    "duration": 420,
    "start_time": "2024-09-21T00:20:54.609Z"
   },
   {
    "duration": 27,
    "start_time": "2024-09-21T00:20:55.031Z"
   },
   {
    "duration": 4,
    "start_time": "2024-09-21T00:20:55.059Z"
   },
   {
    "duration": 64,
    "start_time": "2024-09-21T00:20:55.065Z"
   },
   {
    "duration": 1009,
    "start_time": "2024-09-21T00:20:55.130Z"
   },
   {
    "duration": 676,
    "start_time": "2024-09-21T00:20:56.141Z"
   },
   {
    "duration": 10,
    "start_time": "2024-09-21T00:20:56.819Z"
   },
   {
    "duration": 9,
    "start_time": "2024-09-21T00:20:56.831Z"
   },
   {
    "duration": 206,
    "start_time": "2024-09-21T00:20:56.842Z"
   },
   {
    "duration": 673,
    "start_time": "2024-09-21T00:21:22.940Z"
   },
   {
    "duration": 633,
    "start_time": "2024-09-21T00:21:48.711Z"
   },
   {
    "duration": 5,
    "start_time": "2024-09-21T00:22:44.471Z"
   },
   {
    "duration": 65,
    "start_time": "2024-09-21T00:30:50.744Z"
   },
   {
    "duration": 270,
    "start_time": "2024-09-21T00:39:18.864Z"
   },
   {
    "duration": 234,
    "start_time": "2024-09-21T00:40:07.002Z"
   },
   {
    "duration": 974,
    "start_time": "2024-09-21T00:40:17.442Z"
   },
   {
    "duration": 1081,
    "start_time": "2024-09-21T00:40:31.870Z"
   },
   {
    "duration": 186,
    "start_time": "2024-09-21T00:42:46.977Z"
   },
   {
    "duration": 2517,
    "start_time": "2024-09-21T00:45:05.662Z"
   },
   {
    "duration": 1303,
    "start_time": "2024-09-21T00:45:08.183Z"
   },
   {
    "duration": 27,
    "start_time": "2024-09-21T00:45:09.488Z"
   },
   {
    "duration": 35,
    "start_time": "2024-09-21T00:45:09.517Z"
   },
   {
    "duration": 71,
    "start_time": "2024-09-21T00:45:09.554Z"
   },
   {
    "duration": 218,
    "start_time": "2024-09-21T00:45:09.626Z"
   },
   {
    "duration": 721,
    "start_time": "2024-09-21T00:45:09.846Z"
   },
   {
    "duration": 5,
    "start_time": "2024-09-21T00:45:10.568Z"
   },
   {
    "duration": 44,
    "start_time": "2024-09-21T00:45:10.574Z"
   },
   {
    "duration": 7,
    "start_time": "2024-09-21T00:45:10.621Z"
   },
   {
    "duration": 4,
    "start_time": "2024-09-21T00:45:10.630Z"
   },
   {
    "duration": 6,
    "start_time": "2024-09-21T00:45:10.636Z"
   },
   {
    "duration": 171,
    "start_time": "2024-09-21T00:45:10.643Z"
   },
   {
    "duration": 668,
    "start_time": "2024-09-21T00:45:10.816Z"
   },
   {
    "duration": 184,
    "start_time": "2024-09-21T00:46:41.203Z"
   },
   {
    "duration": 243,
    "start_time": "2024-09-21T00:48:48.725Z"
   },
   {
    "duration": 8,
    "start_time": "2024-09-21T00:49:00.457Z"
   },
   {
    "duration": 379,
    "start_time": "2024-09-21T00:54:07.774Z"
   },
   {
    "duration": 174,
    "start_time": "2024-09-21T00:54:12.162Z"
   },
   {
    "duration": 5,
    "start_time": "2024-09-21T00:56:57.992Z"
   },
   {
    "duration": 2539,
    "start_time": "2024-09-21T01:02:00.584Z"
   },
   {
    "duration": 1231,
    "start_time": "2024-09-21T01:02:03.126Z"
   },
   {
    "duration": 28,
    "start_time": "2024-09-21T01:02:04.358Z"
   },
   {
    "duration": 5,
    "start_time": "2024-09-21T01:02:04.387Z"
   },
   {
    "duration": 85,
    "start_time": "2024-09-21T01:02:04.395Z"
   },
   {
    "duration": 209,
    "start_time": "2024-09-21T01:02:04.482Z"
   },
   {
    "duration": 217,
    "start_time": "2024-09-21T01:02:04.693Z"
   },
   {
    "duration": 376,
    "start_time": "2024-09-21T01:02:04.912Z"
   },
   {
    "duration": 193,
    "start_time": "2024-09-21T01:02:05.290Z"
   },
   {
    "duration": 5,
    "start_time": "2024-09-21T01:02:05.484Z"
   },
   {
    "duration": 16,
    "start_time": "2024-09-21T01:02:05.498Z"
   },
   {
    "duration": 26,
    "start_time": "2024-09-21T01:02:05.515Z"
   },
   {
    "duration": 29,
    "start_time": "2024-09-21T01:02:05.543Z"
   },
   {
    "duration": 40,
    "start_time": "2024-09-21T01:02:05.574Z"
   },
   {
    "duration": 235,
    "start_time": "2024-09-21T01:02:05.616Z"
   },
   {
    "duration": 729,
    "start_time": "2024-09-21T01:02:05.853Z"
   },
   {
    "duration": 3,
    "start_time": "2024-09-21T01:08:05.491Z"
   },
   {
    "duration": 204,
    "start_time": "2024-09-21T01:08:29.076Z"
   },
   {
    "duration": 2516,
    "start_time": "2024-09-21T01:09:12.810Z"
   },
   {
    "duration": 1235,
    "start_time": "2024-09-21T01:09:15.328Z"
   },
   {
    "duration": 27,
    "start_time": "2024-09-21T01:09:16.565Z"
   },
   {
    "duration": 17,
    "start_time": "2024-09-21T01:09:16.594Z"
   },
   {
    "duration": 72,
    "start_time": "2024-09-21T01:09:16.613Z"
   },
   {
    "duration": 269,
    "start_time": "2024-09-21T01:09:16.687Z"
   },
   {
    "duration": 207,
    "start_time": "2024-09-21T01:09:16.957Z"
   },
   {
    "duration": 367,
    "start_time": "2024-09-21T01:09:17.166Z"
   },
   {
    "duration": 197,
    "start_time": "2024-09-21T01:09:17.534Z"
   },
   {
    "duration": 4,
    "start_time": "2024-09-21T01:09:17.734Z"
   },
   {
    "duration": 9,
    "start_time": "2024-09-21T01:09:17.739Z"
   },
   {
    "duration": 7,
    "start_time": "2024-09-21T01:09:17.750Z"
   },
   {
    "duration": 27,
    "start_time": "2024-09-21T01:09:17.758Z"
   },
   {
    "duration": 20,
    "start_time": "2024-09-21T01:09:17.787Z"
   },
   {
    "duration": 177,
    "start_time": "2024-09-21T01:09:17.809Z"
   },
   {
    "duration": 687,
    "start_time": "2024-09-21T01:09:17.988Z"
   },
   {
    "duration": 199,
    "start_time": "2024-09-21T01:19:07.354Z"
   },
   {
    "duration": 105,
    "start_time": "2024-09-21T01:34:40.245Z"
   },
   {
    "duration": 4,
    "start_time": "2024-09-21T01:34:50.727Z"
   },
   {
    "duration": 2511,
    "start_time": "2024-09-21T01:35:04.912Z"
   },
   {
    "duration": 1454,
    "start_time": "2024-09-21T01:35:07.426Z"
   },
   {
    "duration": 28,
    "start_time": "2024-09-21T01:35:08.882Z"
   },
   {
    "duration": 4,
    "start_time": "2024-09-21T01:35:08.912Z"
   },
   {
    "duration": 57,
    "start_time": "2024-09-21T01:35:08.917Z"
   },
   {
    "duration": 207,
    "start_time": "2024-09-21T01:35:08.976Z"
   },
   {
    "duration": 217,
    "start_time": "2024-09-21T01:35:09.185Z"
   },
   {
    "duration": 375,
    "start_time": "2024-09-21T01:35:09.404Z"
   },
   {
    "duration": 276,
    "start_time": "2024-09-21T01:35:09.781Z"
   },
   {
    "duration": 5,
    "start_time": "2024-09-21T01:35:10.060Z"
   },
   {
    "duration": 55,
    "start_time": "2024-09-21T01:35:10.067Z"
   },
   {
    "duration": 31,
    "start_time": "2024-09-21T01:35:10.124Z"
   },
   {
    "duration": 6,
    "start_time": "2024-09-21T01:35:10.157Z"
   },
   {
    "duration": 20,
    "start_time": "2024-09-21T01:35:10.165Z"
   },
   {
    "duration": 190,
    "start_time": "2024-09-21T01:35:10.187Z"
   },
   {
    "duration": 597,
    "start_time": "2024-09-21T01:35:10.378Z"
   },
   {
    "duration": 5,
    "start_time": "2024-09-21T01:35:10.977Z"
   },
   {
    "duration": 6,
    "start_time": "2024-09-21T01:38:28.660Z"
   },
   {
    "duration": 5,
    "start_time": "2024-09-21T01:38:32.867Z"
   },
   {
    "duration": 53,
    "start_time": "2024-09-21T01:38:35.122Z"
   },
   {
    "duration": 6,
    "start_time": "2024-09-21T01:38:54.677Z"
   },
   {
    "duration": 138,
    "start_time": "2024-09-21T01:38:54.968Z"
   },
   {
    "duration": 2566,
    "start_time": "2024-09-21T01:39:04.942Z"
   },
   {
    "duration": 1501,
    "start_time": "2024-09-21T01:39:07.512Z"
   },
   {
    "duration": 27,
    "start_time": "2024-09-21T01:39:09.015Z"
   },
   {
    "duration": 32,
    "start_time": "2024-09-21T01:39:09.044Z"
   },
   {
    "duration": 50,
    "start_time": "2024-09-21T01:39:09.078Z"
   },
   {
    "duration": 248,
    "start_time": "2024-09-21T01:39:09.129Z"
   },
   {
    "duration": 211,
    "start_time": "2024-09-21T01:39:09.379Z"
   },
   {
    "duration": 416,
    "start_time": "2024-09-21T01:39:09.592Z"
   },
   {
    "duration": 288,
    "start_time": "2024-09-21T01:39:10.010Z"
   },
   {
    "duration": 12,
    "start_time": "2024-09-21T01:39:10.301Z"
   },
   {
    "duration": 8,
    "start_time": "2024-09-21T01:39:10.315Z"
   },
   {
    "duration": 12,
    "start_time": "2024-09-21T01:39:10.325Z"
   },
   {
    "duration": 4,
    "start_time": "2024-09-21T01:39:10.340Z"
   },
   {
    "duration": 31,
    "start_time": "2024-09-21T01:39:10.346Z"
   },
   {
    "duration": 210,
    "start_time": "2024-09-21T01:39:10.379Z"
   },
   {
    "duration": 723,
    "start_time": "2024-09-21T01:39:10.591Z"
   },
   {
    "duration": 9,
    "start_time": "2024-09-21T01:39:11.317Z"
   },
   {
    "duration": 169,
    "start_time": "2024-09-21T01:39:11.328Z"
   },
   {
    "duration": 2446,
    "start_time": "2024-09-21T01:44:30.564Z"
   },
   {
    "duration": 1419,
    "start_time": "2024-09-21T01:44:33.013Z"
   },
   {
    "duration": 28,
    "start_time": "2024-09-21T01:44:34.434Z"
   },
   {
    "duration": 4,
    "start_time": "2024-09-21T01:44:34.464Z"
   },
   {
    "duration": 43,
    "start_time": "2024-09-21T01:44:34.471Z"
   },
   {
    "duration": 215,
    "start_time": "2024-09-21T01:44:34.516Z"
   },
   {
    "duration": 197,
    "start_time": "2024-09-21T01:44:34.733Z"
   },
   {
    "duration": 360,
    "start_time": "2024-09-21T01:44:34.932Z"
   },
   {
    "duration": 268,
    "start_time": "2024-09-21T01:44:35.298Z"
   },
   {
    "duration": 4,
    "start_time": "2024-09-21T01:44:35.568Z"
   },
   {
    "duration": 23,
    "start_time": "2024-09-21T01:44:35.574Z"
   },
   {
    "duration": 28,
    "start_time": "2024-09-21T01:44:35.599Z"
   },
   {
    "duration": 10,
    "start_time": "2024-09-21T01:44:35.628Z"
   },
   {
    "duration": 4,
    "start_time": "2024-09-21T01:44:35.641Z"
   },
   {
    "duration": 201,
    "start_time": "2024-09-21T01:44:35.647Z"
   },
   {
    "duration": 613,
    "start_time": "2024-09-21T01:44:35.850Z"
   },
   {
    "duration": 119,
    "start_time": "2024-09-21T01:44:36.465Z"
   },
   {
    "duration": 0,
    "start_time": "2024-09-21T01:44:36.585Z"
   },
   {
    "duration": 0,
    "start_time": "2024-09-21T01:44:36.586Z"
   },
   {
    "duration": 0,
    "start_time": "2024-09-21T01:44:36.597Z"
   },
   {
    "duration": 0,
    "start_time": "2024-09-21T01:44:36.599Z"
   },
   {
    "duration": 0,
    "start_time": "2024-09-21T01:44:36.600Z"
   },
   {
    "duration": 1,
    "start_time": "2024-09-21T01:44:36.600Z"
   },
   {
    "duration": 21,
    "start_time": "2024-09-21T01:45:15.267Z"
   },
   {
    "duration": 2515,
    "start_time": "2024-09-21T01:45:23.799Z"
   },
   {
    "duration": 1451,
    "start_time": "2024-09-21T01:45:26.317Z"
   },
   {
    "duration": 27,
    "start_time": "2024-09-21T01:45:27.769Z"
   },
   {
    "duration": 5,
    "start_time": "2024-09-21T01:45:27.797Z"
   },
   {
    "duration": 43,
    "start_time": "2024-09-21T01:45:27.805Z"
   },
   {
    "duration": 222,
    "start_time": "2024-09-21T01:45:27.849Z"
   },
   {
    "duration": 203,
    "start_time": "2024-09-21T01:45:28.073Z"
   },
   {
    "duration": 390,
    "start_time": "2024-09-21T01:45:28.278Z"
   },
   {
    "duration": 275,
    "start_time": "2024-09-21T01:45:28.670Z"
   },
   {
    "duration": 5,
    "start_time": "2024-09-21T01:45:28.947Z"
   },
   {
    "duration": 15,
    "start_time": "2024-09-21T01:45:28.953Z"
   },
   {
    "duration": 5,
    "start_time": "2024-09-21T01:45:28.970Z"
   },
   {
    "duration": 6,
    "start_time": "2024-09-21T01:45:28.977Z"
   },
   {
    "duration": 13,
    "start_time": "2024-09-21T01:45:28.986Z"
   },
   {
    "duration": 225,
    "start_time": "2024-09-21T01:45:29.001Z"
   },
   {
    "duration": 650,
    "start_time": "2024-09-21T01:45:29.228Z"
   },
   {
    "duration": 130,
    "start_time": "2024-09-21T01:45:29.879Z"
   },
   {
    "duration": 0,
    "start_time": "2024-09-21T01:45:30.011Z"
   },
   {
    "duration": 0,
    "start_time": "2024-09-21T01:45:30.012Z"
   },
   {
    "duration": 0,
    "start_time": "2024-09-21T01:45:30.014Z"
   },
   {
    "duration": 0,
    "start_time": "2024-09-21T01:45:30.016Z"
   },
   {
    "duration": 0,
    "start_time": "2024-09-21T01:45:30.017Z"
   },
   {
    "duration": 0,
    "start_time": "2024-09-21T01:45:30.018Z"
   },
   {
    "duration": 2569,
    "start_time": "2024-09-21T01:45:57.501Z"
   },
   {
    "duration": 1389,
    "start_time": "2024-09-21T01:46:00.072Z"
   },
   {
    "duration": 28,
    "start_time": "2024-09-21T01:46:01.462Z"
   },
   {
    "duration": 5,
    "start_time": "2024-09-21T01:46:01.492Z"
   },
   {
    "duration": 61,
    "start_time": "2024-09-21T01:46:01.499Z"
   },
   {
    "duration": 211,
    "start_time": "2024-09-21T01:46:01.562Z"
   },
   {
    "duration": 215,
    "start_time": "2024-09-21T01:46:01.774Z"
   },
   {
    "duration": 381,
    "start_time": "2024-09-21T01:46:01.990Z"
   },
   {
    "duration": 286,
    "start_time": "2024-09-21T01:46:02.372Z"
   },
   {
    "duration": 5,
    "start_time": "2024-09-21T01:46:02.661Z"
   },
   {
    "duration": 5,
    "start_time": "2024-09-21T01:46:02.667Z"
   },
   {
    "duration": 13,
    "start_time": "2024-09-21T01:46:02.674Z"
   },
   {
    "duration": 17,
    "start_time": "2024-09-21T01:46:02.698Z"
   },
   {
    "duration": 41,
    "start_time": "2024-09-21T01:46:02.717Z"
   },
   {
    "duration": 217,
    "start_time": "2024-09-21T01:46:02.760Z"
   },
   {
    "duration": 626,
    "start_time": "2024-09-21T01:46:02.979Z"
   },
   {
    "duration": 17,
    "start_time": "2024-09-21T01:46:03.607Z"
   },
   {
    "duration": 9,
    "start_time": "2024-09-21T01:46:03.626Z"
   },
   {
    "duration": 28,
    "start_time": "2024-09-21T01:46:03.636Z"
   },
   {
    "duration": 42995,
    "start_time": "2024-09-21T01:46:03.666Z"
   },
   {
    "duration": 1855,
    "start_time": "2024-09-21T01:46:46.663Z"
   },
   {
    "duration": 5510,
    "start_time": "2024-09-21T01:46:48.520Z"
   },
   {
    "duration": 404,
    "start_time": "2024-09-21T01:46:54.031Z"
   },
   {
    "duration": 47272,
    "start_time": "2024-09-21T01:47:13.254Z"
   },
   {
    "duration": 1393,
    "start_time": "2024-09-21T01:48:00.528Z"
   },
   {
    "duration": 29,
    "start_time": "2024-09-21T01:48:01.922Z"
   },
   {
    "duration": 10,
    "start_time": "2024-09-21T01:48:01.952Z"
   },
   {
    "duration": 45,
    "start_time": "2024-09-21T01:48:01.964Z"
   },
   {
    "duration": 234,
    "start_time": "2024-09-21T01:48:02.011Z"
   },
   {
    "duration": 217,
    "start_time": "2024-09-21T01:48:02.247Z"
   },
   {
    "duration": 376,
    "start_time": "2024-09-21T01:48:02.466Z"
   },
   {
    "duration": 280,
    "start_time": "2024-09-21T01:48:02.844Z"
   },
   {
    "duration": 4,
    "start_time": "2024-09-21T01:48:03.126Z"
   },
   {
    "duration": 9,
    "start_time": "2024-09-21T01:48:03.132Z"
   },
   {
    "duration": 22,
    "start_time": "2024-09-21T01:48:03.143Z"
   },
   {
    "duration": 10,
    "start_time": "2024-09-21T01:48:03.167Z"
   },
   {
    "duration": 10,
    "start_time": "2024-09-21T01:48:03.178Z"
   },
   {
    "duration": 215,
    "start_time": "2024-09-21T01:48:03.190Z"
   },
   {
    "duration": 665,
    "start_time": "2024-09-21T01:48:03.409Z"
   },
   {
    "duration": 10,
    "start_time": "2024-09-21T01:48:04.076Z"
   },
   {
    "duration": 30,
    "start_time": "2024-09-21T01:48:04.097Z"
   },
   {
    "duration": 14,
    "start_time": "2024-09-21T01:48:04.129Z"
   },
   {
    "duration": 2537,
    "start_time": "2024-09-21T01:48:04.145Z"
   },
   {
    "duration": 0,
    "start_time": "2024-09-21T01:48:06.684Z"
   },
   {
    "duration": 0,
    "start_time": "2024-09-21T01:48:06.685Z"
   },
   {
    "duration": 5514,
    "start_time": "2024-09-21T01:50:23.558Z"
   },
   {
    "duration": 1526,
    "start_time": "2024-09-21T01:50:29.074Z"
   },
   {
    "duration": 29,
    "start_time": "2024-09-21T01:50:30.603Z"
   },
   {
    "duration": 4,
    "start_time": "2024-09-21T01:50:30.634Z"
   },
   {
    "duration": 52,
    "start_time": "2024-09-21T01:50:30.641Z"
   },
   {
    "duration": 237,
    "start_time": "2024-09-21T01:50:30.695Z"
   },
   {
    "duration": 221,
    "start_time": "2024-09-21T01:50:30.934Z"
   },
   {
    "duration": 402,
    "start_time": "2024-09-21T01:50:31.157Z"
   },
   {
    "duration": 303,
    "start_time": "2024-09-21T01:50:31.561Z"
   },
   {
    "duration": 5,
    "start_time": "2024-09-21T01:50:31.867Z"
   },
   {
    "duration": 24,
    "start_time": "2024-09-21T01:50:31.874Z"
   },
   {
    "duration": 20,
    "start_time": "2024-09-21T01:50:31.900Z"
   },
   {
    "duration": 6,
    "start_time": "2024-09-21T01:50:31.922Z"
   },
   {
    "duration": 4,
    "start_time": "2024-09-21T01:50:31.931Z"
   },
   {
    "duration": 223,
    "start_time": "2024-09-21T01:50:31.936Z"
   },
   {
    "duration": 648,
    "start_time": "2024-09-21T01:50:32.160Z"
   },
   {
    "duration": 14,
    "start_time": "2024-09-21T01:50:32.811Z"
   },
   {
    "duration": 86,
    "start_time": "2024-09-21T01:50:32.826Z"
   },
   {
    "duration": 13,
    "start_time": "2024-09-21T01:50:32.914Z"
   },
   {
    "duration": 2430,
    "start_time": "2024-09-21T01:50:32.929Z"
   },
   {
    "duration": 0,
    "start_time": "2024-09-21T01:50:35.361Z"
   },
   {
    "duration": 0,
    "start_time": "2024-09-21T01:50:35.362Z"
   },
   {
    "duration": 0,
    "start_time": "2024-09-21T01:50:35.364Z"
   },
   {
    "duration": 4302,
    "start_time": "2024-09-21T01:51:20.161Z"
   },
   {
    "duration": 1242,
    "start_time": "2024-09-21T01:51:42.142Z"
   },
   {
    "duration": 5531,
    "start_time": "2024-09-21T01:51:43.387Z"
   },
   {
    "duration": 1417,
    "start_time": "2024-09-21T01:51:48.920Z"
   },
   {
    "duration": 28,
    "start_time": "2024-09-21T01:51:50.339Z"
   },
   {
    "duration": 5,
    "start_time": "2024-09-21T01:51:50.370Z"
   },
   {
    "duration": 41,
    "start_time": "2024-09-21T01:51:50.377Z"
   },
   {
    "duration": 211,
    "start_time": "2024-09-21T01:51:50.420Z"
   },
   {
    "duration": 201,
    "start_time": "2024-09-21T01:51:50.632Z"
   },
   {
    "duration": 345,
    "start_time": "2024-09-21T01:51:50.835Z"
   },
   {
    "duration": 270,
    "start_time": "2024-09-21T01:51:51.182Z"
   },
   {
    "duration": 5,
    "start_time": "2024-09-21T01:51:51.453Z"
   },
   {
    "duration": 6,
    "start_time": "2024-09-21T01:51:51.459Z"
   },
   {
    "duration": 15,
    "start_time": "2024-09-21T01:51:51.467Z"
   },
   {
    "duration": 41,
    "start_time": "2024-09-21T01:51:51.485Z"
   },
   {
    "duration": 11,
    "start_time": "2024-09-21T01:51:51.527Z"
   },
   {
    "duration": 197,
    "start_time": "2024-09-21T01:51:51.539Z"
   },
   {
    "duration": 638,
    "start_time": "2024-09-21T01:51:51.738Z"
   },
   {
    "duration": 10,
    "start_time": "2024-09-21T01:51:52.377Z"
   },
   {
    "duration": 20,
    "start_time": "2024-09-21T01:51:52.389Z"
   },
   {
    "duration": 10,
    "start_time": "2024-09-21T01:51:52.411Z"
   },
   {
    "duration": 2223,
    "start_time": "2024-09-21T01:51:52.422Z"
   },
   {
    "duration": 0,
    "start_time": "2024-09-21T01:51:54.647Z"
   },
   {
    "duration": 0,
    "start_time": "2024-09-21T01:51:54.648Z"
   },
   {
    "duration": 0,
    "start_time": "2024-09-21T01:51:54.649Z"
   },
   {
    "duration": 12247,
    "start_time": "2024-09-21T01:52:46.712Z"
   },
   {
    "duration": 47177,
    "start_time": "2024-09-21T01:52:58.961Z"
   },
   {
    "duration": 1390,
    "start_time": "2024-09-21T01:53:46.140Z"
   },
   {
    "duration": 30,
    "start_time": "2024-09-21T01:53:47.533Z"
   },
   {
    "duration": 5,
    "start_time": "2024-09-21T01:53:47.564Z"
   },
   {
    "duration": 50,
    "start_time": "2024-09-21T01:53:47.570Z"
   },
   {
    "duration": 225,
    "start_time": "2024-09-21T01:53:47.622Z"
   },
   {
    "duration": 195,
    "start_time": "2024-09-21T01:53:47.849Z"
   },
   {
    "duration": 369,
    "start_time": "2024-09-21T01:53:48.046Z"
   },
   {
    "duration": 279,
    "start_time": "2024-09-21T01:53:48.418Z"
   },
   {
    "duration": 4,
    "start_time": "2024-09-21T01:53:48.699Z"
   },
   {
    "duration": 18,
    "start_time": "2024-09-21T01:53:48.705Z"
   },
   {
    "duration": 5,
    "start_time": "2024-09-21T01:53:48.725Z"
   },
   {
    "duration": 5,
    "start_time": "2024-09-21T01:53:48.732Z"
   },
   {
    "duration": 4,
    "start_time": "2024-09-21T01:53:48.738Z"
   },
   {
    "duration": 212,
    "start_time": "2024-09-21T01:53:48.743Z"
   },
   {
    "duration": 609,
    "start_time": "2024-09-21T01:53:48.956Z"
   },
   {
    "duration": 13,
    "start_time": "2024-09-21T01:53:49.567Z"
   },
   {
    "duration": 23,
    "start_time": "2024-09-21T01:53:49.582Z"
   },
   {
    "duration": 7,
    "start_time": "2024-09-21T01:53:49.606Z"
   },
   {
    "duration": 2421,
    "start_time": "2024-09-21T01:53:49.615Z"
   },
   {
    "duration": 0,
    "start_time": "2024-09-21T01:53:52.038Z"
   },
   {
    "duration": 0,
    "start_time": "2024-09-21T01:53:52.039Z"
   },
   {
    "duration": 0,
    "start_time": "2024-09-21T01:53:52.040Z"
   },
   {
    "duration": 5701,
    "start_time": "2024-09-21T01:54:58.290Z"
   },
   {
    "duration": 1502,
    "start_time": "2024-09-21T01:55:03.993Z"
   },
   {
    "duration": 30,
    "start_time": "2024-09-21T01:55:05.497Z"
   },
   {
    "duration": 4,
    "start_time": "2024-09-21T01:55:05.528Z"
   },
   {
    "duration": 71,
    "start_time": "2024-09-21T01:55:05.534Z"
   },
   {
    "duration": 245,
    "start_time": "2024-09-21T01:55:05.607Z"
   },
   {
    "duration": 226,
    "start_time": "2024-09-21T01:55:05.854Z"
   },
   {
    "duration": 400,
    "start_time": "2024-09-21T01:55:06.081Z"
   },
   {
    "duration": 332,
    "start_time": "2024-09-21T01:55:06.482Z"
   },
   {
    "duration": 6,
    "start_time": "2024-09-21T01:55:06.816Z"
   },
   {
    "duration": 17,
    "start_time": "2024-09-21T01:55:06.824Z"
   },
   {
    "duration": 95,
    "start_time": "2024-09-21T01:55:06.843Z"
   },
   {
    "duration": 15,
    "start_time": "2024-09-21T01:55:06.940Z"
   },
   {
    "duration": 5,
    "start_time": "2024-09-21T01:55:06.958Z"
   },
   {
    "duration": 198,
    "start_time": "2024-09-21T01:55:06.965Z"
   },
   {
    "duration": 636,
    "start_time": "2024-09-21T01:55:07.165Z"
   },
   {
    "duration": 15,
    "start_time": "2024-09-21T01:55:07.803Z"
   },
   {
    "duration": 22,
    "start_time": "2024-09-21T01:55:07.821Z"
   },
   {
    "duration": 20,
    "start_time": "2024-09-21T01:55:07.844Z"
   },
   {
    "duration": 2438,
    "start_time": "2024-09-21T01:55:07.866Z"
   },
   {
    "duration": 0,
    "start_time": "2024-09-21T01:55:10.306Z"
   },
   {
    "duration": 0,
    "start_time": "2024-09-21T01:55:10.309Z"
   },
   {
    "duration": 0,
    "start_time": "2024-09-21T01:55:10.311Z"
   },
   {
    "duration": 5474,
    "start_time": "2024-09-21T01:58:04.599Z"
   },
   {
    "duration": 1465,
    "start_time": "2024-09-21T01:58:10.076Z"
   },
   {
    "duration": 29,
    "start_time": "2024-09-21T01:58:11.542Z"
   },
   {
    "duration": 4,
    "start_time": "2024-09-21T01:58:11.573Z"
   },
   {
    "duration": 44,
    "start_time": "2024-09-21T01:58:11.580Z"
   },
   {
    "duration": 237,
    "start_time": "2024-09-21T01:58:11.625Z"
   },
   {
    "duration": 211,
    "start_time": "2024-09-21T01:58:11.864Z"
   },
   {
    "duration": 394,
    "start_time": "2024-09-21T01:58:12.077Z"
   },
   {
    "duration": 275,
    "start_time": "2024-09-21T01:58:12.472Z"
   },
   {
    "duration": 5,
    "start_time": "2024-09-21T01:58:12.749Z"
   },
   {
    "duration": 5,
    "start_time": "2024-09-21T01:58:12.756Z"
   },
   {
    "duration": 6,
    "start_time": "2024-09-21T01:58:12.763Z"
   },
   {
    "duration": 31,
    "start_time": "2024-09-21T01:58:12.771Z"
   },
   {
    "duration": 19,
    "start_time": "2024-09-21T01:58:12.807Z"
   },
   {
    "duration": 210,
    "start_time": "2024-09-21T01:58:12.829Z"
   },
   {
    "duration": 638,
    "start_time": "2024-09-21T01:58:13.041Z"
   },
   {
    "duration": 19,
    "start_time": "2024-09-21T01:58:13.681Z"
   },
   {
    "duration": 11,
    "start_time": "2024-09-21T01:58:13.702Z"
   },
   {
    "duration": 6,
    "start_time": "2024-09-21T01:58:13.715Z"
   },
   {
    "duration": 2562,
    "start_time": "2024-09-21T01:58:13.723Z"
   },
   {
    "duration": 0,
    "start_time": "2024-09-21T01:58:16.287Z"
   },
   {
    "duration": 0,
    "start_time": "2024-09-21T01:58:16.288Z"
   },
   {
    "duration": 0,
    "start_time": "2024-09-21T01:58:16.289Z"
   },
   {
    "duration": 73240,
    "start_time": "2024-09-22T18:31:50.337Z"
   },
   {
    "duration": 2567,
    "start_time": "2024-09-22T18:33:03.579Z"
   },
   {
    "duration": 88,
    "start_time": "2024-09-22T18:33:06.147Z"
   },
   {
    "duration": 3477,
    "start_time": "2024-09-22T18:33:06.237Z"
   },
   {
    "duration": 2646,
    "start_time": "2024-09-22T18:33:09.717Z"
   },
   {
    "duration": 1196,
    "start_time": "2024-09-22T18:33:12.365Z"
   },
   {
    "duration": 1368,
    "start_time": "2024-09-22T18:33:13.562Z"
   },
   {
    "duration": 1039,
    "start_time": "2024-09-22T18:33:14.932Z"
   },
   {
    "duration": 544,
    "start_time": "2024-09-22T18:33:15.972Z"
   },
   {
    "duration": 481,
    "start_time": "2024-09-22T18:33:16.517Z"
   },
   {
    "duration": 555,
    "start_time": "2024-09-22T18:33:17.000Z"
   },
   {
    "duration": 437,
    "start_time": "2024-09-22T18:33:17.557Z"
   },
   {
    "duration": 391,
    "start_time": "2024-09-22T18:33:17.996Z"
   },
   {
    "duration": 297,
    "start_time": "2024-09-22T18:33:18.389Z"
   },
   {
    "duration": 626,
    "start_time": "2024-09-22T18:33:18.688Z"
   },
   {
    "duration": 1493,
    "start_time": "2024-09-22T18:33:19.315Z"
   },
   {
    "duration": 10,
    "start_time": "2024-09-22T18:33:20.809Z"
   },
   {
    "duration": 740,
    "start_time": "2024-09-22T18:33:20.821Z"
   },
   {
    "duration": 576,
    "start_time": "2024-09-22T18:33:21.562Z"
   },
   {
    "duration": 2911,
    "start_time": "2024-09-22T18:33:22.139Z"
   },
   {
    "duration": 0,
    "start_time": "2024-09-22T18:33:25.052Z"
   },
   {
    "duration": 0,
    "start_time": "2024-09-22T18:33:25.053Z"
   },
   {
    "duration": 0,
    "start_time": "2024-09-22T18:33:25.054Z"
   },
   {
    "duration": 8595,
    "start_time": "2024-09-22T18:36:40.620Z"
   },
   {
    "duration": 1315,
    "start_time": "2024-09-22T18:36:49.218Z"
   },
   {
    "duration": 31,
    "start_time": "2024-09-22T18:36:50.534Z"
   },
   {
    "duration": 4,
    "start_time": "2024-09-22T18:36:50.566Z"
   },
   {
    "duration": 38,
    "start_time": "2024-09-22T18:36:50.571Z"
   },
   {
    "duration": 198,
    "start_time": "2024-09-22T18:36:50.610Z"
   },
   {
    "duration": 182,
    "start_time": "2024-09-22T18:36:50.809Z"
   },
   {
    "duration": 334,
    "start_time": "2024-09-22T18:36:50.993Z"
   },
   {
    "duration": 245,
    "start_time": "2024-09-22T18:36:51.328Z"
   },
   {
    "duration": 4,
    "start_time": "2024-09-22T18:36:51.576Z"
   },
   {
    "duration": 78,
    "start_time": "2024-09-22T18:36:51.581Z"
   },
   {
    "duration": 6,
    "start_time": "2024-09-22T18:36:51.660Z"
   },
   {
    "duration": 5,
    "start_time": "2024-09-22T18:36:51.667Z"
   },
   {
    "duration": 4,
    "start_time": "2024-09-22T18:36:51.674Z"
   },
   {
    "duration": 237,
    "start_time": "2024-09-22T18:36:51.679Z"
   },
   {
    "duration": 546,
    "start_time": "2024-09-22T18:36:51.918Z"
   },
   {
    "duration": 9,
    "start_time": "2024-09-22T18:36:52.465Z"
   },
   {
    "duration": 19,
    "start_time": "2024-09-22T18:36:52.475Z"
   },
   {
    "duration": 5,
    "start_time": "2024-09-22T18:36:52.495Z"
   },
   {
    "duration": 2018,
    "start_time": "2024-09-22T18:36:52.501Z"
   },
   {
    "duration": 7902,
    "start_time": "2024-09-22T18:36:54.521Z"
   },
   {
    "duration": 460,
    "start_time": "2024-09-22T18:37:02.425Z"
   },
   {
    "duration": 446,
    "start_time": "2024-09-22T18:37:02.889Z"
   },
   {
    "duration": 4854,
    "start_time": "2024-09-22T18:42:46.094Z"
   },
   {
    "duration": 3032,
    "start_time": "2024-09-22T18:42:50.950Z"
   },
   {
    "duration": 30,
    "start_time": "2024-09-22T18:42:53.983Z"
   },
   {
    "duration": 4,
    "start_time": "2024-09-22T18:42:54.015Z"
   },
   {
    "duration": 39,
    "start_time": "2024-09-22T18:42:54.020Z"
   },
   {
    "duration": 184,
    "start_time": "2024-09-22T18:42:54.060Z"
   },
   {
    "duration": 180,
    "start_time": "2024-09-22T18:42:54.245Z"
   },
   {
    "duration": 476,
    "start_time": "2024-09-22T18:42:54.426Z"
   },
   {
    "duration": 177,
    "start_time": "2024-09-22T18:42:54.904Z"
   },
   {
    "duration": 5,
    "start_time": "2024-09-22T18:42:55.089Z"
   },
   {
    "duration": 4,
    "start_time": "2024-09-22T18:42:55.095Z"
   },
   {
    "duration": 11,
    "start_time": "2024-09-22T18:42:55.100Z"
   },
   {
    "duration": 4,
    "start_time": "2024-09-22T18:42:55.112Z"
   },
   {
    "duration": 4,
    "start_time": "2024-09-22T18:42:55.117Z"
   },
   {
    "duration": 188,
    "start_time": "2024-09-22T18:42:55.122Z"
   },
   {
    "duration": 537,
    "start_time": "2024-09-22T18:42:55.311Z"
   },
   {
    "duration": 9,
    "start_time": "2024-09-22T18:42:55.850Z"
   },
   {
    "duration": 10,
    "start_time": "2024-09-22T18:42:55.860Z"
   },
   {
    "duration": 5,
    "start_time": "2024-09-22T18:42:55.872Z"
   },
   {
    "duration": 5,
    "start_time": "2024-09-22T18:42:55.890Z"
   },
   {
    "duration": 158,
    "start_time": "2024-09-22T18:42:55.896Z"
   },
   {
    "duration": 7936,
    "start_time": "2024-09-22T18:42:56.055Z"
   },
   {
    "duration": 260,
    "start_time": "2024-09-22T18:43:03.993Z"
   },
   {
    "duration": 396,
    "start_time": "2024-09-22T18:43:04.255Z"
   },
   {
    "duration": 269,
    "start_time": "2024-09-22T18:50:24.816Z"
   },
   {
    "duration": 90,
    "start_time": "2024-09-22T18:51:13.989Z"
   },
   {
    "duration": 4786,
    "start_time": "2024-09-22T18:51:27.612Z"
   },
   {
    "duration": 3140,
    "start_time": "2024-09-22T18:51:32.400Z"
   },
   {
    "duration": 30,
    "start_time": "2024-09-22T18:51:35.542Z"
   },
   {
    "duration": 4,
    "start_time": "2024-09-22T18:51:35.573Z"
   },
   {
    "duration": 58,
    "start_time": "2024-09-22T18:51:35.579Z"
   },
   {
    "duration": 207,
    "start_time": "2024-09-22T18:51:35.639Z"
   },
   {
    "duration": 188,
    "start_time": "2024-09-22T18:51:35.848Z"
   },
   {
    "duration": 484,
    "start_time": "2024-09-22T18:51:36.038Z"
   },
   {
    "duration": 178,
    "start_time": "2024-09-22T18:51:36.524Z"
   },
   {
    "duration": 6,
    "start_time": "2024-09-22T18:51:36.703Z"
   },
   {
    "duration": 21,
    "start_time": "2024-09-22T18:51:36.710Z"
   },
   {
    "duration": 6,
    "start_time": "2024-09-22T18:51:36.732Z"
   },
   {
    "duration": 5,
    "start_time": "2024-09-22T18:51:36.739Z"
   },
   {
    "duration": 11,
    "start_time": "2024-09-22T18:51:36.746Z"
   },
   {
    "duration": 184,
    "start_time": "2024-09-22T18:51:36.758Z"
   },
   {
    "duration": 595,
    "start_time": "2024-09-22T18:51:36.943Z"
   },
   {
    "duration": 10,
    "start_time": "2024-09-22T18:51:37.540Z"
   },
   {
    "duration": 15,
    "start_time": "2024-09-22T18:51:37.551Z"
   },
   {
    "duration": 5,
    "start_time": "2024-09-22T18:51:37.568Z"
   },
   {
    "duration": 4,
    "start_time": "2024-09-22T18:51:37.574Z"
   },
   {
    "duration": 149,
    "start_time": "2024-09-22T18:51:37.590Z"
   },
   {
    "duration": 7857,
    "start_time": "2024-09-22T18:51:37.741Z"
   },
   {
    "duration": 274,
    "start_time": "2024-09-22T18:51:45.600Z"
   },
   {
    "duration": 395,
    "start_time": "2024-09-22T18:51:45.875Z"
   },
   {
    "duration": 243,
    "start_time": "2024-09-22T18:51:46.272Z"
   },
   {
    "duration": 91,
    "start_time": "2024-09-22T18:51:51.446Z"
   },
   {
    "duration": 4829,
    "start_time": "2024-09-22T18:52:00.194Z"
   },
   {
    "duration": 3077,
    "start_time": "2024-09-22T18:52:05.025Z"
   },
   {
    "duration": 31,
    "start_time": "2024-09-22T18:52:08.104Z"
   },
   {
    "duration": 5,
    "start_time": "2024-09-22T18:52:08.137Z"
   },
   {
    "duration": 40,
    "start_time": "2024-09-22T18:52:08.143Z"
   },
   {
    "duration": 193,
    "start_time": "2024-09-22T18:52:08.184Z"
   },
   {
    "duration": 174,
    "start_time": "2024-09-22T18:52:08.378Z"
   },
   {
    "duration": 482,
    "start_time": "2024-09-22T18:52:08.553Z"
   },
   {
    "duration": 169,
    "start_time": "2024-09-22T18:52:09.037Z"
   },
   {
    "duration": 5,
    "start_time": "2024-09-22T18:52:09.208Z"
   },
   {
    "duration": 8,
    "start_time": "2024-09-22T18:52:09.214Z"
   },
   {
    "duration": 18,
    "start_time": "2024-09-22T18:52:09.223Z"
   },
   {
    "duration": 3,
    "start_time": "2024-09-22T18:52:09.243Z"
   },
   {
    "duration": 3,
    "start_time": "2024-09-22T18:52:09.248Z"
   },
   {
    "duration": 191,
    "start_time": "2024-09-22T18:52:09.253Z"
   },
   {
    "duration": 591,
    "start_time": "2024-09-22T18:52:09.446Z"
   },
   {
    "duration": 11,
    "start_time": "2024-09-22T18:52:10.039Z"
   },
   {
    "duration": 17,
    "start_time": "2024-09-22T18:52:10.052Z"
   },
   {
    "duration": 5,
    "start_time": "2024-09-22T18:52:10.071Z"
   },
   {
    "duration": 2,
    "start_time": "2024-09-22T18:52:10.089Z"
   },
   {
    "duration": 184,
    "start_time": "2024-09-22T18:52:10.093Z"
   },
   {
    "duration": 7841,
    "start_time": "2024-09-22T18:52:10.291Z"
   },
   {
    "duration": 277,
    "start_time": "2024-09-22T18:52:18.133Z"
   },
   {
    "duration": 383,
    "start_time": "2024-09-22T18:52:18.411Z"
   },
   {
    "duration": 316,
    "start_time": "2024-09-22T18:52:18.796Z"
   },
   {
    "duration": 93,
    "start_time": "2024-09-22T18:53:17.174Z"
   },
   {
    "duration": 4849,
    "start_time": "2024-09-22T18:57:02.123Z"
   },
   {
    "duration": 3144,
    "start_time": "2024-09-22T18:57:06.975Z"
   },
   {
    "duration": 31,
    "start_time": "2024-09-22T18:57:10.121Z"
   },
   {
    "duration": 5,
    "start_time": "2024-09-22T18:57:10.153Z"
   },
   {
    "duration": 51,
    "start_time": "2024-09-22T18:57:10.159Z"
   },
   {
    "duration": 219,
    "start_time": "2024-09-22T18:57:10.212Z"
   },
   {
    "duration": 174,
    "start_time": "2024-09-22T18:57:10.433Z"
   },
   {
    "duration": 488,
    "start_time": "2024-09-22T18:57:10.608Z"
   },
   {
    "duration": 186,
    "start_time": "2024-09-22T18:57:11.098Z"
   },
   {
    "duration": 5,
    "start_time": "2024-09-22T18:57:11.289Z"
   },
   {
    "duration": 4,
    "start_time": "2024-09-22T18:57:11.296Z"
   },
   {
    "duration": 6,
    "start_time": "2024-09-22T18:57:11.302Z"
   },
   {
    "duration": 13,
    "start_time": "2024-09-22T18:57:11.309Z"
   },
   {
    "duration": 2,
    "start_time": "2024-09-22T18:57:11.325Z"
   },
   {
    "duration": 191,
    "start_time": "2024-09-22T18:57:11.329Z"
   },
   {
    "duration": 550,
    "start_time": "2024-09-22T18:57:11.522Z"
   },
   {
    "duration": 9,
    "start_time": "2024-09-22T18:57:12.073Z"
   },
   {
    "duration": 13,
    "start_time": "2024-09-22T18:57:12.090Z"
   },
   {
    "duration": 6,
    "start_time": "2024-09-22T18:57:12.104Z"
   },
   {
    "duration": 3,
    "start_time": "2024-09-22T18:57:12.112Z"
   },
   {
    "duration": 140,
    "start_time": "2024-09-22T18:57:12.116Z"
   },
   {
    "duration": 7780,
    "start_time": "2024-09-22T18:57:12.257Z"
   },
   {
    "duration": 316,
    "start_time": "2024-09-22T18:57:20.038Z"
   },
   {
    "duration": 386,
    "start_time": "2024-09-22T18:57:20.356Z"
   },
   {
    "duration": 248,
    "start_time": "2024-09-22T18:57:20.744Z"
   },
   {
    "duration": 4756,
    "start_time": "2024-09-22T18:58:08.265Z"
   },
   {
    "duration": 3035,
    "start_time": "2024-09-22T18:58:13.024Z"
   },
   {
    "duration": 31,
    "start_time": "2024-09-22T18:58:16.060Z"
   },
   {
    "duration": 4,
    "start_time": "2024-09-22T18:58:16.093Z"
   },
   {
    "duration": 44,
    "start_time": "2024-09-22T18:58:16.098Z"
   },
   {
    "duration": 211,
    "start_time": "2024-09-22T18:58:16.143Z"
   },
   {
    "duration": 178,
    "start_time": "2024-09-22T18:58:16.355Z"
   },
   {
    "duration": 491,
    "start_time": "2024-09-22T18:58:16.534Z"
   },
   {
    "duration": 175,
    "start_time": "2024-09-22T18:58:17.027Z"
   },
   {
    "duration": 4,
    "start_time": "2024-09-22T18:58:17.204Z"
   },
   {
    "duration": 10,
    "start_time": "2024-09-22T18:58:17.210Z"
   },
   {
    "duration": 5,
    "start_time": "2024-09-22T18:58:17.221Z"
   },
   {
    "duration": 6,
    "start_time": "2024-09-22T18:58:17.228Z"
   },
   {
    "duration": 6,
    "start_time": "2024-09-22T18:58:17.235Z"
   },
   {
    "duration": 202,
    "start_time": "2024-09-22T18:58:17.242Z"
   },
   {
    "duration": 580,
    "start_time": "2024-09-22T18:58:17.446Z"
   },
   {
    "duration": 10,
    "start_time": "2024-09-22T18:58:18.027Z"
   },
   {
    "duration": 9,
    "start_time": "2024-09-22T18:58:18.038Z"
   },
   {
    "duration": 5,
    "start_time": "2024-09-22T18:58:18.049Z"
   },
   {
    "duration": 7,
    "start_time": "2024-09-22T18:58:18.056Z"
   },
   {
    "duration": 168,
    "start_time": "2024-09-22T18:58:18.064Z"
   },
   {
    "duration": 7867,
    "start_time": "2024-09-22T18:58:18.234Z"
   },
   {
    "duration": 289,
    "start_time": "2024-09-22T18:58:26.103Z"
   },
   {
    "duration": 405,
    "start_time": "2024-09-22T18:58:26.394Z"
   },
   {
    "duration": 249,
    "start_time": "2024-09-22T18:58:26.801Z"
   },
   {
    "duration": 74,
    "start_time": "2024-09-22T18:59:24.598Z"
   },
   {
    "duration": 72,
    "start_time": "2024-09-22T19:00:04.734Z"
   },
   {
    "duration": 563,
    "start_time": "2024-09-22T19:00:40.352Z"
   },
   {
    "duration": 573,
    "start_time": "2024-09-22T19:04:05.858Z"
   },
   {
    "duration": 4839,
    "start_time": "2024-09-22T19:08:38.919Z"
   },
   {
    "duration": 3125,
    "start_time": "2024-09-22T19:08:43.760Z"
   },
   {
    "duration": 30,
    "start_time": "2024-09-22T19:08:46.889Z"
   },
   {
    "duration": 4,
    "start_time": "2024-09-22T19:08:46.921Z"
   },
   {
    "duration": 37,
    "start_time": "2024-09-22T19:08:46.926Z"
   },
   {
    "duration": 183,
    "start_time": "2024-09-22T19:08:46.965Z"
   },
   {
    "duration": 179,
    "start_time": "2024-09-22T19:08:47.150Z"
   },
   {
    "duration": 486,
    "start_time": "2024-09-22T19:08:47.330Z"
   },
   {
    "duration": 180,
    "start_time": "2024-09-22T19:08:47.818Z"
   },
   {
    "duration": 4,
    "start_time": "2024-09-22T19:08:48.000Z"
   },
   {
    "duration": 12,
    "start_time": "2024-09-22T19:08:48.006Z"
   },
   {
    "duration": 4,
    "start_time": "2024-09-22T19:08:48.020Z"
   },
   {
    "duration": 7,
    "start_time": "2024-09-22T19:08:48.026Z"
   },
   {
    "duration": 8,
    "start_time": "2024-09-22T19:08:48.034Z"
   },
   {
    "duration": 197,
    "start_time": "2024-09-22T19:08:48.043Z"
   },
   {
    "duration": 593,
    "start_time": "2024-09-22T19:08:48.242Z"
   },
   {
    "duration": 10,
    "start_time": "2024-09-22T19:08:48.837Z"
   },
   {
    "duration": 9,
    "start_time": "2024-09-22T19:08:48.849Z"
   },
   {
    "duration": 9,
    "start_time": "2024-09-22T19:08:48.859Z"
   },
   {
    "duration": 21,
    "start_time": "2024-09-22T19:08:48.869Z"
   },
   {
    "duration": 143,
    "start_time": "2024-09-22T19:08:48.891Z"
   },
   {
    "duration": 7764,
    "start_time": "2024-09-22T19:08:49.035Z"
   },
   {
    "duration": 266,
    "start_time": "2024-09-22T19:08:56.800Z"
   },
   {
    "duration": 387,
    "start_time": "2024-09-22T19:08:57.067Z"
   },
   {
    "duration": 548,
    "start_time": "2024-09-22T19:08:57.456Z"
   },
   {
    "duration": 4876,
    "start_time": "2024-09-22T19:10:36.648Z"
   },
   {
    "duration": 3110,
    "start_time": "2024-09-22T19:10:41.526Z"
   },
   {
    "duration": 31,
    "start_time": "2024-09-22T19:10:44.638Z"
   },
   {
    "duration": 4,
    "start_time": "2024-09-22T19:10:44.670Z"
   },
   {
    "duration": 39,
    "start_time": "2024-09-22T19:10:44.676Z"
   },
   {
    "duration": 195,
    "start_time": "2024-09-22T19:10:44.717Z"
   },
   {
    "duration": 183,
    "start_time": "2024-09-22T19:10:44.913Z"
   },
   {
    "duration": 486,
    "start_time": "2024-09-22T19:10:45.098Z"
   },
   {
    "duration": 177,
    "start_time": "2024-09-22T19:10:45.590Z"
   },
   {
    "duration": 4,
    "start_time": "2024-09-22T19:10:45.770Z"
   },
   {
    "duration": 17,
    "start_time": "2024-09-22T19:10:45.776Z"
   },
   {
    "duration": 6,
    "start_time": "2024-09-22T19:10:45.794Z"
   },
   {
    "duration": 5,
    "start_time": "2024-09-22T19:10:45.802Z"
   },
   {
    "duration": 13,
    "start_time": "2024-09-22T19:10:45.808Z"
   },
   {
    "duration": 192,
    "start_time": "2024-09-22T19:10:45.823Z"
   },
   {
    "duration": 547,
    "start_time": "2024-09-22T19:10:46.017Z"
   },
   {
    "duration": 10,
    "start_time": "2024-09-22T19:10:46.566Z"
   },
   {
    "duration": 17,
    "start_time": "2024-09-22T19:10:46.578Z"
   },
   {
    "duration": 5,
    "start_time": "2024-09-22T19:10:46.597Z"
   },
   {
    "duration": 2,
    "start_time": "2024-09-22T19:10:46.604Z"
   },
   {
    "duration": 153,
    "start_time": "2024-09-22T19:10:46.608Z"
   },
   {
    "duration": 7876,
    "start_time": "2024-09-22T19:10:46.763Z"
   },
   {
    "duration": 278,
    "start_time": "2024-09-22T19:10:54.640Z"
   },
   {
    "duration": 394,
    "start_time": "2024-09-22T19:10:54.920Z"
   },
   {
    "duration": 554,
    "start_time": "2024-09-22T19:10:55.316Z"
   },
   {
    "duration": 4,
    "start_time": "2024-09-22T19:10:55.872Z"
   },
   {
    "duration": 316,
    "start_time": "2024-09-22T19:10:55.877Z"
   },
   {
    "duration": 0,
    "start_time": "2024-09-22T19:10:56.195Z"
   },
   {
    "duration": 0,
    "start_time": "2024-09-22T19:10:56.196Z"
   },
   {
    "duration": 0,
    "start_time": "2024-09-22T19:10:56.197Z"
   },
   {
    "duration": 4791,
    "start_time": "2024-09-22T19:12:15.673Z"
   },
   {
    "duration": 3225,
    "start_time": "2024-09-22T19:12:20.466Z"
   },
   {
    "duration": 31,
    "start_time": "2024-09-22T19:12:23.692Z"
   },
   {
    "duration": 8,
    "start_time": "2024-09-22T19:12:23.724Z"
   },
   {
    "duration": 39,
    "start_time": "2024-09-22T19:12:23.734Z"
   },
   {
    "duration": 190,
    "start_time": "2024-09-22T19:12:23.775Z"
   },
   {
    "duration": 174,
    "start_time": "2024-09-22T19:12:23.967Z"
   },
   {
    "duration": 481,
    "start_time": "2024-09-22T19:12:24.143Z"
   },
   {
    "duration": 167,
    "start_time": "2024-09-22T19:12:24.625Z"
   },
   {
    "duration": 4,
    "start_time": "2024-09-22T19:12:24.793Z"
   },
   {
    "duration": 5,
    "start_time": "2024-09-22T19:12:24.799Z"
   },
   {
    "duration": 11,
    "start_time": "2024-09-22T19:12:24.806Z"
   },
   {
    "duration": 18,
    "start_time": "2024-09-22T19:12:24.818Z"
   },
   {
    "duration": 4,
    "start_time": "2024-09-22T19:12:24.839Z"
   },
   {
    "duration": 191,
    "start_time": "2024-09-22T19:12:24.845Z"
   },
   {
    "duration": 593,
    "start_time": "2024-09-22T19:12:25.038Z"
   },
   {
    "duration": 10,
    "start_time": "2024-09-22T19:12:25.632Z"
   },
   {
    "duration": 29,
    "start_time": "2024-09-22T19:12:25.643Z"
   },
   {
    "duration": 6,
    "start_time": "2024-09-22T19:12:25.673Z"
   },
   {
    "duration": 152,
    "start_time": "2024-09-22T19:12:25.680Z"
   },
   {
    "duration": 7974,
    "start_time": "2024-09-22T19:12:25.834Z"
   },
   {
    "duration": 268,
    "start_time": "2024-09-22T19:12:33.810Z"
   },
   {
    "duration": 392,
    "start_time": "2024-09-22T19:12:34.079Z"
   },
   {
    "duration": 553,
    "start_time": "2024-09-22T19:12:34.473Z"
   },
   {
    "duration": 4,
    "start_time": "2024-09-22T19:12:35.028Z"
   },
   {
    "duration": 67035,
    "start_time": "2024-09-22T19:12:35.033Z"
   },
   {
    "duration": 66596,
    "start_time": "2024-09-22T19:13:42.069Z"
   },
   {
    "duration": 24,
    "start_time": "2024-09-22T19:14:48.667Z"
   },
   {
    "duration": 175,
    "start_time": "2024-09-22T19:14:48.693Z"
   },
   {
    "duration": 4742,
    "start_time": "2024-09-22T19:22:37.665Z"
   },
   {
    "duration": 3113,
    "start_time": "2024-09-22T19:22:42.409Z"
   },
   {
    "duration": 31,
    "start_time": "2024-09-22T19:22:45.526Z"
   },
   {
    "duration": 4,
    "start_time": "2024-09-22T19:22:45.558Z"
   },
   {
    "duration": 43,
    "start_time": "2024-09-22T19:22:45.564Z"
   },
   {
    "duration": 197,
    "start_time": "2024-09-22T19:22:45.609Z"
   },
   {
    "duration": 178,
    "start_time": "2024-09-22T19:22:45.808Z"
   },
   {
    "duration": 477,
    "start_time": "2024-09-22T19:22:45.989Z"
   },
   {
    "duration": 167,
    "start_time": "2024-09-22T19:22:46.468Z"
   },
   {
    "duration": 4,
    "start_time": "2024-09-22T19:22:46.637Z"
   },
   {
    "duration": 6,
    "start_time": "2024-09-22T19:22:46.642Z"
   },
   {
    "duration": 5,
    "start_time": "2024-09-22T19:22:46.650Z"
   },
   {
    "duration": 6,
    "start_time": "2024-09-22T19:22:46.657Z"
   },
   {
    "duration": 26,
    "start_time": "2024-09-22T19:22:46.664Z"
   },
   {
    "duration": 185,
    "start_time": "2024-09-22T19:22:46.691Z"
   },
   {
    "duration": 568,
    "start_time": "2024-09-22T19:22:46.878Z"
   },
   {
    "duration": 10,
    "start_time": "2024-09-22T19:22:47.447Z"
   },
   {
    "duration": 9,
    "start_time": "2024-09-22T19:22:47.458Z"
   },
   {
    "duration": 5,
    "start_time": "2024-09-22T19:22:47.468Z"
   },
   {
    "duration": 142,
    "start_time": "2024-09-22T19:22:47.489Z"
   },
   {
    "duration": 7889,
    "start_time": "2024-09-22T19:22:47.632Z"
   },
   {
    "duration": 276,
    "start_time": "2024-09-22T19:22:55.523Z"
   },
   {
    "duration": 378,
    "start_time": "2024-09-22T19:22:55.801Z"
   },
   {
    "duration": 555,
    "start_time": "2024-09-22T19:22:56.181Z"
   },
   {
    "duration": 5,
    "start_time": "2024-09-22T19:22:56.737Z"
   },
   {
    "duration": 5903,
    "start_time": "2024-09-22T19:22:56.743Z"
   },
   {
    "duration": 0,
    "start_time": "2024-09-22T19:23:02.648Z"
   },
   {
    "duration": 0,
    "start_time": "2024-09-22T19:23:02.649Z"
   },
   {
    "duration": 0,
    "start_time": "2024-09-22T19:23:02.650Z"
   },
   {
    "duration": 4,
    "start_time": "2024-09-22T19:25:55.964Z"
   },
   {
    "duration": 4812,
    "start_time": "2024-09-22T19:26:08.463Z"
   },
   {
    "duration": 3124,
    "start_time": "2024-09-22T19:26:13.277Z"
   },
   {
    "duration": 30,
    "start_time": "2024-09-22T19:26:16.403Z"
   },
   {
    "duration": 4,
    "start_time": "2024-09-22T19:26:16.435Z"
   },
   {
    "duration": 44,
    "start_time": "2024-09-22T19:26:16.440Z"
   },
   {
    "duration": 184,
    "start_time": "2024-09-22T19:26:16.485Z"
   },
   {
    "duration": 183,
    "start_time": "2024-09-22T19:26:16.671Z"
   },
   {
    "duration": 495,
    "start_time": "2024-09-22T19:26:16.855Z"
   },
   {
    "duration": 177,
    "start_time": "2024-09-22T19:26:17.351Z"
   },
   {
    "duration": 4,
    "start_time": "2024-09-22T19:26:17.530Z"
   },
   {
    "duration": 13,
    "start_time": "2024-09-22T19:26:17.535Z"
   },
   {
    "duration": 5,
    "start_time": "2024-09-22T19:26:17.549Z"
   },
   {
    "duration": 4,
    "start_time": "2024-09-22T19:26:17.556Z"
   },
   {
    "duration": 5,
    "start_time": "2024-09-22T19:26:17.561Z"
   },
   {
    "duration": 187,
    "start_time": "2024-09-22T19:26:17.568Z"
   },
   {
    "duration": 579,
    "start_time": "2024-09-22T19:26:17.757Z"
   },
   {
    "duration": 9,
    "start_time": "2024-09-22T19:26:18.338Z"
   },
   {
    "duration": 7,
    "start_time": "2024-09-22T19:26:18.349Z"
   },
   {
    "duration": 6,
    "start_time": "2024-09-22T19:26:18.357Z"
   },
   {
    "duration": 157,
    "start_time": "2024-09-22T19:26:18.364Z"
   },
   {
    "duration": 7798,
    "start_time": "2024-09-22T19:26:18.522Z"
   },
   {
    "duration": 268,
    "start_time": "2024-09-22T19:26:26.322Z"
   },
   {
    "duration": 399,
    "start_time": "2024-09-22T19:26:26.591Z"
   },
   {
    "duration": 570,
    "start_time": "2024-09-22T19:26:26.993Z"
   },
   {
    "duration": 6,
    "start_time": "2024-09-22T19:26:27.565Z"
   },
   {
    "duration": 67020,
    "start_time": "2024-09-22T19:26:27.572Z"
   },
   {
    "duration": 66726,
    "start_time": "2024-09-22T19:27:34.594Z"
   },
   {
    "duration": 11,
    "start_time": "2024-09-22T19:28:41.324Z"
   },
   {
    "duration": 188,
    "start_time": "2024-09-22T19:28:41.337Z"
   },
   {
    "duration": 72164,
    "start_time": "2024-09-23T16:51:00.271Z"
   },
   {
    "duration": 5782,
    "start_time": "2024-09-23T16:52:12.437Z"
   },
   {
    "duration": 77,
    "start_time": "2024-09-23T16:52:18.224Z"
   },
   {
    "duration": 3353,
    "start_time": "2024-09-23T16:52:18.303Z"
   },
   {
    "duration": 124,
    "start_time": "2024-09-23T16:52:21.658Z"
   },
   {
    "duration": 207,
    "start_time": "2024-09-23T16:52:21.784Z"
   },
   {
    "duration": 183,
    "start_time": "2024-09-23T16:52:21.993Z"
   },
   {
    "duration": 518,
    "start_time": "2024-09-23T16:52:22.178Z"
   },
   {
    "duration": 183,
    "start_time": "2024-09-23T16:52:22.699Z"
   },
   {
    "duration": 4,
    "start_time": "2024-09-23T16:52:22.884Z"
   },
   {
    "duration": 42,
    "start_time": "2024-09-23T16:52:22.890Z"
   },
   {
    "duration": 12,
    "start_time": "2024-09-23T16:52:22.934Z"
   },
   {
    "duration": 5,
    "start_time": "2024-09-23T16:52:22.947Z"
   },
   {
    "duration": 5,
    "start_time": "2024-09-23T16:52:22.953Z"
   },
   {
    "duration": 220,
    "start_time": "2024-09-23T16:52:22.959Z"
   },
   {
    "duration": 635,
    "start_time": "2024-09-23T16:52:23.180Z"
   },
   {
    "duration": 11,
    "start_time": "2024-09-23T16:52:23.816Z"
   },
   {
    "duration": 13,
    "start_time": "2024-09-23T16:52:23.829Z"
   },
   {
    "duration": 7,
    "start_time": "2024-09-23T16:52:23.844Z"
   },
   {
    "duration": 167,
    "start_time": "2024-09-23T16:52:23.864Z"
   },
   {
    "duration": 8742,
    "start_time": "2024-09-23T16:52:24.032Z"
   },
   {
    "duration": 303,
    "start_time": "2024-09-23T16:52:32.776Z"
   },
   {
    "duration": 391,
    "start_time": "2024-09-23T16:52:33.081Z"
   },
   {
    "duration": 593,
    "start_time": "2024-09-23T16:52:33.473Z"
   },
   {
    "duration": 5,
    "start_time": "2024-09-23T16:52:34.068Z"
   },
   {
    "duration": 70524,
    "start_time": "2024-09-23T22:39:06.383Z"
   },
   {
    "duration": 3520,
    "start_time": "2024-09-23T22:40:16.910Z"
   },
   {
    "duration": 73,
    "start_time": "2024-09-23T22:40:20.432Z"
   },
   {
    "duration": 5,
    "start_time": "2024-09-23T22:40:20.507Z"
   },
   {
    "duration": 46,
    "start_time": "2024-09-23T22:40:20.513Z"
   },
   {
    "duration": 380,
    "start_time": "2024-09-23T22:40:20.560Z"
   },
   {
    "duration": 242,
    "start_time": "2024-09-23T22:40:20.942Z"
   },
   {
    "duration": 334,
    "start_time": "2024-09-23T22:40:21.185Z"
   },
   {
    "duration": 177,
    "start_time": "2024-09-23T22:40:21.521Z"
   },
   {
    "duration": 4,
    "start_time": "2024-09-23T22:40:21.700Z"
   },
   {
    "duration": 4,
    "start_time": "2024-09-23T22:40:21.706Z"
   },
   {
    "duration": 5,
    "start_time": "2024-09-23T22:40:21.712Z"
   },
   {
    "duration": 4,
    "start_time": "2024-09-23T22:40:21.718Z"
   },
   {
    "duration": 4,
    "start_time": "2024-09-23T22:40:21.724Z"
   },
   {
    "duration": 175,
    "start_time": "2024-09-23T22:40:21.729Z"
   },
   {
    "duration": 749,
    "start_time": "2024-09-23T22:40:21.906Z"
   },
   {
    "duration": 11,
    "start_time": "2024-09-23T22:40:22.656Z"
   },
   {
    "duration": 297,
    "start_time": "2024-09-23T22:40:22.669Z"
   },
   {
    "duration": 134,
    "start_time": "2024-09-23T22:40:22.967Z"
   },
   {
    "duration": 187,
    "start_time": "2024-09-23T22:40:23.103Z"
   },
   {
    "duration": 8392,
    "start_time": "2024-09-23T22:40:23.291Z"
   },
   {
    "duration": 274,
    "start_time": "2024-09-23T22:40:31.687Z"
   },
   {
    "duration": 4701,
    "start_time": "2024-09-23T22:40:31.963Z"
   },
   {
    "duration": 1027,
    "start_time": "2024-09-23T22:40:36.666Z"
   },
   {
    "duration": 2302,
    "start_time": "2024-09-23T22:40:37.695Z"
   },
   {
    "duration": 71813,
    "start_time": "2024-09-23T22:40:39.999Z"
   },
   {
    "duration": 80162,
    "start_time": "2024-09-23T22:41:51.814Z"
   },
   {
    "duration": 12,
    "start_time": "2024-09-23T22:43:11.979Z"
   },
   {
    "duration": 196,
    "start_time": "2024-09-23T22:43:11.993Z"
   },
   {
    "duration": 1340,
    "start_time": "2024-09-23T22:43:30.104Z"
   },
   {
    "duration": 0,
    "start_time": "2024-09-23T22:43:31.447Z"
   },
   {
    "duration": 1313,
    "start_time": "2024-09-23T22:43:33.849Z"
   },
   {
    "duration": 9873,
    "start_time": "2024-09-23T22:43:48.984Z"
   },
   {
    "duration": 3808,
    "start_time": "2024-09-23T22:43:58.859Z"
   },
   {
    "duration": 34,
    "start_time": "2024-09-23T22:44:02.669Z"
   },
   {
    "duration": 10,
    "start_time": "2024-09-23T22:44:02.707Z"
   },
   {
    "duration": 56,
    "start_time": "2024-09-23T22:44:02.719Z"
   },
   {
    "duration": 245,
    "start_time": "2024-09-23T22:44:02.776Z"
   },
   {
    "duration": 222,
    "start_time": "2024-09-23T22:44:03.022Z"
   },
   {
    "duration": 551,
    "start_time": "2024-09-23T22:44:03.245Z"
   },
   {
    "duration": 201,
    "start_time": "2024-09-23T22:44:03.797Z"
   },
   {
    "duration": 5,
    "start_time": "2024-09-23T22:44:04.001Z"
   },
   {
    "duration": 6,
    "start_time": "2024-09-23T22:44:04.007Z"
   },
   {
    "duration": 15,
    "start_time": "2024-09-23T22:44:04.015Z"
   },
   {
    "duration": 5,
    "start_time": "2024-09-23T22:44:04.032Z"
   },
   {
    "duration": 19,
    "start_time": "2024-09-23T22:44:04.053Z"
   },
   {
    "duration": 169,
    "start_time": "2024-09-23T22:44:04.073Z"
   },
   {
    "duration": 778,
    "start_time": "2024-09-23T22:44:04.244Z"
   },
   {
    "duration": 10,
    "start_time": "2024-09-23T22:44:05.024Z"
   },
   {
    "duration": 32,
    "start_time": "2024-09-23T22:44:05.036Z"
   },
   {
    "duration": 7,
    "start_time": "2024-09-23T22:44:05.072Z"
   },
   {
    "duration": 194,
    "start_time": "2024-09-23T22:44:05.081Z"
   },
   {
    "duration": 9561,
    "start_time": "2024-09-23T22:44:05.277Z"
   },
   {
    "duration": 323,
    "start_time": "2024-09-23T22:44:14.839Z"
   },
   {
    "duration": 446,
    "start_time": "2024-09-23T22:44:15.166Z"
   },
   {
    "duration": 641,
    "start_time": "2024-09-23T22:44:15.614Z"
   },
   {
    "duration": 15,
    "start_time": "2024-09-23T22:44:16.256Z"
   },
   {
    "duration": 5518,
    "start_time": "2024-09-23T22:44:25.079Z"
   },
   {
    "duration": 3516,
    "start_time": "2024-09-23T22:44:30.599Z"
   },
   {
    "duration": 30,
    "start_time": "2024-09-23T22:44:34.117Z"
   },
   {
    "duration": 4,
    "start_time": "2024-09-23T22:44:34.149Z"
   },
   {
    "duration": 60,
    "start_time": "2024-09-23T22:44:34.154Z"
   },
   {
    "duration": 226,
    "start_time": "2024-09-23T22:44:34.215Z"
   },
   {
    "duration": 211,
    "start_time": "2024-09-23T22:44:34.443Z"
   },
   {
    "duration": 572,
    "start_time": "2024-09-23T22:44:34.658Z"
   },
   {
    "duration": 196,
    "start_time": "2024-09-23T22:44:35.231Z"
   },
   {
    "duration": 5,
    "start_time": "2024-09-23T22:44:35.429Z"
   },
   {
    "duration": 32,
    "start_time": "2024-09-23T22:44:35.436Z"
   },
   {
    "duration": 11,
    "start_time": "2024-09-23T22:44:35.472Z"
   },
   {
    "duration": 14,
    "start_time": "2024-09-23T22:44:35.484Z"
   },
   {
    "duration": 7,
    "start_time": "2024-09-23T22:44:35.500Z"
   },
   {
    "duration": 174,
    "start_time": "2024-09-23T22:44:35.509Z"
   },
   {
    "duration": 618,
    "start_time": "2024-09-23T22:44:35.685Z"
   },
   {
    "duration": 12,
    "start_time": "2024-09-23T22:44:36.305Z"
   },
   {
    "duration": 40,
    "start_time": "2024-09-23T22:44:36.319Z"
   },
   {
    "duration": 24,
    "start_time": "2024-09-23T22:44:36.360Z"
   },
   {
    "duration": 176,
    "start_time": "2024-09-23T22:44:36.386Z"
   },
   {
    "duration": 9116,
    "start_time": "2024-09-23T22:44:36.571Z"
   },
   {
    "duration": 295,
    "start_time": "2024-09-23T22:44:45.689Z"
   },
   {
    "duration": 467,
    "start_time": "2024-09-23T22:44:45.985Z"
   },
   {
    "duration": 641,
    "start_time": "2024-09-23T22:44:46.454Z"
   },
   {
    "duration": 4,
    "start_time": "2024-09-23T22:44:47.097Z"
   },
   {
    "duration": 5559,
    "start_time": "2024-09-23T22:44:58.388Z"
   },
   {
    "duration": 3662,
    "start_time": "2024-09-23T22:45:03.950Z"
   },
   {
    "duration": 30,
    "start_time": "2024-09-23T22:45:07.613Z"
   },
   {
    "duration": 5,
    "start_time": "2024-09-23T22:45:07.645Z"
   },
   {
    "duration": 55,
    "start_time": "2024-09-23T22:45:07.652Z"
   },
   {
    "duration": 229,
    "start_time": "2024-09-23T22:45:07.709Z"
   },
   {
    "duration": 206,
    "start_time": "2024-09-23T22:45:07.940Z"
   },
   {
    "duration": 566,
    "start_time": "2024-09-23T22:45:08.161Z"
   },
   {
    "duration": 209,
    "start_time": "2024-09-23T22:45:08.728Z"
   },
   {
    "duration": 5,
    "start_time": "2024-09-23T22:45:08.938Z"
   },
   {
    "duration": 17,
    "start_time": "2024-09-23T22:45:08.944Z"
   },
   {
    "duration": 6,
    "start_time": "2024-09-23T22:45:08.969Z"
   },
   {
    "duration": 5,
    "start_time": "2024-09-23T22:45:08.976Z"
   },
   {
    "duration": 8,
    "start_time": "2024-09-23T22:45:08.984Z"
   },
   {
    "duration": 184,
    "start_time": "2024-09-23T22:45:08.994Z"
   },
   {
    "duration": 735,
    "start_time": "2024-09-23T22:45:09.180Z"
   },
   {
    "duration": 11,
    "start_time": "2024-09-23T22:45:09.916Z"
   },
   {
    "duration": 14,
    "start_time": "2024-09-23T22:45:09.929Z"
   },
   {
    "duration": 16,
    "start_time": "2024-09-23T22:45:09.945Z"
   },
   {
    "duration": 213,
    "start_time": "2024-09-23T22:45:09.963Z"
   },
   {
    "duration": 10030,
    "start_time": "2024-09-23T22:45:10.178Z"
   },
   {
    "duration": 328,
    "start_time": "2024-09-23T22:45:20.209Z"
   },
   {
    "duration": 533,
    "start_time": "2024-09-23T22:45:20.539Z"
   },
   {
    "duration": 716,
    "start_time": "2024-09-23T22:45:21.080Z"
   },
   {
    "duration": 5,
    "start_time": "2024-09-23T22:45:21.798Z"
   },
   {
    "duration": 81728,
    "start_time": "2024-09-23T22:45:21.804Z"
   },
   {
    "duration": 83641,
    "start_time": "2024-09-23T22:46:43.533Z"
   },
   {
    "duration": 14,
    "start_time": "2024-09-23T22:48:07.176Z"
   },
   {
    "duration": 237,
    "start_time": "2024-09-23T22:48:07.191Z"
   },
   {
    "duration": 12,
    "start_time": "2024-09-23T22:53:22.583Z"
   },
   {
    "duration": 64,
    "start_time": "2024-09-23T22:53:22.863Z"
   },
   {
    "duration": 5895,
    "start_time": "2024-09-23T22:53:54.128Z"
   },
   {
    "duration": 3740,
    "start_time": "2024-09-23T22:54:00.025Z"
   },
   {
    "duration": 31,
    "start_time": "2024-09-23T22:54:03.767Z"
   },
   {
    "duration": 13,
    "start_time": "2024-09-23T22:54:03.800Z"
   },
   {
    "duration": 67,
    "start_time": "2024-09-23T22:54:03.815Z"
   },
   {
    "duration": 239,
    "start_time": "2024-09-23T22:54:03.883Z"
   },
   {
    "duration": 247,
    "start_time": "2024-09-23T22:54:04.124Z"
   },
   {
    "duration": 578,
    "start_time": "2024-09-23T22:54:04.373Z"
   },
   {
    "duration": 216,
    "start_time": "2024-09-23T22:54:04.957Z"
   },
   {
    "duration": 5,
    "start_time": "2024-09-23T22:54:05.176Z"
   },
   {
    "duration": 20,
    "start_time": "2024-09-23T22:54:05.182Z"
   },
   {
    "duration": 7,
    "start_time": "2024-09-23T22:54:05.204Z"
   },
   {
    "duration": 6,
    "start_time": "2024-09-23T22:54:05.213Z"
   },
   {
    "duration": 13,
    "start_time": "2024-09-23T22:54:05.221Z"
   },
   {
    "duration": 181,
    "start_time": "2024-09-23T22:54:05.236Z"
   },
   {
    "duration": 790,
    "start_time": "2024-09-23T22:54:05.419Z"
   },
   {
    "duration": 322,
    "start_time": "2024-09-23T22:54:06.212Z"
   },
   {
    "duration": 0,
    "start_time": "2024-09-23T22:54:06.537Z"
   },
   {
    "duration": 0,
    "start_time": "2024-09-23T22:54:06.538Z"
   },
   {
    "duration": 0,
    "start_time": "2024-09-23T22:54:06.539Z"
   },
   {
    "duration": 0,
    "start_time": "2024-09-23T22:54:06.541Z"
   },
   {
    "duration": 0,
    "start_time": "2024-09-23T22:54:06.542Z"
   },
   {
    "duration": 0,
    "start_time": "2024-09-23T22:54:06.553Z"
   },
   {
    "duration": 0,
    "start_time": "2024-09-23T22:54:06.554Z"
   },
   {
    "duration": 0,
    "start_time": "2024-09-23T22:54:06.555Z"
   },
   {
    "duration": 0,
    "start_time": "2024-09-23T22:54:06.556Z"
   },
   {
    "duration": 0,
    "start_time": "2024-09-23T22:54:06.557Z"
   },
   {
    "duration": 0,
    "start_time": "2024-09-23T22:54:06.557Z"
   },
   {
    "duration": 5594,
    "start_time": "2024-09-23T22:56:50.713Z"
   },
   {
    "duration": 3595,
    "start_time": "2024-09-23T22:56:56.310Z"
   },
   {
    "duration": 31,
    "start_time": "2024-09-23T22:56:59.907Z"
   },
   {
    "duration": 4,
    "start_time": "2024-09-23T22:56:59.941Z"
   },
   {
    "duration": 60,
    "start_time": "2024-09-23T22:56:59.947Z"
   },
   {
    "duration": 223,
    "start_time": "2024-09-23T22:57:00.009Z"
   },
   {
    "duration": 243,
    "start_time": "2024-09-23T22:57:00.234Z"
   },
   {
    "duration": 586,
    "start_time": "2024-09-23T22:57:00.479Z"
   },
   {
    "duration": 211,
    "start_time": "2024-09-23T22:57:01.067Z"
   },
   {
    "duration": 4,
    "start_time": "2024-09-23T22:57:01.283Z"
   },
   {
    "duration": 24,
    "start_time": "2024-09-23T22:57:01.289Z"
   },
   {
    "duration": 19,
    "start_time": "2024-09-23T22:57:01.315Z"
   },
   {
    "duration": 13,
    "start_time": "2024-09-23T22:57:01.335Z"
   },
   {
    "duration": 30,
    "start_time": "2024-09-23T22:57:01.350Z"
   },
   {
    "duration": 208,
    "start_time": "2024-09-23T22:57:01.382Z"
   },
   {
    "duration": 754,
    "start_time": "2024-09-23T22:57:01.592Z"
   },
   {
    "duration": 23,
    "start_time": "2024-09-23T22:57:02.348Z"
   },
   {
    "duration": 26,
    "start_time": "2024-09-23T22:57:02.373Z"
   },
   {
    "duration": 185,
    "start_time": "2024-09-23T22:57:02.401Z"
   },
   {
    "duration": 10405,
    "start_time": "2024-09-23T22:57:02.587Z"
   },
   {
    "duration": 485,
    "start_time": "2024-09-23T22:57:12.993Z"
   },
   {
    "duration": 350,
    "start_time": "2024-09-23T22:57:13.480Z"
   },
   {
    "duration": 320,
    "start_time": "2024-09-23T22:57:13.831Z"
   },
   {
    "duration": 0,
    "start_time": "2024-09-23T22:57:14.152Z"
   },
   {
    "duration": 0,
    "start_time": "2024-09-23T22:57:14.153Z"
   },
   {
    "duration": 0,
    "start_time": "2024-09-23T22:57:14.154Z"
   },
   {
    "duration": 0,
    "start_time": "2024-09-23T22:57:14.154Z"
   },
   {
    "duration": 0,
    "start_time": "2024-09-23T22:57:14.155Z"
   },
   {
    "duration": 16,
    "start_time": "2024-09-23T22:59:14.082Z"
   },
   {
    "duration": 5694,
    "start_time": "2024-09-23T23:00:34.457Z"
   },
   {
    "duration": 3571,
    "start_time": "2024-09-23T23:00:40.154Z"
   },
   {
    "duration": 31,
    "start_time": "2024-09-23T23:00:43.727Z"
   },
   {
    "duration": 7,
    "start_time": "2024-09-23T23:00:43.760Z"
   },
   {
    "duration": 49,
    "start_time": "2024-09-23T23:00:43.768Z"
   },
   {
    "duration": 295,
    "start_time": "2024-09-23T23:00:43.819Z"
   },
   {
    "duration": 218,
    "start_time": "2024-09-23T23:00:44.115Z"
   },
   {
    "duration": 522,
    "start_time": "2024-09-23T23:00:44.335Z"
   },
   {
    "duration": 196,
    "start_time": "2024-09-23T23:00:44.859Z"
   },
   {
    "duration": 4,
    "start_time": "2024-09-23T23:00:45.058Z"
   },
   {
    "duration": 64,
    "start_time": "2024-09-23T23:00:45.064Z"
   },
   {
    "duration": 12,
    "start_time": "2024-09-23T23:00:45.130Z"
   },
   {
    "duration": 13,
    "start_time": "2024-09-23T23:00:45.144Z"
   },
   {
    "duration": 31,
    "start_time": "2024-09-23T23:00:45.159Z"
   },
   {
    "duration": 169,
    "start_time": "2024-09-23T23:00:45.192Z"
   },
   {
    "duration": 663,
    "start_time": "2024-09-23T23:00:45.363Z"
   },
   {
    "duration": 28,
    "start_time": "2024-09-23T23:00:46.028Z"
   },
   {
    "duration": 13,
    "start_time": "2024-09-23T23:00:46.058Z"
   },
   {
    "duration": 181,
    "start_time": "2024-09-23T23:00:46.072Z"
   },
   {
    "duration": 9800,
    "start_time": "2024-09-23T23:00:46.255Z"
   },
   {
    "duration": 471,
    "start_time": "2024-09-23T23:00:56.056Z"
   },
   {
    "duration": 355,
    "start_time": "2024-09-23T23:00:56.528Z"
   },
   {
    "duration": 288,
    "start_time": "2024-09-23T23:00:56.885Z"
   },
   {
    "duration": 0,
    "start_time": "2024-09-23T23:00:57.176Z"
   },
   {
    "duration": 0,
    "start_time": "2024-09-23T23:00:57.177Z"
   },
   {
    "duration": 0,
    "start_time": "2024-09-23T23:00:57.179Z"
   },
   {
    "duration": 0,
    "start_time": "2024-09-23T23:00:57.180Z"
   },
   {
    "duration": 0,
    "start_time": "2024-09-23T23:00:57.182Z"
   },
   {
    "duration": 5273,
    "start_time": "2024-09-23T23:03:37.464Z"
   },
   {
    "duration": 3337,
    "start_time": "2024-09-23T23:03:42.740Z"
   },
   {
    "duration": 30,
    "start_time": "2024-09-23T23:03:46.079Z"
   },
   {
    "duration": 4,
    "start_time": "2024-09-23T23:03:46.111Z"
   },
   {
    "duration": 48,
    "start_time": "2024-09-23T23:03:46.117Z"
   },
   {
    "duration": 220,
    "start_time": "2024-09-23T23:03:46.167Z"
   },
   {
    "duration": 200,
    "start_time": "2024-09-23T23:03:46.389Z"
   },
   {
    "duration": 505,
    "start_time": "2024-09-23T23:03:46.591Z"
   },
   {
    "duration": 224,
    "start_time": "2024-09-23T23:03:47.097Z"
   },
   {
    "duration": 4,
    "start_time": "2024-09-23T23:03:47.324Z"
   },
   {
    "duration": 8,
    "start_time": "2024-09-23T23:03:47.329Z"
   },
   {
    "duration": 19,
    "start_time": "2024-09-23T23:03:47.338Z"
   },
   {
    "duration": 7,
    "start_time": "2024-09-23T23:03:47.358Z"
   },
   {
    "duration": 5,
    "start_time": "2024-09-23T23:03:47.367Z"
   },
   {
    "duration": 165,
    "start_time": "2024-09-23T23:03:47.373Z"
   },
   {
    "duration": 650,
    "start_time": "2024-09-23T23:03:47.540Z"
   },
   {
    "duration": 284,
    "start_time": "2024-09-23T23:03:48.191Z"
   },
   {
    "duration": 0,
    "start_time": "2024-09-23T23:03:48.477Z"
   },
   {
    "duration": 0,
    "start_time": "2024-09-23T23:03:48.478Z"
   },
   {
    "duration": 0,
    "start_time": "2024-09-23T23:03:48.479Z"
   },
   {
    "duration": 0,
    "start_time": "2024-09-23T23:03:48.481Z"
   },
   {
    "duration": 0,
    "start_time": "2024-09-23T23:03:48.481Z"
   },
   {
    "duration": 0,
    "start_time": "2024-09-23T23:03:48.483Z"
   },
   {
    "duration": 0,
    "start_time": "2024-09-23T23:03:48.484Z"
   },
   {
    "duration": 0,
    "start_time": "2024-09-23T23:03:48.485Z"
   },
   {
    "duration": 0,
    "start_time": "2024-09-23T23:03:48.486Z"
   },
   {
    "duration": 0,
    "start_time": "2024-09-23T23:03:48.488Z"
   },
   {
    "duration": 0,
    "start_time": "2024-09-23T23:03:48.490Z"
   },
   {
    "duration": 5099,
    "start_time": "2024-09-23T23:09:51.458Z"
   },
   {
    "duration": 3411,
    "start_time": "2024-09-23T23:09:56.560Z"
   },
   {
    "duration": 31,
    "start_time": "2024-09-23T23:09:59.973Z"
   },
   {
    "duration": 4,
    "start_time": "2024-09-23T23:10:00.006Z"
   },
   {
    "duration": 85,
    "start_time": "2024-09-23T23:10:00.012Z"
   },
   {
    "duration": 231,
    "start_time": "2024-09-23T23:10:00.099Z"
   },
   {
    "duration": 196,
    "start_time": "2024-09-23T23:10:00.332Z"
   },
   {
    "duration": 563,
    "start_time": "2024-09-23T23:10:00.530Z"
   },
   {
    "duration": 202,
    "start_time": "2024-09-23T23:10:01.095Z"
   },
   {
    "duration": 5,
    "start_time": "2024-09-23T23:10:01.300Z"
   },
   {
    "duration": 37,
    "start_time": "2024-09-23T23:10:01.306Z"
   },
   {
    "duration": 8,
    "start_time": "2024-09-23T23:10:01.344Z"
   },
   {
    "duration": 26,
    "start_time": "2024-09-23T23:10:01.353Z"
   },
   {
    "duration": 41,
    "start_time": "2024-09-23T23:10:01.381Z"
   },
   {
    "duration": 171,
    "start_time": "2024-09-23T23:10:01.423Z"
   },
   {
    "duration": 714,
    "start_time": "2024-09-23T23:10:01.595Z"
   },
   {
    "duration": 306,
    "start_time": "2024-09-23T23:10:02.311Z"
   },
   {
    "duration": 0,
    "start_time": "2024-09-23T23:10:02.618Z"
   },
   {
    "duration": 0,
    "start_time": "2024-09-23T23:10:02.620Z"
   },
   {
    "duration": 0,
    "start_time": "2024-09-23T23:10:02.622Z"
   },
   {
    "duration": 0,
    "start_time": "2024-09-23T23:10:02.623Z"
   },
   {
    "duration": 0,
    "start_time": "2024-09-23T23:10:02.625Z"
   },
   {
    "duration": 0,
    "start_time": "2024-09-23T23:10:02.627Z"
   },
   {
    "duration": 1,
    "start_time": "2024-09-23T23:10:02.628Z"
   },
   {
    "duration": 0,
    "start_time": "2024-09-23T23:10:02.630Z"
   },
   {
    "duration": 0,
    "start_time": "2024-09-23T23:10:02.652Z"
   },
   {
    "duration": 0,
    "start_time": "2024-09-23T23:10:02.654Z"
   },
   {
    "duration": 0,
    "start_time": "2024-09-23T23:10:02.655Z"
   },
   {
    "duration": 17,
    "start_time": "2024-09-23T23:11:16.968Z"
   },
   {
    "duration": 11,
    "start_time": "2024-09-23T23:11:54.197Z"
   },
   {
    "duration": 162,
    "start_time": "2024-09-23T23:11:55.338Z"
   },
   {
    "duration": 9091,
    "start_time": "2024-09-23T23:11:55.800Z"
   },
   {
    "duration": 449,
    "start_time": "2024-09-23T23:12:04.894Z"
   },
   {
    "duration": 352,
    "start_time": "2024-09-23T23:12:34.812Z"
   },
   {
    "duration": 7,
    "start_time": "2024-09-23T23:12:44.810Z"
   },
   {
    "duration": 5767,
    "start_time": "2024-09-23T23:13:18.597Z"
   },
   {
    "duration": 801,
    "start_time": "2024-09-23T23:14:31.427Z"
   },
   {
    "duration": 5124,
    "start_time": "2024-09-23T23:16:41.442Z"
   },
   {
    "duration": 3290,
    "start_time": "2024-09-23T23:16:46.568Z"
   },
   {
    "duration": 30,
    "start_time": "2024-09-23T23:16:49.859Z"
   },
   {
    "duration": 4,
    "start_time": "2024-09-23T23:16:49.891Z"
   },
   {
    "duration": 47,
    "start_time": "2024-09-23T23:16:49.897Z"
   },
   {
    "duration": 217,
    "start_time": "2024-09-23T23:16:49.946Z"
   },
   {
    "duration": 216,
    "start_time": "2024-09-23T23:16:50.165Z"
   },
   {
    "duration": 516,
    "start_time": "2024-09-23T23:16:50.383Z"
   },
   {
    "duration": 178,
    "start_time": "2024-09-23T23:16:50.901Z"
   },
   {
    "duration": 4,
    "start_time": "2024-09-23T23:16:51.082Z"
   },
   {
    "duration": 14,
    "start_time": "2024-09-23T23:16:51.087Z"
   },
   {
    "duration": 15,
    "start_time": "2024-09-23T23:16:51.102Z"
   },
   {
    "duration": 18,
    "start_time": "2024-09-23T23:16:51.118Z"
   },
   {
    "duration": 9,
    "start_time": "2024-09-23T23:16:51.138Z"
   },
   {
    "duration": 149,
    "start_time": "2024-09-23T23:16:51.149Z"
   },
   {
    "duration": 675,
    "start_time": "2024-09-23T23:16:51.300Z"
   },
   {
    "duration": 17,
    "start_time": "2024-09-23T23:16:51.977Z"
   },
   {
    "duration": 11,
    "start_time": "2024-09-23T23:16:51.996Z"
   },
   {
    "duration": 175,
    "start_time": "2024-09-23T23:16:52.008Z"
   },
   {
    "duration": 8908,
    "start_time": "2024-09-23T23:16:52.185Z"
   },
   {
    "duration": 465,
    "start_time": "2024-09-23T23:17:01.095Z"
   },
   {
    "duration": 332,
    "start_time": "2024-09-23T23:17:01.562Z"
   },
   {
    "duration": 278,
    "start_time": "2024-09-23T23:17:01.896Z"
   },
   {
    "duration": 0,
    "start_time": "2024-09-23T23:17:02.176Z"
   },
   {
    "duration": 0,
    "start_time": "2024-09-23T23:17:02.177Z"
   },
   {
    "duration": 0,
    "start_time": "2024-09-23T23:17:02.178Z"
   },
   {
    "duration": 0,
    "start_time": "2024-09-23T23:17:02.179Z"
   },
   {
    "duration": 0,
    "start_time": "2024-09-23T23:17:02.180Z"
   },
   {
    "duration": 0,
    "start_time": "2024-09-23T23:17:02.181Z"
   },
   {
    "duration": 64,
    "start_time": "2024-09-23T23:17:11.602Z"
   },
   {
    "duration": 74,
    "start_time": "2024-09-23T23:20:46.600Z"
   },
   {
    "duration": 4956,
    "start_time": "2024-09-23T23:20:46.777Z"
   },
   {
    "duration": 3331,
    "start_time": "2024-09-23T23:20:51.735Z"
   },
   {
    "duration": 31,
    "start_time": "2024-09-23T23:20:55.068Z"
   },
   {
    "duration": 5,
    "start_time": "2024-09-23T23:20:55.101Z"
   },
   {
    "duration": 53,
    "start_time": "2024-09-23T23:20:55.109Z"
   },
   {
    "duration": 211,
    "start_time": "2024-09-23T23:20:55.164Z"
   },
   {
    "duration": 191,
    "start_time": "2024-09-23T23:20:55.378Z"
   },
   {
    "duration": 535,
    "start_time": "2024-09-23T23:20:55.571Z"
   },
   {
    "duration": 202,
    "start_time": "2024-09-23T23:20:56.108Z"
   },
   {
    "duration": 6,
    "start_time": "2024-09-23T23:20:56.312Z"
   },
   {
    "duration": 6,
    "start_time": "2024-09-23T23:20:56.320Z"
   },
   {
    "duration": 30,
    "start_time": "2024-09-23T23:20:56.328Z"
   },
   {
    "duration": 8,
    "start_time": "2024-09-23T23:20:56.360Z"
   },
   {
    "duration": 4,
    "start_time": "2024-09-23T23:20:56.372Z"
   },
   {
    "duration": 190,
    "start_time": "2024-09-23T23:20:56.378Z"
   },
   {
    "duration": 681,
    "start_time": "2024-09-23T23:20:56.570Z"
   },
   {
    "duration": 19,
    "start_time": "2024-09-23T23:20:57.253Z"
   },
   {
    "duration": 20,
    "start_time": "2024-09-23T23:20:57.274Z"
   },
   {
    "duration": 183,
    "start_time": "2024-09-23T23:20:57.296Z"
   },
   {
    "duration": 16775,
    "start_time": "2024-09-23T23:20:57.481Z"
   },
   {
    "duration": 429,
    "start_time": "2024-09-23T23:21:14.259Z"
   },
   {
    "duration": 80,
    "start_time": "2024-09-23T23:21:14.690Z"
   },
   {
    "duration": 63,
    "start_time": "2024-09-23T23:21:14.772Z"
   },
   {
    "duration": 0,
    "start_time": "2024-09-23T23:21:14.837Z"
   },
   {
    "duration": 0,
    "start_time": "2024-09-23T23:21:14.839Z"
   },
   {
    "duration": 0,
    "start_time": "2024-09-23T23:21:14.840Z"
   },
   {
    "duration": 0,
    "start_time": "2024-09-23T23:21:14.842Z"
   },
   {
    "duration": 0,
    "start_time": "2024-09-23T23:21:14.843Z"
   },
   {
    "duration": 0,
    "start_time": "2024-09-23T23:21:14.844Z"
   },
   {
    "duration": 0,
    "start_time": "2024-09-23T23:21:14.845Z"
   },
   {
    "duration": 5058,
    "start_time": "2024-09-23T23:22:54.726Z"
   },
   {
    "duration": 3586,
    "start_time": "2024-09-23T23:22:59.787Z"
   },
   {
    "duration": 30,
    "start_time": "2024-09-23T23:23:03.375Z"
   },
   {
    "duration": 4,
    "start_time": "2024-09-23T23:23:03.407Z"
   },
   {
    "duration": 54,
    "start_time": "2024-09-23T23:23:03.413Z"
   },
   {
    "duration": 226,
    "start_time": "2024-09-23T23:23:03.469Z"
   },
   {
    "duration": 212,
    "start_time": "2024-09-23T23:23:03.697Z"
   },
   {
    "duration": 562,
    "start_time": "2024-09-23T23:23:03.911Z"
   },
   {
    "duration": 198,
    "start_time": "2024-09-23T23:23:04.475Z"
   },
   {
    "duration": 4,
    "start_time": "2024-09-23T23:23:04.676Z"
   },
   {
    "duration": 15,
    "start_time": "2024-09-23T23:23:04.682Z"
   },
   {
    "duration": 5,
    "start_time": "2024-09-23T23:23:04.699Z"
   },
   {
    "duration": 23,
    "start_time": "2024-09-23T23:23:04.705Z"
   },
   {
    "duration": 4,
    "start_time": "2024-09-23T23:23:04.730Z"
   },
   {
    "duration": 168,
    "start_time": "2024-09-23T23:23:04.736Z"
   },
   {
    "duration": 681,
    "start_time": "2024-09-23T23:23:04.906Z"
   },
   {
    "duration": 18,
    "start_time": "2024-09-23T23:23:05.588Z"
   },
   {
    "duration": 38,
    "start_time": "2024-09-23T23:23:05.607Z"
   },
   {
    "duration": 321,
    "start_time": "2024-09-23T23:23:05.647Z"
   },
   {
    "duration": 16483,
    "start_time": "2024-09-23T23:23:05.970Z"
   },
   {
    "duration": 454,
    "start_time": "2024-09-23T23:23:22.456Z"
   },
   {
    "duration": 77,
    "start_time": "2024-09-23T23:23:22.912Z"
   },
   {
    "duration": 342,
    "start_time": "2024-09-23T23:23:22.991Z"
   },
   {
    "duration": 267,
    "start_time": "2024-09-23T23:23:23.335Z"
   },
   {
    "duration": 0,
    "start_time": "2024-09-23T23:23:23.604Z"
   },
   {
    "duration": 0,
    "start_time": "2024-09-23T23:23:23.605Z"
   },
   {
    "duration": 0,
    "start_time": "2024-09-23T23:23:23.606Z"
   },
   {
    "duration": 0,
    "start_time": "2024-09-23T23:23:23.608Z"
   },
   {
    "duration": 0,
    "start_time": "2024-09-23T23:23:23.609Z"
   },
   {
    "duration": 558,
    "start_time": "2024-09-23T23:24:46.395Z"
   },
   {
    "duration": 4,
    "start_time": "2024-09-23T23:25:06.003Z"
   },
   {
    "duration": 9132,
    "start_time": "2024-09-23T23:25:12.589Z"
   },
   {
    "duration": 0,
    "start_time": "2024-09-23T23:25:21.722Z"
   },
   {
    "duration": 72422,
    "start_time": "2024-09-23T23:26:11.769Z"
   },
   {
    "duration": 13,
    "start_time": "2024-09-23T23:27:24.192Z"
   },
   {
    "duration": 207,
    "start_time": "2024-09-23T23:27:24.207Z"
   },
   {
    "duration": 5077,
    "start_time": "2024-09-23T23:32:16.672Z"
   },
   {
    "duration": 3368,
    "start_time": "2024-09-23T23:32:21.751Z"
   },
   {
    "duration": 30,
    "start_time": "2024-09-23T23:32:25.120Z"
   },
   {
    "duration": 4,
    "start_time": "2024-09-23T23:32:25.152Z"
   },
   {
    "duration": 44,
    "start_time": "2024-09-23T23:32:25.158Z"
   },
   {
    "duration": 231,
    "start_time": "2024-09-23T23:32:25.204Z"
   },
   {
    "duration": 200,
    "start_time": "2024-09-23T23:32:25.437Z"
   },
   {
    "duration": 554,
    "start_time": "2024-09-23T23:32:25.639Z"
   },
   {
    "duration": 194,
    "start_time": "2024-09-23T23:32:26.195Z"
   },
   {
    "duration": 5,
    "start_time": "2024-09-23T23:32:26.391Z"
   },
   {
    "duration": 6,
    "start_time": "2024-09-23T23:32:26.398Z"
   },
   {
    "duration": 5,
    "start_time": "2024-09-23T23:32:26.405Z"
   },
   {
    "duration": 5,
    "start_time": "2024-09-23T23:32:26.412Z"
   },
   {
    "duration": 4,
    "start_time": "2024-09-23T23:32:26.418Z"
   },
   {
    "duration": 161,
    "start_time": "2024-09-23T23:32:26.453Z"
   },
   {
    "duration": 714,
    "start_time": "2024-09-23T23:32:26.615Z"
   },
   {
    "duration": 33,
    "start_time": "2024-09-23T23:32:27.330Z"
   },
   {
    "duration": 12,
    "start_time": "2024-09-23T23:32:27.364Z"
   },
   {
    "duration": 160,
    "start_time": "2024-09-23T23:32:27.377Z"
   },
   {
    "duration": 163415,
    "start_time": "2024-09-23T23:32:27.538Z"
   },
   {
    "duration": 450,
    "start_time": "2024-09-23T23:35:10.955Z"
   },
   {
    "duration": 81,
    "start_time": "2024-09-23T23:35:11.407Z"
   },
   {
    "duration": 353,
    "start_time": "2024-09-23T23:35:11.490Z"
   },
   {
    "duration": 643,
    "start_time": "2024-09-23T23:35:11.845Z"
   },
   {
    "duration": 5,
    "start_time": "2024-09-23T23:35:12.489Z"
   },
   {
    "duration": 9517,
    "start_time": "2024-09-23T23:35:12.496Z"
   },
   {
    "duration": 0,
    "start_time": "2024-09-23T23:35:22.015Z"
   },
   {
    "duration": 0,
    "start_time": "2024-09-23T23:35:22.016Z"
   },
   {
    "duration": 0,
    "start_time": "2024-09-23T23:35:22.017Z"
   },
   {
    "duration": 9010,
    "start_time": "2024-09-23T23:36:28.999Z"
   },
   {
    "duration": 8995,
    "start_time": "2024-09-23T23:37:05.435Z"
   },
   {
    "duration": 5108,
    "start_time": "2024-09-23T23:38:59.470Z"
   },
   {
    "duration": 3361,
    "start_time": "2024-09-23T23:39:04.580Z"
   },
   {
    "duration": 30,
    "start_time": "2024-09-23T23:39:07.942Z"
   },
   {
    "duration": 4,
    "start_time": "2024-09-23T23:39:07.974Z"
   },
   {
    "duration": 45,
    "start_time": "2024-09-23T23:39:07.980Z"
   },
   {
    "duration": 237,
    "start_time": "2024-09-23T23:39:08.027Z"
   },
   {
    "duration": 220,
    "start_time": "2024-09-23T23:39:08.266Z"
   },
   {
    "duration": 524,
    "start_time": "2024-09-23T23:39:08.488Z"
   },
   {
    "duration": 194,
    "start_time": "2024-09-23T23:39:09.014Z"
   },
   {
    "duration": 5,
    "start_time": "2024-09-23T23:39:09.211Z"
   },
   {
    "duration": 6,
    "start_time": "2024-09-23T23:39:09.218Z"
   },
   {
    "duration": 28,
    "start_time": "2024-09-23T23:39:09.225Z"
   },
   {
    "duration": 4,
    "start_time": "2024-09-23T23:39:09.255Z"
   },
   {
    "duration": 5,
    "start_time": "2024-09-23T23:39:09.261Z"
   },
   {
    "duration": 163,
    "start_time": "2024-09-23T23:39:09.267Z"
   },
   {
    "duration": 683,
    "start_time": "2024-09-23T23:39:09.432Z"
   },
   {
    "duration": 17,
    "start_time": "2024-09-23T23:39:10.117Z"
   },
   {
    "duration": 24,
    "start_time": "2024-09-23T23:39:10.136Z"
   },
   {
    "duration": 172,
    "start_time": "2024-09-23T23:39:10.161Z"
   },
   {
    "duration": 163574,
    "start_time": "2024-09-23T23:39:10.335Z"
   },
   {
    "duration": 475,
    "start_time": "2024-09-23T23:41:53.911Z"
   },
   {
    "duration": 77,
    "start_time": "2024-09-23T23:41:54.388Z"
   },
   {
    "duration": 338,
    "start_time": "2024-09-23T23:41:54.466Z"
   },
   {
    "duration": 599,
    "start_time": "2024-09-23T23:41:54.806Z"
   },
   {
    "duration": 4,
    "start_time": "2024-09-23T23:41:55.407Z"
   },
   {
    "duration": 1180582,
    "start_time": "2024-09-23T23:41:55.413Z"
   },
   {
    "duration": 9230,
    "start_time": "2024-09-24T00:01:35.996Z"
   },
   {
    "duration": 0,
    "start_time": "2024-09-24T00:01:45.228Z"
   },
   {
    "duration": 0,
    "start_time": "2024-09-24T00:01:45.229Z"
   },
   {
    "duration": 73859,
    "start_time": "2024-09-24T00:02:17.545Z"
   },
   {
    "duration": 14,
    "start_time": "2024-09-24T00:06:07.745Z"
   },
   {
    "duration": 174,
    "start_time": "2024-09-24T00:06:11.327Z"
   },
   {
    "duration": 306941,
    "start_time": "2024-09-24T00:09:24.881Z"
   },
   {
    "duration": 280306,
    "start_time": "2024-09-24T00:20:33.111Z"
   },
   {
    "duration": 938,
    "start_time": "2024-09-24T00:31:23.919Z"
   },
   {
    "duration": 4,
    "start_time": "2024-09-24T00:31:47.195Z"
   },
   {
    "duration": 3,
    "start_time": "2024-09-24T00:31:48.032Z"
   },
   {
    "duration": 82,
    "start_time": "2024-09-24T00:31:48.749Z"
   },
   {
    "duration": 9,
    "start_time": "2024-09-24T00:31:50.460Z"
   },
   {
    "duration": 10,
    "start_time": "2024-09-24T00:31:50.946Z"
   },
   {
    "duration": 5134,
    "start_time": "2024-09-24T00:31:57.217Z"
   },
   {
    "duration": 3895,
    "start_time": "2024-09-24T00:32:02.353Z"
   },
   {
    "duration": 32,
    "start_time": "2024-09-24T00:32:06.250Z"
   },
   {
    "duration": 5,
    "start_time": "2024-09-24T00:32:06.285Z"
   },
   {
    "duration": 51,
    "start_time": "2024-09-24T00:32:06.292Z"
   },
   {
    "duration": 250,
    "start_time": "2024-09-24T00:32:06.345Z"
   },
   {
    "duration": 189,
    "start_time": "2024-09-24T00:32:06.597Z"
   },
   {
    "duration": 547,
    "start_time": "2024-09-24T00:32:06.788Z"
   },
   {
    "duration": 196,
    "start_time": "2024-09-24T00:32:07.336Z"
   },
   {
    "duration": 5,
    "start_time": "2024-09-24T00:32:07.535Z"
   },
   {
    "duration": 29,
    "start_time": "2024-09-24T00:32:07.541Z"
   },
   {
    "duration": 19,
    "start_time": "2024-09-24T00:32:07.571Z"
   },
   {
    "duration": 7,
    "start_time": "2024-09-24T00:32:07.591Z"
   },
   {
    "duration": 6,
    "start_time": "2024-09-24T00:32:07.600Z"
   },
   {
    "duration": 168,
    "start_time": "2024-09-24T00:32:07.608Z"
   },
   {
    "duration": 634,
    "start_time": "2024-09-24T00:32:07.778Z"
   },
   {
    "duration": 16,
    "start_time": "2024-09-24T00:32:08.414Z"
   },
   {
    "duration": 27,
    "start_time": "2024-09-24T00:32:08.432Z"
   },
   {
    "duration": 165,
    "start_time": "2024-09-24T00:32:08.461Z"
   },
   {
    "duration": 157644,
    "start_time": "2024-09-24T00:32:08.627Z"
   },
   {
    "duration": 455,
    "start_time": "2024-09-24T00:34:46.274Z"
   },
   {
    "duration": 81,
    "start_time": "2024-09-24T00:34:46.731Z"
   },
   {
    "duration": 327,
    "start_time": "2024-09-24T00:34:46.814Z"
   },
   {
    "duration": 592,
    "start_time": "2024-09-24T00:34:47.152Z"
   },
   {
    "duration": 4,
    "start_time": "2024-09-24T00:34:47.745Z"
   },
   {
    "duration": 8,
    "start_time": "2024-09-24T00:34:47.753Z"
   },
   {
    "duration": 276,
    "start_time": "2024-09-24T00:34:47.763Z"
   },
   {
    "duration": 0,
    "start_time": "2024-09-24T00:34:48.042Z"
   },
   {
    "duration": 0,
    "start_time": "2024-09-24T00:34:48.042Z"
   },
   {
    "duration": 2,
    "start_time": "2024-09-24T00:35:36.211Z"
   },
   {
    "duration": 26,
    "start_time": "2024-09-24T00:35:38.006Z"
   },
   {
    "duration": 3,
    "start_time": "2024-09-24T00:35:56.439Z"
   },
   {
    "duration": 25,
    "start_time": "2024-09-24T00:35:56.774Z"
   },
   {
    "duration": 4,
    "start_time": "2024-09-24T00:36:12.684Z"
   },
   {
    "duration": 68,
    "start_time": "2024-09-24T00:36:15.574Z"
   },
   {
    "duration": 3,
    "start_time": "2024-09-24T00:37:29.591Z"
   },
   {
    "duration": 3,
    "start_time": "2024-09-24T00:37:30.001Z"
   },
   {
    "duration": 2,
    "start_time": "2024-09-24T00:37:30.357Z"
   },
   {
    "duration": 2,
    "start_time": "2024-09-24T00:37:30.895Z"
   },
   {
    "duration": 16,
    "start_time": "2024-09-24T00:37:42.016Z"
   },
   {
    "duration": 16,
    "start_time": "2024-09-24T00:38:01.527Z"
   },
   {
    "duration": 2636,
    "start_time": "2024-09-24T00:38:13.336Z"
   },
   {
    "duration": 27,
    "start_time": "2024-09-24T00:38:18.067Z"
   },
   {
    "duration": 2581,
    "start_time": "2024-09-24T00:38:29.016Z"
   },
   {
    "duration": 25,
    "start_time": "2024-09-24T00:38:31.600Z"
   },
   {
    "duration": 6052,
    "start_time": "2024-09-24T00:39:15.980Z"
   },
   {
    "duration": 28,
    "start_time": "2024-09-24T00:39:24.883Z"
   },
   {
    "duration": 5807,
    "start_time": "2024-09-24T00:39:30.323Z"
   },
   {
    "duration": 31,
    "start_time": "2024-09-24T00:39:36.133Z"
   },
   {
    "duration": 4,
    "start_time": "2024-09-24T00:39:55.700Z"
   },
   {
    "duration": 17,
    "start_time": "2024-09-24T00:39:56.187Z"
   },
   {
    "duration": 14,
    "start_time": "2024-09-24T00:39:57.109Z"
   },
   {
    "duration": 5,
    "start_time": "2024-09-24T00:40:05.268Z"
   },
   {
    "duration": 3,
    "start_time": "2024-09-24T00:40:05.561Z"
   },
   {
    "duration": 5944,
    "start_time": "2024-09-24T00:40:05.832Z"
   },
   {
    "duration": 27,
    "start_time": "2024-09-24T00:40:11.778Z"
   },
   {
    "duration": 0,
    "start_time": "2024-09-24T00:40:11.806Z"
   },
   {
    "duration": 0,
    "start_time": "2024-09-24T00:40:11.808Z"
   },
   {
    "duration": 0,
    "start_time": "2024-09-24T00:40:11.809Z"
   },
   {
    "duration": 3,
    "start_time": "2024-09-24T00:40:27.133Z"
   },
   {
    "duration": 16,
    "start_time": "2024-09-24T00:40:28.500Z"
   },
   {
    "duration": 16,
    "start_time": "2024-09-24T00:40:58.249Z"
   },
   {
    "duration": 8324,
    "start_time": "2024-09-24T00:41:20.155Z"
   },
   {
    "duration": 29,
    "start_time": "2024-09-24T00:41:29.151Z"
   },
   {
    "duration": 14,
    "start_time": "2024-09-24T00:41:39.815Z"
   },
   {
    "duration": 3,
    "start_time": "2024-09-24T00:41:40.146Z"
   },
   {
    "duration": 19,
    "start_time": "2024-09-24T00:41:51.431Z"
   },
   {
    "duration": 3,
    "start_time": "2024-09-24T00:42:07.891Z"
   },
   {
    "duration": 17,
    "start_time": "2024-09-24T00:42:08.631Z"
   },
   {
    "duration": 15,
    "start_time": "2024-09-24T00:42:09.242Z"
   },
   {
    "duration": 5132,
    "start_time": "2024-09-24T00:45:58.502Z"
   },
   {
    "duration": 3597,
    "start_time": "2024-09-24T00:46:03.636Z"
   },
   {
    "duration": 32,
    "start_time": "2024-09-24T00:46:07.235Z"
   },
   {
    "duration": 6,
    "start_time": "2024-09-24T00:46:07.269Z"
   },
   {
    "duration": 47,
    "start_time": "2024-09-24T00:46:07.277Z"
   },
   {
    "duration": 256,
    "start_time": "2024-09-24T00:46:07.326Z"
   },
   {
    "duration": 199,
    "start_time": "2024-09-24T00:46:07.584Z"
   },
   {
    "duration": 531,
    "start_time": "2024-09-24T00:46:07.784Z"
   },
   {
    "duration": 186,
    "start_time": "2024-09-24T00:46:08.316Z"
   },
   {
    "duration": 5,
    "start_time": "2024-09-24T00:46:08.506Z"
   },
   {
    "duration": 6,
    "start_time": "2024-09-24T00:46:08.512Z"
   },
   {
    "duration": 33,
    "start_time": "2024-09-24T00:46:08.520Z"
   },
   {
    "duration": 7,
    "start_time": "2024-09-24T00:46:08.555Z"
   },
   {
    "duration": 25,
    "start_time": "2024-09-24T00:46:08.563Z"
   },
   {
    "duration": 155,
    "start_time": "2024-09-24T00:46:08.589Z"
   },
   {
    "duration": 651,
    "start_time": "2024-09-24T00:46:08.746Z"
   },
   {
    "duration": 18,
    "start_time": "2024-09-24T00:46:09.399Z"
   },
   {
    "duration": 15,
    "start_time": "2024-09-24T00:46:09.418Z"
   },
   {
    "duration": 510,
    "start_time": "2024-09-24T00:46:09.435Z"
   },
   {
    "duration": 159258,
    "start_time": "2024-09-24T00:46:09.952Z"
   },
   {
    "duration": 463,
    "start_time": "2024-09-24T00:48:49.212Z"
   },
   {
    "duration": 82,
    "start_time": "2024-09-24T00:48:49.678Z"
   },
   {
    "duration": 338,
    "start_time": "2024-09-24T00:48:49.762Z"
   },
   {
    "duration": 582,
    "start_time": "2024-09-24T00:48:50.102Z"
   },
   {
    "duration": 5,
    "start_time": "2024-09-24T00:48:50.686Z"
   },
   {
    "duration": 35,
    "start_time": "2024-09-24T00:48:50.693Z"
   },
   {
    "duration": 1202990,
    "start_time": "2024-09-24T00:48:50.730Z"
   },
   {
    "duration": 16122,
    "start_time": "2024-09-24T01:08:53.723Z"
   },
   {
    "duration": 3,
    "start_time": "2024-09-24T01:09:34.808Z"
   },
   {
    "duration": 3,
    "start_time": "2024-09-24T01:09:56.209Z"
   },
   {
    "duration": 836455,
    "start_time": "2024-09-24T01:09:56.528Z"
   },
   {
    "duration": 48523,
    "start_time": "2024-09-24T01:23:52.985Z"
   },
   {
    "duration": 3,
    "start_time": "2024-09-24T01:24:48.525Z"
   },
   {
    "duration": 0,
    "start_time": "2024-09-24T01:25:48.999Z"
   },
   {
    "duration": 0,
    "start_time": "2024-09-24T01:25:49.000Z"
   },
   {
    "duration": 0,
    "start_time": "2024-09-24T01:25:49.001Z"
   },
   {
    "duration": 3,
    "start_time": "2024-09-24T01:25:52.200Z"
   },
   {
    "duration": 83082,
    "start_time": "2024-09-24T01:25:52.520Z"
   },
   {
    "duration": 0,
    "start_time": "2024-09-24T01:27:15.603Z"
   },
   {
    "duration": 4,
    "start_time": "2024-09-24T01:27:19.957Z"
   },
   {
    "duration": 53727,
    "start_time": "2024-09-24T01:27:20.279Z"
   },
   {
    "duration": 4023,
    "start_time": "2024-09-24T01:28:14.009Z"
   },
   {
    "duration": 527742,
    "start_time": "2024-09-24T01:28:29.840Z"
   },
   {
    "duration": 3,
    "start_time": "2024-09-24T01:38:29.985Z"
   },
   {
    "duration": 249127,
    "start_time": "2024-09-24T01:38:30.348Z"
   },
   {
    "duration": 477113,
    "start_time": "2024-09-24T01:42:39.476Z"
   },
   {
    "duration": 3,
    "start_time": "2024-09-24T01:50:38.112Z"
   },
   {
    "duration": 4728101,
    "start_time": "2024-09-24T01:50:38.377Z"
   },
   {
    "duration": 49307,
    "start_time": "2024-09-24T03:09:26.481Z"
   },
   {
    "duration": 5,
    "start_time": "2024-09-24T03:17:46.392Z"
   },
   {
    "duration": 1016852,
    "start_time": "2024-09-24T03:17:47.223Z"
   },
   {
    "duration": 3,
    "start_time": "2024-09-24T03:35:52.408Z"
   },
   {
    "duration": 875202,
    "start_time": "2024-09-24T03:35:52.678Z"
   },
   {
    "duration": 3,
    "start_time": "2024-09-24T03:51:21.168Z"
   },
   {
    "duration": 882536,
    "start_time": "2024-09-24T03:51:21.432Z"
   },
   {
    "duration": 6,
    "start_time": "2024-09-24T04:07:07.407Z"
   },
   {
    "duration": 3,
    "start_time": "2024-09-24T04:07:07.675Z"
   },
   {
    "duration": 6,
    "start_time": "2024-09-24T04:07:25.200Z"
   },
   {
    "duration": 2,
    "start_time": "2024-09-24T04:07:25.700Z"
   },
   {
    "duration": 4833,
    "start_time": "2024-09-24T04:07:38.792Z"
   },
   {
    "duration": 3432,
    "start_time": "2024-09-24T04:07:43.628Z"
   },
   {
    "duration": 29,
    "start_time": "2024-09-24T04:07:47.062Z"
   },
   {
    "duration": 3,
    "start_time": "2024-09-24T04:07:47.094Z"
   },
   {
    "duration": 50,
    "start_time": "2024-09-24T04:07:47.099Z"
   },
   {
    "duration": 217,
    "start_time": "2024-09-24T04:07:47.152Z"
   },
   {
    "duration": 197,
    "start_time": "2024-09-24T04:07:47.371Z"
   },
   {
    "duration": 526,
    "start_time": "2024-09-24T04:07:47.570Z"
   },
   {
    "duration": 192,
    "start_time": "2024-09-24T04:07:48.098Z"
   },
   {
    "duration": 5,
    "start_time": "2024-09-24T04:07:48.293Z"
   },
   {
    "duration": 32,
    "start_time": "2024-09-24T04:07:48.300Z"
   },
   {
    "duration": 7,
    "start_time": "2024-09-24T04:07:48.333Z"
   },
   {
    "duration": 4,
    "start_time": "2024-09-24T04:07:48.341Z"
   },
   {
    "duration": 6,
    "start_time": "2024-09-24T04:07:48.347Z"
   },
   {
    "duration": 155,
    "start_time": "2024-09-24T04:07:48.354Z"
   },
   {
    "duration": 675,
    "start_time": "2024-09-24T04:07:48.511Z"
   },
   {
    "duration": 20,
    "start_time": "2024-09-24T04:07:49.189Z"
   },
   {
    "duration": 13,
    "start_time": "2024-09-24T04:07:49.210Z"
   },
   {
    "duration": 193,
    "start_time": "2024-09-24T04:07:49.225Z"
   },
   {
    "duration": 153146,
    "start_time": "2024-09-24T04:07:49.420Z"
   },
   {
    "duration": 458,
    "start_time": "2024-09-24T04:10:22.568Z"
   },
   {
    "duration": 80,
    "start_time": "2024-09-24T04:10:23.028Z"
   },
   {
    "duration": 361,
    "start_time": "2024-09-24T04:10:23.110Z"
   },
   {
    "duration": 574,
    "start_time": "2024-09-24T04:10:23.473Z"
   },
   {
    "duration": 8,
    "start_time": "2024-09-24T04:10:24.048Z"
   },
   {
    "duration": 6,
    "start_time": "2024-09-24T04:10:24.057Z"
   },
   {
    "duration": 69941,
    "start_time": "2024-09-25T03:10:23.151Z"
   },
   {
    "duration": 3537,
    "start_time": "2024-09-25T03:11:33.094Z"
   },
   {
    "duration": 78,
    "start_time": "2024-09-25T03:11:36.632Z"
   },
   {
    "duration": 5,
    "start_time": "2024-09-25T03:11:36.712Z"
   },
   {
    "duration": 55,
    "start_time": "2024-09-25T03:11:36.718Z"
   },
   {
    "duration": 372,
    "start_time": "2024-09-25T03:11:36.775Z"
   },
   {
    "duration": 198,
    "start_time": "2024-09-25T03:11:37.149Z"
   },
   {
    "duration": 327,
    "start_time": "2024-09-25T03:11:37.348Z"
   },
   {
    "duration": 167,
    "start_time": "2024-09-25T03:11:37.677Z"
   },
   {
    "duration": 4,
    "start_time": "2024-09-25T03:11:37.852Z"
   },
   {
    "duration": 16,
    "start_time": "2024-09-25T03:11:37.857Z"
   },
   {
    "duration": 6,
    "start_time": "2024-09-25T03:11:37.874Z"
   },
   {
    "duration": 6,
    "start_time": "2024-09-25T03:11:37.881Z"
   },
   {
    "duration": 4,
    "start_time": "2024-09-25T03:11:37.888Z"
   },
   {
    "duration": 147,
    "start_time": "2024-09-25T03:11:37.894Z"
   },
   {
    "duration": 663,
    "start_time": "2024-09-25T03:11:38.043Z"
   },
   {
    "duration": 17,
    "start_time": "2024-09-25T03:11:38.708Z"
   },
   {
    "duration": 13,
    "start_time": "2024-09-25T03:11:38.727Z"
   },
   {
    "duration": 169,
    "start_time": "2024-09-25T03:11:38.741Z"
   },
   {
    "duration": 148376,
    "start_time": "2024-09-25T03:11:38.912Z"
   },
   {
    "duration": 461,
    "start_time": "2024-09-25T03:14:07.289Z"
   },
   {
    "duration": 70,
    "start_time": "2024-09-25T03:14:07.752Z"
   },
   {
    "duration": 360,
    "start_time": "2024-09-25T03:14:07.824Z"
   },
   {
    "duration": 557,
    "start_time": "2024-09-25T03:14:08.187Z"
   },
   {
    "duration": 9,
    "start_time": "2024-09-25T03:14:08.745Z"
   },
   {
    "duration": 4,
    "start_time": "2024-09-25T03:14:08.755Z"
   },
   {
    "duration": 1629198,
    "start_time": "2024-09-25T03:14:08.760Z"
   },
   {
    "duration": 8892,
    "start_time": "2024-09-25T03:43:22.218Z"
   },
   {
    "duration": 3557,
    "start_time": "2024-09-25T03:43:31.112Z"
   },
   {
    "duration": 33,
    "start_time": "2024-09-25T03:43:34.670Z"
   },
   {
    "duration": 28,
    "start_time": "2024-09-25T03:43:34.704Z"
   },
   {
    "duration": 55,
    "start_time": "2024-09-25T03:43:34.733Z"
   },
   {
    "duration": 214,
    "start_time": "2024-09-25T03:43:34.790Z"
   },
   {
    "duration": 200,
    "start_time": "2024-09-25T03:43:35.007Z"
   },
   {
    "duration": 530,
    "start_time": "2024-09-25T03:43:35.209Z"
   },
   {
    "duration": 188,
    "start_time": "2024-09-25T03:43:35.741Z"
   },
   {
    "duration": 5,
    "start_time": "2024-09-25T03:43:35.931Z"
   },
   {
    "duration": 8,
    "start_time": "2024-09-25T03:43:35.953Z"
   },
   {
    "duration": 10,
    "start_time": "2024-09-25T03:43:35.963Z"
   },
   {
    "duration": 20,
    "start_time": "2024-09-25T03:43:35.975Z"
   },
   {
    "duration": 5,
    "start_time": "2024-09-25T03:43:35.997Z"
   },
   {
    "duration": 173,
    "start_time": "2024-09-25T03:43:36.004Z"
   },
   {
    "duration": 694,
    "start_time": "2024-09-25T03:43:36.179Z"
   },
   {
    "duration": 16,
    "start_time": "2024-09-25T03:43:36.874Z"
   },
   {
    "duration": 13,
    "start_time": "2024-09-25T03:43:36.891Z"
   },
   {
    "duration": 189,
    "start_time": "2024-09-25T03:43:36.906Z"
   },
   {
    "duration": 29141,
    "start_time": "2024-09-25T03:43:37.097Z"
   },
   {
    "duration": 0,
    "start_time": "2024-09-25T03:44:06.240Z"
   },
   {
    "duration": 0,
    "start_time": "2024-09-25T03:44:06.241Z"
   },
   {
    "duration": 0,
    "start_time": "2024-09-25T03:44:06.242Z"
   },
   {
    "duration": 0,
    "start_time": "2024-09-25T03:44:06.254Z"
   },
   {
    "duration": 0,
    "start_time": "2024-09-25T03:44:06.255Z"
   },
   {
    "duration": 0,
    "start_time": "2024-09-25T03:44:06.256Z"
   },
   {
    "duration": 0,
    "start_time": "2024-09-25T03:44:06.257Z"
   },
   {
    "duration": 0,
    "start_time": "2024-09-25T03:44:06.258Z"
   },
   {
    "duration": 17,
    "start_time": "2024-09-25T03:46:04.597Z"
   },
   {
    "duration": 14,
    "start_time": "2024-09-25T03:46:12.160Z"
   },
   {
    "duration": 16,
    "start_time": "2024-09-25T03:46:22.050Z"
   },
   {
    "duration": 5007,
    "start_time": "2024-09-25T03:46:39.889Z"
   },
   {
    "duration": 3379,
    "start_time": "2024-09-25T03:46:44.899Z"
   },
   {
    "duration": 33,
    "start_time": "2024-09-25T03:46:48.282Z"
   },
   {
    "duration": 4,
    "start_time": "2024-09-25T03:46:48.317Z"
   },
   {
    "duration": 44,
    "start_time": "2024-09-25T03:46:48.323Z"
   },
   {
    "duration": 16,
    "start_time": "2024-09-25T03:46:48.368Z"
   },
   {
    "duration": 16,
    "start_time": "2024-09-25T03:47:36.916Z"
   },
   {
    "duration": 16,
    "start_time": "2024-09-25T03:47:51.032Z"
   },
   {
    "duration": 54,
    "start_time": "2024-09-25T03:49:09.698Z"
   },
   {
    "duration": 63,
    "start_time": "2024-09-25T03:49:53.252Z"
   },
   {
    "duration": 53,
    "start_time": "2024-09-25T03:49:56.840Z"
   },
   {
    "duration": 57,
    "start_time": "2024-09-25T03:51:40.089Z"
   },
   {
    "duration": 5100,
    "start_time": "2024-09-25T03:52:21.201Z"
   },
   {
    "duration": 3453,
    "start_time": "2024-09-25T03:52:26.304Z"
   },
   {
    "duration": 33,
    "start_time": "2024-09-25T03:52:29.759Z"
   },
   {
    "duration": 4,
    "start_time": "2024-09-25T03:52:29.795Z"
   },
   {
    "duration": 50,
    "start_time": "2024-09-25T03:52:29.801Z"
   },
   {
    "duration": 211,
    "start_time": "2024-09-25T03:52:29.853Z"
   },
   {
    "duration": 194,
    "start_time": "2024-09-25T03:52:30.066Z"
   },
   {
    "duration": 531,
    "start_time": "2024-09-25T03:52:30.262Z"
   },
   {
    "duration": 180,
    "start_time": "2024-09-25T03:52:30.795Z"
   },
   {
    "duration": 5,
    "start_time": "2024-09-25T03:52:30.978Z"
   },
   {
    "duration": 11,
    "start_time": "2024-09-25T03:52:30.985Z"
   },
   {
    "duration": 7,
    "start_time": "2024-09-25T03:52:31.302Z"
   },
   {
    "duration": 64,
    "start_time": "2024-09-25T03:52:32.292Z"
   },
   {
    "duration": 295,
    "start_time": "2024-09-25T04:00:42.961Z"
   },
   {
    "duration": 3,
    "start_time": "2024-09-25T04:00:47.829Z"
   },
   {
    "duration": 224,
    "start_time": "2024-09-25T04:00:48.243Z"
   },
   {
    "duration": 4,
    "start_time": "2024-09-25T04:01:42.720Z"
   },
   {
    "duration": 2,
    "start_time": "2024-09-25T04:01:43.907Z"
   },
   {
    "duration": 240,
    "start_time": "2024-09-25T04:01:44.207Z"
   },
   {
    "duration": 5,
    "start_time": "2024-09-25T04:02:36.539Z"
   },
   {
    "duration": 3,
    "start_time": "2024-09-25T04:02:37.350Z"
   },
   {
    "duration": 199,
    "start_time": "2024-09-25T04:02:37.790Z"
   },
   {
    "duration": 5,
    "start_time": "2024-09-25T04:05:05.714Z"
   },
   {
    "duration": 3,
    "start_time": "2024-09-25T04:05:06.971Z"
   },
   {
    "duration": 182,
    "start_time": "2024-09-25T04:05:07.524Z"
   },
   {
    "duration": 5,
    "start_time": "2024-09-25T04:06:44.574Z"
   },
   {
    "duration": 3,
    "start_time": "2024-09-25T04:06:45.344Z"
   },
   {
    "duration": 162,
    "start_time": "2024-09-25T04:06:45.878Z"
   },
   {
    "duration": 3,
    "start_time": "2024-09-25T04:08:10.931Z"
   },
   {
    "duration": 156,
    "start_time": "2024-09-25T04:08:11.228Z"
   },
   {
    "duration": 27,
    "start_time": "2024-09-25T04:08:27.942Z"
   },
   {
    "duration": 5045,
    "start_time": "2024-09-25T04:09:17.285Z"
   },
   {
    "duration": 3405,
    "start_time": "2024-09-25T04:09:22.332Z"
   },
   {
    "duration": 32,
    "start_time": "2024-09-25T04:09:25.738Z"
   },
   {
    "duration": 32,
    "start_time": "2024-09-25T04:09:25.773Z"
   },
   {
    "duration": 45,
    "start_time": "2024-09-25T04:09:25.806Z"
   },
   {
    "duration": 210,
    "start_time": "2024-09-25T04:09:25.853Z"
   },
   {
    "duration": 196,
    "start_time": "2024-09-25T04:09:26.065Z"
   },
   {
    "duration": 531,
    "start_time": "2024-09-25T04:09:26.263Z"
   },
   {
    "duration": 201,
    "start_time": "2024-09-25T04:09:26.795Z"
   },
   {
    "duration": 5,
    "start_time": "2024-09-25T04:09:26.999Z"
   },
   {
    "duration": 8,
    "start_time": "2024-09-25T04:09:27.005Z"
   },
   {
    "duration": 7,
    "start_time": "2024-09-25T04:09:27.015Z"
   },
   {
    "duration": 63,
    "start_time": "2024-09-25T04:09:27.024Z"
   },
   {
    "duration": 5,
    "start_time": "2024-09-25T04:09:27.088Z"
   },
   {
    "duration": 35,
    "start_time": "2024-09-25T04:09:27.094Z"
   },
   {
    "duration": 3,
    "start_time": "2024-09-25T04:09:27.130Z"
   },
   {
    "duration": 198,
    "start_time": "2024-09-25T04:09:27.152Z"
   },
   {
    "duration": 566,
    "start_time": "2024-09-25T04:09:27.352Z"
   },
   {
    "duration": 16,
    "start_time": "2024-09-25T04:09:27.920Z"
   },
   {
    "duration": 23,
    "start_time": "2024-09-25T04:09:27.938Z"
   },
   {
    "duration": 170,
    "start_time": "2024-09-25T04:09:27.962Z"
   },
   {
    "duration": 162768,
    "start_time": "2024-09-25T04:09:28.134Z"
   },
   {
    "duration": 461,
    "start_time": "2024-09-25T04:12:10.904Z"
   },
   {
    "duration": 70,
    "start_time": "2024-09-25T04:12:11.367Z"
   },
   {
    "duration": 364,
    "start_time": "2024-09-25T04:12:11.452Z"
   },
   {
    "duration": 608,
    "start_time": "2024-09-25T04:12:11.819Z"
   },
   {
    "duration": 6,
    "start_time": "2024-09-25T04:12:12.428Z"
   },
   {
    "duration": 3,
    "start_time": "2024-09-25T04:12:12.437Z"
   },
   {
    "duration": 1052004,
    "start_time": "2024-09-25T04:12:12.452Z"
   },
   {
    "duration": 11145,
    "start_time": "2024-09-25T04:29:44.458Z"
   },
   {
    "duration": 5068,
    "start_time": "2024-09-25T04:31:11.165Z"
   },
   {
    "duration": 3441,
    "start_time": "2024-09-25T04:31:16.235Z"
   },
   {
    "duration": 31,
    "start_time": "2024-09-25T04:31:19.678Z"
   },
   {
    "duration": 5,
    "start_time": "2024-09-25T04:31:19.711Z"
   },
   {
    "duration": 48,
    "start_time": "2024-09-25T04:31:19.718Z"
   },
   {
    "duration": 222,
    "start_time": "2024-09-25T04:31:19.767Z"
   },
   {
    "duration": 203,
    "start_time": "2024-09-25T04:31:19.990Z"
   },
   {
    "duration": 524,
    "start_time": "2024-09-25T04:31:20.194Z"
   },
   {
    "duration": 191,
    "start_time": "2024-09-25T04:31:20.720Z"
   },
   {
    "duration": 6,
    "start_time": "2024-09-25T04:31:20.913Z"
   },
   {
    "duration": 10,
    "start_time": "2024-09-25T04:31:20.920Z"
   },
   {
    "duration": 5,
    "start_time": "2024-09-25T04:31:20.932Z"
   },
   {
    "duration": 42,
    "start_time": "2024-09-25T04:31:20.953Z"
   },
   {
    "duration": 4,
    "start_time": "2024-09-25T04:31:20.998Z"
   },
   {
    "duration": 52,
    "start_time": "2024-09-25T04:31:21.003Z"
   },
   {
    "duration": 4,
    "start_time": "2024-09-25T04:31:21.057Z"
   },
   {
    "duration": 181,
    "start_time": "2024-09-25T04:31:21.062Z"
   },
   {
    "duration": 620,
    "start_time": "2024-09-25T04:31:21.245Z"
   },
   {
    "duration": 17,
    "start_time": "2024-09-25T04:31:21.867Z"
   },
   {
    "duration": 12,
    "start_time": "2024-09-25T04:31:21.886Z"
   },
   {
    "duration": 164,
    "start_time": "2024-09-25T04:31:21.899Z"
   },
   {
    "duration": 241435,
    "start_time": "2024-09-25T04:31:22.064Z"
   },
   {
    "duration": 480,
    "start_time": "2024-09-25T04:35:23.501Z"
   },
   {
    "duration": 510,
    "start_time": "2024-09-25T04:35:23.983Z"
   },
   {
    "duration": 918,
    "start_time": "2024-09-25T04:35:24.494Z"
   },
   {
    "duration": 592,
    "start_time": "2024-09-25T04:35:25.414Z"
   },
   {
    "duration": 6,
    "start_time": "2024-09-25T04:35:26.008Z"
   },
   {
    "duration": 514,
    "start_time": "2024-09-25T04:35:26.016Z"
   },
   {
    "duration": 1037474,
    "start_time": "2024-09-25T04:35:26.532Z"
   },
   {
    "duration": 0,
    "start_time": "2024-09-25T04:52:44.008Z"
   },
   {
    "duration": 142503,
    "start_time": "2024-09-25T04:52:49.856Z"
   },
   {
    "duration": 4863167,
    "start_time": "2024-09-25T04:58:16.504Z"
   },
   {
    "duration": 270,
    "start_time": "2024-09-25T06:19:19.673Z"
   },
   {
    "duration": 9,
    "start_time": "2024-09-25T06:19:19.945Z"
   },
   {
    "duration": 4,
    "start_time": "2024-09-25T06:21:30.736Z"
   },
   {
    "duration": 466229,
    "start_time": "2024-09-25T06:21:31.455Z"
   },
   {
    "duration": 0,
    "start_time": "2024-09-25T06:29:17.686Z"
   },
   {
    "duration": 3,
    "start_time": "2024-09-25T06:29:19.248Z"
   },
   {
    "duration": 168296,
    "start_time": "2024-09-25T06:29:19.506Z"
   },
   {
    "duration": 3,
    "start_time": "2024-09-25T06:32:10.423Z"
   },
   {
    "duration": 31258,
    "start_time": "2024-09-25T06:32:10.699Z"
   },
   {
    "duration": 3,
    "start_time": "2024-09-25T06:32:46.763Z"
   },
   {
    "duration": 37698,
    "start_time": "2024-09-25T06:32:47.024Z"
   },
   {
    "duration": 3,
    "start_time": "2024-09-25T06:33:29.374Z"
   },
   {
    "duration": 53708,
    "start_time": "2024-09-25T06:33:29.602Z"
   },
   {
    "duration": 3,
    "start_time": "2024-09-25T06:34:27.758Z"
   },
   {
    "duration": 69397,
    "start_time": "2024-09-25T06:34:27.985Z"
   },
   {
    "duration": 3,
    "start_time": "2024-09-25T06:35:46.650Z"
   },
   {
    "duration": 344634,
    "start_time": "2024-09-25T06:35:47.043Z"
   },
   {
    "duration": 3,
    "start_time": "2024-09-25T06:41:53.958Z"
   },
   {
    "duration": 34328,
    "start_time": "2024-09-25T06:41:54.647Z"
   },
   {
    "duration": 3,
    "start_time": "2024-09-25T06:42:35.752Z"
   },
   {
    "duration": 62307,
    "start_time": "2024-09-25T06:42:36.053Z"
   },
   {
    "duration": 3,
    "start_time": "2024-09-25T06:43:43.757Z"
   },
   {
    "duration": 82677,
    "start_time": "2024-09-25T06:43:43.996Z"
   },
   {
    "duration": 3,
    "start_time": "2024-09-25T06:46:20.948Z"
   },
   {
    "duration": 127468,
    "start_time": "2024-09-25T06:46:21.251Z"
   },
   {
    "duration": 3,
    "start_time": "2024-09-25T06:48:42.129Z"
   },
   {
    "duration": 0,
    "start_time": "2024-09-25T06:49:38.969Z"
   },
   {
    "duration": 0,
    "start_time": "2024-09-25T06:49:38.970Z"
   },
   {
    "duration": 3,
    "start_time": "2024-09-25T06:49:44.145Z"
   },
   {
    "duration": 68253,
    "start_time": "2024-09-25T06:49:44.360Z"
   },
   {
    "duration": 4,
    "start_time": "2024-09-25T06:51:04.047Z"
   },
   {
    "duration": 13865,
    "start_time": "2024-09-25T06:51:04.388Z"
   },
   {
    "duration": 3,
    "start_time": "2024-09-25T06:51:21.934Z"
   },
   {
    "duration": 21850,
    "start_time": "2024-09-25T06:51:22.226Z"
   },
   {
    "duration": 95274,
    "start_time": "2024-09-25T06:51:53.686Z"
   },
   {
    "duration": 3,
    "start_time": "2024-09-25T06:53:38.436Z"
   },
   {
    "duration": 13456,
    "start_time": "2024-09-25T06:53:38.726Z"
   },
   {
    "duration": 3,
    "start_time": "2024-09-25T06:53:56.418Z"
   },
   {
    "duration": 19551,
    "start_time": "2024-09-25T06:53:57.150Z"
   },
   {
    "duration": 6,
    "start_time": "2024-09-25T06:54:20.256Z"
   },
   {
    "duration": 37283,
    "start_time": "2024-09-25T06:54:21.006Z"
   },
   {
    "duration": 3,
    "start_time": "2024-09-25T06:55:10.087Z"
   },
   {
    "duration": 54882,
    "start_time": "2024-09-25T06:55:10.394Z"
   },
   {
    "duration": 3,
    "start_time": "2024-09-25T06:56:14.211Z"
   },
   {
    "duration": 96762,
    "start_time": "2024-09-25T06:56:14.613Z"
   },
   {
    "duration": 4915,
    "start_time": "2024-09-25T06:58:15.591Z"
   },
   {
    "duration": 3405,
    "start_time": "2024-09-25T06:58:20.508Z"
   },
   {
    "duration": 32,
    "start_time": "2024-09-25T06:58:23.915Z"
   },
   {
    "duration": 5,
    "start_time": "2024-09-25T06:58:23.948Z"
   },
   {
    "duration": 49,
    "start_time": "2024-09-25T06:58:23.955Z"
   },
   {
    "duration": 204,
    "start_time": "2024-09-25T06:58:24.006Z"
   },
   {
    "duration": 196,
    "start_time": "2024-09-25T06:58:24.218Z"
   },
   {
    "duration": 501,
    "start_time": "2024-09-25T06:58:24.415Z"
   },
   {
    "duration": 182,
    "start_time": "2024-09-25T06:58:24.917Z"
   },
   {
    "duration": 6,
    "start_time": "2024-09-25T06:58:25.101Z"
   },
   {
    "duration": 5,
    "start_time": "2024-09-25T06:58:25.108Z"
   },
   {
    "duration": 8,
    "start_time": "2024-09-25T06:58:25.115Z"
   },
   {
    "duration": 57,
    "start_time": "2024-09-25T06:58:25.124Z"
   },
   {
    "duration": 4,
    "start_time": "2024-09-25T06:58:25.184Z"
   },
   {
    "duration": 32,
    "start_time": "2024-09-25T06:58:25.190Z"
   },
   {
    "duration": 3,
    "start_time": "2024-09-25T06:58:25.224Z"
   },
   {
    "duration": 176,
    "start_time": "2024-09-25T06:58:25.228Z"
   },
   {
    "duration": 602,
    "start_time": "2024-09-25T06:58:25.414Z"
   },
   {
    "duration": 16,
    "start_time": "2024-09-25T06:58:26.018Z"
   },
   {
    "duration": 24,
    "start_time": "2024-09-25T06:58:26.036Z"
   },
   {
    "duration": 163,
    "start_time": "2024-09-25T06:58:26.062Z"
   },
   {
    "duration": 36858,
    "start_time": "2024-09-25T06:58:26.227Z"
   },
   {
    "duration": 419,
    "start_time": "2024-09-25T06:59:03.087Z"
   },
   {
    "duration": 79,
    "start_time": "2024-09-25T06:59:03.508Z"
   },
   {
    "duration": 343,
    "start_time": "2024-09-25T06:59:03.589Z"
   },
   {
    "duration": 569,
    "start_time": "2024-09-25T06:59:03.934Z"
   },
   {
    "duration": 5,
    "start_time": "2024-09-25T06:59:04.505Z"
   },
   {
    "duration": 10,
    "start_time": "2024-09-25T06:59:04.511Z"
   },
   {
    "duration": 4951,
    "start_time": "2024-09-25T07:00:47.781Z"
   },
   {
    "duration": 3258,
    "start_time": "2024-09-25T07:00:52.735Z"
   },
   {
    "duration": 32,
    "start_time": "2024-09-25T07:00:55.995Z"
   },
   {
    "duration": 4,
    "start_time": "2024-09-25T07:00:56.029Z"
   },
   {
    "duration": 46,
    "start_time": "2024-09-25T07:00:56.034Z"
   },
   {
    "duration": 215,
    "start_time": "2024-09-25T07:00:56.082Z"
   },
   {
    "duration": 206,
    "start_time": "2024-09-25T07:00:56.299Z"
   },
   {
    "duration": 505,
    "start_time": "2024-09-25T07:00:56.507Z"
   },
   {
    "duration": 186,
    "start_time": "2024-09-25T07:00:57.014Z"
   },
   {
    "duration": 4,
    "start_time": "2024-09-25T07:00:57.203Z"
   },
   {
    "duration": 9,
    "start_time": "2024-09-25T07:00:57.209Z"
   },
   {
    "duration": 8,
    "start_time": "2024-09-25T07:00:57.219Z"
   },
   {
    "duration": 88,
    "start_time": "2024-09-25T07:00:57.229Z"
   },
   {
    "duration": 5,
    "start_time": "2024-09-25T07:00:57.318Z"
   },
   {
    "duration": 40,
    "start_time": "2024-09-25T07:00:57.324Z"
   },
   {
    "duration": 4,
    "start_time": "2024-09-25T07:00:57.366Z"
   },
   {
    "duration": 183,
    "start_time": "2024-09-25T07:00:57.372Z"
   },
   {
    "duration": 576,
    "start_time": "2024-09-25T07:00:57.557Z"
   },
   {
    "duration": 22,
    "start_time": "2024-09-25T07:00:58.135Z"
   },
   {
    "duration": 14,
    "start_time": "2024-09-25T07:00:58.159Z"
   },
   {
    "duration": 155,
    "start_time": "2024-09-25T07:00:58.174Z"
   },
   {
    "duration": 75578,
    "start_time": "2024-09-25T07:00:58.331Z"
   },
   {
    "duration": 433,
    "start_time": "2024-09-25T07:02:13.912Z"
   },
   {
    "duration": 79,
    "start_time": "2024-09-25T07:02:14.347Z"
   },
   {
    "duration": 352,
    "start_time": "2024-09-25T07:02:14.428Z"
   },
   {
    "duration": 560,
    "start_time": "2024-09-25T07:02:14.782Z"
   },
   {
    "duration": 9,
    "start_time": "2024-09-25T07:02:15.344Z"
   },
   {
    "duration": 3,
    "start_time": "2024-09-25T07:02:15.357Z"
   },
   {
    "duration": 201979,
    "start_time": "2024-09-25T07:02:15.362Z"
   },
   {
    "duration": 0,
    "start_time": "2024-09-25T07:05:37.343Z"
   },
   {
    "duration": 5070,
    "start_time": "2024-09-25T07:07:32.817Z"
   },
   {
    "duration": 3218,
    "start_time": "2024-09-25T07:07:37.890Z"
   },
   {
    "duration": 31,
    "start_time": "2024-09-25T07:07:41.110Z"
   },
   {
    "duration": 4,
    "start_time": "2024-09-25T07:07:41.143Z"
   },
   {
    "duration": 43,
    "start_time": "2024-09-25T07:07:41.148Z"
   },
   {
    "duration": 207,
    "start_time": "2024-09-25T07:07:41.192Z"
   },
   {
    "duration": 182,
    "start_time": "2024-09-25T07:07:41.401Z"
   },
   {
    "duration": 514,
    "start_time": "2024-09-25T07:07:41.584Z"
   },
   {
    "duration": 185,
    "start_time": "2024-09-25T07:07:42.100Z"
   },
   {
    "duration": 4,
    "start_time": "2024-09-25T07:07:42.288Z"
   },
   {
    "duration": 38,
    "start_time": "2024-09-25T07:07:42.293Z"
   },
   {
    "duration": 6,
    "start_time": "2024-09-25T07:07:42.333Z"
   },
   {
    "duration": 51,
    "start_time": "2024-09-25T07:07:42.341Z"
   },
   {
    "duration": 5,
    "start_time": "2024-09-25T07:07:42.394Z"
   },
   {
    "duration": 40,
    "start_time": "2024-09-25T07:07:42.403Z"
   },
   {
    "duration": 3,
    "start_time": "2024-09-25T07:07:43.540Z"
   },
   {
    "duration": 163,
    "start_time": "2024-09-25T07:07:43.854Z"
   },
   {
    "duration": 262,
    "start_time": "2024-09-25T07:07:46.894Z"
   },
   {
    "duration": 10,
    "start_time": "2024-09-25T07:08:18.743Z"
   },
   {
    "duration": 766,
    "start_time": "2024-09-25T07:08:21.643Z"
   },
   {
    "duration": 5095,
    "start_time": "2024-09-25T07:09:21.757Z"
   },
   {
    "duration": 3288,
    "start_time": "2024-09-25T07:09:26.854Z"
   },
   {
    "duration": 30,
    "start_time": "2024-09-25T07:09:30.144Z"
   },
   {
    "duration": 4,
    "start_time": "2024-09-25T07:09:30.177Z"
   },
   {
    "duration": 68,
    "start_time": "2024-09-25T07:09:30.183Z"
   },
   {
    "duration": 206,
    "start_time": "2024-09-25T07:09:30.253Z"
   },
   {
    "duration": 190,
    "start_time": "2024-09-25T07:09:30.461Z"
   },
   {
    "duration": 500,
    "start_time": "2024-09-25T07:09:30.653Z"
   },
   {
    "duration": 176,
    "start_time": "2024-09-25T07:09:31.155Z"
   },
   {
    "duration": 5,
    "start_time": "2024-09-25T07:09:31.334Z"
   },
   {
    "duration": 17,
    "start_time": "2024-09-25T07:09:31.340Z"
   },
   {
    "duration": 7,
    "start_time": "2024-09-25T07:09:31.358Z"
   },
   {
    "duration": 46,
    "start_time": "2024-09-25T07:09:31.366Z"
   },
   {
    "duration": 5,
    "start_time": "2024-09-25T07:09:31.413Z"
   },
   {
    "duration": 80,
    "start_time": "2024-09-25T07:09:31.419Z"
   },
   {
    "duration": 40,
    "start_time": "2024-09-25T07:09:31.500Z"
   },
   {
    "duration": 153,
    "start_time": "2024-09-25T07:09:31.542Z"
   },
   {
    "duration": 9,
    "start_time": "2024-09-25T07:09:31.697Z"
   },
   {
    "duration": 761,
    "start_time": "2024-09-25T07:09:31.707Z"
   },
   {
    "duration": 17,
    "start_time": "2024-09-25T07:09:32.469Z"
   },
   {
    "duration": 13,
    "start_time": "2024-09-25T07:09:32.488Z"
   },
   {
    "duration": 164,
    "start_time": "2024-09-25T07:09:32.503Z"
   },
   {
    "duration": 272,
    "start_time": "2024-09-25T07:09:32.668Z"
   },
   {
    "duration": 0,
    "start_time": "2024-09-25T07:09:32.942Z"
   },
   {
    "duration": 0,
    "start_time": "2024-09-25T07:09:32.953Z"
   },
   {
    "duration": 0,
    "start_time": "2024-09-25T07:09:32.954Z"
   },
   {
    "duration": 0,
    "start_time": "2024-09-25T07:09:32.956Z"
   },
   {
    "duration": 0,
    "start_time": "2024-09-25T07:09:32.957Z"
   },
   {
    "duration": 0,
    "start_time": "2024-09-25T07:09:32.959Z"
   },
   {
    "duration": 0,
    "start_time": "2024-09-25T07:09:32.960Z"
   },
   {
    "duration": 0,
    "start_time": "2024-09-25T07:09:32.962Z"
   },
   {
    "duration": 17,
    "start_time": "2024-09-25T07:11:08.844Z"
   },
   {
    "duration": 13,
    "start_time": "2024-09-25T07:11:09.768Z"
   },
   {
    "duration": 44,
    "start_time": "2024-09-25T07:11:10.158Z"
   },
   {
    "duration": 152030,
    "start_time": "2024-09-25T07:11:10.955Z"
   },
   {
    "duration": 444,
    "start_time": "2024-09-25T07:13:46.893Z"
   },
   {
    "duration": 67,
    "start_time": "2024-09-25T07:13:53.735Z"
   },
   {
    "duration": 338,
    "start_time": "2024-09-25T07:13:59.470Z"
   },
   {
    "duration": 591,
    "start_time": "2024-09-25T07:13:59.918Z"
   },
   {
    "duration": 5,
    "start_time": "2024-09-25T07:14:00.756Z"
   },
   {
    "duration": 3,
    "start_time": "2024-09-25T07:14:00.921Z"
   },
   {
    "duration": 1310153,
    "start_time": "2024-09-25T07:14:01.133Z"
   },
   {
    "duration": 0,
    "start_time": "2024-09-25T07:35:51.288Z"
   },
   {
    "duration": 5032,
    "start_time": "2024-09-25T07:36:37.110Z"
   },
   {
    "duration": 3345,
    "start_time": "2024-09-25T07:36:42.145Z"
   },
   {
    "duration": 31,
    "start_time": "2024-09-25T07:36:45.491Z"
   },
   {
    "duration": 4,
    "start_time": "2024-09-25T07:36:45.524Z"
   },
   {
    "duration": 46,
    "start_time": "2024-09-25T07:36:45.529Z"
   },
   {
    "duration": 197,
    "start_time": "2024-09-25T07:36:45.577Z"
   },
   {
    "duration": 187,
    "start_time": "2024-09-25T07:36:45.775Z"
   },
   {
    "duration": 517,
    "start_time": "2024-09-25T07:36:45.964Z"
   },
   {
    "duration": 193,
    "start_time": "2024-09-25T07:36:46.483Z"
   },
   {
    "duration": 6,
    "start_time": "2024-09-25T07:36:46.680Z"
   },
   {
    "duration": 6,
    "start_time": "2024-09-25T07:36:46.688Z"
   },
   {
    "duration": 7,
    "start_time": "2024-09-25T07:36:46.695Z"
   },
   {
    "duration": 54,
    "start_time": "2024-09-25T07:36:46.703Z"
   },
   {
    "duration": 4,
    "start_time": "2024-09-25T07:36:46.759Z"
   },
   {
    "duration": 33,
    "start_time": "2024-09-25T07:36:46.765Z"
   },
   {
    "duration": 3,
    "start_time": "2024-09-25T07:36:46.800Z"
   },
   {
    "duration": 175,
    "start_time": "2024-09-25T07:36:46.804Z"
   },
   {
    "duration": 11,
    "start_time": "2024-09-25T07:36:46.981Z"
   },
   {
    "duration": 29,
    "start_time": "2024-09-25T07:36:46.994Z"
   },
   {
    "duration": 0,
    "start_time": "2024-09-25T07:36:47.025Z"
   },
   {
    "duration": 0,
    "start_time": "2024-09-25T07:36:47.026Z"
   },
   {
    "duration": 0,
    "start_time": "2024-09-25T07:36:47.027Z"
   },
   {
    "duration": 0,
    "start_time": "2024-09-25T07:36:47.028Z"
   },
   {
    "duration": 0,
    "start_time": "2024-09-25T07:36:47.029Z"
   },
   {
    "duration": 0,
    "start_time": "2024-09-25T07:36:47.030Z"
   },
   {
    "duration": 0,
    "start_time": "2024-09-25T07:36:47.032Z"
   },
   {
    "duration": 1,
    "start_time": "2024-09-25T07:36:47.032Z"
   },
   {
    "duration": 0,
    "start_time": "2024-09-25T07:36:47.034Z"
   },
   {
    "duration": 0,
    "start_time": "2024-09-25T07:36:47.035Z"
   },
   {
    "duration": 0,
    "start_time": "2024-09-25T07:36:47.036Z"
   },
   {
    "duration": 0,
    "start_time": "2024-09-25T07:36:47.037Z"
   },
   {
    "duration": 0,
    "start_time": "2024-09-25T07:36:47.038Z"
   },
   {
    "duration": 4,
    "start_time": "2024-09-25T07:36:53.849Z"
   },
   {
    "duration": 280,
    "start_time": "2024-09-25T07:36:56.414Z"
   },
   {
    "duration": 30,
    "start_time": "2024-09-25T07:37:08.832Z"
   },
   {
    "duration": 15,
    "start_time": "2024-09-25T07:37:47.292Z"
   },
   {
    "duration": 969,
    "start_time": "2024-09-25T07:37:52.411Z"
   },
   {
    "duration": 21,
    "start_time": "2024-09-25T07:38:43.384Z"
   },
   {
    "duration": 1305,
    "start_time": "2024-09-25T07:38:44.190Z"
   },
   {
    "duration": 4933,
    "start_time": "2024-09-25T07:39:20.230Z"
   },
   {
    "duration": 3273,
    "start_time": "2024-09-25T07:39:25.166Z"
   },
   {
    "duration": 31,
    "start_time": "2024-09-25T07:39:28.441Z"
   },
   {
    "duration": 5,
    "start_time": "2024-09-25T07:39:28.474Z"
   },
   {
    "duration": 50,
    "start_time": "2024-09-25T07:39:28.481Z"
   },
   {
    "duration": 212,
    "start_time": "2024-09-25T07:39:28.533Z"
   },
   {
    "duration": 208,
    "start_time": "2024-09-25T07:39:28.752Z"
   },
   {
    "duration": 518,
    "start_time": "2024-09-25T07:39:28.963Z"
   },
   {
    "duration": 186,
    "start_time": "2024-09-25T07:39:29.483Z"
   },
   {
    "duration": 5,
    "start_time": "2024-09-25T07:39:29.671Z"
   },
   {
    "duration": 6,
    "start_time": "2024-09-25T07:39:29.678Z"
   },
   {
    "duration": 22,
    "start_time": "2024-09-25T07:39:29.685Z"
   },
   {
    "duration": 47,
    "start_time": "2024-09-25T07:39:29.709Z"
   },
   {
    "duration": 5,
    "start_time": "2024-09-25T07:39:29.758Z"
   },
   {
    "duration": 30,
    "start_time": "2024-09-25T07:39:29.764Z"
   },
   {
    "duration": 2,
    "start_time": "2024-09-25T07:39:29.796Z"
   },
   {
    "duration": 190,
    "start_time": "2024-09-25T07:39:29.800Z"
   },
   {
    "duration": 10,
    "start_time": "2024-09-25T07:39:29.992Z"
   },
   {
    "duration": 48,
    "start_time": "2024-09-25T07:39:30.004Z"
   },
   {
    "duration": 1325,
    "start_time": "2024-09-25T07:39:30.054Z"
   },
   {
    "duration": 17,
    "start_time": "2024-09-25T07:39:31.381Z"
   },
   {
    "duration": 10,
    "start_time": "2024-09-25T07:39:31.400Z"
   },
   {
    "duration": 196,
    "start_time": "2024-09-25T07:39:31.412Z"
   },
   {
    "duration": 270,
    "start_time": "2024-09-25T07:39:31.609Z"
   },
   {
    "duration": 0,
    "start_time": "2024-09-25T07:39:31.881Z"
   },
   {
    "duration": 0,
    "start_time": "2024-09-25T07:39:31.883Z"
   },
   {
    "duration": 0,
    "start_time": "2024-09-25T07:39:31.884Z"
   },
   {
    "duration": 0,
    "start_time": "2024-09-25T07:39:31.884Z"
   },
   {
    "duration": 0,
    "start_time": "2024-09-25T07:39:31.886Z"
   },
   {
    "duration": 0,
    "start_time": "2024-09-25T07:39:31.887Z"
   },
   {
    "duration": 0,
    "start_time": "2024-09-25T07:39:31.887Z"
   },
   {
    "duration": 0,
    "start_time": "2024-09-25T07:39:31.888Z"
   },
   {
    "duration": 4956,
    "start_time": "2024-09-25T07:40:44.462Z"
   },
   {
    "duration": 3306,
    "start_time": "2024-09-25T07:40:49.421Z"
   },
   {
    "duration": 31,
    "start_time": "2024-09-25T07:40:52.728Z"
   },
   {
    "duration": 3,
    "start_time": "2024-09-25T07:40:52.761Z"
   },
   {
    "duration": 56,
    "start_time": "2024-09-25T07:40:52.766Z"
   },
   {
    "duration": 207,
    "start_time": "2024-09-25T07:40:52.823Z"
   },
   {
    "duration": 195,
    "start_time": "2024-09-25T07:40:53.032Z"
   },
   {
    "duration": 519,
    "start_time": "2024-09-25T07:40:53.228Z"
   },
   {
    "duration": 190,
    "start_time": "2024-09-25T07:40:53.748Z"
   },
   {
    "duration": 5,
    "start_time": "2024-09-25T07:40:53.940Z"
   },
   {
    "duration": 10,
    "start_time": "2024-09-25T07:40:53.946Z"
   },
   {
    "duration": 23,
    "start_time": "2024-09-25T07:40:53.959Z"
   },
   {
    "duration": 63,
    "start_time": "2024-09-25T07:40:53.984Z"
   },
   {
    "duration": 5,
    "start_time": "2024-09-25T07:40:54.049Z"
   },
   {
    "duration": 63,
    "start_time": "2024-09-25T07:40:54.056Z"
   },
   {
    "duration": 3,
    "start_time": "2024-09-25T07:40:54.120Z"
   },
   {
    "duration": 216,
    "start_time": "2024-09-25T07:40:54.125Z"
   },
   {
    "duration": 15,
    "start_time": "2024-09-25T07:40:54.343Z"
   },
   {
    "duration": 74,
    "start_time": "2024-09-25T07:40:54.360Z"
   },
   {
    "duration": 1324,
    "start_time": "2024-09-25T07:40:54.435Z"
   },
   {
    "duration": 281,
    "start_time": "2024-09-25T07:40:55.761Z"
   },
   {
    "duration": 0,
    "start_time": "2024-09-25T07:40:56.044Z"
   },
   {
    "duration": 0,
    "start_time": "2024-09-25T07:40:56.045Z"
   },
   {
    "duration": 0,
    "start_time": "2024-09-25T07:40:56.047Z"
   },
   {
    "duration": 0,
    "start_time": "2024-09-25T07:40:56.053Z"
   },
   {
    "duration": 0,
    "start_time": "2024-09-25T07:40:56.054Z"
   },
   {
    "duration": 0,
    "start_time": "2024-09-25T07:40:56.055Z"
   },
   {
    "duration": 0,
    "start_time": "2024-09-25T07:40:56.056Z"
   },
   {
    "duration": 0,
    "start_time": "2024-09-25T07:40:56.057Z"
   },
   {
    "duration": 0,
    "start_time": "2024-09-25T07:40:56.058Z"
   },
   {
    "duration": 0,
    "start_time": "2024-09-25T07:40:56.059Z"
   },
   {
    "duration": 0,
    "start_time": "2024-09-25T07:40:56.061Z"
   },
   {
    "duration": 6502,
    "start_time": "2024-09-25T07:42:28.894Z"
   },
   {
    "duration": 3351,
    "start_time": "2024-09-25T07:42:35.398Z"
   },
   {
    "duration": 31,
    "start_time": "2024-09-25T07:42:38.751Z"
   },
   {
    "duration": 4,
    "start_time": "2024-09-25T07:42:38.784Z"
   },
   {
    "duration": 42,
    "start_time": "2024-09-25T07:42:38.790Z"
   },
   {
    "duration": 204,
    "start_time": "2024-09-25T07:42:38.833Z"
   },
   {
    "duration": 190,
    "start_time": "2024-09-25T07:42:39.039Z"
   },
   {
    "duration": 524,
    "start_time": "2024-09-25T07:42:39.230Z"
   },
   {
    "duration": 187,
    "start_time": "2024-09-25T07:42:39.756Z"
   },
   {
    "duration": 9,
    "start_time": "2024-09-25T07:42:39.945Z"
   },
   {
    "duration": 6,
    "start_time": "2024-09-25T07:42:39.955Z"
   },
   {
    "duration": 21,
    "start_time": "2024-09-25T07:42:39.962Z"
   },
   {
    "duration": 42,
    "start_time": "2024-09-25T07:42:39.985Z"
   },
   {
    "duration": 4,
    "start_time": "2024-09-25T07:42:40.029Z"
   },
   {
    "duration": 36,
    "start_time": "2024-09-25T07:42:40.034Z"
   },
   {
    "duration": 4,
    "start_time": "2024-09-25T07:42:40.071Z"
   },
   {
    "duration": 192,
    "start_time": "2024-09-25T07:42:40.076Z"
   },
   {
    "duration": 11,
    "start_time": "2024-09-25T07:42:40.270Z"
   },
   {
    "duration": 19,
    "start_time": "2024-09-25T07:42:40.283Z"
   },
   {
    "duration": 1284,
    "start_time": "2024-09-25T07:42:40.303Z"
   },
   {
    "duration": 260,
    "start_time": "2024-09-25T07:42:41.589Z"
   },
   {
    "duration": 0,
    "start_time": "2024-09-25T07:42:41.852Z"
   },
   {
    "duration": 0,
    "start_time": "2024-09-25T07:42:41.854Z"
   },
   {
    "duration": 0,
    "start_time": "2024-09-25T07:42:41.855Z"
   },
   {
    "duration": 0,
    "start_time": "2024-09-25T07:42:41.856Z"
   },
   {
    "duration": 1,
    "start_time": "2024-09-25T07:42:41.857Z"
   },
   {
    "duration": 0,
    "start_time": "2024-09-25T07:42:41.859Z"
   },
   {
    "duration": 0,
    "start_time": "2024-09-25T07:42:41.861Z"
   },
   {
    "duration": 0,
    "start_time": "2024-09-25T07:42:41.862Z"
   },
   {
    "duration": 0,
    "start_time": "2024-09-25T07:42:41.863Z"
   },
   {
    "duration": 0,
    "start_time": "2024-09-25T07:42:41.864Z"
   },
   {
    "duration": 0,
    "start_time": "2024-09-25T07:42:41.866Z"
   },
   {
    "duration": 21,
    "start_time": "2024-09-25T07:46:33.348Z"
   },
   {
    "duration": 12,
    "start_time": "2024-09-25T07:46:42.182Z"
   },
   {
    "duration": 160,
    "start_time": "2024-09-25T07:46:42.801Z"
   },
   {
    "duration": 4999,
    "start_time": "2024-09-25T07:46:51.670Z"
   },
   {
    "duration": 3344,
    "start_time": "2024-09-25T07:46:56.671Z"
   },
   {
    "duration": 32,
    "start_time": "2024-09-25T07:47:00.016Z"
   },
   {
    "duration": 11,
    "start_time": "2024-09-25T07:47:00.051Z"
   },
   {
    "duration": 101,
    "start_time": "2024-09-25T07:47:00.064Z"
   },
   {
    "duration": 207,
    "start_time": "2024-09-25T07:47:00.167Z"
   },
   {
    "duration": 187,
    "start_time": "2024-09-25T07:47:00.376Z"
   },
   {
    "duration": 491,
    "start_time": "2024-09-25T07:47:00.565Z"
   },
   {
    "duration": 181,
    "start_time": "2024-09-25T07:47:01.057Z"
   },
   {
    "duration": 4,
    "start_time": "2024-09-25T07:47:01.241Z"
   },
   {
    "duration": 5,
    "start_time": "2024-09-25T07:47:01.253Z"
   },
   {
    "duration": 39,
    "start_time": "2024-09-25T07:47:01.259Z"
   },
   {
    "duration": 49,
    "start_time": "2024-09-25T07:47:01.299Z"
   },
   {
    "duration": 4,
    "start_time": "2024-09-25T07:47:01.350Z"
   },
   {
    "duration": 41,
    "start_time": "2024-09-25T07:47:01.355Z"
   },
   {
    "duration": 3,
    "start_time": "2024-09-25T07:47:01.397Z"
   },
   {
    "duration": 160,
    "start_time": "2024-09-25T07:47:01.402Z"
   },
   {
    "duration": 9,
    "start_time": "2024-09-25T07:47:01.563Z"
   },
   {
    "duration": 118,
    "start_time": "2024-09-25T07:47:01.573Z"
   },
   {
    "duration": 1316,
    "start_time": "2024-09-25T07:47:01.692Z"
   },
   {
    "duration": 18,
    "start_time": "2024-09-25T07:47:03.010Z"
   },
   {
    "duration": 21,
    "start_time": "2024-09-25T07:47:03.030Z"
   },
   {
    "duration": 210,
    "start_time": "2024-09-25T07:47:03.053Z"
   },
   {
    "duration": 151631,
    "start_time": "2024-09-25T07:47:03.264Z"
   },
   {
    "duration": 449,
    "start_time": "2024-09-25T07:49:34.896Z"
   },
   {
    "duration": 68,
    "start_time": "2024-09-25T07:49:35.346Z"
   },
   {
    "duration": 377,
    "start_time": "2024-09-25T07:49:35.415Z"
   },
   {
    "duration": 630,
    "start_time": "2024-09-25T07:49:35.796Z"
   },
   {
    "duration": 7,
    "start_time": "2024-09-25T07:49:36.428Z"
   },
   {
    "duration": 61,
    "start_time": "2024-09-25T07:49:36.437Z"
   },
   {
    "duration": 224932,
    "start_time": "2024-09-25T07:49:36.501Z"
   },
   {
    "duration": 0,
    "start_time": "2024-09-25T07:53:21.435Z"
   },
   {
    "duration": 3,
    "start_time": "2024-09-25T07:53:22.646Z"
   },
   {
    "duration": 148474,
    "start_time": "2024-09-25T07:53:22.940Z"
   },
   {
    "duration": 0,
    "start_time": "2024-09-25T07:55:51.416Z"
   },
   {
    "duration": 2,
    "start_time": "2024-09-25T07:55:59.118Z"
   },
   {
    "duration": 7877,
    "start_time": "2024-09-25T07:55:59.424Z"
   },
   {
    "duration": 5589,
    "start_time": "2024-09-25T07:56:09.409Z"
   },
   {
    "duration": 0,
    "start_time": "2024-09-25T07:56:15.001Z"
   },
   {
    "duration": 2,
    "start_time": "2024-09-25T07:56:16.381Z"
   },
   {
    "duration": 44727,
    "start_time": "2024-09-25T07:56:16.649Z"
   },
   {
    "duration": 0,
    "start_time": "2024-09-25T07:57:01.378Z"
   },
   {
    "duration": 3,
    "start_time": "2024-09-25T07:57:05.851Z"
   },
   {
    "duration": 24793,
    "start_time": "2024-09-25T07:57:06.193Z"
   },
   {
    "duration": 4904,
    "start_time": "2024-09-25T07:57:51.604Z"
   },
   {
    "duration": 3370,
    "start_time": "2024-09-25T07:57:56.510Z"
   },
   {
    "duration": 30,
    "start_time": "2024-09-25T07:57:59.882Z"
   },
   {
    "duration": 5,
    "start_time": "2024-09-25T07:57:59.914Z"
   },
   {
    "duration": 45,
    "start_time": "2024-09-25T07:57:59.921Z"
   },
   {
    "duration": 217,
    "start_time": "2024-09-25T07:57:59.968Z"
   },
   {
    "duration": 221,
    "start_time": "2024-09-25T07:58:00.187Z"
   },
   {
    "duration": 521,
    "start_time": "2024-09-25T07:58:00.411Z"
   },
   {
    "duration": 199,
    "start_time": "2024-09-25T07:58:00.934Z"
   },
   {
    "duration": 5,
    "start_time": "2024-09-25T07:58:01.136Z"
   },
   {
    "duration": 10,
    "start_time": "2024-09-25T07:58:01.154Z"
   },
   {
    "duration": 15,
    "start_time": "2024-09-25T07:58:01.166Z"
   },
   {
    "duration": 65,
    "start_time": "2024-09-25T07:58:01.182Z"
   },
   {
    "duration": 4,
    "start_time": "2024-09-25T07:58:01.250Z"
   },
   {
    "duration": 36,
    "start_time": "2024-09-25T07:58:01.255Z"
   },
   {
    "duration": 8,
    "start_time": "2024-09-25T07:58:01.292Z"
   },
   {
    "duration": 190,
    "start_time": "2024-09-25T07:58:01.302Z"
   },
   {
    "duration": 9,
    "start_time": "2024-09-25T07:58:01.494Z"
   },
   {
    "duration": 311,
    "start_time": "2024-09-25T07:58:01.504Z"
   },
   {
    "duration": 0,
    "start_time": "2024-09-25T07:58:01.817Z"
   },
   {
    "duration": 0,
    "start_time": "2024-09-25T07:58:01.818Z"
   },
   {
    "duration": 0,
    "start_time": "2024-09-25T07:58:01.819Z"
   },
   {
    "duration": 0,
    "start_time": "2024-09-25T07:58:01.820Z"
   },
   {
    "duration": 0,
    "start_time": "2024-09-25T07:58:01.821Z"
   },
   {
    "duration": 0,
    "start_time": "2024-09-25T07:58:01.823Z"
   },
   {
    "duration": 0,
    "start_time": "2024-09-25T07:58:01.824Z"
   },
   {
    "duration": 0,
    "start_time": "2024-09-25T07:58:01.825Z"
   },
   {
    "duration": 0,
    "start_time": "2024-09-25T07:58:01.826Z"
   },
   {
    "duration": 0,
    "start_time": "2024-09-25T07:58:01.827Z"
   },
   {
    "duration": 0,
    "start_time": "2024-09-25T07:58:01.828Z"
   },
   {
    "duration": 0,
    "start_time": "2024-09-25T07:58:01.852Z"
   },
   {
    "duration": 0,
    "start_time": "2024-09-25T07:58:01.854Z"
   },
   {
    "duration": 4914,
    "start_time": "2024-09-25T07:58:41.288Z"
   },
   {
    "duration": 3226,
    "start_time": "2024-09-25T07:58:46.204Z"
   },
   {
    "duration": 31,
    "start_time": "2024-09-25T07:58:49.433Z"
   },
   {
    "duration": 5,
    "start_time": "2024-09-25T07:58:49.466Z"
   },
   {
    "duration": 44,
    "start_time": "2024-09-25T07:58:49.472Z"
   },
   {
    "duration": 222,
    "start_time": "2024-09-25T07:58:49.518Z"
   },
   {
    "duration": 180,
    "start_time": "2024-09-25T07:58:49.741Z"
   },
   {
    "duration": 505,
    "start_time": "2024-09-25T07:58:49.923Z"
   },
   {
    "duration": 178,
    "start_time": "2024-09-25T07:58:50.429Z"
   },
   {
    "duration": 5,
    "start_time": "2024-09-25T07:58:50.609Z"
   },
   {
    "duration": 13,
    "start_time": "2024-09-25T07:58:50.615Z"
   },
   {
    "duration": 7,
    "start_time": "2024-09-25T07:58:50.630Z"
   },
   {
    "duration": 49,
    "start_time": "2024-09-25T07:58:50.638Z"
   },
   {
    "duration": 5,
    "start_time": "2024-09-25T07:58:50.688Z"
   },
   {
    "duration": 33,
    "start_time": "2024-09-25T07:58:50.694Z"
   },
   {
    "duration": 3,
    "start_time": "2024-09-25T07:58:50.728Z"
   },
   {
    "duration": 173,
    "start_time": "2024-09-25T07:58:50.732Z"
   },
   {
    "duration": 10,
    "start_time": "2024-09-25T07:58:50.906Z"
   },
   {
    "duration": 294,
    "start_time": "2024-09-25T07:58:50.917Z"
   },
   {
    "duration": 0,
    "start_time": "2024-09-25T07:58:51.213Z"
   },
   {
    "duration": 0,
    "start_time": "2024-09-25T07:58:51.215Z"
   },
   {
    "duration": 0,
    "start_time": "2024-09-25T07:58:51.216Z"
   },
   {
    "duration": 0,
    "start_time": "2024-09-25T07:58:51.217Z"
   },
   {
    "duration": 0,
    "start_time": "2024-09-25T07:58:51.218Z"
   },
   {
    "duration": 0,
    "start_time": "2024-09-25T07:58:51.219Z"
   },
   {
    "duration": 0,
    "start_time": "2024-09-25T07:58:51.220Z"
   },
   {
    "duration": 0,
    "start_time": "2024-09-25T07:58:51.221Z"
   },
   {
    "duration": 0,
    "start_time": "2024-09-25T07:58:51.223Z"
   },
   {
    "duration": 1,
    "start_time": "2024-09-25T07:58:51.223Z"
   },
   {
    "duration": 0,
    "start_time": "2024-09-25T07:58:51.225Z"
   },
   {
    "duration": 0,
    "start_time": "2024-09-25T07:58:51.226Z"
   },
   {
    "duration": 0,
    "start_time": "2024-09-25T07:58:51.253Z"
   },
   {
    "duration": 4886,
    "start_time": "2024-09-25T07:59:18.398Z"
   },
   {
    "duration": 3279,
    "start_time": "2024-09-25T07:59:23.286Z"
   },
   {
    "duration": 32,
    "start_time": "2024-09-25T07:59:26.567Z"
   },
   {
    "duration": 5,
    "start_time": "2024-09-25T07:59:26.602Z"
   },
   {
    "duration": 47,
    "start_time": "2024-09-25T07:59:26.608Z"
   },
   {
    "duration": 198,
    "start_time": "2024-09-25T07:59:26.657Z"
   },
   {
    "duration": 183,
    "start_time": "2024-09-25T07:59:26.857Z"
   },
   {
    "duration": 526,
    "start_time": "2024-09-25T07:59:27.042Z"
   },
   {
    "duration": 200,
    "start_time": "2024-09-25T07:59:27.569Z"
   },
   {
    "duration": 5,
    "start_time": "2024-09-25T07:59:27.773Z"
   },
   {
    "duration": 5,
    "start_time": "2024-09-25T07:59:27.780Z"
   },
   {
    "duration": 6,
    "start_time": "2024-09-25T07:59:27.786Z"
   },
   {
    "duration": 65,
    "start_time": "2024-09-25T07:59:27.793Z"
   },
   {
    "duration": 5,
    "start_time": "2024-09-25T07:59:27.859Z"
   },
   {
    "duration": 30,
    "start_time": "2024-09-25T07:59:27.865Z"
   },
   {
    "duration": 3,
    "start_time": "2024-09-25T07:59:27.896Z"
   },
   {
    "duration": 183,
    "start_time": "2024-09-25T07:59:27.900Z"
   },
   {
    "duration": 10,
    "start_time": "2024-09-25T07:59:28.084Z"
   },
   {
    "duration": 22,
    "start_time": "2024-09-25T07:59:28.095Z"
   },
   {
    "duration": 1309,
    "start_time": "2024-09-25T07:59:28.118Z"
   },
   {
    "duration": 18,
    "start_time": "2024-09-25T07:59:29.429Z"
   },
   {
    "duration": 11,
    "start_time": "2024-09-25T07:59:29.448Z"
   },
   {
    "duration": 155,
    "start_time": "2024-09-25T07:59:29.460Z"
   },
   {
    "duration": 111382,
    "start_time": "2024-09-25T07:59:29.617Z"
   },
   {
    "duration": 0,
    "start_time": "2024-09-25T08:01:21.002Z"
   },
   {
    "duration": 0,
    "start_time": "2024-09-25T08:01:21.003Z"
   },
   {
    "duration": 0,
    "start_time": "2024-09-25T08:01:21.004Z"
   },
   {
    "duration": 0,
    "start_time": "2024-09-25T08:01:21.006Z"
   },
   {
    "duration": 0,
    "start_time": "2024-09-25T08:01:21.007Z"
   },
   {
    "duration": 0,
    "start_time": "2024-09-25T08:01:21.008Z"
   },
   {
    "duration": 0,
    "start_time": "2024-09-25T08:01:21.010Z"
   },
   {
    "duration": 0,
    "start_time": "2024-09-25T08:01:21.011Z"
   },
   {
    "duration": 5066,
    "start_time": "2024-09-25T08:03:01.375Z"
   },
   {
    "duration": 3218,
    "start_time": "2024-09-25T08:03:06.444Z"
   },
   {
    "duration": 30,
    "start_time": "2024-09-25T08:03:09.664Z"
   },
   {
    "duration": 35,
    "start_time": "2024-09-25T08:03:09.696Z"
   },
   {
    "duration": 45,
    "start_time": "2024-09-25T08:03:09.732Z"
   },
   {
    "duration": 208,
    "start_time": "2024-09-25T08:03:09.778Z"
   },
   {
    "duration": 202,
    "start_time": "2024-09-25T08:03:09.988Z"
   },
   {
    "duration": 509,
    "start_time": "2024-09-25T08:03:10.192Z"
   },
   {
    "duration": 183,
    "start_time": "2024-09-25T08:03:10.703Z"
   },
   {
    "duration": 4,
    "start_time": "2024-09-25T08:03:10.889Z"
   },
   {
    "duration": 17,
    "start_time": "2024-09-25T08:03:10.894Z"
   },
   {
    "duration": 5,
    "start_time": "2024-09-25T08:03:10.912Z"
   },
   {
    "duration": 50,
    "start_time": "2024-09-25T08:03:10.919Z"
   },
   {
    "duration": 4,
    "start_time": "2024-09-25T08:03:10.971Z"
   },
   {
    "duration": 27,
    "start_time": "2024-09-25T08:03:10.977Z"
   },
   {
    "duration": 3,
    "start_time": "2024-09-25T08:03:11.006Z"
   },
   {
    "duration": 177,
    "start_time": "2024-09-25T08:03:11.011Z"
   },
   {
    "duration": 10,
    "start_time": "2024-09-25T08:03:11.190Z"
   },
   {
    "duration": 27,
    "start_time": "2024-09-25T08:03:11.202Z"
   },
   {
    "duration": 1986,
    "start_time": "2024-09-25T08:03:11.230Z"
   },
   {
    "duration": 19,
    "start_time": "2024-09-25T08:03:13.218Z"
   },
   {
    "duration": 13,
    "start_time": "2024-09-25T08:03:13.239Z"
   },
   {
    "duration": 160,
    "start_time": "2024-09-25T08:03:13.254Z"
   },
   {
    "duration": 151499,
    "start_time": "2024-09-25T08:03:13.415Z"
   },
   {
    "duration": 469,
    "start_time": "2024-09-25T08:05:44.916Z"
   },
   {
    "duration": 76,
    "start_time": "2024-09-25T08:05:45.387Z"
   },
   {
    "duration": 324,
    "start_time": "2024-09-25T08:05:45.464Z"
   },
   {
    "duration": 592,
    "start_time": "2024-09-25T08:05:45.791Z"
   },
   {
    "duration": 7,
    "start_time": "2024-09-25T08:05:46.385Z"
   },
   {
    "duration": 5,
    "start_time": "2024-09-25T08:05:46.394Z"
   },
   {
    "duration": 4959,
    "start_time": "2024-09-25T08:05:58.901Z"
   },
   {
    "duration": 3363,
    "start_time": "2024-09-25T08:06:03.862Z"
   },
   {
    "duration": 32,
    "start_time": "2024-09-25T08:06:07.227Z"
   },
   {
    "duration": 5,
    "start_time": "2024-09-25T08:06:07.261Z"
   },
   {
    "duration": 58,
    "start_time": "2024-09-25T08:06:07.267Z"
   },
   {
    "duration": 202,
    "start_time": "2024-09-25T08:06:07.327Z"
   },
   {
    "duration": 195,
    "start_time": "2024-09-25T08:06:07.531Z"
   },
   {
    "duration": 539,
    "start_time": "2024-09-25T08:06:07.727Z"
   },
   {
    "duration": 197,
    "start_time": "2024-09-25T08:06:08.268Z"
   },
   {
    "duration": 4,
    "start_time": "2024-09-25T08:06:08.468Z"
   },
   {
    "duration": 30,
    "start_time": "2024-09-25T08:06:08.474Z"
   },
   {
    "duration": 8,
    "start_time": "2024-09-25T08:06:08.505Z"
   },
   {
    "duration": 42,
    "start_time": "2024-09-25T08:06:08.514Z"
   },
   {
    "duration": 4,
    "start_time": "2024-09-25T08:06:08.558Z"
   },
   {
    "duration": 38,
    "start_time": "2024-09-25T08:06:08.563Z"
   },
   {
    "duration": 2,
    "start_time": "2024-09-25T08:06:08.603Z"
   },
   {
    "duration": 198,
    "start_time": "2024-09-25T08:06:08.607Z"
   },
   {
    "duration": 10,
    "start_time": "2024-09-25T08:06:08.806Z"
   },
   {
    "duration": 38,
    "start_time": "2024-09-25T08:06:08.818Z"
   },
   {
    "duration": 1357,
    "start_time": "2024-09-25T08:06:08.858Z"
   },
   {
    "duration": 264,
    "start_time": "2024-09-25T08:06:10.217Z"
   },
   {
    "duration": 0,
    "start_time": "2024-09-25T08:06:10.483Z"
   },
   {
    "duration": 0,
    "start_time": "2024-09-25T08:06:10.484Z"
   },
   {
    "duration": 0,
    "start_time": "2024-09-25T08:06:10.485Z"
   },
   {
    "duration": 0,
    "start_time": "2024-09-25T08:06:10.486Z"
   },
   {
    "duration": 0,
    "start_time": "2024-09-25T08:06:10.487Z"
   },
   {
    "duration": 0,
    "start_time": "2024-09-25T08:06:10.489Z"
   },
   {
    "duration": 0,
    "start_time": "2024-09-25T08:06:10.490Z"
   },
   {
    "duration": 0,
    "start_time": "2024-09-25T08:06:10.491Z"
   },
   {
    "duration": 0,
    "start_time": "2024-09-25T08:06:10.492Z"
   },
   {
    "duration": 0,
    "start_time": "2024-09-25T08:06:10.494Z"
   },
   {
    "duration": 0,
    "start_time": "2024-09-25T08:06:10.495Z"
   },
   {
    "duration": 18,
    "start_time": "2024-09-25T08:06:23.511Z"
   },
   {
    "duration": 18,
    "start_time": "2024-09-25T08:07:49.573Z"
   },
   {
    "duration": 13,
    "start_time": "2024-09-25T08:07:51.051Z"
   },
   {
    "duration": 166,
    "start_time": "2024-09-25T08:07:52.251Z"
   },
   {
    "duration": 5070,
    "start_time": "2024-09-25T08:08:08.461Z"
   },
   {
    "duration": 3255,
    "start_time": "2024-09-25T08:08:13.533Z"
   },
   {
    "duration": 31,
    "start_time": "2024-09-25T08:08:16.790Z"
   },
   {
    "duration": 4,
    "start_time": "2024-09-25T08:08:16.823Z"
   },
   {
    "duration": 49,
    "start_time": "2024-09-25T08:08:16.828Z"
   },
   {
    "duration": 195,
    "start_time": "2024-09-25T08:08:16.878Z"
   },
   {
    "duration": 211,
    "start_time": "2024-09-25T08:08:17.075Z"
   },
   {
    "duration": 510,
    "start_time": "2024-09-25T08:08:17.288Z"
   },
   {
    "duration": 181,
    "start_time": "2024-09-25T08:08:17.800Z"
   },
   {
    "duration": 4,
    "start_time": "2024-09-25T08:08:17.984Z"
   },
   {
    "duration": 5,
    "start_time": "2024-09-25T08:08:17.989Z"
   },
   {
    "duration": 5,
    "start_time": "2024-09-25T08:08:17.995Z"
   },
   {
    "duration": 61,
    "start_time": "2024-09-25T08:08:18.001Z"
   },
   {
    "duration": 4,
    "start_time": "2024-09-25T08:08:18.064Z"
   },
   {
    "duration": 29,
    "start_time": "2024-09-25T08:08:18.070Z"
   },
   {
    "duration": 4,
    "start_time": "2024-09-25T08:08:18.100Z"
   },
   {
    "duration": 185,
    "start_time": "2024-09-25T08:08:18.105Z"
   },
   {
    "duration": 14,
    "start_time": "2024-09-25T08:08:18.292Z"
   },
   {
    "duration": 25,
    "start_time": "2024-09-25T08:08:18.308Z"
   },
   {
    "duration": 1349,
    "start_time": "2024-09-25T08:08:18.334Z"
   },
   {
    "duration": 18,
    "start_time": "2024-09-25T08:08:19.685Z"
   },
   {
    "duration": 91,
    "start_time": "2024-09-25T08:08:19.704Z"
   },
   {
    "duration": 184,
    "start_time": "2024-09-25T08:08:19.797Z"
   },
   {
    "duration": 151990,
    "start_time": "2024-09-25T08:08:19.983Z"
   },
   {
    "duration": 468,
    "start_time": "2024-09-25T08:10:51.975Z"
   },
   {
    "duration": 76,
    "start_time": "2024-09-25T08:10:52.444Z"
   },
   {
    "duration": 364,
    "start_time": "2024-09-25T08:10:52.521Z"
   },
   {
    "duration": 613,
    "start_time": "2024-09-25T08:10:52.890Z"
   },
   {
    "duration": 6,
    "start_time": "2024-09-25T08:10:53.505Z"
   },
   {
    "duration": 5,
    "start_time": "2024-09-25T08:10:53.512Z"
   },
   {
    "duration": 125508,
    "start_time": "2024-09-25T08:10:53.519Z"
   },
   {
    "duration": 0,
    "start_time": "2024-09-25T08:12:59.029Z"
   },
   {
    "duration": 3,
    "start_time": "2024-09-25T08:13:06.321Z"
   },
   {
    "duration": 166408,
    "start_time": "2024-09-25T08:13:06.666Z"
   },
   {
    "duration": 0,
    "start_time": "2024-09-25T08:15:53.076Z"
   },
   {
    "duration": 5154,
    "start_time": "2024-09-25T08:15:59.509Z"
   },
   {
    "duration": 3372,
    "start_time": "2024-09-25T08:16:04.666Z"
   },
   {
    "duration": 31,
    "start_time": "2024-09-25T08:16:08.040Z"
   },
   {
    "duration": 4,
    "start_time": "2024-09-25T08:16:08.073Z"
   },
   {
    "duration": 42,
    "start_time": "2024-09-25T08:16:08.079Z"
   },
   {
    "duration": 216,
    "start_time": "2024-09-25T08:16:08.123Z"
   },
   {
    "duration": 192,
    "start_time": "2024-09-25T08:16:08.341Z"
   },
   {
    "duration": 508,
    "start_time": "2024-09-25T08:16:08.536Z"
   },
   {
    "duration": 193,
    "start_time": "2024-09-25T08:16:09.046Z"
   },
   {
    "duration": 12,
    "start_time": "2024-09-25T08:16:09.242Z"
   },
   {
    "duration": 21,
    "start_time": "2024-09-25T08:16:09.255Z"
   },
   {
    "duration": 7,
    "start_time": "2024-09-25T08:16:09.278Z"
   },
   {
    "duration": 39,
    "start_time": "2024-09-25T08:16:09.286Z"
   },
   {
    "duration": 4,
    "start_time": "2024-09-25T08:16:09.327Z"
   },
   {
    "duration": 34,
    "start_time": "2024-09-25T08:16:09.333Z"
   },
   {
    "duration": 3,
    "start_time": "2024-09-25T08:16:09.368Z"
   },
   {
    "duration": 162,
    "start_time": "2024-09-25T08:16:09.372Z"
   },
   {
    "duration": 9,
    "start_time": "2024-09-25T08:16:09.536Z"
   },
   {
    "duration": 31,
    "start_time": "2024-09-25T08:16:09.553Z"
   },
   {
    "duration": 1309,
    "start_time": "2024-09-25T08:16:09.586Z"
   },
   {
    "duration": 18,
    "start_time": "2024-09-25T08:16:10.897Z"
   },
   {
    "duration": 17,
    "start_time": "2024-09-25T08:16:10.917Z"
   },
   {
    "duration": 152,
    "start_time": "2024-09-25T08:16:10.936Z"
   },
   {
    "duration": 152384,
    "start_time": "2024-09-25T08:16:11.089Z"
   },
   {
    "duration": 442,
    "start_time": "2024-09-25T08:18:43.475Z"
   },
   {
    "duration": 84,
    "start_time": "2024-09-25T08:18:43.919Z"
   },
   {
    "duration": 335,
    "start_time": "2024-09-25T08:18:44.004Z"
   },
   {
    "duration": 555,
    "start_time": "2024-09-25T08:18:44.353Z"
   },
   {
    "duration": 5,
    "start_time": "2024-09-25T08:18:44.910Z"
   },
   {
    "duration": 4,
    "start_time": "2024-09-25T08:18:44.916Z"
   },
   {
    "duration": 4919,
    "start_time": "2024-09-25T08:24:12.999Z"
   },
   {
    "duration": 3364,
    "start_time": "2024-09-25T08:24:17.920Z"
   },
   {
    "duration": 31,
    "start_time": "2024-09-25T08:24:21.285Z"
   },
   {
    "duration": 4,
    "start_time": "2024-09-25T08:24:21.318Z"
   },
   {
    "duration": 39,
    "start_time": "2024-09-25T08:24:21.323Z"
   },
   {
    "duration": 199,
    "start_time": "2024-09-25T08:24:21.363Z"
   },
   {
    "duration": 179,
    "start_time": "2024-09-25T08:24:21.564Z"
   },
   {
    "duration": 522,
    "start_time": "2024-09-25T08:24:21.745Z"
   },
   {
    "duration": 185,
    "start_time": "2024-09-25T08:24:22.269Z"
   },
   {
    "duration": 5,
    "start_time": "2024-09-25T08:24:22.456Z"
   },
   {
    "duration": 6,
    "start_time": "2024-09-25T08:24:22.462Z"
   },
   {
    "duration": 11,
    "start_time": "2024-09-25T08:24:22.469Z"
   },
   {
    "duration": 67,
    "start_time": "2024-09-25T08:24:22.481Z"
   },
   {
    "duration": 4,
    "start_time": "2024-09-25T08:24:22.550Z"
   },
   {
    "duration": 35,
    "start_time": "2024-09-25T08:24:22.555Z"
   },
   {
    "duration": 3,
    "start_time": "2024-09-25T08:24:22.591Z"
   },
   {
    "duration": 166,
    "start_time": "2024-09-25T08:24:22.596Z"
   },
   {
    "duration": 11,
    "start_time": "2024-09-25T08:24:22.764Z"
   },
   {
    "duration": 22,
    "start_time": "2024-09-25T08:24:22.777Z"
   },
   {
    "duration": 1330,
    "start_time": "2024-09-25T08:24:22.801Z"
   },
   {
    "duration": 18,
    "start_time": "2024-09-25T08:24:24.134Z"
   },
   {
    "duration": 11,
    "start_time": "2024-09-25T08:24:24.154Z"
   },
   {
    "duration": 180,
    "start_time": "2024-09-25T08:24:24.166Z"
   },
   {
    "duration": 38334,
    "start_time": "2024-09-25T08:24:24.347Z"
   },
   {
    "duration": 433,
    "start_time": "2024-09-25T08:25:02.683Z"
   },
   {
    "duration": 75,
    "start_time": "2024-09-25T08:25:03.118Z"
   },
   {
    "duration": 330,
    "start_time": "2024-09-25T08:25:03.195Z"
   },
   {
    "duration": 590,
    "start_time": "2024-09-25T08:25:03.529Z"
   },
   {
    "duration": 6,
    "start_time": "2024-09-25T08:25:04.120Z"
   },
   {
    "duration": 13,
    "start_time": "2024-09-25T08:25:04.127Z"
   },
   {
    "duration": 10382,
    "start_time": "2024-09-25T08:25:04.142Z"
   },
   {
    "duration": 0,
    "start_time": "2024-09-25T08:25:14.526Z"
   },
   {
    "duration": 4973,
    "start_time": "2024-09-25T08:26:28.674Z"
   },
   {
    "duration": 3303,
    "start_time": "2024-09-25T08:26:33.650Z"
   },
   {
    "duration": 31,
    "start_time": "2024-09-25T08:26:36.955Z"
   },
   {
    "duration": 4,
    "start_time": "2024-09-25T08:26:36.988Z"
   },
   {
    "duration": 66,
    "start_time": "2024-09-25T08:26:36.993Z"
   },
   {
    "duration": 209,
    "start_time": "2024-09-25T08:26:37.060Z"
   },
   {
    "duration": 191,
    "start_time": "2024-09-25T08:26:37.270Z"
   },
   {
    "duration": 518,
    "start_time": "2024-09-25T08:26:37.463Z"
   },
   {
    "duration": 183,
    "start_time": "2024-09-25T08:26:37.984Z"
   },
   {
    "duration": 5,
    "start_time": "2024-09-25T08:26:38.171Z"
   },
   {
    "duration": 19,
    "start_time": "2024-09-25T08:26:38.177Z"
   },
   {
    "duration": 6,
    "start_time": "2024-09-25T08:26:38.198Z"
   },
   {
    "duration": 53,
    "start_time": "2024-09-25T08:26:38.205Z"
   },
   {
    "duration": 5,
    "start_time": "2024-09-25T08:26:38.260Z"
   },
   {
    "duration": 43,
    "start_time": "2024-09-25T08:26:38.266Z"
   },
   {
    "duration": 3,
    "start_time": "2024-09-25T08:26:38.310Z"
   },
   {
    "duration": 169,
    "start_time": "2024-09-25T08:26:38.315Z"
   },
   {
    "duration": 10,
    "start_time": "2024-09-25T08:26:38.485Z"
   },
   {
    "duration": 59,
    "start_time": "2024-09-25T08:26:38.497Z"
   },
   {
    "duration": 1310,
    "start_time": "2024-09-25T08:26:38.557Z"
   },
   {
    "duration": 17,
    "start_time": "2024-09-25T08:26:39.869Z"
   },
   {
    "duration": 11,
    "start_time": "2024-09-25T08:26:39.888Z"
   },
   {
    "duration": 163,
    "start_time": "2024-09-25T08:26:39.900Z"
   },
   {
    "duration": 37854,
    "start_time": "2024-09-25T08:26:40.064Z"
   },
   {
    "duration": 435,
    "start_time": "2024-09-25T08:27:17.920Z"
   },
   {
    "duration": 63,
    "start_time": "2024-09-25T08:27:18.357Z"
   },
   {
    "duration": 340,
    "start_time": "2024-09-25T08:27:18.422Z"
   },
   {
    "duration": 264,
    "start_time": "2024-09-25T08:27:18.765Z"
   },
   {
    "duration": 0,
    "start_time": "2024-09-25T08:27:19.031Z"
   },
   {
    "duration": 0,
    "start_time": "2024-09-25T08:27:19.032Z"
   },
   {
    "duration": 0,
    "start_time": "2024-09-25T08:27:19.033Z"
   },
   {
    "duration": 0,
    "start_time": "2024-09-25T08:27:19.034Z"
   },
   {
    "duration": 4923,
    "start_time": "2024-09-25T08:31:13.356Z"
   },
   {
    "duration": 3250,
    "start_time": "2024-09-25T08:31:18.281Z"
   },
   {
    "duration": 31,
    "start_time": "2024-09-25T08:31:21.533Z"
   },
   {
    "duration": 5,
    "start_time": "2024-09-25T08:31:21.565Z"
   },
   {
    "duration": 43,
    "start_time": "2024-09-25T08:31:21.571Z"
   },
   {
    "duration": 232,
    "start_time": "2024-09-25T08:31:21.615Z"
   },
   {
    "duration": 186,
    "start_time": "2024-09-25T08:31:21.849Z"
   },
   {
    "duration": 564,
    "start_time": "2024-09-25T08:31:22.037Z"
   },
   {
    "duration": 198,
    "start_time": "2024-09-25T08:31:22.603Z"
   },
   {
    "duration": 5,
    "start_time": "2024-09-25T08:31:22.804Z"
   },
   {
    "duration": 5,
    "start_time": "2024-09-25T08:31:22.810Z"
   },
   {
    "duration": 6,
    "start_time": "2024-09-25T08:31:22.817Z"
   },
   {
    "duration": 65,
    "start_time": "2024-09-25T08:31:22.824Z"
   },
   {
    "duration": 5,
    "start_time": "2024-09-25T08:31:22.891Z"
   },
   {
    "duration": 32,
    "start_time": "2024-09-25T08:31:22.898Z"
   },
   {
    "duration": 4,
    "start_time": "2024-09-25T08:31:22.931Z"
   },
   {
    "duration": 173,
    "start_time": "2024-09-25T08:31:22.953Z"
   },
   {
    "duration": 10,
    "start_time": "2024-09-25T08:31:23.128Z"
   },
   {
    "duration": 25,
    "start_time": "2024-09-25T08:31:23.154Z"
   },
   {
    "duration": 1363,
    "start_time": "2024-09-25T08:31:23.181Z"
   },
   {
    "duration": 7,
    "start_time": "2024-09-25T08:31:24.545Z"
   },
   {
    "duration": 0,
    "start_time": "2024-09-25T08:31:24.554Z"
   },
   {
    "duration": 0,
    "start_time": "2024-09-25T08:31:24.555Z"
   },
   {
    "duration": 0,
    "start_time": "2024-09-25T08:31:24.556Z"
   },
   {
    "duration": 0,
    "start_time": "2024-09-25T08:31:24.557Z"
   },
   {
    "duration": 0,
    "start_time": "2024-09-25T08:31:24.558Z"
   },
   {
    "duration": 0,
    "start_time": "2024-09-25T08:31:24.559Z"
   },
   {
    "duration": 0,
    "start_time": "2024-09-25T08:31:24.560Z"
   },
   {
    "duration": 0,
    "start_time": "2024-09-25T08:31:24.561Z"
   },
   {
    "duration": 0,
    "start_time": "2024-09-25T08:31:24.562Z"
   },
   {
    "duration": 0,
    "start_time": "2024-09-25T08:31:24.563Z"
   },
   {
    "duration": 0,
    "start_time": "2024-09-25T08:31:24.564Z"
   },
   {
    "duration": 262,
    "start_time": "2024-09-25T08:31:35.756Z"
   },
   {
    "duration": 20,
    "start_time": "2024-09-25T08:32:12.606Z"
   },
   {
    "duration": 17,
    "start_time": "2024-09-25T08:32:41.380Z"
   },
   {
    "duration": 4984,
    "start_time": "2024-09-25T08:32:53.037Z"
   },
   {
    "duration": 3263,
    "start_time": "2024-09-25T08:32:58.023Z"
   },
   {
    "duration": 30,
    "start_time": "2024-09-25T08:33:01.288Z"
   },
   {
    "duration": 5,
    "start_time": "2024-09-25T08:33:01.320Z"
   },
   {
    "duration": 56,
    "start_time": "2024-09-25T08:33:01.327Z"
   },
   {
    "duration": 207,
    "start_time": "2024-09-25T08:33:01.385Z"
   },
   {
    "duration": 188,
    "start_time": "2024-09-25T08:33:01.594Z"
   },
   {
    "duration": 535,
    "start_time": "2024-09-25T08:33:01.783Z"
   },
   {
    "duration": 213,
    "start_time": "2024-09-25T08:33:02.320Z"
   },
   {
    "duration": 5,
    "start_time": "2024-09-25T08:33:02.534Z"
   },
   {
    "duration": 57,
    "start_time": "2024-09-25T08:33:02.541Z"
   },
   {
    "duration": 12,
    "start_time": "2024-09-25T08:33:02.600Z"
   },
   {
    "duration": 43,
    "start_time": "2024-09-25T08:33:02.614Z"
   },
   {
    "duration": 4,
    "start_time": "2024-09-25T08:33:02.660Z"
   },
   {
    "duration": 50,
    "start_time": "2024-09-25T08:33:02.666Z"
   },
   {
    "duration": 19,
    "start_time": "2024-09-25T08:33:02.718Z"
   },
   {
    "duration": 157,
    "start_time": "2024-09-25T08:33:02.739Z"
   },
   {
    "duration": 10,
    "start_time": "2024-09-25T08:33:02.897Z"
   },
   {
    "duration": 35,
    "start_time": "2024-09-25T08:33:02.908Z"
   },
   {
    "duration": 1332,
    "start_time": "2024-09-25T08:33:02.944Z"
   },
   {
    "duration": 29,
    "start_time": "2024-09-25T08:33:04.278Z"
   },
   {
    "duration": 27,
    "start_time": "2024-09-25T08:33:04.309Z"
   },
   {
    "duration": 161,
    "start_time": "2024-09-25T08:33:04.337Z"
   },
   {
    "duration": 37967,
    "start_time": "2024-09-25T08:33:04.500Z"
   },
   {
    "duration": 423,
    "start_time": "2024-09-25T08:33:42.469Z"
   },
   {
    "duration": 76,
    "start_time": "2024-09-25T08:33:42.894Z"
   },
   {
    "duration": 324,
    "start_time": "2024-09-25T08:33:42.972Z"
   },
   {
    "duration": 294,
    "start_time": "2024-09-25T08:33:43.298Z"
   },
   {
    "duration": 0,
    "start_time": "2024-09-25T08:33:43.594Z"
   },
   {
    "duration": 0,
    "start_time": "2024-09-25T08:33:43.595Z"
   },
   {
    "duration": 0,
    "start_time": "2024-09-25T08:33:43.596Z"
   },
   {
    "duration": 0,
    "start_time": "2024-09-25T08:33:43.597Z"
   },
   {
    "duration": 75,
    "start_time": "2024-09-25T08:34:37.740Z"
   },
   {
    "duration": 5026,
    "start_time": "2024-09-25T08:36:43.820Z"
   },
   {
    "duration": 3186,
    "start_time": "2024-09-25T08:36:48.849Z"
   },
   {
    "duration": 30,
    "start_time": "2024-09-25T08:36:52.037Z"
   },
   {
    "duration": 4,
    "start_time": "2024-09-25T08:36:52.069Z"
   },
   {
    "duration": 53,
    "start_time": "2024-09-25T08:36:52.074Z"
   },
   {
    "duration": 193,
    "start_time": "2024-09-25T08:36:52.128Z"
   },
   {
    "duration": 192,
    "start_time": "2024-09-25T08:36:52.323Z"
   },
   {
    "duration": 518,
    "start_time": "2024-09-25T08:36:52.517Z"
   },
   {
    "duration": 186,
    "start_time": "2024-09-25T08:36:53.037Z"
   },
   {
    "duration": 4,
    "start_time": "2024-09-25T08:36:53.226Z"
   },
   {
    "duration": 21,
    "start_time": "2024-09-25T08:36:53.232Z"
   },
   {
    "duration": 5,
    "start_time": "2024-09-25T08:36:53.254Z"
   },
   {
    "duration": 45,
    "start_time": "2024-09-25T08:36:53.261Z"
   },
   {
    "duration": 4,
    "start_time": "2024-09-25T08:36:53.307Z"
   },
   {
    "duration": 41,
    "start_time": "2024-09-25T08:36:53.312Z"
   },
   {
    "duration": 3,
    "start_time": "2024-09-25T08:36:53.355Z"
   },
   {
    "duration": 174,
    "start_time": "2024-09-25T08:36:53.359Z"
   },
   {
    "duration": 10,
    "start_time": "2024-09-25T08:36:53.534Z"
   },
   {
    "duration": 21,
    "start_time": "2024-09-25T08:36:53.553Z"
   },
   {
    "duration": 1293,
    "start_time": "2024-09-25T08:36:53.576Z"
   },
   {
    "duration": 19,
    "start_time": "2024-09-25T08:36:54.871Z"
   },
   {
    "duration": 18,
    "start_time": "2024-09-25T08:36:54.891Z"
   },
   {
    "duration": 177,
    "start_time": "2024-09-25T08:36:54.911Z"
   },
   {
    "duration": 38032,
    "start_time": "2024-09-25T08:36:55.090Z"
   },
   {
    "duration": 440,
    "start_time": "2024-09-25T08:37:33.124Z"
   },
   {
    "duration": 65,
    "start_time": "2024-09-25T08:37:33.565Z"
   },
   {
    "duration": 345,
    "start_time": "2024-09-25T08:37:33.632Z"
   },
   {
    "duration": 266,
    "start_time": "2024-09-25T08:37:33.980Z"
   },
   {
    "duration": 0,
    "start_time": "2024-09-25T08:37:34.247Z"
   },
   {
    "duration": 0,
    "start_time": "2024-09-25T08:37:34.248Z"
   },
   {
    "duration": 0,
    "start_time": "2024-09-25T08:37:34.254Z"
   },
   {
    "duration": 0,
    "start_time": "2024-09-25T08:37:34.255Z"
   },
   {
    "duration": 6,
    "start_time": "2024-09-25T08:37:38.957Z"
   },
   {
    "duration": 4,
    "start_time": "2024-09-25T08:37:39.272Z"
   },
   {
    "duration": 5037,
    "start_time": "2024-09-25T08:46:04.586Z"
   },
   {
    "duration": 3402,
    "start_time": "2024-09-25T08:46:09.625Z"
   },
   {
    "duration": 30,
    "start_time": "2024-09-25T08:46:13.029Z"
   },
   {
    "duration": 4,
    "start_time": "2024-09-25T08:46:13.061Z"
   },
   {
    "duration": 49,
    "start_time": "2024-09-25T08:46:13.066Z"
   },
   {
    "duration": 203,
    "start_time": "2024-09-25T08:46:13.117Z"
   },
   {
    "duration": 183,
    "start_time": "2024-09-25T08:46:13.322Z"
   },
   {
    "duration": 529,
    "start_time": "2024-09-25T08:46:13.506Z"
   },
   {
    "duration": 189,
    "start_time": "2024-09-25T08:46:14.036Z"
   },
   {
    "duration": 4,
    "start_time": "2024-09-25T08:46:14.228Z"
   },
   {
    "duration": 23,
    "start_time": "2024-09-25T08:46:14.234Z"
   },
   {
    "duration": 6,
    "start_time": "2024-09-25T08:46:14.259Z"
   },
   {
    "duration": 49,
    "start_time": "2024-09-25T08:46:14.267Z"
   },
   {
    "duration": 5,
    "start_time": "2024-09-25T08:46:14.317Z"
   },
   {
    "duration": 49,
    "start_time": "2024-09-25T08:46:14.323Z"
   },
   {
    "duration": 2,
    "start_time": "2024-09-25T08:46:14.374Z"
   },
   {
    "duration": 163,
    "start_time": "2024-09-25T08:46:14.378Z"
   },
   {
    "duration": 16,
    "start_time": "2024-09-25T08:46:14.543Z"
   },
   {
    "duration": 68,
    "start_time": "2024-09-25T08:46:14.560Z"
   },
   {
    "duration": 1249,
    "start_time": "2024-09-25T08:46:14.630Z"
   },
   {
    "duration": 20,
    "start_time": "2024-09-25T08:46:15.881Z"
   },
   {
    "duration": 11,
    "start_time": "2024-09-25T08:46:15.903Z"
   },
   {
    "duration": 340,
    "start_time": "2024-09-25T08:46:15.916Z"
   },
   {
    "duration": 75060,
    "start_time": "2024-09-25T08:46:16.258Z"
   },
   {
    "duration": 435,
    "start_time": "2024-09-25T08:47:31.320Z"
   },
   {
    "duration": 63,
    "start_time": "2024-09-25T08:47:31.756Z"
   },
   {
    "duration": 342,
    "start_time": "2024-09-25T08:47:31.821Z"
   },
   {
    "duration": 624,
    "start_time": "2024-09-25T08:47:32.167Z"
   },
   {
    "duration": 6,
    "start_time": "2024-09-25T08:47:32.792Z"
   },
   {
    "duration": 5,
    "start_time": "2024-09-25T08:47:32.799Z"
   },
   {
    "duration": 14154,
    "start_time": "2024-09-25T08:47:32.806Z"
   },
   {
    "duration": 0,
    "start_time": "2024-09-25T08:47:46.963Z"
   },
   {
    "duration": 4993,
    "start_time": "2024-09-25T08:48:14.047Z"
   },
   {
    "duration": 3281,
    "start_time": "2024-09-25T08:48:19.043Z"
   },
   {
    "duration": 33,
    "start_time": "2024-09-25T08:48:22.326Z"
   },
   {
    "duration": 4,
    "start_time": "2024-09-25T08:48:22.361Z"
   },
   {
    "duration": 44,
    "start_time": "2024-09-25T08:48:22.367Z"
   },
   {
    "duration": 227,
    "start_time": "2024-09-25T08:48:22.413Z"
   },
   {
    "duration": 202,
    "start_time": "2024-09-25T08:48:22.641Z"
   },
   {
    "duration": 524,
    "start_time": "2024-09-25T08:48:22.845Z"
   },
   {
    "duration": 177,
    "start_time": "2024-09-25T08:48:23.371Z"
   },
   {
    "duration": 4,
    "start_time": "2024-09-25T08:48:23.550Z"
   },
   {
    "duration": 8,
    "start_time": "2024-09-25T08:48:23.556Z"
   },
   {
    "duration": 9,
    "start_time": "2024-09-25T08:48:23.565Z"
   },
   {
    "duration": 38,
    "start_time": "2024-09-25T08:48:23.575Z"
   },
   {
    "duration": 4,
    "start_time": "2024-09-25T08:48:23.615Z"
   },
   {
    "duration": 50,
    "start_time": "2024-09-25T08:48:23.620Z"
   },
   {
    "duration": 2,
    "start_time": "2024-09-25T08:48:23.672Z"
   },
   {
    "duration": 159,
    "start_time": "2024-09-25T08:48:23.675Z"
   },
   {
    "duration": 10,
    "start_time": "2024-09-25T08:48:23.836Z"
   },
   {
    "duration": 47,
    "start_time": "2024-09-25T08:48:23.852Z"
   },
   {
    "duration": 1287,
    "start_time": "2024-09-25T08:48:23.900Z"
   },
   {
    "duration": 18,
    "start_time": "2024-09-25T08:48:25.189Z"
   },
   {
    "duration": 10,
    "start_time": "2024-09-25T08:48:25.208Z"
   },
   {
    "duration": 187,
    "start_time": "2024-09-25T08:48:25.220Z"
   },
   {
    "duration": 414794,
    "start_time": "2024-09-25T08:48:25.408Z"
   },
   {
    "duration": 0,
    "start_time": "2024-09-25T08:55:20.204Z"
   },
   {
    "duration": 0,
    "start_time": "2024-09-25T08:55:20.206Z"
   },
   {
    "duration": 0,
    "start_time": "2024-09-25T08:55:20.207Z"
   },
   {
    "duration": 0,
    "start_time": "2024-09-25T08:55:20.209Z"
   },
   {
    "duration": 0,
    "start_time": "2024-09-25T08:55:20.210Z"
   },
   {
    "duration": 0,
    "start_time": "2024-09-25T08:55:20.211Z"
   },
   {
    "duration": 0,
    "start_time": "2024-09-25T08:55:20.212Z"
   },
   {
    "duration": 0,
    "start_time": "2024-09-25T08:55:20.213Z"
   },
   {
    "duration": 5088,
    "start_time": "2024-09-25T08:55:55.052Z"
   },
   {
    "duration": 3427,
    "start_time": "2024-09-25T08:56:00.143Z"
   },
   {
    "duration": 31,
    "start_time": "2024-09-25T08:56:03.574Z"
   },
   {
    "duration": 4,
    "start_time": "2024-09-25T08:56:03.607Z"
   },
   {
    "duration": 65,
    "start_time": "2024-09-25T08:56:03.612Z"
   },
   {
    "duration": 203,
    "start_time": "2024-09-25T08:56:03.678Z"
   },
   {
    "duration": 196,
    "start_time": "2024-09-25T08:56:03.883Z"
   },
   {
    "duration": 527,
    "start_time": "2024-09-25T08:56:04.081Z"
   },
   {
    "duration": 201,
    "start_time": "2024-09-25T08:56:04.611Z"
   },
   {
    "duration": 5,
    "start_time": "2024-09-25T08:56:04.813Z"
   },
   {
    "duration": 10,
    "start_time": "2024-09-25T08:56:04.819Z"
   },
   {
    "duration": 10,
    "start_time": "2024-09-25T08:56:04.831Z"
   },
   {
    "duration": 49,
    "start_time": "2024-09-25T08:56:04.842Z"
   },
   {
    "duration": 5,
    "start_time": "2024-09-25T08:56:04.892Z"
   },
   {
    "duration": 35,
    "start_time": "2024-09-25T08:56:04.898Z"
   },
   {
    "duration": 2,
    "start_time": "2024-09-25T08:56:04.935Z"
   },
   {
    "duration": 179,
    "start_time": "2024-09-25T08:56:04.939Z"
   },
   {
    "duration": 10,
    "start_time": "2024-09-25T08:56:05.119Z"
   },
   {
    "duration": 37,
    "start_time": "2024-09-25T08:56:05.131Z"
   },
   {
    "duration": 1386,
    "start_time": "2024-09-25T08:56:05.170Z"
   },
   {
    "duration": 279,
    "start_time": "2024-09-25T08:56:06.557Z"
   },
   {
    "duration": 0,
    "start_time": "2024-09-25T08:56:06.838Z"
   },
   {
    "duration": 0,
    "start_time": "2024-09-25T08:56:06.839Z"
   },
   {
    "duration": 0,
    "start_time": "2024-09-25T08:56:06.840Z"
   },
   {
    "duration": 0,
    "start_time": "2024-09-25T08:56:06.842Z"
   },
   {
    "duration": 0,
    "start_time": "2024-09-25T08:56:06.843Z"
   },
   {
    "duration": 0,
    "start_time": "2024-09-25T08:56:06.852Z"
   },
   {
    "duration": 0,
    "start_time": "2024-09-25T08:56:06.854Z"
   },
   {
    "duration": 0,
    "start_time": "2024-09-25T08:56:06.855Z"
   },
   {
    "duration": 0,
    "start_time": "2024-09-25T08:56:06.857Z"
   },
   {
    "duration": 0,
    "start_time": "2024-09-25T08:56:06.858Z"
   },
   {
    "duration": 1,
    "start_time": "2024-09-25T08:56:06.859Z"
   },
   {
    "duration": 27,
    "start_time": "2024-09-25T08:57:15.962Z"
   },
   {
    "duration": 18,
    "start_time": "2024-09-25T08:57:22.557Z"
   },
   {
    "duration": 20,
    "start_time": "2024-09-25T08:57:31.340Z"
   },
   {
    "duration": 17,
    "start_time": "2024-09-25T08:57:38.449Z"
   },
   {
    "duration": 29,
    "start_time": "2024-09-25T08:57:44.013Z"
   },
   {
    "duration": 30,
    "start_time": "2024-09-25T08:57:50.303Z"
   },
   {
    "duration": 18,
    "start_time": "2024-09-25T08:58:12.189Z"
   },
   {
    "duration": 4944,
    "start_time": "2024-09-25T08:58:19.378Z"
   },
   {
    "duration": 3337,
    "start_time": "2024-09-25T08:58:24.325Z"
   },
   {
    "duration": 31,
    "start_time": "2024-09-25T08:58:27.664Z"
   },
   {
    "duration": 4,
    "start_time": "2024-09-25T08:58:27.697Z"
   },
   {
    "duration": 42,
    "start_time": "2024-09-25T08:58:27.703Z"
   },
   {
    "duration": 206,
    "start_time": "2024-09-25T08:58:27.747Z"
   },
   {
    "duration": 208,
    "start_time": "2024-09-25T08:58:27.955Z"
   },
   {
    "duration": 523,
    "start_time": "2024-09-25T08:58:28.165Z"
   },
   {
    "duration": 191,
    "start_time": "2024-09-25T08:58:28.690Z"
   },
   {
    "duration": 5,
    "start_time": "2024-09-25T08:58:28.884Z"
   },
   {
    "duration": 12,
    "start_time": "2024-09-25T08:58:28.890Z"
   },
   {
    "duration": 8,
    "start_time": "2024-09-25T08:58:28.904Z"
   },
   {
    "duration": 49,
    "start_time": "2024-09-25T08:58:28.914Z"
   },
   {
    "duration": 4,
    "start_time": "2024-09-25T08:58:28.965Z"
   },
   {
    "duration": 28,
    "start_time": "2024-09-25T08:58:28.971Z"
   },
   {
    "duration": 3,
    "start_time": "2024-09-25T08:58:29.001Z"
   },
   {
    "duration": 189,
    "start_time": "2024-09-25T08:58:29.005Z"
   },
   {
    "duration": 10,
    "start_time": "2024-09-25T08:58:29.196Z"
   },
   {
    "duration": 22,
    "start_time": "2024-09-25T08:58:29.207Z"
   },
   {
    "duration": 1301,
    "start_time": "2024-09-25T08:58:29.231Z"
   },
   {
    "duration": 20,
    "start_time": "2024-09-25T08:58:30.534Z"
   },
   {
    "duration": 35,
    "start_time": "2024-09-25T08:58:30.556Z"
   },
   {
    "duration": 182,
    "start_time": "2024-09-25T08:58:30.592Z"
   },
   {
    "duration": 72090,
    "start_time": "2024-09-25T08:58:30.775Z"
   },
   {
    "duration": 425,
    "start_time": "2024-09-25T08:59:42.867Z"
   },
   {
    "duration": 73,
    "start_time": "2024-09-25T08:59:43.293Z"
   },
   {
    "duration": 366,
    "start_time": "2024-09-25T08:59:43.367Z"
   },
   {
    "duration": 1735,
    "start_time": "2024-09-25T08:59:43.737Z"
   },
   {
    "duration": 6,
    "start_time": "2024-09-25T08:59:45.474Z"
   },
   {
    "duration": 28,
    "start_time": "2024-09-25T08:59:45.481Z"
   },
   {
    "duration": 40691,
    "start_time": "2024-09-25T08:59:45.511Z"
   },
   {
    "duration": 0,
    "start_time": "2024-09-25T09:00:26.204Z"
   },
   {
    "duration": 4909,
    "start_time": "2024-09-25T09:04:04.247Z"
   },
   {
    "duration": 3327,
    "start_time": "2024-09-25T09:04:09.158Z"
   },
   {
    "duration": 31,
    "start_time": "2024-09-25T09:04:12.487Z"
   },
   {
    "duration": 5,
    "start_time": "2024-09-25T09:04:12.520Z"
   },
   {
    "duration": 56,
    "start_time": "2024-09-25T09:04:12.527Z"
   },
   {
    "duration": 231,
    "start_time": "2024-09-25T09:04:12.585Z"
   },
   {
    "duration": 193,
    "start_time": "2024-09-25T09:04:12.818Z"
   },
   {
    "duration": 536,
    "start_time": "2024-09-25T09:04:13.012Z"
   },
   {
    "duration": 188,
    "start_time": "2024-09-25T09:04:13.549Z"
   },
   {
    "duration": 4,
    "start_time": "2024-09-25T09:04:13.740Z"
   },
   {
    "duration": 11,
    "start_time": "2024-09-25T09:04:13.745Z"
   },
   {
    "duration": 10,
    "start_time": "2024-09-25T09:04:13.758Z"
   },
   {
    "duration": 41,
    "start_time": "2024-09-25T09:04:13.770Z"
   },
   {
    "duration": 5,
    "start_time": "2024-09-25T09:04:13.812Z"
   },
   {
    "duration": 116,
    "start_time": "2024-09-25T09:04:13.818Z"
   },
   {
    "duration": 8,
    "start_time": "2024-09-25T09:04:13.935Z"
   },
   {
    "duration": 163,
    "start_time": "2024-09-25T09:04:13.945Z"
   },
   {
    "duration": 9,
    "start_time": "2024-09-25T09:04:14.110Z"
   },
   {
    "duration": 32,
    "start_time": "2024-09-25T09:04:14.121Z"
   },
   {
    "duration": 1337,
    "start_time": "2024-09-25T09:04:14.154Z"
   },
   {
    "duration": 261,
    "start_time": "2024-09-25T09:04:15.493Z"
   },
   {
    "duration": 0,
    "start_time": "2024-09-25T09:04:15.756Z"
   },
   {
    "duration": 0,
    "start_time": "2024-09-25T09:04:15.757Z"
   },
   {
    "duration": 0,
    "start_time": "2024-09-25T09:04:15.759Z"
   },
   {
    "duration": 0,
    "start_time": "2024-09-25T09:04:15.760Z"
   },
   {
    "duration": 0,
    "start_time": "2024-09-25T09:04:15.761Z"
   },
   {
    "duration": 0,
    "start_time": "2024-09-25T09:04:15.762Z"
   },
   {
    "duration": 0,
    "start_time": "2024-09-25T09:04:15.763Z"
   },
   {
    "duration": 0,
    "start_time": "2024-09-25T09:04:15.764Z"
   },
   {
    "duration": 0,
    "start_time": "2024-09-25T09:04:15.765Z"
   },
   {
    "duration": 0,
    "start_time": "2024-09-25T09:04:15.766Z"
   },
   {
    "duration": 0,
    "start_time": "2024-09-25T09:04:15.767Z"
   },
   {
    "duration": 0,
    "start_time": "2024-09-25T09:04:15.769Z"
   },
   {
    "duration": 0,
    "start_time": "2024-09-25T09:04:15.770Z"
   },
   {
    "duration": 4929,
    "start_time": "2024-09-25T09:06:36.643Z"
   },
   {
    "duration": 3258,
    "start_time": "2024-09-25T09:06:41.574Z"
   },
   {
    "duration": 31,
    "start_time": "2024-09-25T09:06:44.833Z"
   },
   {
    "duration": 5,
    "start_time": "2024-09-25T09:06:44.865Z"
   },
   {
    "duration": 48,
    "start_time": "2024-09-25T09:06:44.871Z"
   },
   {
    "duration": 194,
    "start_time": "2024-09-25T09:06:44.920Z"
   },
   {
    "duration": 193,
    "start_time": "2024-09-25T09:06:45.116Z"
   },
   {
    "duration": 518,
    "start_time": "2024-09-25T09:06:45.311Z"
   },
   {
    "duration": 199,
    "start_time": "2024-09-25T09:06:45.831Z"
   },
   {
    "duration": 5,
    "start_time": "2024-09-25T09:06:46.034Z"
   },
   {
    "duration": 15,
    "start_time": "2024-09-25T09:06:46.040Z"
   },
   {
    "duration": 5,
    "start_time": "2024-09-25T09:06:46.057Z"
   },
   {
    "duration": 40,
    "start_time": "2024-09-25T09:06:46.063Z"
   },
   {
    "duration": 5,
    "start_time": "2024-09-25T09:06:46.105Z"
   },
   {
    "duration": 50,
    "start_time": "2024-09-25T09:06:46.111Z"
   },
   {
    "duration": 4,
    "start_time": "2024-09-25T09:06:46.163Z"
   },
   {
    "duration": 185,
    "start_time": "2024-09-25T09:06:46.168Z"
   },
   {
    "duration": 10,
    "start_time": "2024-09-25T09:06:46.355Z"
   },
   {
    "duration": 30,
    "start_time": "2024-09-25T09:06:46.367Z"
   },
   {
    "duration": 1304,
    "start_time": "2024-09-25T09:06:46.399Z"
   },
   {
    "duration": 8,
    "start_time": "2024-09-25T09:06:47.705Z"
   },
   {
    "duration": 14,
    "start_time": "2024-09-25T09:06:47.714Z"
   },
   {
    "duration": 12,
    "start_time": "2024-09-25T09:06:47.730Z"
   },
   {
    "duration": 6,
    "start_time": "2024-09-25T09:06:47.743Z"
   },
   {
    "duration": 53,
    "start_time": "2024-09-25T09:06:47.750Z"
   },
   {
    "duration": 251,
    "start_time": "2024-09-25T09:06:47.805Z"
   },
   {
    "duration": 0,
    "start_time": "2024-09-25T09:06:48.059Z"
   },
   {
    "duration": 0,
    "start_time": "2024-09-25T09:06:48.060Z"
   },
   {
    "duration": 0,
    "start_time": "2024-09-25T09:06:48.062Z"
   },
   {
    "duration": 0,
    "start_time": "2024-09-25T09:06:48.063Z"
   },
   {
    "duration": 0,
    "start_time": "2024-09-25T09:06:48.064Z"
   },
   {
    "duration": 0,
    "start_time": "2024-09-25T09:06:48.066Z"
   },
   {
    "duration": 0,
    "start_time": "2024-09-25T09:06:48.067Z"
   },
   {
    "duration": 0,
    "start_time": "2024-09-25T09:06:48.069Z"
   },
   {
    "duration": 0,
    "start_time": "2024-09-25T09:06:48.070Z"
   },
   {
    "duration": 0,
    "start_time": "2024-09-25T09:06:48.072Z"
   },
   {
    "duration": 4973,
    "start_time": "2024-09-25T09:07:10.806Z"
   },
   {
    "duration": 3188,
    "start_time": "2024-09-25T09:07:15.781Z"
   },
   {
    "duration": 30,
    "start_time": "2024-09-25T09:07:18.970Z"
   },
   {
    "duration": 4,
    "start_time": "2024-09-25T09:07:19.002Z"
   },
   {
    "duration": 44,
    "start_time": "2024-09-25T09:07:19.008Z"
   },
   {
    "duration": 208,
    "start_time": "2024-09-25T09:07:19.054Z"
   },
   {
    "duration": 185,
    "start_time": "2024-09-25T09:07:19.264Z"
   },
   {
    "duration": 507,
    "start_time": "2024-09-25T09:07:19.452Z"
   },
   {
    "duration": 192,
    "start_time": "2024-09-25T09:07:19.961Z"
   },
   {
    "duration": 5,
    "start_time": "2024-09-25T09:07:20.156Z"
   },
   {
    "duration": 13,
    "start_time": "2024-09-25T09:07:20.163Z"
   },
   {
    "duration": 7,
    "start_time": "2024-09-25T09:07:20.178Z"
   },
   {
    "duration": 40,
    "start_time": "2024-09-25T09:07:20.187Z"
   },
   {
    "duration": 25,
    "start_time": "2024-09-25T09:07:20.229Z"
   },
   {
    "duration": 29,
    "start_time": "2024-09-25T09:07:20.256Z"
   },
   {
    "duration": 3,
    "start_time": "2024-09-25T09:07:20.287Z"
   },
   {
    "duration": 187,
    "start_time": "2024-09-25T09:07:20.292Z"
   },
   {
    "duration": 10,
    "start_time": "2024-09-25T09:07:20.481Z"
   },
   {
    "duration": 28,
    "start_time": "2024-09-25T09:07:20.492Z"
   },
   {
    "duration": 1274,
    "start_time": "2024-09-25T09:07:20.521Z"
   },
   {
    "duration": 6,
    "start_time": "2024-09-25T09:07:21.797Z"
   },
   {
    "duration": 30,
    "start_time": "2024-09-25T09:07:21.804Z"
   },
   {
    "duration": 30,
    "start_time": "2024-09-25T09:07:21.835Z"
   },
   {
    "duration": 76,
    "start_time": "2024-09-25T09:07:21.866Z"
   },
   {
    "duration": 38,
    "start_time": "2024-09-25T09:07:21.943Z"
   },
   {
    "duration": 271,
    "start_time": "2024-09-25T09:07:21.983Z"
   },
   {
    "duration": 0,
    "start_time": "2024-09-25T09:07:22.256Z"
   },
   {
    "duration": 0,
    "start_time": "2024-09-25T09:07:22.257Z"
   },
   {
    "duration": 0,
    "start_time": "2024-09-25T09:07:22.258Z"
   },
   {
    "duration": 0,
    "start_time": "2024-09-25T09:07:22.259Z"
   },
   {
    "duration": 0,
    "start_time": "2024-09-25T09:07:22.260Z"
   },
   {
    "duration": 0,
    "start_time": "2024-09-25T09:07:22.261Z"
   },
   {
    "duration": 0,
    "start_time": "2024-09-25T09:07:22.262Z"
   },
   {
    "duration": 0,
    "start_time": "2024-09-25T09:07:22.263Z"
   },
   {
    "duration": 0,
    "start_time": "2024-09-25T09:07:22.264Z"
   },
   {
    "duration": 0,
    "start_time": "2024-09-25T09:07:22.266Z"
   },
   {
    "duration": 5020,
    "start_time": "2024-09-25T09:08:08.835Z"
   },
   {
    "duration": 3316,
    "start_time": "2024-09-25T09:08:13.858Z"
   },
   {
    "duration": 33,
    "start_time": "2024-09-25T09:08:17.175Z"
   },
   {
    "duration": 18,
    "start_time": "2024-09-25T09:08:17.211Z"
   },
   {
    "duration": 110,
    "start_time": "2024-09-25T09:08:17.231Z"
   },
   {
    "duration": 189,
    "start_time": "2024-09-25T09:08:17.343Z"
   },
   {
    "duration": 186,
    "start_time": "2024-09-25T09:08:17.533Z"
   },
   {
    "duration": 495,
    "start_time": "2024-09-25T09:08:17.721Z"
   },
   {
    "duration": 205,
    "start_time": "2024-09-25T09:08:18.217Z"
   },
   {
    "duration": 4,
    "start_time": "2024-09-25T09:08:18.424Z"
   },
   {
    "duration": 14,
    "start_time": "2024-09-25T09:08:18.429Z"
   },
   {
    "duration": 26,
    "start_time": "2024-09-25T09:08:18.444Z"
   },
   {
    "duration": 39,
    "start_time": "2024-09-25T09:08:18.471Z"
   },
   {
    "duration": 4,
    "start_time": "2024-09-25T09:08:18.511Z"
   },
   {
    "duration": 31,
    "start_time": "2024-09-25T09:08:18.517Z"
   },
   {
    "duration": 3,
    "start_time": "2024-09-25T09:08:18.550Z"
   },
   {
    "duration": 209,
    "start_time": "2024-09-25T09:08:18.555Z"
   },
   {
    "duration": 10,
    "start_time": "2024-09-25T09:08:18.765Z"
   },
   {
    "duration": 26,
    "start_time": "2024-09-25T09:08:18.777Z"
   },
   {
    "duration": 1298,
    "start_time": "2024-09-25T09:08:18.805Z"
   },
   {
    "duration": 9,
    "start_time": "2024-09-25T09:08:20.105Z"
   },
   {
    "duration": 30,
    "start_time": "2024-09-25T09:08:20.115Z"
   },
   {
    "duration": 19,
    "start_time": "2024-09-25T09:08:20.147Z"
   },
   {
    "duration": 47,
    "start_time": "2024-09-25T09:08:20.168Z"
   },
   {
    "duration": 13,
    "start_time": "2024-09-25T09:08:20.217Z"
   },
   {
    "duration": 263,
    "start_time": "2024-09-25T09:08:20.232Z"
   },
   {
    "duration": 0,
    "start_time": "2024-09-25T09:08:20.497Z"
   },
   {
    "duration": 0,
    "start_time": "2024-09-25T09:08:20.499Z"
   },
   {
    "duration": 0,
    "start_time": "2024-09-25T09:08:20.500Z"
   },
   {
    "duration": 0,
    "start_time": "2024-09-25T09:08:20.502Z"
   },
   {
    "duration": 0,
    "start_time": "2024-09-25T09:08:20.504Z"
   },
   {
    "duration": 0,
    "start_time": "2024-09-25T09:08:20.505Z"
   },
   {
    "duration": 0,
    "start_time": "2024-09-25T09:08:20.507Z"
   },
   {
    "duration": 0,
    "start_time": "2024-09-25T09:08:20.508Z"
   },
   {
    "duration": 0,
    "start_time": "2024-09-25T09:08:20.510Z"
   },
   {
    "duration": 0,
    "start_time": "2024-09-25T09:08:20.512Z"
   },
   {
    "duration": 5690,
    "start_time": "2024-09-25T09:09:23.735Z"
   },
   {
    "duration": 3497,
    "start_time": "2024-09-25T09:09:29.428Z"
   },
   {
    "duration": 33,
    "start_time": "2024-09-25T09:09:32.927Z"
   },
   {
    "duration": 5,
    "start_time": "2024-09-25T09:09:32.963Z"
   },
   {
    "duration": 49,
    "start_time": "2024-09-25T09:09:32.970Z"
   },
   {
    "duration": 235,
    "start_time": "2024-09-25T09:09:33.020Z"
   },
   {
    "duration": 234,
    "start_time": "2024-09-25T09:09:33.257Z"
   },
   {
    "duration": 556,
    "start_time": "2024-09-25T09:09:33.493Z"
   },
   {
    "duration": 225,
    "start_time": "2024-09-25T09:09:34.053Z"
   },
   {
    "duration": 8,
    "start_time": "2024-09-25T09:09:34.282Z"
   },
   {
    "duration": 12,
    "start_time": "2024-09-25T09:09:34.292Z"
   },
   {
    "duration": 15,
    "start_time": "2024-09-25T09:09:34.306Z"
   },
   {
    "duration": 63,
    "start_time": "2024-09-25T09:09:34.323Z"
   },
   {
    "duration": 6,
    "start_time": "2024-09-25T09:09:34.388Z"
   },
   {
    "duration": 41,
    "start_time": "2024-09-25T09:09:34.396Z"
   },
   {
    "duration": 2,
    "start_time": "2024-09-25T09:09:34.439Z"
   },
   {
    "duration": 194,
    "start_time": "2024-09-25T09:09:34.443Z"
   },
   {
    "duration": 17,
    "start_time": "2024-09-25T09:09:34.639Z"
   },
   {
    "duration": 42,
    "start_time": "2024-09-25T09:09:34.658Z"
   },
   {
    "duration": 1478,
    "start_time": "2024-09-25T09:09:34.702Z"
   },
   {
    "duration": 10,
    "start_time": "2024-09-25T09:09:36.182Z"
   },
   {
    "duration": 44,
    "start_time": "2024-09-25T09:09:36.193Z"
   },
   {
    "duration": 6,
    "start_time": "2024-09-25T09:09:36.239Z"
   },
   {
    "duration": 48,
    "start_time": "2024-09-25T09:09:36.246Z"
   },
   {
    "duration": 13,
    "start_time": "2024-09-25T09:09:36.296Z"
   },
   {
    "duration": 294,
    "start_time": "2024-09-25T09:09:36.311Z"
   },
   {
    "duration": 0,
    "start_time": "2024-09-25T09:09:36.608Z"
   },
   {
    "duration": 0,
    "start_time": "2024-09-25T09:09:36.610Z"
   },
   {
    "duration": 0,
    "start_time": "2024-09-25T09:09:36.611Z"
   },
   {
    "duration": 0,
    "start_time": "2024-09-25T09:09:36.612Z"
   },
   {
    "duration": 0,
    "start_time": "2024-09-25T09:09:36.613Z"
   },
   {
    "duration": 0,
    "start_time": "2024-09-25T09:09:36.614Z"
   },
   {
    "duration": 0,
    "start_time": "2024-09-25T09:09:36.615Z"
   },
   {
    "duration": 0,
    "start_time": "2024-09-25T09:09:36.616Z"
   },
   {
    "duration": 0,
    "start_time": "2024-09-25T09:09:36.617Z"
   },
   {
    "duration": 0,
    "start_time": "2024-09-25T09:09:36.619Z"
   },
   {
    "duration": 7,
    "start_time": "2024-09-25T09:10:03.005Z"
   },
   {
    "duration": 5,
    "start_time": "2024-09-25T09:10:03.341Z"
   },
   {
    "duration": 6,
    "start_time": "2024-09-25T09:10:03.613Z"
   },
   {
    "duration": 50,
    "start_time": "2024-09-25T09:10:03.878Z"
   },
   {
    "duration": 13,
    "start_time": "2024-09-25T09:10:04.197Z"
   },
   {
    "duration": 32,
    "start_time": "2024-09-25T09:10:04.535Z"
   },
   {
    "duration": 6,
    "start_time": "2024-09-25T09:10:11.948Z"
   },
   {
    "duration": 6,
    "start_time": "2024-09-25T09:10:12.209Z"
   },
   {
    "duration": 7,
    "start_time": "2024-09-25T09:10:12.405Z"
   },
   {
    "duration": 57,
    "start_time": "2024-09-25T09:10:12.643Z"
   },
   {
    "duration": 17,
    "start_time": "2024-09-25T09:10:12.873Z"
   },
   {
    "duration": 29,
    "start_time": "2024-09-25T09:10:13.289Z"
   },
   {
    "duration": 8,
    "start_time": "2024-09-25T09:10:33.787Z"
   },
   {
    "duration": 5,
    "start_time": "2024-09-25T09:10:34.117Z"
   },
   {
    "duration": 6,
    "start_time": "2024-09-25T09:10:34.433Z"
   },
   {
    "duration": 38,
    "start_time": "2024-09-25T09:10:34.774Z"
   },
   {
    "duration": 15,
    "start_time": "2024-09-25T09:10:35.148Z"
   },
   {
    "duration": 29,
    "start_time": "2024-09-25T09:10:35.779Z"
   },
   {
    "duration": 5570,
    "start_time": "2024-09-25T09:12:58.359Z"
   },
   {
    "duration": 3690,
    "start_time": "2024-09-25T09:13:03.932Z"
   },
   {
    "duration": 31,
    "start_time": "2024-09-25T09:13:07.623Z"
   },
   {
    "duration": 4,
    "start_time": "2024-09-25T09:13:07.657Z"
   },
   {
    "duration": 50,
    "start_time": "2024-09-25T09:13:07.663Z"
   },
   {
    "duration": 233,
    "start_time": "2024-09-25T09:13:07.714Z"
   },
   {
    "duration": 207,
    "start_time": "2024-09-25T09:13:07.949Z"
   },
   {
    "duration": 624,
    "start_time": "2024-09-25T09:13:08.158Z"
   },
   {
    "duration": 209,
    "start_time": "2024-09-25T09:13:08.785Z"
   },
   {
    "duration": 4,
    "start_time": "2024-09-25T09:13:08.998Z"
   },
   {
    "duration": 6,
    "start_time": "2024-09-25T09:13:09.004Z"
   },
   {
    "duration": 8,
    "start_time": "2024-09-25T09:13:09.011Z"
   },
   {
    "duration": 65,
    "start_time": "2024-09-25T09:13:09.020Z"
   },
   {
    "duration": 5,
    "start_time": "2024-09-25T09:13:09.088Z"
   },
   {
    "duration": 27,
    "start_time": "2024-09-25T09:13:09.095Z"
   },
   {
    "duration": 3,
    "start_time": "2024-09-25T09:13:09.124Z"
   },
   {
    "duration": 197,
    "start_time": "2024-09-25T09:13:09.128Z"
   },
   {
    "duration": 10,
    "start_time": "2024-09-25T09:13:09.327Z"
   },
   {
    "duration": 38,
    "start_time": "2024-09-25T09:13:09.338Z"
   },
   {
    "duration": 1421,
    "start_time": "2024-09-25T09:13:09.378Z"
   },
   {
    "duration": 10,
    "start_time": "2024-09-25T09:13:10.800Z"
   },
   {
    "duration": 22,
    "start_time": "2024-09-25T09:13:10.811Z"
   },
   {
    "duration": 14,
    "start_time": "2024-09-25T09:13:10.835Z"
   },
   {
    "duration": 49,
    "start_time": "2024-09-25T09:13:10.851Z"
   },
   {
    "duration": 15,
    "start_time": "2024-09-25T09:13:10.902Z"
   },
   {
    "duration": 35,
    "start_time": "2024-09-25T09:13:10.919Z"
   },
   {
    "duration": 161,
    "start_time": "2024-09-25T09:13:10.958Z"
   },
   {
    "duration": 81043,
    "start_time": "2024-09-25T09:13:11.122Z"
   },
   {
    "duration": 513,
    "start_time": "2024-09-25T09:14:32.168Z"
   },
   {
    "duration": 85,
    "start_time": "2024-09-25T09:14:32.683Z"
   },
   {
    "duration": 381,
    "start_time": "2024-09-25T09:14:32.771Z"
   },
   {
    "duration": 1813,
    "start_time": "2024-09-25T09:14:33.155Z"
   },
   {
    "duration": 8,
    "start_time": "2024-09-25T09:14:34.970Z"
   },
   {
    "duration": 22,
    "start_time": "2024-09-25T09:14:34.981Z"
   },
   {
    "duration": 6009,
    "start_time": "2024-09-25T09:14:58.426Z"
   },
   {
    "duration": 3703,
    "start_time": "2024-09-25T09:15:04.438Z"
   },
   {
    "duration": 35,
    "start_time": "2024-09-25T09:15:08.142Z"
   },
   {
    "duration": 5,
    "start_time": "2024-09-25T09:15:08.180Z"
   },
   {
    "duration": 56,
    "start_time": "2024-09-25T09:15:08.188Z"
   },
   {
    "duration": 242,
    "start_time": "2024-09-25T09:15:08.246Z"
   },
   {
    "duration": 216,
    "start_time": "2024-09-25T09:15:08.490Z"
   },
   {
    "duration": 576,
    "start_time": "2024-09-25T09:15:08.708Z"
   },
   {
    "duration": 212,
    "start_time": "2024-09-25T09:15:09.287Z"
   },
   {
    "duration": 5,
    "start_time": "2024-09-25T09:15:09.501Z"
   },
   {
    "duration": 4,
    "start_time": "2024-09-25T09:15:09.508Z"
   },
   {
    "duration": 6,
    "start_time": "2024-09-25T09:15:09.513Z"
   },
   {
    "duration": 67,
    "start_time": "2024-09-25T09:15:09.520Z"
   },
   {
    "duration": 5,
    "start_time": "2024-09-25T09:15:09.589Z"
   },
   {
    "duration": 33,
    "start_time": "2024-09-25T09:15:09.595Z"
   },
   {
    "duration": 3,
    "start_time": "2024-09-25T09:15:09.629Z"
   },
   {
    "duration": 181,
    "start_time": "2024-09-25T09:15:09.652Z"
   },
   {
    "duration": 10,
    "start_time": "2024-09-25T09:15:09.834Z"
   },
   {
    "duration": 38,
    "start_time": "2024-09-25T09:15:09.845Z"
   },
   {
    "duration": 1505,
    "start_time": "2024-09-25T09:15:09.886Z"
   },
   {
    "duration": 7,
    "start_time": "2024-09-25T09:15:11.393Z"
   },
   {
    "duration": 13,
    "start_time": "2024-09-25T09:15:11.401Z"
   },
   {
    "duration": 5,
    "start_time": "2024-09-25T09:15:11.415Z"
   },
   {
    "duration": 8,
    "start_time": "2024-09-25T09:15:11.421Z"
   },
   {
    "duration": 37,
    "start_time": "2024-09-25T09:15:11.430Z"
   },
   {
    "duration": 359,
    "start_time": "2024-09-25T09:15:11.470Z"
   },
   {
    "duration": 0,
    "start_time": "2024-09-25T09:15:11.831Z"
   },
   {
    "duration": 0,
    "start_time": "2024-09-25T09:15:11.833Z"
   },
   {
    "duration": 0,
    "start_time": "2024-09-25T09:15:11.834Z"
   },
   {
    "duration": 0,
    "start_time": "2024-09-25T09:15:11.836Z"
   },
   {
    "duration": 0,
    "start_time": "2024-09-25T09:15:11.837Z"
   },
   {
    "duration": 1,
    "start_time": "2024-09-25T09:15:11.838Z"
   },
   {
    "duration": 0,
    "start_time": "2024-09-25T09:15:11.840Z"
   },
   {
    "duration": 0,
    "start_time": "2024-09-25T09:15:11.841Z"
   },
   {
    "duration": 0,
    "start_time": "2024-09-25T09:15:11.854Z"
   },
   {
    "duration": 0,
    "start_time": "2024-09-25T09:15:11.856Z"
   },
   {
    "duration": 5534,
    "start_time": "2024-09-25T09:17:45.489Z"
   },
   {
    "duration": 3639,
    "start_time": "2024-09-25T09:17:51.025Z"
   },
   {
    "duration": 31,
    "start_time": "2024-09-25T09:17:54.667Z"
   },
   {
    "duration": 13,
    "start_time": "2024-09-25T09:17:54.700Z"
   },
   {
    "duration": 60,
    "start_time": "2024-09-25T09:17:54.715Z"
   },
   {
    "duration": 224,
    "start_time": "2024-09-25T09:17:54.777Z"
   },
   {
    "duration": 219,
    "start_time": "2024-09-25T09:17:55.003Z"
   },
   {
    "duration": 590,
    "start_time": "2024-09-25T09:17:55.224Z"
   },
   {
    "duration": 210,
    "start_time": "2024-09-25T09:17:55.815Z"
   },
   {
    "duration": 5,
    "start_time": "2024-09-25T09:17:56.028Z"
   },
   {
    "duration": 14,
    "start_time": "2024-09-25T09:17:56.034Z"
   },
   {
    "duration": 10,
    "start_time": "2024-09-25T09:17:56.049Z"
   },
   {
    "duration": 55,
    "start_time": "2024-09-25T09:17:56.061Z"
   },
   {
    "duration": 4,
    "start_time": "2024-09-25T09:17:56.118Z"
   },
   {
    "duration": 46,
    "start_time": "2024-09-25T09:17:56.124Z"
   },
   {
    "duration": 4,
    "start_time": "2024-09-25T09:17:56.172Z"
   },
   {
    "duration": 204,
    "start_time": "2024-09-25T09:17:56.179Z"
   },
   {
    "duration": 12,
    "start_time": "2024-09-25T09:17:56.385Z"
   },
   {
    "duration": 30,
    "start_time": "2024-09-25T09:17:56.400Z"
   },
   {
    "duration": 1620,
    "start_time": "2024-09-25T09:17:56.431Z"
   },
   {
    "duration": 8,
    "start_time": "2024-09-25T09:17:58.054Z"
   },
   {
    "duration": 31,
    "start_time": "2024-09-25T09:17:58.064Z"
   },
   {
    "duration": 16,
    "start_time": "2024-09-25T09:17:58.097Z"
   },
   {
    "duration": 7,
    "start_time": "2024-09-25T09:17:58.114Z"
   },
   {
    "duration": 37,
    "start_time": "2024-09-25T09:17:58.122Z"
   },
   {
    "duration": 296,
    "start_time": "2024-09-25T09:17:58.161Z"
   },
   {
    "duration": 0,
    "start_time": "2024-09-25T09:17:58.460Z"
   },
   {
    "duration": 0,
    "start_time": "2024-09-25T09:17:58.462Z"
   },
   {
    "duration": 0,
    "start_time": "2024-09-25T09:17:58.463Z"
   },
   {
    "duration": 0,
    "start_time": "2024-09-25T09:17:58.465Z"
   },
   {
    "duration": 0,
    "start_time": "2024-09-25T09:17:58.466Z"
   },
   {
    "duration": 0,
    "start_time": "2024-09-25T09:17:58.468Z"
   },
   {
    "duration": 0,
    "start_time": "2024-09-25T09:17:58.470Z"
   },
   {
    "duration": 0,
    "start_time": "2024-09-25T09:17:58.471Z"
   },
   {
    "duration": 0,
    "start_time": "2024-09-25T09:17:58.473Z"
   },
   {
    "duration": 0,
    "start_time": "2024-09-25T09:17:58.475Z"
   },
   {
    "duration": 6,
    "start_time": "2024-09-25T09:18:16.238Z"
   },
   {
    "duration": 11,
    "start_time": "2024-09-25T09:18:16.532Z"
   },
   {
    "duration": 5,
    "start_time": "2024-09-25T09:18:16.735Z"
   },
   {
    "duration": 5,
    "start_time": "2024-09-25T09:18:16.921Z"
   },
   {
    "duration": 48,
    "start_time": "2024-09-25T09:18:17.219Z"
   },
   {
    "duration": 29,
    "start_time": "2024-09-25T09:18:17.640Z"
   },
   {
    "duration": 6,
    "start_time": "2024-09-25T09:19:26.923Z"
   },
   {
    "duration": 15,
    "start_time": "2024-09-25T09:19:27.513Z"
   },
   {
    "duration": 12,
    "start_time": "2024-09-25T09:19:28.243Z"
   },
   {
    "duration": 25,
    "start_time": "2024-09-25T09:19:28.596Z"
   },
   {
    "duration": 1052,
    "start_time": "2024-09-25T09:19:28.885Z"
   },
   {
    "duration": 10,
    "start_time": "2024-09-25T09:19:49.668Z"
   },
   {
    "duration": 15,
    "start_time": "2024-09-25T09:19:50.150Z"
   },
   {
    "duration": 19,
    "start_time": "2024-09-25T09:19:50.754Z"
   },
   {
    "duration": 20,
    "start_time": "2024-09-25T09:19:51.429Z"
   },
   {
    "duration": 1296,
    "start_time": "2024-09-25T09:19:51.881Z"
   },
   {
    "duration": 1178,
    "start_time": "2024-09-25T09:19:53.265Z"
   },
   {
    "duration": 7,
    "start_time": "2024-09-25T09:20:11.919Z"
   },
   {
    "duration": 13,
    "start_time": "2024-09-25T09:20:12.239Z"
   },
   {
    "duration": 6,
    "start_time": "2024-09-25T09:20:12.468Z"
   },
   {
    "duration": 5,
    "start_time": "2024-09-25T09:20:12.731Z"
   },
   {
    "duration": 41,
    "start_time": "2024-09-25T09:20:12.992Z"
   },
   {
    "duration": 38,
    "start_time": "2024-09-25T09:20:13.359Z"
   },
   {
    "duration": 6,
    "start_time": "2024-09-25T09:20:59.428Z"
   },
   {
    "duration": 14,
    "start_time": "2024-09-25T09:20:59.685Z"
   },
   {
    "duration": 4,
    "start_time": "2024-09-25T09:20:59.920Z"
   },
   {
    "duration": 6,
    "start_time": "2024-09-25T09:21:00.137Z"
   },
   {
    "duration": 46,
    "start_time": "2024-09-25T09:21:00.451Z"
   },
   {
    "duration": 20,
    "start_time": "2024-09-25T09:21:00.797Z"
   },
   {
    "duration": 7,
    "start_time": "2024-09-25T09:22:07.931Z"
   },
   {
    "duration": 14,
    "start_time": "2024-09-25T09:22:08.247Z"
   },
   {
    "duration": 5,
    "start_time": "2024-09-25T09:22:08.523Z"
   },
   {
    "duration": 5,
    "start_time": "2024-09-25T09:22:08.822Z"
   },
   {
    "duration": 33,
    "start_time": "2024-09-25T09:22:09.196Z"
   },
   {
    "duration": 36,
    "start_time": "2024-09-25T09:22:09.954Z"
   },
   {
    "duration": 28,
    "start_time": "2024-09-25T09:23:29.979Z"
   },
   {
    "duration": 31,
    "start_time": "2024-09-25T09:24:38.272Z"
   },
   {
    "duration": 14,
    "start_time": "2024-09-25T09:24:51.366Z"
   },
   {
    "duration": 5385,
    "start_time": "2024-09-25T09:24:59.464Z"
   },
   {
    "duration": 3756,
    "start_time": "2024-09-25T09:25:04.851Z"
   },
   {
    "duration": 31,
    "start_time": "2024-09-25T09:25:08.608Z"
   },
   {
    "duration": 4,
    "start_time": "2024-09-25T09:25:08.641Z"
   },
   {
    "duration": 55,
    "start_time": "2024-09-25T09:25:08.647Z"
   },
   {
    "duration": 231,
    "start_time": "2024-09-25T09:25:08.704Z"
   },
   {
    "duration": 217,
    "start_time": "2024-09-25T09:25:08.936Z"
   },
   {
    "duration": 584,
    "start_time": "2024-09-25T09:25:09.155Z"
   },
   {
    "duration": 208,
    "start_time": "2024-09-25T09:25:09.740Z"
   },
   {
    "duration": 5,
    "start_time": "2024-09-25T09:25:09.950Z"
   },
   {
    "duration": 69,
    "start_time": "2024-09-25T09:25:09.957Z"
   },
   {
    "duration": 24,
    "start_time": "2024-09-25T09:25:10.028Z"
   },
   {
    "duration": 63,
    "start_time": "2024-09-25T09:25:10.055Z"
   },
   {
    "duration": 5,
    "start_time": "2024-09-25T09:25:10.119Z"
   },
   {
    "duration": 31,
    "start_time": "2024-09-25T09:25:10.125Z"
   },
   {
    "duration": 3,
    "start_time": "2024-09-25T09:25:10.159Z"
   },
   {
    "duration": 194,
    "start_time": "2024-09-25T09:25:10.164Z"
   },
   {
    "duration": 15,
    "start_time": "2024-09-25T09:25:10.360Z"
   },
   {
    "duration": 25,
    "start_time": "2024-09-25T09:25:10.376Z"
   },
   {
    "duration": 1480,
    "start_time": "2024-09-25T09:25:10.404Z"
   },
   {
    "duration": 7,
    "start_time": "2024-09-25T09:25:11.886Z"
   },
   {
    "duration": 16,
    "start_time": "2024-09-25T09:25:11.894Z"
   },
   {
    "duration": 5,
    "start_time": "2024-09-25T09:25:11.911Z"
   },
   {
    "duration": 89,
    "start_time": "2024-09-25T09:25:11.917Z"
   },
   {
    "duration": 37,
    "start_time": "2024-09-25T09:25:12.007Z"
   },
   {
    "duration": 19,
    "start_time": "2024-09-25T09:25:12.045Z"
   },
   {
    "duration": 202,
    "start_time": "2024-09-25T09:25:12.066Z"
   },
   {
    "duration": 79958,
    "start_time": "2024-09-25T09:25:12.272Z"
   },
   {
    "duration": 453,
    "start_time": "2024-09-25T09:26:32.256Z"
   },
   {
    "duration": 75,
    "start_time": "2024-09-25T09:26:32.711Z"
   },
   {
    "duration": 383,
    "start_time": "2024-09-25T09:26:32.788Z"
   },
   {
    "duration": 1841,
    "start_time": "2024-09-25T09:26:33.174Z"
   },
   {
    "duration": 6,
    "start_time": "2024-09-25T09:26:35.016Z"
   },
   {
    "duration": 13,
    "start_time": "2024-09-25T09:26:35.024Z"
   },
   {
    "duration": 128136,
    "start_time": "2024-09-25T09:26:35.038Z"
   },
   {
    "duration": 0,
    "start_time": "2024-09-25T09:28:43.177Z"
   },
   {
    "duration": 0,
    "start_time": "2024-09-25T09:28:43.179Z"
   },
   {
    "duration": 7,
    "start_time": "2024-09-25T09:28:46.331Z"
   },
   {
    "duration": 18,
    "start_time": "2024-09-25T09:28:46.693Z"
   },
   {
    "duration": 5,
    "start_time": "2024-09-25T09:28:46.999Z"
   },
   {
    "duration": 6,
    "start_time": "2024-09-25T09:28:47.331Z"
   },
   {
    "duration": 39,
    "start_time": "2024-09-25T09:28:47.673Z"
   },
   {
    "duration": 28,
    "start_time": "2024-09-25T09:28:48.154Z"
   },
   {
    "duration": 26,
    "start_time": "2024-09-25T09:29:47.735Z"
   },
   {
    "duration": 20,
    "start_time": "2024-09-25T09:31:24.299Z"
   },
   {
    "duration": 30,
    "start_time": "2024-09-25T09:31:34.364Z"
   },
   {
    "duration": 30,
    "start_time": "2024-09-25T09:32:11.174Z"
   },
   {
    "duration": 31,
    "start_time": "2024-09-25T09:32:30.997Z"
   },
   {
    "duration": 16,
    "start_time": "2024-09-25T09:34:50.308Z"
   },
   {
    "duration": 7,
    "start_time": "2024-09-25T09:35:00.290Z"
   },
   {
    "duration": 17,
    "start_time": "2024-09-25T09:35:00.558Z"
   },
   {
    "duration": 5,
    "start_time": "2024-09-25T09:35:00.801Z"
   },
   {
    "duration": 6,
    "start_time": "2024-09-25T09:35:01.215Z"
   },
   {
    "duration": 46,
    "start_time": "2024-09-25T09:35:01.554Z"
   },
   {
    "duration": 20,
    "start_time": "2024-09-25T09:35:01.934Z"
   },
   {
    "duration": 29,
    "start_time": "2024-09-25T09:41:49.737Z"
   },
   {
    "duration": 30,
    "start_time": "2024-09-25T09:41:57.361Z"
   },
   {
    "duration": 20,
    "start_time": "2024-09-25T09:42:51.770Z"
   },
   {
    "duration": 11,
    "start_time": "2024-09-25T09:43:18.202Z"
   },
   {
    "duration": 24,
    "start_time": "2024-09-25T09:44:50.437Z"
   },
   {
    "duration": 11,
    "start_time": "2024-09-25T09:44:51.180Z"
   },
   {
    "duration": 25,
    "start_time": "2024-09-25T09:45:41.928Z"
   },
   {
    "duration": 15,
    "start_time": "2024-09-25T09:45:43.204Z"
   },
   {
    "duration": 26,
    "start_time": "2024-09-25T09:46:03.452Z"
   },
   {
    "duration": 15,
    "start_time": "2024-09-25T09:46:03.995Z"
   },
   {
    "duration": 24,
    "start_time": "2024-09-25T09:46:31.393Z"
   },
   {
    "duration": 26,
    "start_time": "2024-09-25T09:57:20.082Z"
   },
   {
    "duration": 14,
    "start_time": "2024-09-25T09:57:20.704Z"
   },
   {
    "duration": 5002,
    "start_time": "2024-09-25T09:57:49.498Z"
   },
   {
    "duration": 3447,
    "start_time": "2024-09-25T09:57:54.503Z"
   },
   {
    "duration": 30,
    "start_time": "2024-09-25T09:57:57.952Z"
   },
   {
    "duration": 4,
    "start_time": "2024-09-25T09:57:57.984Z"
   },
   {
    "duration": 41,
    "start_time": "2024-09-25T09:57:57.989Z"
   },
   {
    "duration": 199,
    "start_time": "2024-09-25T09:57:58.032Z"
   },
   {
    "duration": 199,
    "start_time": "2024-09-25T09:57:58.232Z"
   },
   {
    "duration": 513,
    "start_time": "2024-09-25T09:57:58.433Z"
   },
   {
    "duration": 186,
    "start_time": "2024-09-25T09:57:58.952Z"
   },
   {
    "duration": 4,
    "start_time": "2024-09-25T09:57:59.140Z"
   },
   {
    "duration": 11,
    "start_time": "2024-09-25T09:57:59.145Z"
   },
   {
    "duration": 6,
    "start_time": "2024-09-25T09:57:59.158Z"
   },
   {
    "duration": 42,
    "start_time": "2024-09-25T09:57:59.165Z"
   },
   {
    "duration": 4,
    "start_time": "2024-09-25T09:57:59.210Z"
   },
   {
    "duration": 48,
    "start_time": "2024-09-25T09:57:59.215Z"
   },
   {
    "duration": 5,
    "start_time": "2024-09-25T09:57:59.264Z"
   },
   {
    "duration": 160,
    "start_time": "2024-09-25T09:57:59.270Z"
   },
   {
    "duration": 9,
    "start_time": "2024-09-25T09:57:59.432Z"
   },
   {
    "duration": 22,
    "start_time": "2024-09-25T09:57:59.453Z"
   },
   {
    "duration": 1312,
    "start_time": "2024-09-25T09:57:59.476Z"
   },
   {
    "duration": 23,
    "start_time": "2024-09-25T09:58:00.790Z"
   },
   {
    "duration": 62,
    "start_time": "2024-09-25T09:58:00.815Z"
   },
   {
    "duration": 160,
    "start_time": "2024-09-25T09:58:00.879Z"
   },
   {
    "duration": 290,
    "start_time": "2024-09-25T09:58:01.053Z"
   },
   {
    "duration": 0,
    "start_time": "2024-09-25T09:58:01.345Z"
   },
   {
    "duration": 0,
    "start_time": "2024-09-25T09:58:01.346Z"
   },
   {
    "duration": 0,
    "start_time": "2024-09-25T09:58:01.353Z"
   },
   {
    "duration": 0,
    "start_time": "2024-09-25T09:58:01.354Z"
   },
   {
    "duration": 0,
    "start_time": "2024-09-25T09:58:01.355Z"
   },
   {
    "duration": 0,
    "start_time": "2024-09-25T09:58:01.356Z"
   },
   {
    "duration": 0,
    "start_time": "2024-09-25T09:58:01.357Z"
   },
   {
    "duration": 0,
    "start_time": "2024-09-25T09:58:01.358Z"
   },
   {
    "duration": 4847,
    "start_time": "2024-09-25T09:59:39.093Z"
   },
   {
    "duration": 3391,
    "start_time": "2024-09-25T09:59:43.943Z"
   },
   {
    "duration": 31,
    "start_time": "2024-09-25T09:59:47.335Z"
   },
   {
    "duration": 5,
    "start_time": "2024-09-25T09:59:47.368Z"
   },
   {
    "duration": 51,
    "start_time": "2024-09-25T09:59:47.374Z"
   },
   {
    "duration": 186,
    "start_time": "2024-09-25T09:59:47.427Z"
   },
   {
    "duration": 176,
    "start_time": "2024-09-25T09:59:47.615Z"
   },
   {
    "duration": 523,
    "start_time": "2024-09-25T09:59:47.793Z"
   },
   {
    "duration": 186,
    "start_time": "2024-09-25T09:59:48.318Z"
   },
   {
    "duration": 5,
    "start_time": "2024-09-25T09:59:48.506Z"
   },
   {
    "duration": 7,
    "start_time": "2024-09-25T09:59:48.512Z"
   },
   {
    "duration": 6,
    "start_time": "2024-09-25T09:59:48.520Z"
   },
   {
    "duration": 56,
    "start_time": "2024-09-25T09:59:48.527Z"
   },
   {
    "duration": 4,
    "start_time": "2024-09-25T09:59:48.585Z"
   },
   {
    "duration": 34,
    "start_time": "2024-09-25T09:59:48.590Z"
   },
   {
    "duration": 3,
    "start_time": "2024-09-25T09:59:48.625Z"
   },
   {
    "duration": 169,
    "start_time": "2024-09-25T09:59:48.629Z"
   },
   {
    "duration": 9,
    "start_time": "2024-09-25T09:59:48.800Z"
   },
   {
    "duration": 25,
    "start_time": "2024-09-25T09:59:48.810Z"
   },
   {
    "duration": 1234,
    "start_time": "2024-09-25T09:59:48.837Z"
   },
   {
    "duration": 24,
    "start_time": "2024-09-25T09:59:50.073Z"
   },
   {
    "duration": 48,
    "start_time": "2024-09-25T09:59:50.098Z"
   },
   {
    "duration": 226,
    "start_time": "2024-09-25T09:59:50.147Z"
   },
   {
    "duration": 286,
    "start_time": "2024-09-25T09:59:50.375Z"
   },
   {
    "duration": 0,
    "start_time": "2024-09-25T09:59:50.664Z"
   },
   {
    "duration": 0,
    "start_time": "2024-09-25T09:59:50.665Z"
   },
   {
    "duration": 0,
    "start_time": "2024-09-25T09:59:50.667Z"
   },
   {
    "duration": 0,
    "start_time": "2024-09-25T09:59:50.669Z"
   },
   {
    "duration": 0,
    "start_time": "2024-09-25T09:59:50.670Z"
   },
   {
    "duration": 0,
    "start_time": "2024-09-25T09:59:50.671Z"
   },
   {
    "duration": 0,
    "start_time": "2024-09-25T09:59:50.672Z"
   },
   {
    "duration": 0,
    "start_time": "2024-09-25T09:59:50.673Z"
   },
   {
    "duration": 4954,
    "start_time": "2024-09-25T10:02:31.624Z"
   },
   {
    "duration": 3323,
    "start_time": "2024-09-25T10:02:36.581Z"
   },
   {
    "duration": 31,
    "start_time": "2024-09-25T10:02:39.905Z"
   },
   {
    "duration": 5,
    "start_time": "2024-09-25T10:02:39.937Z"
   },
   {
    "duration": 57,
    "start_time": "2024-09-25T10:02:39.944Z"
   },
   {
    "duration": 201,
    "start_time": "2024-09-25T10:02:40.002Z"
   },
   {
    "duration": 203,
    "start_time": "2024-09-25T10:02:40.204Z"
   },
   {
    "duration": 509,
    "start_time": "2024-09-25T10:02:40.409Z"
   },
   {
    "duration": 180,
    "start_time": "2024-09-25T10:02:40.920Z"
   },
   {
    "duration": 4,
    "start_time": "2024-09-25T10:02:41.102Z"
   },
   {
    "duration": 4,
    "start_time": "2024-09-25T10:02:41.108Z"
   },
   {
    "duration": 5,
    "start_time": "2024-09-25T10:02:41.114Z"
   },
   {
    "duration": 54,
    "start_time": "2024-09-25T10:02:41.120Z"
   },
   {
    "duration": 4,
    "start_time": "2024-09-25T10:02:41.177Z"
   },
   {
    "duration": 24,
    "start_time": "2024-09-25T10:02:41.183Z"
   },
   {
    "duration": 2,
    "start_time": "2024-09-25T10:02:41.209Z"
   },
   {
    "duration": 172,
    "start_time": "2024-09-25T10:02:41.213Z"
   },
   {
    "duration": 9,
    "start_time": "2024-09-25T10:02:41.387Z"
   },
   {
    "duration": 22,
    "start_time": "2024-09-25T10:02:41.397Z"
   },
   {
    "duration": 1290,
    "start_time": "2024-09-25T10:02:41.421Z"
   },
   {
    "duration": 24,
    "start_time": "2024-09-25T10:02:42.713Z"
   },
   {
    "duration": 160,
    "start_time": "2024-09-25T10:02:42.738Z"
   },
   {
    "duration": 70608,
    "start_time": "2024-09-25T10:02:42.899Z"
   },
   {
    "duration": 419,
    "start_time": "2024-09-25T10:03:53.509Z"
   },
   {
    "duration": 66,
    "start_time": "2024-09-25T10:03:53.930Z"
   },
   {
    "duration": 330,
    "start_time": "2024-09-25T10:03:53.997Z"
   },
   {
    "duration": 1361,
    "start_time": "2024-09-25T10:03:54.330Z"
   },
   {
    "duration": 7,
    "start_time": "2024-09-25T10:03:55.693Z"
   },
   {
    "duration": 21,
    "start_time": "2024-09-25T10:03:55.702Z"
   },
   {
    "duration": 5053,
    "start_time": "2024-09-25T10:07:35.052Z"
   },
   {
    "duration": 3342,
    "start_time": "2024-09-25T10:07:40.108Z"
   },
   {
    "duration": 32,
    "start_time": "2024-09-25T10:07:43.452Z"
   },
   {
    "duration": 4,
    "start_time": "2024-09-25T10:07:43.487Z"
   },
   {
    "duration": 44,
    "start_time": "2024-09-25T10:07:43.493Z"
   },
   {
    "duration": 205,
    "start_time": "2024-09-25T10:07:43.539Z"
   },
   {
    "duration": 189,
    "start_time": "2024-09-25T10:07:43.747Z"
   },
   {
    "duration": 538,
    "start_time": "2024-09-25T10:07:43.938Z"
   },
   {
    "duration": 175,
    "start_time": "2024-09-25T10:07:44.478Z"
   },
   {
    "duration": 5,
    "start_time": "2024-09-25T10:07:44.655Z"
   },
   {
    "duration": 5,
    "start_time": "2024-09-25T10:07:44.661Z"
   },
   {
    "duration": 8,
    "start_time": "2024-09-25T10:07:44.668Z"
   },
   {
    "duration": 46,
    "start_time": "2024-09-25T10:07:44.677Z"
   },
   {
    "duration": 30,
    "start_time": "2024-09-25T10:07:44.724Z"
   },
   {
    "duration": 29,
    "start_time": "2024-09-25T10:07:44.755Z"
   },
   {
    "duration": 55,
    "start_time": "2024-09-25T10:07:44.785Z"
   },
   {
    "duration": 163,
    "start_time": "2024-09-25T10:07:44.842Z"
   },
   {
    "duration": 11,
    "start_time": "2024-09-25T10:07:45.007Z"
   },
   {
    "duration": 75,
    "start_time": "2024-09-25T10:07:45.019Z"
   },
   {
    "duration": 1300,
    "start_time": "2024-09-25T10:07:45.095Z"
   },
   {
    "duration": 24,
    "start_time": "2024-09-25T10:07:46.397Z"
   },
   {
    "duration": 156,
    "start_time": "2024-09-25T10:07:46.423Z"
   },
   {
    "duration": 143107,
    "start_time": "2024-09-25T10:07:46.581Z"
   },
   {
    "duration": 453,
    "start_time": "2024-09-25T10:10:09.690Z"
   },
   {
    "duration": 67,
    "start_time": "2024-09-25T10:10:10.145Z"
   },
   {
    "duration": 372,
    "start_time": "2024-09-25T10:10:10.213Z"
   },
   {
    "duration": 1697,
    "start_time": "2024-09-25T10:10:10.587Z"
   },
   {
    "duration": 6,
    "start_time": "2024-09-25T10:10:12.287Z"
   },
   {
    "duration": 13,
    "start_time": "2024-09-25T10:10:12.295Z"
   },
   {
    "duration": 4964,
    "start_time": "2024-09-25T10:10:52.643Z"
   },
   {
    "duration": 3175,
    "start_time": "2024-09-25T10:10:57.610Z"
   },
   {
    "duration": 30,
    "start_time": "2024-09-25T10:11:00.786Z"
   },
   {
    "duration": 6,
    "start_time": "2024-09-25T10:11:00.818Z"
   },
   {
    "duration": 57,
    "start_time": "2024-09-25T10:11:00.826Z"
   },
   {
    "duration": 198,
    "start_time": "2024-09-25T10:11:00.884Z"
   },
   {
    "duration": 191,
    "start_time": "2024-09-25T10:11:01.083Z"
   },
   {
    "duration": 518,
    "start_time": "2024-09-25T10:11:01.275Z"
   },
   {
    "duration": 182,
    "start_time": "2024-09-25T10:11:01.795Z"
   },
   {
    "duration": 4,
    "start_time": "2024-09-25T10:11:01.980Z"
   },
   {
    "duration": 16,
    "start_time": "2024-09-25T10:11:01.985Z"
   },
   {
    "duration": 9,
    "start_time": "2024-09-25T10:11:02.002Z"
   },
   {
    "duration": 63,
    "start_time": "2024-09-25T10:11:02.012Z"
   },
   {
    "duration": 4,
    "start_time": "2024-09-25T10:11:02.077Z"
   },
   {
    "duration": 48,
    "start_time": "2024-09-25T10:11:02.083Z"
   },
   {
    "duration": 96,
    "start_time": "2024-09-25T10:11:02.133Z"
   },
   {
    "duration": 189,
    "start_time": "2024-09-25T10:11:02.231Z"
   },
   {
    "duration": 10,
    "start_time": "2024-09-25T10:11:02.421Z"
   },
   {
    "duration": 76,
    "start_time": "2024-09-25T10:11:02.433Z"
   },
   {
    "duration": 1356,
    "start_time": "2024-09-25T10:11:02.511Z"
   },
   {
    "duration": 27,
    "start_time": "2024-09-25T10:11:03.870Z"
   },
   {
    "duration": 155,
    "start_time": "2024-09-25T10:11:03.899Z"
   },
   {
    "duration": 293553,
    "start_time": "2024-09-25T10:11:04.055Z"
   },
   {
    "duration": 0,
    "start_time": "2024-09-25T10:15:57.610Z"
   },
   {
    "duration": 0,
    "start_time": "2024-09-25T10:15:57.611Z"
   },
   {
    "duration": 0,
    "start_time": "2024-09-25T10:15:57.612Z"
   },
   {
    "duration": 0,
    "start_time": "2024-09-25T10:15:57.614Z"
   },
   {
    "duration": 0,
    "start_time": "2024-09-25T10:15:57.615Z"
   },
   {
    "duration": 0,
    "start_time": "2024-09-25T10:15:57.616Z"
   },
   {
    "duration": 0,
    "start_time": "2024-09-25T10:15:57.617Z"
   },
   {
    "duration": 0,
    "start_time": "2024-09-25T10:15:57.619Z"
   },
   {
    "duration": 5030,
    "start_time": "2024-09-25T10:16:10.900Z"
   },
   {
    "duration": 3245,
    "start_time": "2024-09-25T10:16:15.932Z"
   },
   {
    "duration": 31,
    "start_time": "2024-09-25T10:16:19.179Z"
   },
   {
    "duration": 4,
    "start_time": "2024-09-25T10:16:19.211Z"
   },
   {
    "duration": 41,
    "start_time": "2024-09-25T10:16:19.217Z"
   },
   {
    "duration": 195,
    "start_time": "2024-09-25T10:16:19.260Z"
   },
   {
    "duration": 199,
    "start_time": "2024-09-25T10:16:19.457Z"
   },
   {
    "duration": 499,
    "start_time": "2024-09-25T10:16:19.657Z"
   },
   {
    "duration": 189,
    "start_time": "2024-09-25T10:16:20.158Z"
   },
   {
    "duration": 6,
    "start_time": "2024-09-25T10:16:20.349Z"
   },
   {
    "duration": 16,
    "start_time": "2024-09-25T10:16:20.356Z"
   },
   {
    "duration": 5,
    "start_time": "2024-09-25T10:16:20.373Z"
   },
   {
    "duration": 37,
    "start_time": "2024-09-25T10:16:20.379Z"
   },
   {
    "duration": 4,
    "start_time": "2024-09-25T10:16:20.418Z"
   },
   {
    "duration": 47,
    "start_time": "2024-09-25T10:16:20.423Z"
   },
   {
    "duration": 2,
    "start_time": "2024-09-25T10:16:20.472Z"
   },
   {
    "duration": 165,
    "start_time": "2024-09-25T10:16:20.476Z"
   },
   {
    "duration": 15,
    "start_time": "2024-09-25T10:16:20.643Z"
   },
   {
    "duration": 20,
    "start_time": "2024-09-25T10:16:20.660Z"
   },
   {
    "duration": 1289,
    "start_time": "2024-09-25T10:16:20.682Z"
   },
   {
    "duration": 25,
    "start_time": "2024-09-25T10:16:21.973Z"
   },
   {
    "duration": 162,
    "start_time": "2024-09-25T10:16:22.000Z"
   },
   {
    "duration": 142990,
    "start_time": "2024-09-25T10:16:22.163Z"
   },
   {
    "duration": 412,
    "start_time": "2024-09-25T10:18:45.156Z"
   },
   {
    "duration": 63,
    "start_time": "2024-09-25T10:18:45.569Z"
   },
   {
    "duration": 374,
    "start_time": "2024-09-25T10:18:45.633Z"
   },
   {
    "duration": 1621,
    "start_time": "2024-09-25T10:18:46.008Z"
   },
   {
    "duration": 5,
    "start_time": "2024-09-25T10:18:47.631Z"
   },
   {
    "duration": 11,
    "start_time": "2024-09-25T10:18:47.637Z"
   },
   {
    "duration": 1426645,
    "start_time": "2024-09-25T10:18:47.652Z"
   },
   {
    "duration": 0,
    "start_time": "2024-09-25T10:42:34.299Z"
   },
   {
    "duration": 4,
    "start_time": "2024-09-25T10:43:33.391Z"
   },
   {
    "duration": 648272,
    "start_time": "2024-09-25T10:43:33.735Z"
   },
   {
    "duration": 3,
    "start_time": "2024-09-25T10:54:42.755Z"
   },
   {
    "duration": 1351908,
    "start_time": "2024-09-25T10:54:43.597Z"
   },
   {
    "duration": 0,
    "start_time": "2024-09-25T11:17:15.508Z"
   },
   {
    "duration": 3,
    "start_time": "2024-09-25T11:18:56.917Z"
   },
   {
    "duration": 234760,
    "start_time": "2024-09-25T11:18:57.359Z"
   },
   {
    "duration": 5,
    "start_time": "2024-09-25T11:22:55.578Z"
   },
   {
    "duration": 4,
    "start_time": "2024-09-25T11:22:55.861Z"
   },
   {
    "duration": 114494,
    "start_time": "2024-09-25T11:22:56.124Z"
   },
   {
    "duration": 0,
    "start_time": "2024-09-25T11:24:50.620Z"
   },
   {
    "duration": 5,
    "start_time": "2024-09-25T11:25:01.985Z"
   },
   {
    "duration": 3,
    "start_time": "2024-09-25T11:25:02.299Z"
   },
   {
    "duration": 217007,
    "start_time": "2024-09-25T11:25:02.569Z"
   },
   {
    "duration": 0,
    "start_time": "2024-09-25T11:28:39.578Z"
   },
   {
    "duration": 6,
    "start_time": "2024-09-25T11:29:24.901Z"
   },
   {
    "duration": 3,
    "start_time": "2024-09-25T11:29:25.312Z"
   },
   {
    "duration": 121326,
    "start_time": "2024-09-25T11:29:33.418Z"
   },
   {
    "duration": 3,
    "start_time": "2024-09-25T11:32:22.716Z"
   },
   {
    "duration": 75528,
    "start_time": "2024-09-25T11:32:22.989Z"
   },
   {
    "duration": 40,
    "start_time": "2024-09-25T11:35:07.199Z"
   },
   {
    "duration": 5398,
    "start_time": "2024-09-25T11:35:22.293Z"
   },
   {
    "duration": 3708,
    "start_time": "2024-09-25T11:35:27.694Z"
   },
   {
    "duration": 32,
    "start_time": "2024-09-25T11:35:31.404Z"
   },
   {
    "duration": 4,
    "start_time": "2024-09-25T11:35:31.439Z"
   },
   {
    "duration": 74,
    "start_time": "2024-09-25T11:35:31.445Z"
   },
   {
    "duration": 212,
    "start_time": "2024-09-25T11:35:31.520Z"
   },
   {
    "duration": 203,
    "start_time": "2024-09-25T11:35:31.734Z"
   },
   {
    "duration": 559,
    "start_time": "2024-09-25T11:35:31.939Z"
   },
   {
    "duration": 213,
    "start_time": "2024-09-25T11:35:32.499Z"
   },
   {
    "duration": 4,
    "start_time": "2024-09-25T11:35:32.715Z"
   },
   {
    "duration": 8,
    "start_time": "2024-09-25T11:35:32.721Z"
   },
   {
    "duration": 6,
    "start_time": "2024-09-25T11:35:32.731Z"
   },
   {
    "duration": 48,
    "start_time": "2024-09-25T11:35:32.753Z"
   },
   {
    "duration": 4,
    "start_time": "2024-09-25T11:35:32.803Z"
   },
   {
    "duration": 45,
    "start_time": "2024-09-25T11:35:32.809Z"
   },
   {
    "duration": 4,
    "start_time": "2024-09-25T11:35:32.857Z"
   },
   {
    "duration": 179,
    "start_time": "2024-09-25T11:35:32.863Z"
   },
   {
    "duration": 15,
    "start_time": "2024-09-25T11:35:33.055Z"
   },
   {
    "duration": 65,
    "start_time": "2024-09-25T11:35:33.071Z"
   },
   {
    "duration": 1455,
    "start_time": "2024-09-25T11:35:33.137Z"
   },
   {
    "duration": 35,
    "start_time": "2024-09-25T11:35:34.594Z"
   },
   {
    "duration": 165,
    "start_time": "2024-09-25T11:35:34.631Z"
   },
   {
    "duration": 59773,
    "start_time": "2024-09-25T11:35:34.798Z"
   },
   {
    "duration": 0,
    "start_time": "2024-09-25T11:36:34.573Z"
   },
   {
    "duration": 0,
    "start_time": "2024-09-25T11:36:34.574Z"
   },
   {
    "duration": 0,
    "start_time": "2024-09-25T11:36:34.575Z"
   },
   {
    "duration": 0,
    "start_time": "2024-09-25T11:36:34.576Z"
   },
   {
    "duration": 0,
    "start_time": "2024-09-25T11:36:34.577Z"
   },
   {
    "duration": 0,
    "start_time": "2024-09-25T11:36:34.578Z"
   },
   {
    "duration": 0,
    "start_time": "2024-09-25T11:36:34.579Z"
   },
   {
    "duration": 0,
    "start_time": "2024-09-25T11:36:34.580Z"
   },
   {
    "duration": 0,
    "start_time": "2024-09-25T11:36:34.582Z"
   },
   {
    "duration": 5291,
    "start_time": "2024-09-25T11:36:39.742Z"
   },
   {
    "duration": 3544,
    "start_time": "2024-09-25T11:36:45.035Z"
   },
   {
    "duration": 31,
    "start_time": "2024-09-25T11:36:48.581Z"
   },
   {
    "duration": 4,
    "start_time": "2024-09-25T11:36:48.614Z"
   },
   {
    "duration": 53,
    "start_time": "2024-09-25T11:36:48.620Z"
   },
   {
    "duration": 234,
    "start_time": "2024-09-25T11:36:48.676Z"
   },
   {
    "duration": 211,
    "start_time": "2024-09-25T11:36:48.912Z"
   },
   {
    "duration": 555,
    "start_time": "2024-09-25T11:36:49.125Z"
   },
   {
    "duration": 189,
    "start_time": "2024-09-25T11:36:49.682Z"
   },
   {
    "duration": 6,
    "start_time": "2024-09-25T11:36:49.873Z"
   },
   {
    "duration": 9,
    "start_time": "2024-09-25T11:36:49.880Z"
   },
   {
    "duration": 9,
    "start_time": "2024-09-25T11:36:49.891Z"
   },
   {
    "duration": 73,
    "start_time": "2024-09-25T11:36:49.902Z"
   },
   {
    "duration": 4,
    "start_time": "2024-09-25T11:36:49.978Z"
   },
   {
    "duration": 28,
    "start_time": "2024-09-25T11:36:49.984Z"
   },
   {
    "duration": 2,
    "start_time": "2024-09-25T11:36:50.014Z"
   },
   {
    "duration": 215,
    "start_time": "2024-09-25T11:36:50.018Z"
   },
   {
    "duration": 11,
    "start_time": "2024-09-25T11:36:50.235Z"
   },
   {
    "duration": 31,
    "start_time": "2024-09-25T11:36:50.252Z"
   },
   {
    "duration": 1380,
    "start_time": "2024-09-25T11:36:50.285Z"
   },
   {
    "duration": 26,
    "start_time": "2024-09-25T11:36:51.668Z"
   },
   {
    "duration": 192,
    "start_time": "2024-09-25T11:36:51.695Z"
   },
   {
    "duration": 9235,
    "start_time": "2024-09-25T11:36:51.889Z"
   },
   {
    "duration": 505,
    "start_time": "2024-09-25T11:37:01.126Z"
   },
   {
    "duration": 75,
    "start_time": "2024-09-25T11:37:01.633Z"
   },
   {
    "duration": 376,
    "start_time": "2024-09-25T11:37:01.710Z"
   },
   {
    "duration": 1150,
    "start_time": "2024-09-25T11:37:02.088Z"
   },
   {
    "duration": 302,
    "start_time": "2024-09-25T11:37:03.240Z"
   },
   {
    "duration": 0,
    "start_time": "2024-09-25T11:37:03.544Z"
   },
   {
    "duration": 0,
    "start_time": "2024-09-25T11:37:03.545Z"
   },
   {
    "duration": 0,
    "start_time": "2024-09-25T11:37:03.546Z"
   },
   {
    "duration": 0,
    "start_time": "2024-09-25T11:37:03.553Z"
   },
   {
    "duration": 45,
    "start_time": "2024-09-25T11:37:43.469Z"
   },
   {
    "duration": 9325,
    "start_time": "2024-09-25T11:37:44.057Z"
   },
   {
    "duration": 432,
    "start_time": "2024-09-25T11:37:53.384Z"
   },
   {
    "duration": 79,
    "start_time": "2024-09-25T11:37:53.818Z"
   },
   {
    "duration": 49,
    "start_time": "2024-09-25T11:38:25.291Z"
   },
   {
    "duration": 9732,
    "start_time": "2024-09-25T11:38:27.064Z"
   },
   {
    "duration": 489,
    "start_time": "2024-09-25T11:38:36.798Z"
   },
   {
    "duration": 87,
    "start_time": "2024-09-25T11:38:37.291Z"
   },
   {
    "duration": 16906,
    "start_time": "2024-09-25T11:38:51.790Z"
   },
   {
    "duration": 449,
    "start_time": "2024-09-25T11:39:08.699Z"
   },
   {
    "duration": 75,
    "start_time": "2024-09-25T11:39:09.150Z"
   },
   {
    "duration": 24866,
    "start_time": "2024-09-25T11:39:25.131Z"
   },
   {
    "duration": 425,
    "start_time": "2024-09-25T11:39:49.999Z"
   },
   {
    "duration": 76,
    "start_time": "2024-09-25T11:39:50.426Z"
   },
   {
    "duration": 85804,
    "start_time": "2024-09-25T11:40:16.449Z"
   },
   {
    "duration": 409,
    "start_time": "2024-09-25T11:41:42.256Z"
   },
   {
    "duration": 89,
    "start_time": "2024-09-25T11:41:42.667Z"
   },
   {
    "duration": 46747,
    "start_time": "2024-09-25T11:41:55.469Z"
   },
   {
    "duration": 405,
    "start_time": "2024-09-25T11:42:42.219Z"
   },
   {
    "duration": 83,
    "start_time": "2024-09-25T11:42:42.626Z"
   },
   {
    "duration": 44,
    "start_time": "2024-09-25T11:43:24.652Z"
   },
   {
    "duration": 43215,
    "start_time": "2024-09-25T11:43:24.698Z"
   },
   {
    "duration": 465,
    "start_time": "2024-09-25T11:44:07.915Z"
   },
   {
    "duration": 83,
    "start_time": "2024-09-25T11:44:08.382Z"
   },
   {
    "duration": 49404,
    "start_time": "2024-09-25T11:44:28.785Z"
   },
   {
    "duration": 406,
    "start_time": "2024-09-25T11:45:18.192Z"
   },
   {
    "duration": 84,
    "start_time": "2024-09-25T11:45:18.600Z"
   },
   {
    "duration": 42144,
    "start_time": "2024-09-25T11:45:36.556Z"
   },
   {
    "duration": 670,
    "start_time": "2024-09-25T11:46:18.704Z"
   },
   {
    "duration": 89,
    "start_time": "2024-09-25T11:46:19.376Z"
   },
   {
    "duration": 18248,
    "start_time": "2024-09-25T11:46:29.523Z"
   },
   {
    "duration": 406,
    "start_time": "2024-09-25T11:46:47.773Z"
   },
   {
    "duration": 86,
    "start_time": "2024-09-25T11:46:48.181Z"
   },
   {
    "duration": 43,
    "start_time": "2024-09-25T11:46:59.765Z"
   },
   {
    "duration": 17836,
    "start_time": "2024-09-25T11:47:00.050Z"
   },
   {
    "duration": 467,
    "start_time": "2024-09-25T11:47:17.888Z"
   },
   {
    "duration": 72,
    "start_time": "2024-09-25T11:47:18.356Z"
   },
   {
    "duration": 40677,
    "start_time": "2024-09-25T11:47:29.691Z"
   },
   {
    "duration": 363,
    "start_time": "2024-09-25T11:48:10.370Z"
   },
   {
    "duration": 78,
    "start_time": "2024-09-25T11:48:10.735Z"
   },
   {
    "duration": 32747,
    "start_time": "2024-09-25T11:48:27.707Z"
   },
   {
    "duration": 0,
    "start_time": "2024-09-25T11:49:00.456Z"
   },
   {
    "duration": 0,
    "start_time": "2024-09-25T11:49:00.458Z"
   },
   {
    "duration": 43,
    "start_time": "2024-09-25T11:49:02.159Z"
   },
   {
    "duration": 84666,
    "start_time": "2024-09-25T11:49:02.428Z"
   },
   {
    "duration": 518,
    "start_time": "2024-09-25T11:50:27.096Z"
   },
   {
    "duration": 93,
    "start_time": "2024-09-25T11:50:27.616Z"
   },
   {
    "duration": 47,
    "start_time": "2024-09-25T11:51:06.232Z"
   },
   {
    "duration": 84712,
    "start_time": "2024-09-25T11:51:06.282Z"
   },
   {
    "duration": 464,
    "start_time": "2024-09-25T11:52:30.996Z"
   },
   {
    "duration": 95,
    "start_time": "2024-09-25T11:52:31.462Z"
   },
   {
    "duration": 45,
    "start_time": "2024-09-25T11:52:44.345Z"
   },
   {
    "duration": 86268,
    "start_time": "2024-09-25T11:52:44.886Z"
   },
   {
    "duration": 434,
    "start_time": "2024-09-25T11:54:11.157Z"
   },
   {
    "duration": 432,
    "start_time": "2024-09-25T11:54:11.593Z"
   },
   {
    "duration": 53,
    "start_time": "2024-09-25T11:54:29.023Z"
   },
   {
    "duration": 85779,
    "start_time": "2024-09-25T11:54:29.337Z"
   },
   {
    "duration": 454,
    "start_time": "2024-09-25T11:55:55.119Z"
   },
   {
    "duration": 86,
    "start_time": "2024-09-25T11:55:55.575Z"
   },
   {
    "duration": 41,
    "start_time": "2024-09-25T11:56:17.922Z"
   },
   {
    "duration": 170061,
    "start_time": "2024-09-25T11:56:18.239Z"
   },
   {
    "duration": 485,
    "start_time": "2024-09-25T11:59:08.303Z"
   },
   {
    "duration": 87,
    "start_time": "2024-09-25T11:59:08.790Z"
   },
   {
    "duration": 43330,
    "start_time": "2024-09-25T11:59:37.165Z"
   },
   {
    "duration": 0,
    "start_time": "2024-09-25T12:00:20.497Z"
   },
   {
    "duration": 0,
    "start_time": "2024-09-25T12:00:20.499Z"
   },
   {
    "duration": 0,
    "start_time": "2024-09-25T12:00:20.501Z"
   },
   {
    "duration": 0,
    "start_time": "2024-09-25T12:00:20.503Z"
   },
   {
    "duration": 40,
    "start_time": "2024-09-25T12:00:24.099Z"
   },
   {
    "duration": 104759,
    "start_time": "2024-09-25T12:00:24.426Z"
   },
   {
    "duration": 459,
    "start_time": "2024-09-25T12:02:09.188Z"
   },
   {
    "duration": 81,
    "start_time": "2024-09-25T12:02:09.649Z"
   },
   {
    "duration": 67,
    "start_time": "2024-09-25T12:03:02.639Z"
   },
   {
    "duration": 84452,
    "start_time": "2024-09-25T12:03:03.056Z"
   },
   {
    "duration": 473,
    "start_time": "2024-09-25T12:04:27.511Z"
   },
   {
    "duration": 86,
    "start_time": "2024-09-25T12:04:27.986Z"
   },
   {
    "duration": 401,
    "start_time": "2024-09-25T12:04:28.075Z"
   },
   {
    "duration": 1125,
    "start_time": "2024-09-25T12:04:28.478Z"
   },
   {
    "duration": 395,
    "start_time": "2024-09-25T12:04:52.475Z"
   },
   {
    "duration": 53,
    "start_time": "2024-09-25T12:04:53.286Z"
   },
   {
    "duration": 42535,
    "start_time": "2024-09-25T12:04:53.688Z"
   },
   {
    "duration": 0,
    "start_time": "2024-09-25T12:05:36.225Z"
   },
   {
    "duration": 0,
    "start_time": "2024-09-25T12:05:36.226Z"
   },
   {
    "duration": 0,
    "start_time": "2024-09-25T12:05:36.227Z"
   },
   {
    "duration": 0,
    "start_time": "2024-09-25T12:05:36.228Z"
   },
   {
    "duration": 5260,
    "start_time": "2024-09-25T12:05:47.505Z"
   },
   {
    "duration": 3745,
    "start_time": "2024-09-25T12:05:52.768Z"
   },
   {
    "duration": 32,
    "start_time": "2024-09-25T12:05:56.515Z"
   },
   {
    "duration": 5,
    "start_time": "2024-09-25T12:05:56.549Z"
   },
   {
    "duration": 56,
    "start_time": "2024-09-25T12:05:56.556Z"
   },
   {
    "duration": 389,
    "start_time": "2024-09-25T12:05:56.613Z"
   },
   {
    "duration": 229,
    "start_time": "2024-09-25T12:05:57.004Z"
   },
   {
    "duration": 592,
    "start_time": "2024-09-25T12:05:57.236Z"
   },
   {
    "duration": 227,
    "start_time": "2024-09-25T12:05:57.830Z"
   },
   {
    "duration": 5,
    "start_time": "2024-09-25T12:05:58.061Z"
   },
   {
    "duration": 16,
    "start_time": "2024-09-25T12:05:58.067Z"
   },
   {
    "duration": 8,
    "start_time": "2024-09-25T12:05:58.085Z"
   },
   {
    "duration": 60,
    "start_time": "2024-09-25T12:05:58.095Z"
   },
   {
    "duration": 4,
    "start_time": "2024-09-25T12:05:58.157Z"
   },
   {
    "duration": 32,
    "start_time": "2024-09-25T12:05:58.163Z"
   },
   {
    "duration": 3,
    "start_time": "2024-09-25T12:05:58.196Z"
   },
   {
    "duration": 198,
    "start_time": "2024-09-25T12:05:58.201Z"
   },
   {
    "duration": 12,
    "start_time": "2024-09-25T12:05:58.401Z"
   },
   {
    "duration": 44,
    "start_time": "2024-09-25T12:05:58.414Z"
   },
   {
    "duration": 1400,
    "start_time": "2024-09-25T12:05:58.460Z"
   },
   {
    "duration": 27,
    "start_time": "2024-09-25T12:05:59.862Z"
   },
   {
    "duration": 190,
    "start_time": "2024-09-25T12:06:00.550Z"
   },
   {
    "duration": 79062,
    "start_time": "2024-09-25T12:06:00.824Z"
   },
   {
    "duration": 453,
    "start_time": "2024-09-25T12:07:19.888Z"
   },
   {
    "duration": 70,
    "start_time": "2024-09-25T12:07:20.342Z"
   },
   {
    "duration": 409,
    "start_time": "2024-09-25T12:07:20.414Z"
   },
   {
    "duration": 1446,
    "start_time": "2024-09-25T12:07:20.825Z"
   },
   {
    "duration": 561,
    "start_time": "2024-09-25T12:07:33.425Z"
   },
   {
    "duration": 45,
    "start_time": "2024-09-25T12:07:34.875Z"
   },
   {
    "duration": 79579,
    "start_time": "2024-09-25T12:07:35.505Z"
   },
   {
    "duration": 402,
    "start_time": "2024-09-25T12:08:55.086Z"
   },
   {
    "duration": 89,
    "start_time": "2024-09-25T12:08:55.490Z"
   },
   {
    "duration": 344,
    "start_time": "2024-09-25T12:08:55.581Z"
   },
   {
    "duration": 1447,
    "start_time": "2024-09-25T12:08:55.927Z"
   },
   {
    "duration": 5308,
    "start_time": "2024-09-25T12:09:23.362Z"
   },
   {
    "duration": 3550,
    "start_time": "2024-09-25T12:09:28.673Z"
   },
   {
    "duration": 31,
    "start_time": "2024-09-25T12:09:32.224Z"
   },
   {
    "duration": 4,
    "start_time": "2024-09-25T12:09:32.258Z"
   },
   {
    "duration": 61,
    "start_time": "2024-09-25T12:09:32.263Z"
   },
   {
    "duration": 223,
    "start_time": "2024-09-25T12:09:32.326Z"
   },
   {
    "duration": 191,
    "start_time": "2024-09-25T12:09:32.554Z"
   },
   {
    "duration": 560,
    "start_time": "2024-09-25T12:09:32.754Z"
   },
   {
    "duration": 205,
    "start_time": "2024-09-25T12:09:33.315Z"
   },
   {
    "duration": 4,
    "start_time": "2024-09-25T12:09:33.523Z"
   },
   {
    "duration": 31,
    "start_time": "2024-09-25T12:09:33.528Z"
   },
   {
    "duration": 11,
    "start_time": "2024-09-25T12:09:33.561Z"
   },
   {
    "duration": 68,
    "start_time": "2024-09-25T12:09:33.574Z"
   },
   {
    "duration": 4,
    "start_time": "2024-09-25T12:09:33.644Z"
   },
   {
    "duration": 46,
    "start_time": "2024-09-25T12:09:33.650Z"
   },
   {
    "duration": 2,
    "start_time": "2024-09-25T12:09:33.698Z"
   },
   {
    "duration": 197,
    "start_time": "2024-09-25T12:09:33.702Z"
   },
   {
    "duration": 11,
    "start_time": "2024-09-25T12:09:33.900Z"
   },
   {
    "duration": 27,
    "start_time": "2024-09-25T12:09:33.912Z"
   },
   {
    "duration": 1394,
    "start_time": "2024-09-25T12:09:33.962Z"
   },
   {
    "duration": 25,
    "start_time": "2024-09-25T12:09:35.358Z"
   },
   {
    "duration": 189,
    "start_time": "2024-09-25T12:09:35.384Z"
   },
   {
    "duration": 82444,
    "start_time": "2024-09-25T12:09:35.575Z"
   },
   {
    "duration": 486,
    "start_time": "2024-09-25T12:10:58.021Z"
   },
   {
    "duration": 80,
    "start_time": "2024-09-25T12:10:58.509Z"
   },
   {
    "duration": 360,
    "start_time": "2024-09-25T12:10:58.591Z"
   },
   {
    "duration": 597,
    "start_time": "2024-09-25T12:10:58.952Z"
   },
   {
    "duration": 5,
    "start_time": "2024-09-25T12:10:59.552Z"
   },
   {
    "duration": 12,
    "start_time": "2024-09-25T12:10:59.559Z"
   },
   {
    "duration": 5207,
    "start_time": "2024-09-25T12:11:15.808Z"
   },
   {
    "duration": 3389,
    "start_time": "2024-09-25T12:11:21.017Z"
   },
   {
    "duration": 31,
    "start_time": "2024-09-25T12:11:24.407Z"
   },
   {
    "duration": 4,
    "start_time": "2024-09-25T12:11:24.439Z"
   },
   {
    "duration": 47,
    "start_time": "2024-09-25T12:11:24.444Z"
   },
   {
    "duration": 205,
    "start_time": "2024-09-25T12:11:24.492Z"
   },
   {
    "duration": 191,
    "start_time": "2024-09-25T12:11:24.699Z"
   },
   {
    "duration": 507,
    "start_time": "2024-09-25T12:11:24.892Z"
   },
   {
    "duration": 180,
    "start_time": "2024-09-25T12:11:25.401Z"
   },
   {
    "duration": 5,
    "start_time": "2024-09-25T12:11:25.585Z"
   },
   {
    "duration": 16,
    "start_time": "2024-09-25T12:11:25.591Z"
   },
   {
    "duration": 17,
    "start_time": "2024-09-25T12:11:25.608Z"
   },
   {
    "duration": 55,
    "start_time": "2024-09-25T12:11:25.627Z"
   },
   {
    "duration": 5,
    "start_time": "2024-09-25T12:11:25.684Z"
   },
   {
    "duration": 29,
    "start_time": "2024-09-25T12:11:25.690Z"
   },
   {
    "duration": 3,
    "start_time": "2024-09-25T12:11:25.721Z"
   },
   {
    "duration": 177,
    "start_time": "2024-09-25T12:11:25.725Z"
   },
   {
    "duration": 9,
    "start_time": "2024-09-25T12:11:25.904Z"
   },
   {
    "duration": 23,
    "start_time": "2024-09-25T12:11:25.915Z"
   },
   {
    "duration": 1359,
    "start_time": "2024-09-25T12:11:25.953Z"
   },
   {
    "duration": 38,
    "start_time": "2024-09-25T12:11:27.314Z"
   },
   {
    "duration": 173,
    "start_time": "2024-09-25T12:11:27.355Z"
   },
   {
    "duration": 78994,
    "start_time": "2024-09-25T12:11:27.530Z"
   },
   {
    "duration": 418,
    "start_time": "2024-09-25T12:12:46.526Z"
   },
   {
    "duration": 65,
    "start_time": "2024-09-25T12:12:46.946Z"
   },
   {
    "duration": 387,
    "start_time": "2024-09-25T12:12:47.013Z"
   },
   {
    "duration": 1682,
    "start_time": "2024-09-25T12:12:47.403Z"
   },
   {
    "duration": 5,
    "start_time": "2024-09-25T12:12:49.089Z"
   },
   {
    "duration": 7,
    "start_time": "2024-09-25T12:12:49.095Z"
   },
   {
    "duration": 5499,
    "start_time": "2024-09-25T12:13:07.602Z"
   },
   {
    "duration": 3554,
    "start_time": "2024-09-25T12:13:13.104Z"
   },
   {
    "duration": 39,
    "start_time": "2024-09-25T12:13:16.660Z"
   },
   {
    "duration": 18,
    "start_time": "2024-09-25T12:13:16.702Z"
   },
   {
    "duration": 59,
    "start_time": "2024-09-25T12:13:16.722Z"
   },
   {
    "duration": 221,
    "start_time": "2024-09-25T12:13:16.784Z"
   },
   {
    "duration": 200,
    "start_time": "2024-09-25T12:13:17.007Z"
   },
   {
    "duration": 579,
    "start_time": "2024-09-25T12:13:17.209Z"
   },
   {
    "duration": 206,
    "start_time": "2024-09-25T12:13:17.790Z"
   },
   {
    "duration": 5,
    "start_time": "2024-09-25T12:13:17.999Z"
   },
   {
    "duration": 16,
    "start_time": "2024-09-25T12:13:18.005Z"
   },
   {
    "duration": 6,
    "start_time": "2024-09-25T12:13:18.023Z"
   },
   {
    "duration": 61,
    "start_time": "2024-09-25T12:13:18.031Z"
   },
   {
    "duration": 5,
    "start_time": "2024-09-25T12:13:18.093Z"
   },
   {
    "duration": 26,
    "start_time": "2024-09-25T12:13:18.100Z"
   },
   {
    "duration": 5,
    "start_time": "2024-09-25T12:13:18.128Z"
   },
   {
    "duration": 186,
    "start_time": "2024-09-25T12:13:18.134Z"
   },
   {
    "duration": 10,
    "start_time": "2024-09-25T12:13:18.322Z"
   },
   {
    "duration": 48,
    "start_time": "2024-09-25T12:13:18.333Z"
   },
   {
    "duration": 1364,
    "start_time": "2024-09-25T12:13:18.383Z"
   },
   {
    "duration": 281,
    "start_time": "2024-09-25T12:13:19.749Z"
   },
   {
    "duration": 0,
    "start_time": "2024-09-25T12:13:20.031Z"
   },
   {
    "duration": 0,
    "start_time": "2024-09-25T12:13:20.032Z"
   },
   {
    "duration": 0,
    "start_time": "2024-09-25T12:13:20.034Z"
   },
   {
    "duration": 0,
    "start_time": "2024-09-25T12:13:20.035Z"
   },
   {
    "duration": 0,
    "start_time": "2024-09-25T12:13:20.036Z"
   },
   {
    "duration": 0,
    "start_time": "2024-09-25T12:13:20.037Z"
   },
   {
    "duration": 0,
    "start_time": "2024-09-25T12:13:20.052Z"
   },
   {
    "duration": 0,
    "start_time": "2024-09-25T12:13:20.054Z"
   },
   {
    "duration": 0,
    "start_time": "2024-09-25T12:13:20.055Z"
   },
   {
    "duration": 0,
    "start_time": "2024-09-25T12:13:20.056Z"
   },
   {
    "duration": 5404,
    "start_time": "2024-09-25T12:15:10.218Z"
   },
   {
    "duration": 3521,
    "start_time": "2024-09-25T12:15:15.624Z"
   },
   {
    "duration": 31,
    "start_time": "2024-09-25T12:15:19.147Z"
   },
   {
    "duration": 31,
    "start_time": "2024-09-25T12:15:19.180Z"
   },
   {
    "duration": 53,
    "start_time": "2024-09-25T12:15:19.212Z"
   },
   {
    "duration": 229,
    "start_time": "2024-09-25T12:15:19.266Z"
   },
   {
    "duration": 216,
    "start_time": "2024-09-25T12:15:19.498Z"
   },
   {
    "duration": 565,
    "start_time": "2024-09-25T12:15:19.716Z"
   },
   {
    "duration": 217,
    "start_time": "2024-09-25T12:15:20.284Z"
   },
   {
    "duration": 5,
    "start_time": "2024-09-25T12:15:20.504Z"
   },
   {
    "duration": 5,
    "start_time": "2024-09-25T12:15:20.511Z"
   },
   {
    "duration": 13,
    "start_time": "2024-09-25T12:15:20.518Z"
   },
   {
    "duration": 60,
    "start_time": "2024-09-25T12:15:20.533Z"
   },
   {
    "duration": 5,
    "start_time": "2024-09-25T12:15:20.595Z"
   },
   {
    "duration": 60,
    "start_time": "2024-09-25T12:15:20.602Z"
   },
   {
    "duration": 93,
    "start_time": "2024-09-25T12:15:20.664Z"
   },
   {
    "duration": 209,
    "start_time": "2024-09-25T12:15:20.759Z"
   },
   {
    "duration": 10,
    "start_time": "2024-09-25T12:15:20.969Z"
   },
   {
    "duration": 23,
    "start_time": "2024-09-25T12:15:20.981Z"
   },
   {
    "duration": 1418,
    "start_time": "2024-09-25T12:15:21.006Z"
   },
   {
    "duration": 24,
    "start_time": "2024-09-25T12:15:22.426Z"
   },
   {
    "duration": 187,
    "start_time": "2024-09-25T12:15:22.451Z"
   },
   {
    "duration": 80890,
    "start_time": "2024-09-25T12:15:22.640Z"
   },
   {
    "duration": 475,
    "start_time": "2024-09-25T12:16:43.532Z"
   },
   {
    "duration": 93,
    "start_time": "2024-09-25T12:16:44.008Z"
   },
   {
    "duration": 374,
    "start_time": "2024-09-25T12:16:44.103Z"
   },
   {
    "duration": 1750,
    "start_time": "2024-09-25T12:16:44.479Z"
   },
   {
    "duration": 5,
    "start_time": "2024-09-25T12:16:46.232Z"
   },
   {
    "duration": 6,
    "start_time": "2024-09-25T12:16:46.239Z"
   },
   {
    "duration": 35778,
    "start_time": "2024-09-25T12:16:46.254Z"
   },
   {
    "duration": 0,
    "start_time": "2024-09-25T12:17:22.034Z"
   },
   {
    "duration": 0,
    "start_time": "2024-09-25T12:17:22.035Z"
   },
   {
    "duration": 0,
    "start_time": "2024-09-25T12:17:22.037Z"
   },
   {
    "duration": 0,
    "start_time": "2024-09-25T12:17:22.038Z"
   },
   {
    "duration": 0,
    "start_time": "2024-09-25T12:17:22.059Z"
   },
   {
    "duration": 44,
    "start_time": "2024-09-25T12:17:23.427Z"
   },
   {
    "duration": 81557,
    "start_time": "2024-09-25T12:17:23.742Z"
   },
   {
    "duration": 420,
    "start_time": "2024-09-25T12:18:45.302Z"
   },
   {
    "duration": 74,
    "start_time": "2024-09-25T12:18:45.724Z"
   },
   {
    "duration": 5360,
    "start_time": "2024-09-25T12:19:09.004Z"
   },
   {
    "duration": 3431,
    "start_time": "2024-09-25T12:19:14.367Z"
   },
   {
    "duration": 37,
    "start_time": "2024-09-25T12:19:17.800Z"
   },
   {
    "duration": 5,
    "start_time": "2024-09-25T12:19:17.840Z"
   },
   {
    "duration": 64,
    "start_time": "2024-09-25T12:19:17.847Z"
   },
   {
    "duration": 217,
    "start_time": "2024-09-25T12:19:17.913Z"
   },
   {
    "duration": 197,
    "start_time": "2024-09-25T12:19:18.132Z"
   },
   {
    "duration": 533,
    "start_time": "2024-09-25T12:19:18.331Z"
   },
   {
    "duration": 201,
    "start_time": "2024-09-25T12:19:18.866Z"
   },
   {
    "duration": 5,
    "start_time": "2024-09-25T12:19:19.071Z"
   },
   {
    "duration": 12,
    "start_time": "2024-09-25T12:19:19.077Z"
   },
   {
    "duration": 6,
    "start_time": "2024-09-25T12:19:19.090Z"
   },
   {
    "duration": 42,
    "start_time": "2024-09-25T12:19:19.098Z"
   },
   {
    "duration": 6,
    "start_time": "2024-09-25T12:19:19.160Z"
   },
   {
    "duration": 77,
    "start_time": "2024-09-25T12:19:19.168Z"
   },
   {
    "duration": 3,
    "start_time": "2024-09-25T12:19:19.246Z"
   },
   {
    "duration": 182,
    "start_time": "2024-09-25T12:19:19.251Z"
   },
   {
    "duration": 9,
    "start_time": "2024-09-25T12:19:19.435Z"
   },
   {
    "duration": 25,
    "start_time": "2024-09-25T12:19:19.457Z"
   },
   {
    "duration": 1384,
    "start_time": "2024-09-25T12:19:19.484Z"
   },
   {
    "duration": 34,
    "start_time": "2024-09-25T12:19:20.870Z"
   },
   {
    "duration": 169,
    "start_time": "2024-09-25T12:19:20.906Z"
   },
   {
    "duration": 80200,
    "start_time": "2024-09-25T12:19:21.076Z"
   },
   {
    "duration": 412,
    "start_time": "2024-09-25T12:20:41.279Z"
   },
   {
    "duration": 74,
    "start_time": "2024-09-25T12:20:41.692Z"
   },
   {
    "duration": 349,
    "start_time": "2024-09-25T12:20:41.769Z"
   },
   {
    "duration": 1716,
    "start_time": "2024-09-25T12:20:42.120Z"
   },
   {
    "duration": 5,
    "start_time": "2024-09-25T12:20:43.840Z"
   },
   {
    "duration": 10,
    "start_time": "2024-09-25T12:20:43.846Z"
   },
   {
    "duration": 5265,
    "start_time": "2024-09-25T12:21:38.628Z"
   },
   {
    "duration": 3449,
    "start_time": "2024-09-25T12:21:43.896Z"
   },
   {
    "duration": 31,
    "start_time": "2024-09-25T12:21:47.346Z"
   },
   {
    "duration": 4,
    "start_time": "2024-09-25T12:21:47.379Z"
   },
   {
    "duration": 42,
    "start_time": "2024-09-25T12:21:47.384Z"
   },
   {
    "duration": 209,
    "start_time": "2024-09-25T12:21:47.428Z"
   },
   {
    "duration": 191,
    "start_time": "2024-09-25T12:21:47.638Z"
   },
   {
    "duration": 551,
    "start_time": "2024-09-25T12:21:47.831Z"
   },
   {
    "duration": 191,
    "start_time": "2024-09-25T12:21:48.383Z"
   },
   {
    "duration": 4,
    "start_time": "2024-09-25T12:21:48.576Z"
   },
   {
    "duration": 39,
    "start_time": "2024-09-25T12:21:48.582Z"
   },
   {
    "duration": 20,
    "start_time": "2024-09-25T12:21:48.623Z"
   },
   {
    "duration": 86,
    "start_time": "2024-09-25T12:21:48.645Z"
   },
   {
    "duration": 5,
    "start_time": "2024-09-25T12:21:48.733Z"
   },
   {
    "duration": 65,
    "start_time": "2024-09-25T12:21:48.739Z"
   },
   {
    "duration": 11,
    "start_time": "2024-09-25T12:21:48.806Z"
   },
   {
    "duration": 190,
    "start_time": "2024-09-25T12:21:48.818Z"
   },
   {
    "duration": 11,
    "start_time": "2024-09-25T12:21:49.009Z"
   },
   {
    "duration": 35,
    "start_time": "2024-09-25T12:21:49.021Z"
   },
   {
    "duration": 1329,
    "start_time": "2024-09-25T12:21:49.058Z"
   },
   {
    "duration": 22,
    "start_time": "2024-09-25T12:21:50.389Z"
   },
   {
    "duration": 162,
    "start_time": "2024-09-25T12:21:50.413Z"
   },
   {
    "duration": 69793,
    "start_time": "2024-09-25T12:21:50.576Z"
   },
   {
    "duration": 437,
    "start_time": "2024-09-25T12:23:00.371Z"
   },
   {
    "duration": 72,
    "start_time": "2024-09-25T12:23:00.810Z"
   },
   {
    "duration": 332,
    "start_time": "2024-09-25T12:23:00.884Z"
   },
   {
    "duration": 613,
    "start_time": "2024-09-25T12:23:01.217Z"
   },
   {
    "duration": 5,
    "start_time": "2024-09-25T12:23:01.833Z"
   },
   {
    "duration": 31,
    "start_time": "2024-09-25T12:23:01.840Z"
   },
   {
    "duration": 5017,
    "start_time": "2024-09-25T12:23:34.161Z"
   },
   {
    "duration": 3188,
    "start_time": "2024-09-25T12:23:39.180Z"
   },
   {
    "duration": 30,
    "start_time": "2024-09-25T12:23:42.370Z"
   },
   {
    "duration": 5,
    "start_time": "2024-09-25T12:23:42.402Z"
   },
   {
    "duration": 46,
    "start_time": "2024-09-25T12:23:42.409Z"
   },
   {
    "duration": 222,
    "start_time": "2024-09-25T12:23:42.457Z"
   },
   {
    "duration": 189,
    "start_time": "2024-09-25T12:23:42.681Z"
   },
   {
    "duration": 522,
    "start_time": "2024-09-25T12:23:42.871Z"
   },
   {
    "duration": 183,
    "start_time": "2024-09-25T12:23:43.395Z"
   },
   {
    "duration": 4,
    "start_time": "2024-09-25T12:23:43.580Z"
   },
   {
    "duration": 6,
    "start_time": "2024-09-25T12:23:43.586Z"
   },
   {
    "duration": 5,
    "start_time": "2024-09-25T12:23:43.593Z"
   },
   {
    "duration": 61,
    "start_time": "2024-09-25T12:23:43.599Z"
   },
   {
    "duration": 4,
    "start_time": "2024-09-25T12:23:43.663Z"
   },
   {
    "duration": 31,
    "start_time": "2024-09-25T12:23:43.669Z"
   },
   {
    "duration": 3,
    "start_time": "2024-09-25T12:23:43.702Z"
   },
   {
    "duration": 186,
    "start_time": "2024-09-25T12:23:43.707Z"
   },
   {
    "duration": 10,
    "start_time": "2024-09-25T12:23:43.895Z"
   },
   {
    "duration": 21,
    "start_time": "2024-09-25T12:23:43.906Z"
   },
   {
    "duration": 1347,
    "start_time": "2024-09-25T12:23:43.929Z"
   },
   {
    "duration": 24,
    "start_time": "2024-09-25T12:23:45.278Z"
   },
   {
    "duration": 197,
    "start_time": "2024-09-25T12:23:45.304Z"
   },
   {
    "duration": 88002,
    "start_time": "2024-09-25T12:23:45.502Z"
   },
   {
    "duration": 444,
    "start_time": "2024-09-25T12:25:13.506Z"
   },
   {
    "duration": 65,
    "start_time": "2024-09-25T12:25:13.951Z"
   },
   {
    "duration": 348,
    "start_time": "2024-09-25T12:25:14.017Z"
   },
   {
    "duration": 597,
    "start_time": "2024-09-25T12:25:14.368Z"
   },
   {
    "duration": 5,
    "start_time": "2024-09-25T12:25:14.966Z"
   },
   {
    "duration": 4,
    "start_time": "2024-09-25T12:25:14.973Z"
   },
   {
    "duration": 4994,
    "start_time": "2024-09-25T12:26:04.827Z"
   },
   {
    "duration": 3640,
    "start_time": "2024-09-25T12:26:09.823Z"
   },
   {
    "duration": 32,
    "start_time": "2024-09-25T12:26:13.465Z"
   },
   {
    "duration": 4,
    "start_time": "2024-09-25T12:26:13.500Z"
   },
   {
    "duration": 43,
    "start_time": "2024-09-25T12:26:13.505Z"
   },
   {
    "duration": 201,
    "start_time": "2024-09-25T12:26:13.549Z"
   },
   {
    "duration": 191,
    "start_time": "2024-09-25T12:26:13.752Z"
   },
   {
    "duration": 560,
    "start_time": "2024-09-25T12:26:13.945Z"
   },
   {
    "duration": 184,
    "start_time": "2024-09-25T12:26:14.508Z"
   },
   {
    "duration": 5,
    "start_time": "2024-09-25T12:26:14.697Z"
   },
   {
    "duration": 27,
    "start_time": "2024-09-25T12:26:14.703Z"
   },
   {
    "duration": 6,
    "start_time": "2024-09-25T12:26:14.732Z"
   },
   {
    "duration": 46,
    "start_time": "2024-09-25T12:26:14.740Z"
   },
   {
    "duration": 4,
    "start_time": "2024-09-25T12:26:14.788Z"
   },
   {
    "duration": 28,
    "start_time": "2024-09-25T12:26:14.794Z"
   },
   {
    "duration": 3,
    "start_time": "2024-09-25T12:26:14.823Z"
   },
   {
    "duration": 170,
    "start_time": "2024-09-25T12:26:14.827Z"
   },
   {
    "duration": 10,
    "start_time": "2024-09-25T12:26:14.999Z"
   },
   {
    "duration": 72,
    "start_time": "2024-09-25T12:26:15.010Z"
   },
   {
    "duration": 1271,
    "start_time": "2024-09-25T12:26:15.084Z"
   },
   {
    "duration": 25,
    "start_time": "2024-09-25T12:26:16.357Z"
   },
   {
    "duration": 171,
    "start_time": "2024-09-25T12:26:16.383Z"
   },
   {
    "duration": 82555,
    "start_time": "2024-09-25T12:26:16.556Z"
   },
   {
    "duration": 406,
    "start_time": "2024-09-25T12:27:39.114Z"
   },
   {
    "duration": 63,
    "start_time": "2024-09-25T12:27:39.522Z"
   },
   {
    "duration": 328,
    "start_time": "2024-09-25T12:27:39.587Z"
   },
   {
    "duration": 1605,
    "start_time": "2024-09-25T12:27:39.917Z"
   },
   {
    "duration": 5,
    "start_time": "2024-09-25T12:27:41.526Z"
   },
   {
    "duration": 6,
    "start_time": "2024-09-25T12:27:41.533Z"
   },
   {
    "duration": 22134,
    "start_time": "2024-09-25T12:27:41.541Z"
   },
   {
    "duration": 1,
    "start_time": "2024-09-25T12:28:03.676Z"
   },
   {
    "duration": 1390,
    "start_time": "2024-09-25T12:28:22.827Z"
   },
   {
    "duration": 1380,
    "start_time": "2024-09-25T12:28:40.053Z"
   },
   {
    "duration": 4993,
    "start_time": "2024-09-25T12:29:26.096Z"
   },
   {
    "duration": 3307,
    "start_time": "2024-09-25T12:29:31.091Z"
   },
   {
    "duration": 32,
    "start_time": "2024-09-25T12:29:34.400Z"
   },
   {
    "duration": 4,
    "start_time": "2024-09-25T12:29:34.434Z"
   },
   {
    "duration": 43,
    "start_time": "2024-09-25T12:29:34.439Z"
   },
   {
    "duration": 210,
    "start_time": "2024-09-25T12:29:34.483Z"
   },
   {
    "duration": 202,
    "start_time": "2024-09-25T12:29:34.695Z"
   },
   {
    "duration": 523,
    "start_time": "2024-09-25T12:29:34.898Z"
   },
   {
    "duration": 181,
    "start_time": "2024-09-25T12:29:35.423Z"
   },
   {
    "duration": 4,
    "start_time": "2024-09-25T12:29:35.607Z"
   },
   {
    "duration": 21,
    "start_time": "2024-09-25T12:29:35.612Z"
   },
   {
    "duration": 6,
    "start_time": "2024-09-25T12:29:35.635Z"
   },
   {
    "duration": 44,
    "start_time": "2024-09-25T12:29:35.642Z"
   },
   {
    "duration": 4,
    "start_time": "2024-09-25T12:29:35.687Z"
   },
   {
    "duration": 50,
    "start_time": "2024-09-25T12:29:35.693Z"
   },
   {
    "duration": 2,
    "start_time": "2024-09-25T12:29:35.745Z"
   },
   {
    "duration": 156,
    "start_time": "2024-09-25T12:29:35.749Z"
   },
   {
    "duration": 10,
    "start_time": "2024-09-25T12:29:35.907Z"
   },
   {
    "duration": 43,
    "start_time": "2024-09-25T12:29:35.919Z"
   },
   {
    "duration": 1336,
    "start_time": "2024-09-25T12:29:35.964Z"
   },
   {
    "duration": 27,
    "start_time": "2024-09-25T12:29:37.302Z"
   },
   {
    "duration": 167,
    "start_time": "2024-09-25T12:29:37.330Z"
   },
   {
    "duration": 87491,
    "start_time": "2024-09-25T12:29:37.498Z"
   },
   {
    "duration": 436,
    "start_time": "2024-09-25T12:31:04.991Z"
   },
   {
    "duration": 72,
    "start_time": "2024-09-25T12:31:05.428Z"
   },
   {
    "duration": 345,
    "start_time": "2024-09-25T12:31:05.501Z"
   },
   {
    "duration": 602,
    "start_time": "2024-09-25T12:31:05.853Z"
   },
   {
    "duration": 5,
    "start_time": "2024-09-25T12:31:06.458Z"
   },
   {
    "duration": 15,
    "start_time": "2024-09-25T12:31:06.464Z"
   },
   {
    "duration": 37264,
    "start_time": "2024-09-25T12:31:06.480Z"
   },
   {
    "duration": 0,
    "start_time": "2024-09-25T12:31:43.746Z"
   },
   {
    "duration": 5009,
    "start_time": "2024-09-25T12:32:46.942Z"
   },
   {
    "duration": 3284,
    "start_time": "2024-09-25T12:32:51.953Z"
   },
   {
    "duration": 31,
    "start_time": "2024-09-25T12:32:55.239Z"
   },
   {
    "duration": 4,
    "start_time": "2024-09-25T12:32:55.273Z"
   },
   {
    "duration": 75,
    "start_time": "2024-09-25T12:32:55.279Z"
   },
   {
    "duration": 200,
    "start_time": "2024-09-25T12:32:55.355Z"
   },
   {
    "duration": 184,
    "start_time": "2024-09-25T12:32:55.557Z"
   },
   {
    "duration": 523,
    "start_time": "2024-09-25T12:32:55.743Z"
   },
   {
    "duration": 203,
    "start_time": "2024-09-25T12:32:56.268Z"
   },
   {
    "duration": 4,
    "start_time": "2024-09-25T12:32:56.474Z"
   },
   {
    "duration": 51,
    "start_time": "2024-09-25T12:32:56.479Z"
   },
   {
    "duration": 27,
    "start_time": "2024-09-25T12:32:56.531Z"
   },
   {
    "duration": 76,
    "start_time": "2024-09-25T12:32:56.560Z"
   },
   {
    "duration": 4,
    "start_time": "2024-09-25T12:32:56.637Z"
   },
   {
    "duration": 55,
    "start_time": "2024-09-25T12:32:56.643Z"
   },
   {
    "duration": 11,
    "start_time": "2024-09-25T12:32:56.700Z"
   },
   {
    "duration": 193,
    "start_time": "2024-09-25T12:32:56.713Z"
   },
   {
    "duration": 599,
    "start_time": "2024-09-25T12:32:56.908Z"
   },
   {
    "duration": 25,
    "start_time": "2024-09-25T12:32:57.509Z"
   },
   {
    "duration": 177,
    "start_time": "2024-09-25T12:32:57.536Z"
   },
   {
    "duration": 86859,
    "start_time": "2024-09-25T12:32:57.714Z"
   },
   {
    "duration": 447,
    "start_time": "2024-09-25T12:34:24.575Z"
   },
   {
    "duration": 72,
    "start_time": "2024-09-25T12:34:25.023Z"
   },
   {
    "duration": 355,
    "start_time": "2024-09-25T12:34:25.097Z"
   },
   {
    "duration": 611,
    "start_time": "2024-09-25T12:34:25.453Z"
   },
   {
    "duration": 5,
    "start_time": "2024-09-25T12:34:26.066Z"
   },
   {
    "duration": 22,
    "start_time": "2024-09-25T12:34:26.072Z"
   },
   {
    "duration": 76230,
    "start_time": "2024-09-25T12:34:26.097Z"
   },
   {
    "duration": 0,
    "start_time": "2024-09-25T12:35:42.329Z"
   },
   {
    "duration": 4170,
    "start_time": "2024-09-25T12:36:25.382Z"
   },
   {
    "duration": 3249,
    "start_time": "2024-09-25T12:36:29.554Z"
   },
   {
    "duration": 31,
    "start_time": "2024-09-25T12:36:32.806Z"
   },
   {
    "duration": 4,
    "start_time": "2024-09-25T12:36:32.839Z"
   },
   {
    "duration": 46,
    "start_time": "2024-09-25T12:36:32.844Z"
   },
   {
    "duration": 226,
    "start_time": "2024-09-25T12:36:32.892Z"
   },
   {
    "duration": 197,
    "start_time": "2024-09-25T12:36:33.120Z"
   },
   {
    "duration": 514,
    "start_time": "2024-09-25T12:36:33.319Z"
   },
   {
    "duration": 182,
    "start_time": "2024-09-25T12:36:33.836Z"
   },
   {
    "duration": 5,
    "start_time": "2024-09-25T12:36:34.019Z"
   },
   {
    "duration": 8,
    "start_time": "2024-09-25T12:36:34.025Z"
   },
   {
    "duration": 21,
    "start_time": "2024-09-25T12:36:34.034Z"
   },
   {
    "duration": 56,
    "start_time": "2024-09-25T12:36:34.056Z"
   },
   {
    "duration": 4,
    "start_time": "2024-09-25T12:36:34.113Z"
   },
   {
    "duration": 41,
    "start_time": "2024-09-25T12:36:34.119Z"
   },
   {
    "duration": 3,
    "start_time": "2024-09-25T12:36:34.161Z"
   },
   {
    "duration": 215,
    "start_time": "2024-09-25T12:36:34.166Z"
   },
   {
    "duration": 579,
    "start_time": "2024-09-25T12:36:34.383Z"
   },
   {
    "duration": 23,
    "start_time": "2024-09-25T12:36:34.964Z"
   },
   {
    "duration": 176,
    "start_time": "2024-09-25T12:36:34.988Z"
   },
   {
    "duration": 4989,
    "start_time": "2024-09-25T12:37:07.295Z"
   },
   {
    "duration": 3305,
    "start_time": "2024-09-25T12:37:12.286Z"
   },
   {
    "duration": 32,
    "start_time": "2024-09-25T12:37:15.592Z"
   },
   {
    "duration": 4,
    "start_time": "2024-09-25T12:37:15.626Z"
   },
   {
    "duration": 51,
    "start_time": "2024-09-25T12:37:15.633Z"
   },
   {
    "duration": 194,
    "start_time": "2024-09-25T12:37:15.685Z"
   },
   {
    "duration": 189,
    "start_time": "2024-09-25T12:37:15.881Z"
   },
   {
    "duration": 533,
    "start_time": "2024-09-25T12:37:16.071Z"
   },
   {
    "duration": 181,
    "start_time": "2024-09-25T12:37:16.606Z"
   },
   {
    "duration": 5,
    "start_time": "2024-09-25T12:37:16.788Z"
   },
   {
    "duration": 9,
    "start_time": "2024-09-25T12:37:16.794Z"
   },
   {
    "duration": 5,
    "start_time": "2024-09-25T12:37:16.805Z"
   },
   {
    "duration": 50,
    "start_time": "2024-09-25T12:37:16.811Z"
   },
   {
    "duration": 4,
    "start_time": "2024-09-25T12:37:16.864Z"
   },
   {
    "duration": 32,
    "start_time": "2024-09-25T12:37:16.869Z"
   },
   {
    "duration": 2,
    "start_time": "2024-09-25T12:37:16.903Z"
   },
   {
    "duration": 179,
    "start_time": "2024-09-25T12:37:16.907Z"
   },
   {
    "duration": 634,
    "start_time": "2024-09-25T12:37:17.087Z"
   },
   {
    "duration": 33,
    "start_time": "2024-09-25T12:37:17.723Z"
   },
   {
    "duration": 165,
    "start_time": "2024-09-25T12:37:17.758Z"
   },
   {
    "duration": 86271,
    "start_time": "2024-09-25T12:37:17.925Z"
   },
   {
    "duration": 428,
    "start_time": "2024-09-25T12:38:44.198Z"
   },
   {
    "duration": 74,
    "start_time": "2024-09-25T12:38:44.627Z"
   },
   {
    "duration": 346,
    "start_time": "2024-09-25T12:38:44.702Z"
   },
   {
    "duration": 579,
    "start_time": "2024-09-25T12:38:45.050Z"
   },
   {
    "duration": 5,
    "start_time": "2024-09-25T12:38:45.631Z"
   },
   {
    "duration": 4,
    "start_time": "2024-09-25T12:38:45.637Z"
   },
   {
    "duration": 35176,
    "start_time": "2024-09-25T12:38:45.652Z"
   },
   {
    "duration": 0,
    "start_time": "2024-09-25T12:39:20.830Z"
   },
   {
    "duration": 5047,
    "start_time": "2024-09-25T12:39:25.660Z"
   },
   {
    "duration": 3263,
    "start_time": "2024-09-25T12:39:30.710Z"
   },
   {
    "duration": 30,
    "start_time": "2024-09-25T12:39:33.975Z"
   },
   {
    "duration": 4,
    "start_time": "2024-09-25T12:39:34.008Z"
   },
   {
    "duration": 58,
    "start_time": "2024-09-25T12:39:34.014Z"
   },
   {
    "duration": 225,
    "start_time": "2024-09-25T12:39:34.074Z"
   },
   {
    "duration": 210,
    "start_time": "2024-09-25T12:39:34.301Z"
   },
   {
    "duration": 508,
    "start_time": "2024-09-25T12:39:34.513Z"
   },
   {
    "duration": 171,
    "start_time": "2024-09-25T12:39:35.023Z"
   },
   {
    "duration": 4,
    "start_time": "2024-09-25T12:39:35.197Z"
   },
   {
    "duration": 10,
    "start_time": "2024-09-25T12:39:35.202Z"
   },
   {
    "duration": 14,
    "start_time": "2024-09-25T12:39:35.213Z"
   },
   {
    "duration": 58,
    "start_time": "2024-09-25T12:39:35.229Z"
   },
   {
    "duration": 16,
    "start_time": "2024-09-25T12:39:35.289Z"
   },
   {
    "duration": 40,
    "start_time": "2024-09-25T12:39:35.307Z"
   },
   {
    "duration": 3,
    "start_time": "2024-09-25T12:39:35.349Z"
   },
   {
    "duration": 175,
    "start_time": "2024-09-25T12:39:35.353Z"
   },
   {
    "duration": 588,
    "start_time": "2024-09-25T12:39:35.530Z"
   },
   {
    "duration": 34,
    "start_time": "2024-09-25T12:39:36.120Z"
   },
   {
    "duration": 172,
    "start_time": "2024-09-25T12:39:36.156Z"
   },
   {
    "duration": 87430,
    "start_time": "2024-09-25T12:39:36.330Z"
   },
   {
    "duration": 441,
    "start_time": "2024-09-25T12:41:03.761Z"
   },
   {
    "duration": 84,
    "start_time": "2024-09-25T12:41:04.203Z"
   },
   {
    "duration": 380,
    "start_time": "2024-09-25T12:41:04.288Z"
   },
   {
    "duration": 593,
    "start_time": "2024-09-25T12:41:04.670Z"
   },
   {
    "duration": 5,
    "start_time": "2024-09-25T12:41:05.264Z"
   },
   {
    "duration": 40,
    "start_time": "2024-09-25T12:41:05.270Z"
   },
   {
    "duration": 11261,
    "start_time": "2024-09-25T12:41:05.313Z"
   },
   {
    "duration": 0,
    "start_time": "2024-09-25T12:41:16.576Z"
   },
   {
    "duration": 44,
    "start_time": "2024-09-25T12:41:20.018Z"
   },
   {
    "duration": 89415,
    "start_time": "2024-09-25T12:41:21.381Z"
   },
   {
    "duration": 406,
    "start_time": "2024-09-25T12:42:50.798Z"
   },
   {
    "duration": 68,
    "start_time": "2024-09-25T12:42:51.206Z"
   },
   {
    "duration": 5056,
    "start_time": "2024-09-25T12:43:10.604Z"
   },
   {
    "duration": 3298,
    "start_time": "2024-09-25T12:43:15.663Z"
   },
   {
    "duration": 31,
    "start_time": "2024-09-25T12:43:18.963Z"
   },
   {
    "duration": 3,
    "start_time": "2024-09-25T12:43:18.996Z"
   },
   {
    "duration": 61,
    "start_time": "2024-09-25T12:43:19.001Z"
   },
   {
    "duration": 201,
    "start_time": "2024-09-25T12:43:19.064Z"
   },
   {
    "duration": 193,
    "start_time": "2024-09-25T12:43:19.267Z"
   },
   {
    "duration": 529,
    "start_time": "2024-09-25T12:43:19.461Z"
   },
   {
    "duration": 191,
    "start_time": "2024-09-25T12:43:19.992Z"
   },
   {
    "duration": 5,
    "start_time": "2024-09-25T12:43:20.186Z"
   },
   {
    "duration": 13,
    "start_time": "2024-09-25T12:43:20.193Z"
   },
   {
    "duration": 25,
    "start_time": "2024-09-25T12:43:20.208Z"
   },
   {
    "duration": 66,
    "start_time": "2024-09-25T12:43:20.235Z"
   },
   {
    "duration": 5,
    "start_time": "2024-09-25T12:43:20.304Z"
   },
   {
    "duration": 51,
    "start_time": "2024-09-25T12:43:20.311Z"
   },
   {
    "duration": 3,
    "start_time": "2024-09-25T12:43:20.364Z"
   },
   {
    "duration": 169,
    "start_time": "2024-09-25T12:43:20.368Z"
   },
   {
    "duration": 561,
    "start_time": "2024-09-25T12:43:20.539Z"
   },
   {
    "duration": 22,
    "start_time": "2024-09-25T12:43:21.101Z"
   },
   {
    "duration": 208,
    "start_time": "2024-09-25T12:43:21.125Z"
   },
   {
    "duration": 89527,
    "start_time": "2024-09-25T12:43:21.334Z"
   },
   {
    "duration": 423,
    "start_time": "2024-09-25T12:44:50.862Z"
   },
   {
    "duration": 72,
    "start_time": "2024-09-25T12:44:51.286Z"
   },
   {
    "duration": 352,
    "start_time": "2024-09-25T12:44:51.360Z"
   },
   {
    "duration": 585,
    "start_time": "2024-09-25T12:44:51.714Z"
   },
   {
    "duration": 6,
    "start_time": "2024-09-25T12:44:52.301Z"
   },
   {
    "duration": 36,
    "start_time": "2024-09-25T12:44:52.308Z"
   },
   {
    "duration": 13546,
    "start_time": "2024-09-25T12:44:52.347Z"
   },
   {
    "duration": 0,
    "start_time": "2024-09-25T12:45:05.895Z"
   },
   {
    "duration": 5012,
    "start_time": "2024-09-25T12:45:27.335Z"
   },
   {
    "duration": 3490,
    "start_time": "2024-09-25T12:45:32.349Z"
   },
   {
    "duration": 31,
    "start_time": "2024-09-25T12:45:35.841Z"
   },
   {
    "duration": 4,
    "start_time": "2024-09-25T12:45:35.874Z"
   },
   {
    "duration": 58,
    "start_time": "2024-09-25T12:45:35.880Z"
   },
   {
    "duration": 196,
    "start_time": "2024-09-25T12:45:35.939Z"
   },
   {
    "duration": 193,
    "start_time": "2024-09-25T12:45:36.137Z"
   },
   {
    "duration": 515,
    "start_time": "2024-09-25T12:45:36.332Z"
   },
   {
    "duration": 209,
    "start_time": "2024-09-25T12:45:36.849Z"
   },
   {
    "duration": 4,
    "start_time": "2024-09-25T12:45:37.061Z"
   },
   {
    "duration": 18,
    "start_time": "2024-09-25T12:45:37.066Z"
   },
   {
    "duration": 8,
    "start_time": "2024-09-25T12:45:37.086Z"
   },
   {
    "duration": 56,
    "start_time": "2024-09-25T12:45:37.096Z"
   },
   {
    "duration": 5,
    "start_time": "2024-09-25T12:45:37.154Z"
   },
   {
    "duration": 44,
    "start_time": "2024-09-25T12:45:37.161Z"
   },
   {
    "duration": 4,
    "start_time": "2024-09-25T12:45:37.207Z"
   },
   {
    "duration": 180,
    "start_time": "2024-09-25T12:45:37.213Z"
   },
   {
    "duration": 576,
    "start_time": "2024-09-25T12:45:37.395Z"
   },
   {
    "duration": 23,
    "start_time": "2024-09-25T12:45:37.973Z"
   },
   {
    "duration": 178,
    "start_time": "2024-09-25T12:45:37.997Z"
   },
   {
    "duration": 91507,
    "start_time": "2024-09-25T12:45:38.176Z"
   },
   {
    "duration": 415,
    "start_time": "2024-09-25T12:47:09.685Z"
   },
   {
    "duration": 79,
    "start_time": "2024-09-25T12:47:10.102Z"
   },
   {
    "duration": 379,
    "start_time": "2024-09-25T12:47:10.183Z"
   },
   {
    "duration": 580,
    "start_time": "2024-09-25T12:47:10.564Z"
   },
   {
    "duration": 7,
    "start_time": "2024-09-25T12:47:11.146Z"
   },
   {
    "duration": 6,
    "start_time": "2024-09-25T12:47:11.155Z"
   },
   {
    "duration": 24189,
    "start_time": "2024-09-25T12:47:11.164Z"
   },
   {
    "duration": 0,
    "start_time": "2024-09-25T12:47:35.355Z"
   },
   {
    "duration": 4948,
    "start_time": "2024-09-25T12:47:40.998Z"
   },
   {
    "duration": 3374,
    "start_time": "2024-09-25T12:47:45.949Z"
   },
   {
    "duration": 31,
    "start_time": "2024-09-25T12:47:49.324Z"
   },
   {
    "duration": 4,
    "start_time": "2024-09-25T12:47:49.357Z"
   },
   {
    "duration": 41,
    "start_time": "2024-09-25T12:47:49.362Z"
   },
   {
    "duration": 210,
    "start_time": "2024-09-25T12:47:49.404Z"
   },
   {
    "duration": 190,
    "start_time": "2024-09-25T12:47:49.615Z"
   },
   {
    "duration": 515,
    "start_time": "2024-09-25T12:47:49.807Z"
   },
   {
    "duration": 178,
    "start_time": "2024-09-25T12:47:50.323Z"
   },
   {
    "duration": 4,
    "start_time": "2024-09-25T12:47:50.503Z"
   },
   {
    "duration": 11,
    "start_time": "2024-09-25T12:47:50.509Z"
   },
   {
    "duration": 16,
    "start_time": "2024-09-25T12:47:50.521Z"
   },
   {
    "duration": 46,
    "start_time": "2024-09-25T12:47:50.539Z"
   },
   {
    "duration": 4,
    "start_time": "2024-09-25T12:47:50.587Z"
   },
   {
    "duration": 37,
    "start_time": "2024-09-25T12:47:50.592Z"
   },
   {
    "duration": 2,
    "start_time": "2024-09-25T12:47:50.630Z"
   },
   {
    "duration": 165,
    "start_time": "2024-09-25T12:47:50.634Z"
   },
   {
    "duration": 593,
    "start_time": "2024-09-25T12:47:50.801Z"
   },
   {
    "duration": 23,
    "start_time": "2024-09-25T12:47:51.395Z"
   },
   {
    "duration": 170,
    "start_time": "2024-09-25T12:47:51.420Z"
   },
   {
    "duration": 88064,
    "start_time": "2024-09-25T12:47:51.591Z"
   },
   {
    "duration": 425,
    "start_time": "2024-09-25T12:49:19.658Z"
   },
   {
    "duration": 76,
    "start_time": "2024-09-25T12:49:20.085Z"
   },
   {
    "duration": 357,
    "start_time": "2024-09-25T12:49:20.163Z"
   },
   {
    "duration": 591,
    "start_time": "2024-09-25T12:49:20.522Z"
   },
   {
    "duration": 5,
    "start_time": "2024-09-25T12:49:21.115Z"
   },
   {
    "duration": 8,
    "start_time": "2024-09-25T12:49:21.121Z"
   },
   {
    "duration": 17787,
    "start_time": "2024-09-25T12:49:21.132Z"
   },
   {
    "duration": 0,
    "start_time": "2024-09-25T12:49:38.921Z"
   },
   {
    "duration": 4901,
    "start_time": "2024-09-25T12:49:43.937Z"
   },
   {
    "duration": 3280,
    "start_time": "2024-09-25T12:49:48.841Z"
   },
   {
    "duration": 31,
    "start_time": "2024-09-25T12:49:52.123Z"
   },
   {
    "duration": 4,
    "start_time": "2024-09-25T12:49:52.156Z"
   },
   {
    "duration": 61,
    "start_time": "2024-09-25T12:49:52.163Z"
   },
   {
    "duration": 235,
    "start_time": "2024-09-25T12:49:52.225Z"
   },
   {
    "duration": 191,
    "start_time": "2024-09-25T12:49:52.462Z"
   },
   {
    "duration": 525,
    "start_time": "2024-09-25T12:49:52.654Z"
   },
   {
    "duration": 181,
    "start_time": "2024-09-25T12:49:53.181Z"
   },
   {
    "duration": 4,
    "start_time": "2024-09-25T12:49:53.363Z"
   },
   {
    "duration": 6,
    "start_time": "2024-09-25T12:49:53.368Z"
   },
   {
    "duration": 12,
    "start_time": "2024-09-25T12:49:53.375Z"
   },
   {
    "duration": 40,
    "start_time": "2024-09-25T12:49:53.388Z"
   },
   {
    "duration": 5,
    "start_time": "2024-09-25T12:49:53.430Z"
   },
   {
    "duration": 70,
    "start_time": "2024-09-25T12:49:53.452Z"
   },
   {
    "duration": 3,
    "start_time": "2024-09-25T12:49:53.524Z"
   },
   {
    "duration": 155,
    "start_time": "2024-09-25T12:49:53.528Z"
   },
   {
    "duration": 543,
    "start_time": "2024-09-25T12:49:53.684Z"
   },
   {
    "duration": 33,
    "start_time": "2024-09-25T12:49:54.229Z"
   },
   {
    "duration": 159,
    "start_time": "2024-09-25T12:49:54.264Z"
   },
   {
    "duration": 97877,
    "start_time": "2024-09-25T12:49:54.424Z"
   },
   {
    "duration": 463,
    "start_time": "2024-09-25T12:51:32.303Z"
   },
   {
    "duration": 67,
    "start_time": "2024-09-25T12:51:32.767Z"
   },
   {
    "duration": 359,
    "start_time": "2024-09-25T12:51:32.853Z"
   },
   {
    "duration": 588,
    "start_time": "2024-09-25T12:51:33.214Z"
   },
   {
    "duration": 5,
    "start_time": "2024-09-25T12:51:33.804Z"
   },
   {
    "duration": 21,
    "start_time": "2024-09-25T12:51:33.811Z"
   },
   {
    "duration": 4983,
    "start_time": "2024-09-25T12:52:18.277Z"
   },
   {
    "duration": 3227,
    "start_time": "2024-09-25T12:52:23.262Z"
   },
   {
    "duration": 31,
    "start_time": "2024-09-25T12:52:26.490Z"
   },
   {
    "duration": 4,
    "start_time": "2024-09-25T12:52:26.523Z"
   },
   {
    "duration": 38,
    "start_time": "2024-09-25T12:52:26.529Z"
   },
   {
    "duration": 201,
    "start_time": "2024-09-25T12:52:26.568Z"
   },
   {
    "duration": 197,
    "start_time": "2024-09-25T12:52:26.771Z"
   },
   {
    "duration": 536,
    "start_time": "2024-09-25T12:52:26.970Z"
   },
   {
    "duration": 187,
    "start_time": "2024-09-25T12:52:27.508Z"
   },
   {
    "duration": 4,
    "start_time": "2024-09-25T12:52:27.698Z"
   },
   {
    "duration": 5,
    "start_time": "2024-09-25T12:52:27.703Z"
   },
   {
    "duration": 5,
    "start_time": "2024-09-25T12:52:27.710Z"
   },
   {
    "duration": 58,
    "start_time": "2024-09-25T12:52:27.716Z"
   },
   {
    "duration": 4,
    "start_time": "2024-09-25T12:52:27.776Z"
   },
   {
    "duration": 31,
    "start_time": "2024-09-25T12:52:27.781Z"
   },
   {
    "duration": 3,
    "start_time": "2024-09-25T12:52:27.813Z"
   },
   {
    "duration": 177,
    "start_time": "2024-09-25T12:52:27.817Z"
   },
   {
    "duration": 628,
    "start_time": "2024-09-25T12:52:27.996Z"
   },
   {
    "duration": 31,
    "start_time": "2024-09-25T12:52:28.625Z"
   },
   {
    "duration": 162,
    "start_time": "2024-09-25T12:52:28.658Z"
   },
   {
    "duration": 70885,
    "start_time": "2024-09-25T12:52:28.821Z"
   },
   {
    "duration": 417,
    "start_time": "2024-09-25T12:53:39.708Z"
   },
   {
    "duration": 82,
    "start_time": "2024-09-25T12:53:40.127Z"
   },
   {
    "duration": 365,
    "start_time": "2024-09-25T12:53:40.211Z"
   },
   {
    "duration": 560,
    "start_time": "2024-09-25T12:53:40.578Z"
   },
   {
    "duration": 13,
    "start_time": "2024-09-25T12:53:41.140Z"
   },
   {
    "duration": 9,
    "start_time": "2024-09-25T12:53:41.154Z"
   },
   {
    "duration": 14099,
    "start_time": "2024-09-25T12:53:41.167Z"
   },
   {
    "duration": 0,
    "start_time": "2024-09-25T12:53:55.267Z"
   },
   {
    "duration": 4961,
    "start_time": "2024-09-25T12:54:01.567Z"
   },
   {
    "duration": 3388,
    "start_time": "2024-09-25T12:54:06.530Z"
   },
   {
    "duration": 30,
    "start_time": "2024-09-25T12:54:09.920Z"
   },
   {
    "duration": 4,
    "start_time": "2024-09-25T12:54:09.952Z"
   },
   {
    "duration": 65,
    "start_time": "2024-09-25T12:54:09.958Z"
   },
   {
    "duration": 209,
    "start_time": "2024-09-25T12:54:10.024Z"
   },
   {
    "duration": 221,
    "start_time": "2024-09-25T12:54:10.235Z"
   },
   {
    "duration": 515,
    "start_time": "2024-09-25T12:54:10.458Z"
   },
   {
    "duration": 187,
    "start_time": "2024-09-25T12:54:10.974Z"
   },
   {
    "duration": 4,
    "start_time": "2024-09-25T12:54:11.163Z"
   },
   {
    "duration": 8,
    "start_time": "2024-09-25T12:54:11.168Z"
   },
   {
    "duration": 7,
    "start_time": "2024-09-25T12:54:11.177Z"
   },
   {
    "duration": 48,
    "start_time": "2024-09-25T12:54:11.186Z"
   },
   {
    "duration": 19,
    "start_time": "2024-09-25T12:54:11.236Z"
   },
   {
    "duration": 37,
    "start_time": "2024-09-25T12:54:11.257Z"
   },
   {
    "duration": 34,
    "start_time": "2024-09-25T12:54:11.295Z"
   },
   {
    "duration": 161,
    "start_time": "2024-09-25T12:54:11.331Z"
   },
   {
    "duration": 605,
    "start_time": "2024-09-25T12:54:11.494Z"
   },
   {
    "duration": 24,
    "start_time": "2024-09-25T12:54:12.101Z"
   },
   {
    "duration": 212,
    "start_time": "2024-09-25T12:54:12.126Z"
   },
   {
    "duration": 292870,
    "start_time": "2024-09-25T12:54:12.340Z"
   },
   {
    "duration": 474,
    "start_time": "2024-09-25T12:59:05.213Z"
   },
   {
    "duration": 82,
    "start_time": "2024-09-25T12:59:05.689Z"
   },
   {
    "duration": 368,
    "start_time": "2024-09-25T12:59:05.772Z"
   },
   {
    "duration": 633,
    "start_time": "2024-09-25T12:59:06.143Z"
   },
   {
    "duration": 6,
    "start_time": "2024-09-25T12:59:06.778Z"
   },
   {
    "duration": 107,
    "start_time": "2024-09-25T12:59:06.785Z"
   },
   {
    "duration": 4740,
    "start_time": "2024-09-25T12:59:31.002Z"
   },
   {
    "duration": 3457,
    "start_time": "2024-09-25T12:59:35.744Z"
   },
   {
    "duration": 31,
    "start_time": "2024-09-25T12:59:39.203Z"
   },
   {
    "duration": 4,
    "start_time": "2024-09-25T12:59:39.236Z"
   },
   {
    "duration": 43,
    "start_time": "2024-09-25T12:59:39.241Z"
   },
   {
    "duration": 202,
    "start_time": "2024-09-25T12:59:39.285Z"
   },
   {
    "duration": 196,
    "start_time": "2024-09-25T12:59:39.489Z"
   },
   {
    "duration": 534,
    "start_time": "2024-09-25T12:59:39.686Z"
   },
   {
    "duration": 189,
    "start_time": "2024-09-25T12:59:40.222Z"
   },
   {
    "duration": 4,
    "start_time": "2024-09-25T12:59:40.414Z"
   },
   {
    "duration": 7,
    "start_time": "2024-09-25T12:59:40.420Z"
   },
   {
    "duration": 17,
    "start_time": "2024-09-25T12:59:40.428Z"
   },
   {
    "duration": 45,
    "start_time": "2024-09-25T12:59:40.446Z"
   },
   {
    "duration": 4,
    "start_time": "2024-09-25T12:59:40.493Z"
   },
   {
    "duration": 30,
    "start_time": "2024-09-25T12:59:40.499Z"
   },
   {
    "duration": 23,
    "start_time": "2024-09-25T12:59:40.530Z"
   },
   {
    "duration": 164,
    "start_time": "2024-09-25T12:59:40.555Z"
   },
   {
    "duration": 603,
    "start_time": "2024-09-25T12:59:40.720Z"
   },
   {
    "duration": 28,
    "start_time": "2024-09-25T12:59:41.325Z"
   },
   {
    "duration": 175,
    "start_time": "2024-09-25T12:59:41.355Z"
   },
   {
    "duration": 1703,
    "start_time": "2024-09-25T12:59:41.531Z"
   },
   {
    "duration": 0,
    "start_time": "2024-09-25T12:59:43.237Z"
   },
   {
    "duration": 0,
    "start_time": "2024-09-25T12:59:43.238Z"
   },
   {
    "duration": 0,
    "start_time": "2024-09-25T12:59:43.239Z"
   },
   {
    "duration": 0,
    "start_time": "2024-09-25T12:59:43.240Z"
   },
   {
    "duration": 0,
    "start_time": "2024-09-25T12:59:43.241Z"
   },
   {
    "duration": 0,
    "start_time": "2024-09-25T12:59:43.252Z"
   },
   {
    "duration": 0,
    "start_time": "2024-09-25T12:59:43.254Z"
   },
   {
    "duration": 0,
    "start_time": "2024-09-25T12:59:43.255Z"
   },
   {
    "duration": 5456,
    "start_time": "2024-09-25T12:59:59.387Z"
   },
   {
    "duration": 3503,
    "start_time": "2024-09-25T13:00:04.845Z"
   },
   {
    "duration": 31,
    "start_time": "2024-09-25T13:00:08.350Z"
   },
   {
    "duration": 4,
    "start_time": "2024-09-25T13:00:08.384Z"
   },
   {
    "duration": 57,
    "start_time": "2024-09-25T13:00:08.390Z"
   },
   {
    "duration": 211,
    "start_time": "2024-09-25T13:00:08.450Z"
   },
   {
    "duration": 198,
    "start_time": "2024-09-25T13:00:08.662Z"
   },
   {
    "duration": 520,
    "start_time": "2024-09-25T13:00:08.862Z"
   },
   {
    "duration": 220,
    "start_time": "2024-09-25T13:00:09.384Z"
   },
   {
    "duration": 5,
    "start_time": "2024-09-25T13:00:09.607Z"
   },
   {
    "duration": 5,
    "start_time": "2024-09-25T13:00:09.613Z"
   },
   {
    "duration": 5,
    "start_time": "2024-09-25T13:00:09.620Z"
   },
   {
    "duration": 65,
    "start_time": "2024-09-25T13:00:09.627Z"
   },
   {
    "duration": 5,
    "start_time": "2024-09-25T13:00:09.694Z"
   },
   {
    "duration": 28,
    "start_time": "2024-09-25T13:00:09.700Z"
   },
   {
    "duration": 2,
    "start_time": "2024-09-25T13:00:09.730Z"
   },
   {
    "duration": 186,
    "start_time": "2024-09-25T13:00:09.734Z"
   },
   {
    "duration": 606,
    "start_time": "2024-09-25T13:00:09.922Z"
   },
   {
    "duration": 31,
    "start_time": "2024-09-25T13:00:10.530Z"
   },
   {
    "duration": 206,
    "start_time": "2024-09-25T13:00:10.562Z"
   },
   {
    "duration": 32297,
    "start_time": "2024-09-25T13:00:10.770Z"
   },
   {
    "duration": 418,
    "start_time": "2024-09-25T13:00:43.068Z"
   },
   {
    "duration": 76,
    "start_time": "2024-09-25T13:00:43.487Z"
   },
   {
    "duration": 403,
    "start_time": "2024-09-25T13:00:43.565Z"
   },
   {
    "duration": 594,
    "start_time": "2024-09-25T13:00:43.970Z"
   },
   {
    "duration": 5,
    "start_time": "2024-09-25T13:00:44.566Z"
   },
   {
    "duration": 10,
    "start_time": "2024-09-25T13:00:44.573Z"
   },
   {
    "duration": 8125,
    "start_time": "2024-09-25T13:00:44.586Z"
   },
   {
    "duration": 0,
    "start_time": "2024-09-25T13:00:52.713Z"
   },
   {
    "duration": 5192,
    "start_time": "2024-09-25T13:01:10.962Z"
   },
   {
    "duration": 3460,
    "start_time": "2024-09-25T13:01:16.157Z"
   },
   {
    "duration": 34,
    "start_time": "2024-09-25T13:01:19.619Z"
   },
   {
    "duration": 4,
    "start_time": "2024-09-25T13:01:19.654Z"
   },
   {
    "duration": 41,
    "start_time": "2024-09-25T13:01:19.661Z"
   },
   {
    "duration": 233,
    "start_time": "2024-09-25T13:01:19.704Z"
   },
   {
    "duration": 206,
    "start_time": "2024-09-25T13:01:19.938Z"
   },
   {
    "duration": 520,
    "start_time": "2024-09-25T13:01:20.146Z"
   },
   {
    "duration": 187,
    "start_time": "2024-09-25T13:01:20.668Z"
   },
   {
    "duration": 5,
    "start_time": "2024-09-25T13:01:20.857Z"
   },
   {
    "duration": 28,
    "start_time": "2024-09-25T13:01:20.864Z"
   },
   {
    "duration": 12,
    "start_time": "2024-09-25T13:01:20.893Z"
   },
   {
    "duration": 41,
    "start_time": "2024-09-25T13:01:20.907Z"
   },
   {
    "duration": 5,
    "start_time": "2024-09-25T13:01:20.951Z"
   },
   {
    "duration": 37,
    "start_time": "2024-09-25T13:01:20.957Z"
   },
   {
    "duration": 14,
    "start_time": "2024-09-25T13:01:20.996Z"
   },
   {
    "duration": 162,
    "start_time": "2024-09-25T13:01:21.011Z"
   },
   {
    "duration": 650,
    "start_time": "2024-09-25T13:01:21.174Z"
   },
   {
    "duration": 31,
    "start_time": "2024-09-25T13:01:21.826Z"
   },
   {
    "duration": 216,
    "start_time": "2024-09-25T13:01:21.858Z"
   },
   {
    "duration": 37643,
    "start_time": "2024-09-25T13:01:22.075Z"
   },
   {
    "duration": 441,
    "start_time": "2024-09-25T13:01:59.754Z"
   },
   {
    "duration": 78,
    "start_time": "2024-09-25T13:02:00.196Z"
   },
   {
    "duration": 400,
    "start_time": "2024-09-25T13:02:00.276Z"
   },
   {
    "duration": 628,
    "start_time": "2024-09-25T13:02:00.681Z"
   },
   {
    "duration": 5,
    "start_time": "2024-09-25T13:02:01.312Z"
   },
   {
    "duration": 87,
    "start_time": "2024-09-25T13:02:01.319Z"
   },
   {
    "duration": 7934,
    "start_time": "2024-09-25T13:02:01.408Z"
   },
   {
    "duration": 0,
    "start_time": "2024-09-25T13:02:09.353Z"
   },
   {
    "duration": 5213,
    "start_time": "2024-09-25T13:02:52.522Z"
   },
   {
    "duration": 3605,
    "start_time": "2024-09-25T13:02:57.737Z"
   },
   {
    "duration": 30,
    "start_time": "2024-09-25T13:03:01.344Z"
   },
   {
    "duration": 43,
    "start_time": "2024-09-25T13:03:01.376Z"
   },
   {
    "duration": 50,
    "start_time": "2024-09-25T13:03:01.420Z"
   },
   {
    "duration": 200,
    "start_time": "2024-09-25T13:03:01.472Z"
   },
   {
    "duration": 193,
    "start_time": "2024-09-25T13:03:01.674Z"
   },
   {
    "duration": 569,
    "start_time": "2024-09-25T13:03:01.869Z"
   },
   {
    "duration": 189,
    "start_time": "2024-09-25T13:03:02.440Z"
   },
   {
    "duration": 5,
    "start_time": "2024-09-25T13:03:02.632Z"
   },
   {
    "duration": 15,
    "start_time": "2024-09-25T13:03:02.639Z"
   },
   {
    "duration": 51,
    "start_time": "2024-09-25T13:03:02.656Z"
   },
   {
    "duration": 80,
    "start_time": "2024-09-25T13:03:02.710Z"
   },
   {
    "duration": 5,
    "start_time": "2024-09-25T13:03:02.792Z"
   },
   {
    "duration": 158,
    "start_time": "2024-09-25T13:03:02.799Z"
   },
   {
    "duration": 14,
    "start_time": "2024-09-25T13:03:02.959Z"
   },
   {
    "duration": 185,
    "start_time": "2024-09-25T13:03:02.974Z"
   },
   {
    "duration": 584,
    "start_time": "2024-09-25T13:03:03.161Z"
   },
   {
    "duration": 26,
    "start_time": "2024-09-25T13:03:03.747Z"
   },
   {
    "duration": 211,
    "start_time": "2024-09-25T13:03:03.775Z"
   },
   {
    "duration": 26080,
    "start_time": "2024-09-25T13:03:03.988Z"
   },
   {
    "duration": 457,
    "start_time": "2024-09-25T13:03:30.070Z"
   },
   {
    "duration": 80,
    "start_time": "2024-09-25T13:03:30.529Z"
   },
   {
    "duration": 413,
    "start_time": "2024-09-25T13:03:30.611Z"
   },
   {
    "duration": 616,
    "start_time": "2024-09-25T13:03:31.026Z"
   },
   {
    "duration": 8,
    "start_time": "2024-09-25T13:03:31.645Z"
   },
   {
    "duration": 15,
    "start_time": "2024-09-25T13:03:31.656Z"
   },
   {
    "duration": 4715,
    "start_time": "2024-09-25T13:03:31.675Z"
   },
   {
    "duration": 0,
    "start_time": "2024-09-25T13:03:36.393Z"
   },
   {
    "duration": 49,
    "start_time": "2024-09-25T13:03:47.163Z"
   },
   {
    "duration": 16717,
    "start_time": "2024-09-25T13:03:50.743Z"
   },
   {
    "duration": 406,
    "start_time": "2024-09-25T13:04:07.462Z"
   },
   {
    "duration": 90,
    "start_time": "2024-09-25T13:04:07.871Z"
   },
   {
    "duration": 44,
    "start_time": "2024-09-25T13:04:25.629Z"
   },
   {
    "duration": 8548,
    "start_time": "2024-09-25T13:04:28.837Z"
   },
   {
    "duration": 470,
    "start_time": "2024-09-25T13:04:37.387Z"
   },
   {
    "duration": 72,
    "start_time": "2024-09-25T13:04:37.859Z"
   },
   {
    "duration": 57,
    "start_time": "2024-09-25T13:05:02.353Z"
   },
   {
    "duration": 9680,
    "start_time": "2024-09-25T13:05:03.139Z"
   },
   {
    "duration": 435,
    "start_time": "2024-09-25T13:05:12.821Z"
   },
   {
    "duration": 70,
    "start_time": "2024-09-25T13:05:13.258Z"
   },
   {
    "duration": 42,
    "start_time": "2024-09-25T13:05:20.561Z"
   },
   {
    "duration": 10189,
    "start_time": "2024-09-25T13:05:20.605Z"
   },
   {
    "duration": 447,
    "start_time": "2024-09-25T13:05:30.796Z"
   },
   {
    "duration": 67,
    "start_time": "2024-09-25T13:05:31.245Z"
   },
   {
    "duration": 45,
    "start_time": "2024-09-25T13:05:45.087Z"
   },
   {
    "duration": 8952,
    "start_time": "2024-09-25T13:05:45.134Z"
   },
   {
    "duration": 441,
    "start_time": "2024-09-25T13:05:54.088Z"
   },
   {
    "duration": 80,
    "start_time": "2024-09-25T13:05:54.530Z"
   },
   {
    "duration": 44,
    "start_time": "2024-09-25T13:06:02.060Z"
   },
   {
    "duration": 8521,
    "start_time": "2024-09-25T13:06:02.349Z"
   },
   {
    "duration": 437,
    "start_time": "2024-09-25T13:06:10.872Z"
   },
   {
    "duration": 74,
    "start_time": "2024-09-25T13:06:11.311Z"
   },
   {
    "duration": 44,
    "start_time": "2024-09-25T13:06:28.036Z"
   },
   {
    "duration": 8439,
    "start_time": "2024-09-25T13:06:28.343Z"
   },
   {
    "duration": 459,
    "start_time": "2024-09-25T13:06:36.784Z"
   },
   {
    "duration": 112,
    "start_time": "2024-09-25T13:06:37.245Z"
   },
   {
    "duration": 48,
    "start_time": "2024-09-25T13:07:32.695Z"
   },
   {
    "duration": 8524,
    "start_time": "2024-09-25T13:07:32.967Z"
   },
   {
    "duration": 460,
    "start_time": "2024-09-25T13:07:41.493Z"
   },
   {
    "duration": 65,
    "start_time": "2024-09-25T13:07:41.955Z"
   },
   {
    "duration": 5179,
    "start_time": "2024-09-25T13:07:57.036Z"
   },
   {
    "duration": 3541,
    "start_time": "2024-09-25T13:08:02.218Z"
   },
   {
    "duration": 31,
    "start_time": "2024-09-25T13:08:05.761Z"
   },
   {
    "duration": 15,
    "start_time": "2024-09-25T13:08:05.794Z"
   },
   {
    "duration": 56,
    "start_time": "2024-09-25T13:08:05.811Z"
   },
   {
    "duration": 207,
    "start_time": "2024-09-25T13:08:05.869Z"
   },
   {
    "duration": 197,
    "start_time": "2024-09-25T13:08:06.078Z"
   },
   {
    "duration": 537,
    "start_time": "2024-09-25T13:08:06.277Z"
   },
   {
    "duration": 195,
    "start_time": "2024-09-25T13:08:06.816Z"
   },
   {
    "duration": 5,
    "start_time": "2024-09-25T13:08:07.013Z"
   },
   {
    "duration": 12,
    "start_time": "2024-09-25T13:08:07.019Z"
   },
   {
    "duration": 21,
    "start_time": "2024-09-25T13:08:07.032Z"
   },
   {
    "duration": 43,
    "start_time": "2024-09-25T13:08:07.055Z"
   },
   {
    "duration": 4,
    "start_time": "2024-09-25T13:08:07.100Z"
   },
   {
    "duration": 48,
    "start_time": "2024-09-25T13:08:07.106Z"
   },
   {
    "duration": 3,
    "start_time": "2024-09-25T13:08:07.156Z"
   },
   {
    "duration": 197,
    "start_time": "2024-09-25T13:08:07.160Z"
   },
   {
    "duration": 596,
    "start_time": "2024-09-25T13:08:07.358Z"
   },
   {
    "duration": 27,
    "start_time": "2024-09-25T13:08:07.956Z"
   },
   {
    "duration": 171,
    "start_time": "2024-09-25T13:08:07.985Z"
   },
   {
    "duration": 8531,
    "start_time": "2024-09-25T13:08:08.158Z"
   },
   {
    "duration": 463,
    "start_time": "2024-09-25T13:08:16.690Z"
   },
   {
    "duration": 104,
    "start_time": "2024-09-25T13:08:17.155Z"
   },
   {
    "duration": 370,
    "start_time": "2024-09-25T13:08:17.262Z"
   },
   {
    "duration": 604,
    "start_time": "2024-09-25T13:08:17.634Z"
   },
   {
    "duration": 5,
    "start_time": "2024-09-25T13:08:18.240Z"
   },
   {
    "duration": 11,
    "start_time": "2024-09-25T13:08:18.247Z"
   },
   {
    "duration": 5133,
    "start_time": "2024-09-25T13:08:30.235Z"
   },
   {
    "duration": 3456,
    "start_time": "2024-09-25T13:08:35.370Z"
   },
   {
    "duration": 31,
    "start_time": "2024-09-25T13:08:38.828Z"
   },
   {
    "duration": 13,
    "start_time": "2024-09-25T13:08:38.860Z"
   },
   {
    "duration": 61,
    "start_time": "2024-09-25T13:08:38.875Z"
   },
   {
    "duration": 200,
    "start_time": "2024-09-25T13:08:38.937Z"
   },
   {
    "duration": 203,
    "start_time": "2024-09-25T13:08:39.139Z"
   },
   {
    "duration": 506,
    "start_time": "2024-09-25T13:08:39.344Z"
   },
   {
    "duration": 174,
    "start_time": "2024-09-25T13:08:39.851Z"
   },
   {
    "duration": 4,
    "start_time": "2024-09-25T13:08:40.028Z"
   },
   {
    "duration": 16,
    "start_time": "2024-09-25T13:08:40.033Z"
   },
   {
    "duration": 15,
    "start_time": "2024-09-25T13:08:40.051Z"
   },
   {
    "duration": 45,
    "start_time": "2024-09-25T13:08:40.068Z"
   },
   {
    "duration": 4,
    "start_time": "2024-09-25T13:08:40.115Z"
   },
   {
    "duration": 49,
    "start_time": "2024-09-25T13:08:40.121Z"
   },
   {
    "duration": 2,
    "start_time": "2024-09-25T13:08:40.172Z"
   },
   {
    "duration": 181,
    "start_time": "2024-09-25T13:08:40.176Z"
   },
   {
    "duration": 583,
    "start_time": "2024-09-25T13:08:40.359Z"
   },
   {
    "duration": 25,
    "start_time": "2024-09-25T13:08:40.944Z"
   },
   {
    "duration": 160,
    "start_time": "2024-09-25T13:08:40.970Z"
   },
   {
    "duration": 28943,
    "start_time": "2024-09-25T13:08:41.131Z"
   },
   {
    "duration": 431,
    "start_time": "2024-09-25T13:09:10.076Z"
   },
   {
    "duration": 74,
    "start_time": "2024-09-25T13:09:10.509Z"
   },
   {
    "duration": 376,
    "start_time": "2024-09-25T13:09:10.584Z"
   },
   {
    "duration": 614,
    "start_time": "2024-09-25T13:09:10.962Z"
   },
   {
    "duration": 6,
    "start_time": "2024-09-25T13:09:11.578Z"
   },
   {
    "duration": 16,
    "start_time": "2024-09-25T13:09:11.586Z"
   },
   {
    "duration": 5062,
    "start_time": "2024-09-25T13:09:37.163Z"
   },
   {
    "duration": 3424,
    "start_time": "2024-09-25T13:09:42.228Z"
   },
   {
    "duration": 30,
    "start_time": "2024-09-25T13:09:45.654Z"
   },
   {
    "duration": 4,
    "start_time": "2024-09-25T13:09:45.686Z"
   },
   {
    "duration": 46,
    "start_time": "2024-09-25T13:09:45.692Z"
   },
   {
    "duration": 211,
    "start_time": "2024-09-25T13:09:45.739Z"
   },
   {
    "duration": 187,
    "start_time": "2024-09-25T13:09:45.952Z"
   },
   {
    "duration": 530,
    "start_time": "2024-09-25T13:09:46.141Z"
   },
   {
    "duration": 193,
    "start_time": "2024-09-25T13:09:46.672Z"
   },
   {
    "duration": 5,
    "start_time": "2024-09-25T13:09:46.867Z"
   },
   {
    "duration": 37,
    "start_time": "2024-09-25T13:09:46.873Z"
   },
   {
    "duration": 8,
    "start_time": "2024-09-25T13:09:46.912Z"
   },
   {
    "duration": 46,
    "start_time": "2024-09-25T13:09:46.921Z"
   },
   {
    "duration": 4,
    "start_time": "2024-09-25T13:09:46.969Z"
   },
   {
    "duration": 29,
    "start_time": "2024-09-25T13:09:46.975Z"
   },
   {
    "duration": 3,
    "start_time": "2024-09-25T13:09:47.006Z"
   },
   {
    "duration": 176,
    "start_time": "2024-09-25T13:09:47.010Z"
   },
   {
    "duration": 629,
    "start_time": "2024-09-25T13:09:47.187Z"
   },
   {
    "duration": 35,
    "start_time": "2024-09-25T13:09:47.818Z"
   },
   {
    "duration": 171,
    "start_time": "2024-09-25T13:09:47.855Z"
   },
   {
    "duration": 29549,
    "start_time": "2024-09-25T13:09:48.027Z"
   },
   {
    "duration": 446,
    "start_time": "2024-09-25T13:10:17.578Z"
   },
   {
    "duration": 78,
    "start_time": "2024-09-25T13:10:18.026Z"
   },
   {
    "duration": 374,
    "start_time": "2024-09-25T13:10:18.106Z"
   },
   {
    "duration": 606,
    "start_time": "2024-09-25T13:10:18.482Z"
   },
   {
    "duration": 5,
    "start_time": "2024-09-25T13:10:19.090Z"
   },
   {
    "duration": 15,
    "start_time": "2024-09-25T13:10:19.097Z"
   },
   {
    "duration": 5277,
    "start_time": "2024-09-25T13:10:33.631Z"
   },
   {
    "duration": 3371,
    "start_time": "2024-09-25T13:10:38.911Z"
   },
   {
    "duration": 31,
    "start_time": "2024-09-25T13:10:42.284Z"
   },
   {
    "duration": 5,
    "start_time": "2024-09-25T13:10:42.317Z"
   },
   {
    "duration": 50,
    "start_time": "2024-09-25T13:10:42.323Z"
   },
   {
    "duration": 210,
    "start_time": "2024-09-25T13:10:42.375Z"
   },
   {
    "duration": 207,
    "start_time": "2024-09-25T13:10:42.587Z"
   },
   {
    "duration": 545,
    "start_time": "2024-09-25T13:10:42.796Z"
   },
   {
    "duration": 191,
    "start_time": "2024-09-25T13:10:43.343Z"
   },
   {
    "duration": 4,
    "start_time": "2024-09-25T13:10:43.536Z"
   },
   {
    "duration": 16,
    "start_time": "2024-09-25T13:10:43.542Z"
   },
   {
    "duration": 6,
    "start_time": "2024-09-25T13:10:43.560Z"
   },
   {
    "duration": 44,
    "start_time": "2024-09-25T13:10:43.568Z"
   },
   {
    "duration": 5,
    "start_time": "2024-09-25T13:10:43.613Z"
   },
   {
    "duration": 45,
    "start_time": "2024-09-25T13:10:43.619Z"
   },
   {
    "duration": 3,
    "start_time": "2024-09-25T13:10:43.666Z"
   },
   {
    "duration": 175,
    "start_time": "2024-09-25T13:10:43.670Z"
   },
   {
    "duration": 622,
    "start_time": "2024-09-25T13:10:43.847Z"
   },
   {
    "duration": 23,
    "start_time": "2024-09-25T13:10:44.471Z"
   },
   {
    "duration": 152,
    "start_time": "2024-09-25T13:10:44.495Z"
   },
   {
    "duration": 66946,
    "start_time": "2024-09-25T13:10:44.648Z"
   },
   {
    "duration": 0,
    "start_time": "2024-09-25T13:11:51.596Z"
   },
   {
    "duration": 0,
    "start_time": "2024-09-25T13:11:51.597Z"
   },
   {
    "duration": 0,
    "start_time": "2024-09-25T13:11:51.598Z"
   },
   {
    "duration": 0,
    "start_time": "2024-09-25T13:11:51.599Z"
   },
   {
    "duration": 0,
    "start_time": "2024-09-25T13:11:51.600Z"
   },
   {
    "duration": 0,
    "start_time": "2024-09-25T13:11:51.601Z"
   },
   {
    "duration": 0,
    "start_time": "2024-09-25T13:11:51.602Z"
   },
   {
    "duration": 0,
    "start_time": "2024-09-25T13:11:51.603Z"
   },
   {
    "duration": 5139,
    "start_time": "2024-09-25T13:12:13.212Z"
   },
   {
    "duration": 3364,
    "start_time": "2024-09-25T13:12:18.353Z"
   },
   {
    "duration": 32,
    "start_time": "2024-09-25T13:12:21.718Z"
   },
   {
    "duration": 5,
    "start_time": "2024-09-25T13:12:21.752Z"
   },
   {
    "duration": 61,
    "start_time": "2024-09-25T13:12:21.759Z"
   },
   {
    "duration": 214,
    "start_time": "2024-09-25T13:12:21.821Z"
   },
   {
    "duration": 195,
    "start_time": "2024-09-25T13:12:22.037Z"
   },
   {
    "duration": 554,
    "start_time": "2024-09-25T13:12:22.234Z"
   },
   {
    "duration": 195,
    "start_time": "2024-09-25T13:12:22.791Z"
   },
   {
    "duration": 4,
    "start_time": "2024-09-25T13:12:22.990Z"
   },
   {
    "duration": 13,
    "start_time": "2024-09-25T13:12:22.996Z"
   },
   {
    "duration": 10,
    "start_time": "2024-09-25T13:12:23.011Z"
   },
   {
    "duration": 69,
    "start_time": "2024-09-25T13:12:23.023Z"
   },
   {
    "duration": 4,
    "start_time": "2024-09-25T13:12:23.093Z"
   },
   {
    "duration": 31,
    "start_time": "2024-09-25T13:12:23.099Z"
   },
   {
    "duration": 18,
    "start_time": "2024-09-25T13:12:23.135Z"
   },
   {
    "duration": 187,
    "start_time": "2024-09-25T13:12:23.155Z"
   },
   {
    "duration": 593,
    "start_time": "2024-09-25T13:12:23.343Z"
   },
   {
    "duration": 31,
    "start_time": "2024-09-25T13:12:23.937Z"
   },
   {
    "duration": 315,
    "start_time": "2024-09-25T13:12:23.969Z"
   },
   {
    "duration": 7673,
    "start_time": "2024-09-25T13:12:24.285Z"
   },
   {
    "duration": 0,
    "start_time": "2024-09-25T13:12:31.961Z"
   },
   {
    "duration": 0,
    "start_time": "2024-09-25T13:12:31.962Z"
   },
   {
    "duration": 0,
    "start_time": "2024-09-25T13:12:31.963Z"
   },
   {
    "duration": 0,
    "start_time": "2024-09-25T13:12:31.966Z"
   },
   {
    "duration": 0,
    "start_time": "2024-09-25T13:12:31.967Z"
   },
   {
    "duration": 0,
    "start_time": "2024-09-25T13:12:31.968Z"
   },
   {
    "duration": 0,
    "start_time": "2024-09-25T13:12:31.969Z"
   },
   {
    "duration": 0,
    "start_time": "2024-09-25T13:12:31.970Z"
   },
   {
    "duration": 5187,
    "start_time": "2024-09-25T13:12:56.774Z"
   },
   {
    "duration": 3484,
    "start_time": "2024-09-25T13:13:01.964Z"
   },
   {
    "duration": 32,
    "start_time": "2024-09-25T13:13:05.450Z"
   },
   {
    "duration": 5,
    "start_time": "2024-09-25T13:13:05.485Z"
   },
   {
    "duration": 58,
    "start_time": "2024-09-25T13:13:05.492Z"
   },
   {
    "duration": 202,
    "start_time": "2024-09-25T13:13:05.551Z"
   },
   {
    "duration": 182,
    "start_time": "2024-09-25T13:13:05.754Z"
   },
   {
    "duration": 579,
    "start_time": "2024-09-25T13:13:05.938Z"
   },
   {
    "duration": 188,
    "start_time": "2024-09-25T13:13:06.518Z"
   },
   {
    "duration": 4,
    "start_time": "2024-09-25T13:13:06.709Z"
   },
   {
    "duration": 36,
    "start_time": "2024-09-25T13:13:06.714Z"
   },
   {
    "duration": 44,
    "start_time": "2024-09-25T13:13:06.752Z"
   },
   {
    "duration": 61,
    "start_time": "2024-09-25T13:13:06.797Z"
   },
   {
    "duration": 38,
    "start_time": "2024-09-25T13:13:06.860Z"
   },
   {
    "duration": 80,
    "start_time": "2024-09-25T13:13:06.899Z"
   },
   {
    "duration": 9,
    "start_time": "2024-09-25T13:13:06.981Z"
   },
   {
    "duration": 195,
    "start_time": "2024-09-25T13:13:06.992Z"
   },
   {
    "duration": 638,
    "start_time": "2024-09-25T13:13:07.189Z"
   },
   {
    "duration": 34,
    "start_time": "2024-09-25T13:13:07.829Z"
   },
   {
    "duration": 190,
    "start_time": "2024-09-25T13:13:07.865Z"
   },
   {
    "duration": 279456,
    "start_time": "2024-09-25T13:13:08.057Z"
   },
   {
    "duration": 440,
    "start_time": "2024-09-25T13:17:47.515Z"
   },
   {
    "duration": 65,
    "start_time": "2024-09-25T13:17:47.957Z"
   },
   {
    "duration": 408,
    "start_time": "2024-09-25T13:17:48.024Z"
   },
   {
    "duration": 613,
    "start_time": "2024-09-25T13:17:48.434Z"
   },
   {
    "duration": 6,
    "start_time": "2024-09-25T13:17:49.048Z"
   },
   {
    "duration": 12,
    "start_time": "2024-09-25T13:17:49.055Z"
   },
   {
    "duration": 267582,
    "start_time": "2024-09-25T13:17:49.069Z"
   },
   {
    "duration": 0,
    "start_time": "2024-09-25T13:22:16.653Z"
   },
   {
    "duration": 263592,
    "start_time": "2024-09-25T13:23:59.004Z"
   },
   {
    "duration": 0,
    "start_time": "2024-09-25T13:28:22.598Z"
   },
   {
    "duration": 5224,
    "start_time": "2024-09-25T13:31:58.343Z"
   },
   {
    "duration": 3566,
    "start_time": "2024-09-25T13:32:03.570Z"
   },
   {
    "duration": 32,
    "start_time": "2024-09-25T13:32:07.137Z"
   },
   {
    "duration": 6,
    "start_time": "2024-09-25T13:32:07.171Z"
   },
   {
    "duration": 79,
    "start_time": "2024-09-25T13:32:07.180Z"
   },
   {
    "duration": 215,
    "start_time": "2024-09-25T13:32:07.260Z"
   },
   {
    "duration": 202,
    "start_time": "2024-09-25T13:32:07.477Z"
   },
   {
    "duration": 529,
    "start_time": "2024-09-25T13:32:07.681Z"
   },
   {
    "duration": 205,
    "start_time": "2024-09-25T13:32:08.211Z"
   },
   {
    "duration": 6,
    "start_time": "2024-09-25T13:32:08.417Z"
   },
   {
    "duration": 4,
    "start_time": "2024-09-25T13:32:08.425Z"
   },
   {
    "duration": 22,
    "start_time": "2024-09-25T13:32:08.431Z"
   },
   {
    "duration": 51,
    "start_time": "2024-09-25T13:32:08.455Z"
   },
   {
    "duration": 5,
    "start_time": "2024-09-25T13:32:08.509Z"
   },
   {
    "duration": 39,
    "start_time": "2024-09-25T13:32:08.515Z"
   },
   {
    "duration": 4,
    "start_time": "2024-09-25T13:32:08.555Z"
   },
   {
    "duration": 180,
    "start_time": "2024-09-25T13:32:08.560Z"
   },
   {
    "duration": 606,
    "start_time": "2024-09-25T13:32:08.741Z"
   },
   {
    "duration": 25,
    "start_time": "2024-09-25T13:32:09.348Z"
   },
   {
    "duration": 180,
    "start_time": "2024-09-25T13:32:09.375Z"
   },
   {
    "duration": 557512,
    "start_time": "2024-09-25T13:32:09.556Z"
   },
   {
    "duration": 539,
    "start_time": "2024-09-25T13:41:27.071Z"
   },
   {
    "duration": 91,
    "start_time": "2024-09-25T13:41:27.612Z"
   },
   {
    "duration": 395,
    "start_time": "2024-09-25T13:41:27.705Z"
   },
   {
    "duration": 625,
    "start_time": "2024-09-25T13:41:28.102Z"
   },
   {
    "duration": 5,
    "start_time": "2024-09-25T13:41:28.729Z"
   },
   {
    "duration": 17,
    "start_time": "2024-09-25T13:41:28.736Z"
   },
   {
    "duration": 528526,
    "start_time": "2024-09-25T13:41:28.755Z"
   },
   {
    "duration": 0,
    "start_time": "2024-09-25T13:50:17.284Z"
   },
   {
    "duration": 4113,
    "start_time": "2024-09-25T13:56:57.568Z"
   },
   {
    "duration": 0,
    "start_time": "2024-09-25T13:57:01.682Z"
   },
   {
    "duration": 2,
    "start_time": "2024-09-25T13:57:09.156Z"
   },
   {
    "duration": 44116,
    "start_time": "2024-09-25T13:57:09.462Z"
   },
   {
    "duration": 0,
    "start_time": "2024-09-25T13:57:53.580Z"
   },
   {
    "duration": 5056,
    "start_time": "2024-09-25T13:57:59.501Z"
   },
   {
    "duration": 3407,
    "start_time": "2024-09-25T13:58:04.560Z"
   },
   {
    "duration": 32,
    "start_time": "2024-09-25T13:58:07.969Z"
   },
   {
    "duration": 4,
    "start_time": "2024-09-25T13:58:08.003Z"
   },
   {
    "duration": 45,
    "start_time": "2024-09-25T13:58:08.008Z"
   },
   {
    "duration": 205,
    "start_time": "2024-09-25T13:58:08.056Z"
   },
   {
    "duration": 207,
    "start_time": "2024-09-25T13:58:08.263Z"
   },
   {
    "duration": 554,
    "start_time": "2024-09-25T13:58:08.472Z"
   },
   {
    "duration": 190,
    "start_time": "2024-09-25T13:58:09.028Z"
   },
   {
    "duration": 4,
    "start_time": "2024-09-25T13:58:09.221Z"
   },
   {
    "duration": 5,
    "start_time": "2024-09-25T13:58:09.227Z"
   },
   {
    "duration": 5,
    "start_time": "2024-09-25T13:58:09.233Z"
   },
   {
    "duration": 54,
    "start_time": "2024-09-25T13:58:09.239Z"
   },
   {
    "duration": 4,
    "start_time": "2024-09-25T13:58:09.295Z"
   },
   {
    "duration": 35,
    "start_time": "2024-09-25T13:58:09.301Z"
   },
   {
    "duration": 3,
    "start_time": "2024-09-25T13:58:09.352Z"
   },
   {
    "duration": 166,
    "start_time": "2024-09-25T13:58:09.356Z"
   },
   {
    "duration": 593,
    "start_time": "2024-09-25T13:58:09.524Z"
   },
   {
    "duration": 36,
    "start_time": "2024-09-25T13:58:10.119Z"
   },
   {
    "duration": 185,
    "start_time": "2024-09-25T13:58:10.156Z"
   },
   {
    "duration": 274669,
    "start_time": "2024-09-25T13:58:10.353Z"
   },
   {
    "duration": 442,
    "start_time": "2024-09-25T14:02:45.053Z"
   },
   {
    "duration": 75,
    "start_time": "2024-09-25T14:02:45.497Z"
   },
   {
    "duration": 386,
    "start_time": "2024-09-25T14:02:45.574Z"
   },
   {
    "duration": 618,
    "start_time": "2024-09-25T14:02:45.963Z"
   },
   {
    "duration": 5,
    "start_time": "2024-09-25T14:02:46.583Z"
   },
   {
    "duration": 5,
    "start_time": "2024-09-25T14:02:46.590Z"
   },
   {
    "duration": 1565621,
    "start_time": "2024-09-25T14:02:46.597Z"
   },
   {
    "duration": 1222,
    "start_time": "2024-09-25T14:28:52.220Z"
   },
   {
    "duration": 4897,
    "start_time": "2024-09-25T14:44:20.790Z"
   },
   {
    "duration": 3439,
    "start_time": "2024-09-25T14:44:25.690Z"
   },
   {
    "duration": 31,
    "start_time": "2024-09-25T14:44:29.131Z"
   },
   {
    "duration": 4,
    "start_time": "2024-09-25T14:44:29.164Z"
   },
   {
    "duration": 51,
    "start_time": "2024-09-25T14:44:29.169Z"
   },
   {
    "duration": 188,
    "start_time": "2024-09-25T14:44:29.221Z"
   },
   {
    "duration": 194,
    "start_time": "2024-09-25T14:44:29.411Z"
   },
   {
    "duration": 534,
    "start_time": "2024-09-25T14:44:29.606Z"
   },
   {
    "duration": 202,
    "start_time": "2024-09-25T14:44:30.142Z"
   },
   {
    "duration": 5,
    "start_time": "2024-09-25T14:44:30.352Z"
   },
   {
    "duration": 25,
    "start_time": "2024-09-25T14:44:30.358Z"
   },
   {
    "duration": 17,
    "start_time": "2024-09-25T14:44:30.384Z"
   },
   {
    "duration": 77,
    "start_time": "2024-09-25T14:44:30.402Z"
   },
   {
    "duration": 5,
    "start_time": "2024-09-25T14:44:30.480Z"
   },
   {
    "duration": 34,
    "start_time": "2024-09-25T14:44:30.486Z"
   },
   {
    "duration": 3,
    "start_time": "2024-09-25T14:44:30.521Z"
   },
   {
    "duration": 169,
    "start_time": "2024-09-25T14:44:30.525Z"
   },
   {
    "duration": 580,
    "start_time": "2024-09-25T14:44:30.696Z"
   },
   {
    "duration": 26,
    "start_time": "2024-09-25T14:44:31.278Z"
   },
   {
    "duration": 166,
    "start_time": "2024-09-25T14:44:31.305Z"
   },
   {
    "duration": 134534,
    "start_time": "2024-09-25T14:44:31.473Z"
   },
   {
    "duration": 457,
    "start_time": "2024-09-25T14:46:46.009Z"
   },
   {
    "duration": 88,
    "start_time": "2024-09-25T14:46:46.468Z"
   },
   {
    "duration": 370,
    "start_time": "2024-09-25T14:46:46.558Z"
   },
   {
    "duration": 695,
    "start_time": "2024-09-25T14:46:46.931Z"
   },
   {
    "duration": 6,
    "start_time": "2024-09-25T14:46:47.628Z"
   },
   {
    "duration": 26,
    "start_time": "2024-09-25T14:46:47.636Z"
   },
   {
    "duration": 435231,
    "start_time": "2024-09-25T14:46:47.666Z"
   },
   {
    "duration": 0,
    "start_time": "2024-09-25T14:54:02.899Z"
   },
   {
    "duration": 5263,
    "start_time": "2024-09-25T14:54:53.639Z"
   },
   {
    "duration": 3334,
    "start_time": "2024-09-25T14:54:58.905Z"
   },
   {
    "duration": 31,
    "start_time": "2024-09-25T14:55:02.241Z"
   },
   {
    "duration": 6,
    "start_time": "2024-09-25T14:55:02.274Z"
   },
   {
    "duration": 96,
    "start_time": "2024-09-25T14:55:02.282Z"
   },
   {
    "duration": 213,
    "start_time": "2024-09-25T14:55:02.380Z"
   },
   {
    "duration": 199,
    "start_time": "2024-09-25T14:55:02.595Z"
   },
   {
    "duration": 554,
    "start_time": "2024-09-25T14:55:02.796Z"
   },
   {
    "duration": 186,
    "start_time": "2024-09-25T14:55:03.353Z"
   },
   {
    "duration": 14,
    "start_time": "2024-09-25T14:55:03.541Z"
   },
   {
    "duration": 16,
    "start_time": "2024-09-25T14:55:03.557Z"
   },
   {
    "duration": 8,
    "start_time": "2024-09-25T14:55:03.575Z"
   },
   {
    "duration": 58,
    "start_time": "2024-09-25T14:55:03.585Z"
   },
   {
    "duration": 7,
    "start_time": "2024-09-25T14:55:03.646Z"
   },
   {
    "duration": 33,
    "start_time": "2024-09-25T14:55:03.655Z"
   },
   {
    "duration": 4,
    "start_time": "2024-09-25T14:55:03.690Z"
   },
   {
    "duration": 176,
    "start_time": "2024-09-25T14:55:03.695Z"
   },
   {
    "duration": 595,
    "start_time": "2024-09-25T14:55:03.873Z"
   },
   {
    "duration": 24,
    "start_time": "2024-09-25T14:55:04.470Z"
   },
   {
    "duration": 219,
    "start_time": "2024-09-25T14:55:04.495Z"
   },
   {
    "duration": 1253699,
    "start_time": "2024-09-25T14:55:04.716Z"
   },
   {
    "duration": 0,
    "start_time": "2024-09-25T15:15:58.417Z"
   },
   {
    "duration": 0,
    "start_time": "2024-09-25T15:15:58.418Z"
   },
   {
    "duration": 0,
    "start_time": "2024-09-25T15:15:58.419Z"
   },
   {
    "duration": 0,
    "start_time": "2024-09-25T15:15:58.421Z"
   },
   {
    "duration": 0,
    "start_time": "2024-09-25T15:15:58.422Z"
   },
   {
    "duration": 0,
    "start_time": "2024-09-25T15:15:58.423Z"
   },
   {
    "duration": 0,
    "start_time": "2024-09-25T15:15:58.424Z"
   },
   {
    "duration": 0,
    "start_time": "2024-09-25T15:15:58.425Z"
   },
   {
    "duration": 5179,
    "start_time": "2024-09-25T15:16:23.566Z"
   },
   {
    "duration": 3483,
    "start_time": "2024-09-25T15:16:28.747Z"
   },
   {
    "duration": 32,
    "start_time": "2024-09-25T15:16:32.232Z"
   },
   {
    "duration": 4,
    "start_time": "2024-09-25T15:16:32.265Z"
   },
   {
    "duration": 48,
    "start_time": "2024-09-25T15:16:32.271Z"
   },
   {
    "duration": 222,
    "start_time": "2024-09-25T15:16:32.321Z"
   },
   {
    "duration": 210,
    "start_time": "2024-09-25T15:16:32.545Z"
   },
   {
    "duration": 544,
    "start_time": "2024-09-25T15:16:32.757Z"
   },
   {
    "duration": 188,
    "start_time": "2024-09-25T15:16:33.303Z"
   },
   {
    "duration": 6,
    "start_time": "2024-09-25T15:16:33.492Z"
   },
   {
    "duration": 22,
    "start_time": "2024-09-25T15:16:33.500Z"
   },
   {
    "duration": 15,
    "start_time": "2024-09-25T15:16:33.524Z"
   },
   {
    "duration": 43,
    "start_time": "2024-09-25T15:16:33.541Z"
   },
   {
    "duration": 5,
    "start_time": "2024-09-25T15:16:33.588Z"
   },
   {
    "duration": 30,
    "start_time": "2024-09-25T15:16:33.595Z"
   },
   {
    "duration": 5,
    "start_time": "2024-09-25T15:16:33.627Z"
   },
   {
    "duration": 181,
    "start_time": "2024-09-25T15:16:33.634Z"
   },
   {
    "duration": 621,
    "start_time": "2024-09-25T15:16:33.817Z"
   },
   {
    "duration": 36,
    "start_time": "2024-09-25T15:16:34.440Z"
   },
   {
    "duration": 179,
    "start_time": "2024-09-25T15:16:34.478Z"
   },
   {
    "duration": 516850,
    "start_time": "2024-09-25T15:16:34.659Z"
   },
   {
    "duration": 512,
    "start_time": "2024-09-25T15:25:11.512Z"
   },
   {
    "duration": 86,
    "start_time": "2024-09-25T15:25:12.026Z"
   },
   {
    "duration": 410,
    "start_time": "2024-09-25T15:25:12.114Z"
   },
   {
    "duration": 630,
    "start_time": "2024-09-25T15:25:12.526Z"
   },
   {
    "duration": 6,
    "start_time": "2024-09-25T15:25:13.157Z"
   },
   {
    "duration": 5,
    "start_time": "2024-09-25T15:25:13.164Z"
   },
   {
    "duration": 2827197,
    "start_time": "2024-09-25T15:25:13.171Z"
   },
   {
    "duration": 1199,
    "start_time": "2024-09-25T16:12:20.370Z"
   },
   {
    "duration": 69443,
    "start_time": "2024-09-26T08:28:08.144Z"
   },
   {
    "duration": 5227,
    "start_time": "2024-09-26T08:29:17.590Z"
   },
   {
    "duration": 0,
    "start_time": "2024-09-26T08:29:22.820Z"
   },
   {
    "duration": 0,
    "start_time": "2024-09-26T08:29:22.821Z"
   },
   {
    "duration": 0,
    "start_time": "2024-09-26T08:29:22.823Z"
   },
   {
    "duration": 0,
    "start_time": "2024-09-26T08:29:22.824Z"
   },
   {
    "duration": 0,
    "start_time": "2024-09-26T08:29:22.825Z"
   },
   {
    "duration": 0,
    "start_time": "2024-09-26T08:29:22.827Z"
   },
   {
    "duration": 0,
    "start_time": "2024-09-26T08:29:22.828Z"
   },
   {
    "duration": 0,
    "start_time": "2024-09-26T08:29:22.830Z"
   },
   {
    "duration": 0,
    "start_time": "2024-09-26T08:29:22.831Z"
   },
   {
    "duration": 0,
    "start_time": "2024-09-26T08:29:22.833Z"
   },
   {
    "duration": 0,
    "start_time": "2024-09-26T08:29:22.835Z"
   },
   {
    "duration": 0,
    "start_time": "2024-09-26T08:29:22.836Z"
   },
   {
    "duration": 0,
    "start_time": "2024-09-26T08:29:22.837Z"
   },
   {
    "duration": 0,
    "start_time": "2024-09-26T08:29:22.839Z"
   },
   {
    "duration": 0,
    "start_time": "2024-09-26T08:29:22.877Z"
   },
   {
    "duration": 0,
    "start_time": "2024-09-26T08:29:22.878Z"
   },
   {
    "duration": 0,
    "start_time": "2024-09-26T08:29:22.880Z"
   },
   {
    "duration": 0,
    "start_time": "2024-09-26T08:29:22.881Z"
   },
   {
    "duration": 0,
    "start_time": "2024-09-26T08:29:22.883Z"
   },
   {
    "duration": 0,
    "start_time": "2024-09-26T08:29:22.884Z"
   },
   {
    "duration": 0,
    "start_time": "2024-09-26T08:29:22.885Z"
   },
   {
    "duration": 0,
    "start_time": "2024-09-26T08:29:22.886Z"
   },
   {
    "duration": 0,
    "start_time": "2024-09-26T08:29:22.887Z"
   },
   {
    "duration": 0,
    "start_time": "2024-09-26T08:29:22.888Z"
   },
   {
    "duration": 0,
    "start_time": "2024-09-26T08:29:22.889Z"
   },
   {
    "duration": 0,
    "start_time": "2024-09-26T08:29:22.891Z"
   },
   {
    "duration": 0,
    "start_time": "2024-09-26T08:29:22.893Z"
   },
   {
    "duration": 0,
    "start_time": "2024-09-26T08:29:22.894Z"
   },
   {
    "duration": 36673,
    "start_time": "2024-09-26T08:29:33.830Z"
   },
   {
    "duration": 12453,
    "start_time": "2024-09-26T08:30:10.505Z"
   },
   {
    "duration": 383,
    "start_time": "2024-09-26T08:30:22.960Z"
   },
   {
    "duration": 1591,
    "start_time": "2024-09-26T08:30:23.345Z"
   },
   {
    "duration": 4843,
    "start_time": "2024-09-26T08:30:24.938Z"
   },
   {
    "duration": 1882,
    "start_time": "2024-09-26T08:30:29.782Z"
   },
   {
    "duration": 213,
    "start_time": "2024-09-26T08:30:31.665Z"
   },
   {
    "duration": 608,
    "start_time": "2024-09-26T08:30:31.880Z"
   },
   {
    "duration": 222,
    "start_time": "2024-09-26T08:30:32.490Z"
   },
   {
    "duration": 5,
    "start_time": "2024-09-26T08:30:32.715Z"
   },
   {
    "duration": 21,
    "start_time": "2024-09-26T08:30:32.722Z"
   },
   {
    "duration": 8,
    "start_time": "2024-09-26T08:30:32.745Z"
   },
   {
    "duration": 68,
    "start_time": "2024-09-26T08:30:32.755Z"
   },
   {
    "duration": 5,
    "start_time": "2024-09-26T08:30:32.825Z"
   },
   {
    "duration": 79,
    "start_time": "2024-09-26T08:30:32.831Z"
   },
   {
    "duration": 4,
    "start_time": "2024-09-26T08:30:32.912Z"
   },
   {
    "duration": 205,
    "start_time": "2024-09-26T08:30:32.918Z"
   },
   {
    "duration": 664,
    "start_time": "2024-09-26T08:30:33.125Z"
   },
   {
    "duration": 30,
    "start_time": "2024-09-26T08:30:33.792Z"
   },
   {
    "duration": 27,
    "start_time": "2024-09-26T08:30:33.823Z"
   },
   {
    "duration": 28228,
    "start_time": "2024-09-26T08:30:33.852Z"
   },
   {
    "duration": 0,
    "start_time": "2024-09-26T08:31:02.081Z"
   },
   {
    "duration": 0,
    "start_time": "2024-09-26T08:31:02.083Z"
   },
   {
    "duration": 0,
    "start_time": "2024-09-26T08:31:02.084Z"
   },
   {
    "duration": 0,
    "start_time": "2024-09-26T08:31:02.085Z"
   },
   {
    "duration": 0,
    "start_time": "2024-09-26T08:31:02.086Z"
   },
   {
    "duration": 0,
    "start_time": "2024-09-26T08:31:02.087Z"
   },
   {
    "duration": 0,
    "start_time": "2024-09-26T08:31:02.088Z"
   },
   {
    "duration": 0,
    "start_time": "2024-09-26T08:31:02.089Z"
   },
   {
    "duration": 0,
    "start_time": "2024-09-26T08:31:02.090Z"
   },
   {
    "duration": 3,
    "start_time": "2024-09-26T08:31:26.165Z"
   },
   {
    "duration": 26498,
    "start_time": "2024-09-26T08:31:26.725Z"
   },
   {
    "duration": 67,
    "start_time": "2024-09-26T08:32:49.633Z"
   },
   {
    "duration": 33,
    "start_time": "2024-09-26T08:33:46.505Z"
   },
   {
    "duration": 80,
    "start_time": "2024-09-26T08:33:47.761Z"
   },
   {
    "duration": 63253,
    "start_time": "2024-09-26T08:34:28.645Z"
   },
   {
    "duration": 5464,
    "start_time": "2024-09-26T08:36:00.562Z"
   },
   {
    "duration": 3762,
    "start_time": "2024-09-26T08:36:06.029Z"
   },
   {
    "duration": 32,
    "start_time": "2024-09-26T08:36:09.793Z"
   },
   {
    "duration": 4,
    "start_time": "2024-09-26T08:36:09.827Z"
   },
   {
    "duration": 50,
    "start_time": "2024-09-26T08:36:09.833Z"
   },
   {
    "duration": 244,
    "start_time": "2024-09-26T08:36:09.885Z"
   },
   {
    "duration": 219,
    "start_time": "2024-09-26T08:36:10.131Z"
   },
   {
    "duration": 606,
    "start_time": "2024-09-26T08:36:10.352Z"
   },
   {
    "duration": 216,
    "start_time": "2024-09-26T08:36:10.960Z"
   },
   {
    "duration": 7,
    "start_time": "2024-09-26T08:36:11.180Z"
   },
   {
    "duration": 8,
    "start_time": "2024-09-26T08:36:11.190Z"
   },
   {
    "duration": 18,
    "start_time": "2024-09-26T08:36:11.201Z"
   },
   {
    "duration": 68,
    "start_time": "2024-09-26T08:36:11.221Z"
   },
   {
    "duration": 6,
    "start_time": "2024-09-26T08:36:11.292Z"
   },
   {
    "duration": 36,
    "start_time": "2024-09-26T08:36:11.300Z"
   },
   {
    "duration": 4,
    "start_time": "2024-09-26T08:36:11.338Z"
   },
   {
    "duration": 204,
    "start_time": "2024-09-26T08:36:11.344Z"
   },
   {
    "duration": 652,
    "start_time": "2024-09-26T08:36:11.550Z"
   },
   {
    "duration": 26,
    "start_time": "2024-09-26T08:36:12.204Z"
   },
   {
    "duration": 527212,
    "start_time": "2024-09-26T08:36:12.232Z"
   },
   {
    "duration": 4,
    "start_time": "2024-09-26T08:44:59.446Z"
   },
   {
    "duration": 18248,
    "start_time": "2024-09-26T08:44:59.452Z"
   },
   {
    "duration": 0,
    "start_time": "2024-09-26T08:45:17.702Z"
   },
   {
    "duration": 0,
    "start_time": "2024-09-26T08:45:17.704Z"
   },
   {
    "duration": 0,
    "start_time": "2024-09-26T08:45:17.706Z"
   },
   {
    "duration": 0,
    "start_time": "2024-09-26T08:45:17.707Z"
   },
   {
    "duration": 0,
    "start_time": "2024-09-26T08:45:17.709Z"
   },
   {
    "duration": 0,
    "start_time": "2024-09-26T08:45:17.711Z"
   },
   {
    "duration": 0,
    "start_time": "2024-09-26T08:45:17.712Z"
   },
   {
    "duration": 0,
    "start_time": "2024-09-26T08:45:17.714Z"
   },
   {
    "duration": 5678,
    "start_time": "2024-09-26T08:47:02.991Z"
   },
   {
    "duration": 3646,
    "start_time": "2024-09-26T08:47:08.672Z"
   },
   {
    "duration": 32,
    "start_time": "2024-09-26T08:47:12.320Z"
   },
   {
    "duration": 4,
    "start_time": "2024-09-26T08:47:12.355Z"
   },
   {
    "duration": 51,
    "start_time": "2024-09-26T08:47:12.361Z"
   },
   {
    "duration": 239,
    "start_time": "2024-09-26T08:47:12.414Z"
   },
   {
    "duration": 213,
    "start_time": "2024-09-26T08:47:12.655Z"
   },
   {
    "duration": 549,
    "start_time": "2024-09-26T08:47:12.870Z"
   },
   {
    "duration": 211,
    "start_time": "2024-09-26T08:47:13.421Z"
   },
   {
    "duration": 5,
    "start_time": "2024-09-26T08:47:13.635Z"
   },
   {
    "duration": 38,
    "start_time": "2024-09-26T08:47:13.641Z"
   },
   {
    "duration": 5,
    "start_time": "2024-09-26T08:47:13.681Z"
   },
   {
    "duration": 52,
    "start_time": "2024-09-26T08:47:13.688Z"
   },
   {
    "duration": 5,
    "start_time": "2024-09-26T08:47:13.742Z"
   },
   {
    "duration": 41,
    "start_time": "2024-09-26T08:47:13.749Z"
   },
   {
    "duration": 4,
    "start_time": "2024-09-26T08:47:13.792Z"
   },
   {
    "duration": 209,
    "start_time": "2024-09-26T08:47:13.798Z"
   },
   {
    "duration": 668,
    "start_time": "2024-09-26T08:47:14.010Z"
   },
   {
    "duration": 28,
    "start_time": "2024-09-26T08:47:14.680Z"
   },
   {
    "duration": 3,
    "start_time": "2024-09-26T08:47:14.710Z"
   },
   {
    "duration": 146009,
    "start_time": "2024-09-26T08:47:14.716Z"
   },
   {
    "duration": 381,
    "start_time": "2024-09-26T08:49:40.727Z"
   },
   {
    "duration": 76,
    "start_time": "2024-09-26T08:49:41.110Z"
   },
   {
    "duration": 498,
    "start_time": "2024-09-26T08:49:41.187Z"
   },
   {
    "duration": 663,
    "start_time": "2024-09-26T08:49:41.687Z"
   },
   {
    "duration": 6,
    "start_time": "2024-09-26T08:49:42.352Z"
   },
   {
    "duration": 16,
    "start_time": "2024-09-26T08:49:42.360Z"
   },
   {
    "duration": 152096,
    "start_time": "2024-09-26T08:49:42.380Z"
   },
   {
    "duration": 0,
    "start_time": "2024-09-26T08:52:14.478Z"
   },
   {
    "duration": 29264,
    "start_time": "2024-09-26T08:52:17.639Z"
   },
   {
    "duration": 392,
    "start_time": "2024-09-26T08:52:46.906Z"
   },
   {
    "duration": 93188,
    "start_time": "2024-09-26T08:53:01.805Z"
   },
   {
    "duration": 398,
    "start_time": "2024-09-26T08:54:34.995Z"
   },
   {
    "duration": 108,
    "start_time": "2024-09-26T08:54:35.395Z"
   },
   {
    "duration": 5792,
    "start_time": "2024-09-26T09:01:37.286Z"
   },
   {
    "duration": 3716,
    "start_time": "2024-09-26T09:01:43.082Z"
   },
   {
    "duration": 33,
    "start_time": "2024-09-26T09:01:46.800Z"
   },
   {
    "duration": 5,
    "start_time": "2024-09-26T09:01:46.835Z"
   },
   {
    "duration": 54,
    "start_time": "2024-09-26T09:01:46.841Z"
   },
   {
    "duration": 231,
    "start_time": "2024-09-26T09:01:46.897Z"
   },
   {
    "duration": 208,
    "start_time": "2024-09-26T09:01:47.129Z"
   },
   {
    "duration": 578,
    "start_time": "2024-09-26T09:01:47.340Z"
   },
   {
    "duration": 216,
    "start_time": "2024-09-26T09:01:47.920Z"
   },
   {
    "duration": 5,
    "start_time": "2024-09-26T09:01:48.139Z"
   },
   {
    "duration": 7,
    "start_time": "2024-09-26T09:01:48.145Z"
   },
   {
    "duration": 8,
    "start_time": "2024-09-26T09:01:48.153Z"
   },
   {
    "duration": 69,
    "start_time": "2024-09-26T09:01:48.179Z"
   },
   {
    "duration": 7,
    "start_time": "2024-09-26T09:01:48.250Z"
   },
   {
    "duration": 51,
    "start_time": "2024-09-26T09:01:48.259Z"
   },
   {
    "duration": 3,
    "start_time": "2024-09-26T09:01:48.312Z"
   },
   {
    "duration": 200,
    "start_time": "2024-09-26T09:01:48.316Z"
   },
   {
    "duration": 701,
    "start_time": "2024-09-26T09:01:48.518Z"
   },
   {
    "duration": 29,
    "start_time": "2024-09-26T09:01:49.221Z"
   },
   {
    "duration": 7,
    "start_time": "2024-09-26T09:01:49.252Z"
   },
   {
    "duration": 142739,
    "start_time": "2024-09-26T09:01:49.261Z"
   },
   {
    "duration": 394,
    "start_time": "2024-09-26T09:04:12.003Z"
   },
   {
    "duration": 86,
    "start_time": "2024-09-26T09:04:12.399Z"
   },
   {
    "duration": 538,
    "start_time": "2024-09-26T09:04:12.487Z"
   },
   {
    "duration": 634,
    "start_time": "2024-09-26T09:04:13.028Z"
   },
   {
    "duration": 56043,
    "start_time": "2024-09-26T09:04:13.664Z"
   },
   {
    "duration": 0,
    "start_time": "2024-09-26T09:05:09.709Z"
   },
   {
    "duration": 5594,
    "start_time": "2024-09-26T09:05:16.136Z"
   },
   {
    "duration": 3387,
    "start_time": "2024-09-26T09:05:21.733Z"
   },
   {
    "duration": 30,
    "start_time": "2024-09-26T09:05:25.123Z"
   },
   {
    "duration": 4,
    "start_time": "2024-09-26T09:05:25.155Z"
   },
   {
    "duration": 44,
    "start_time": "2024-09-26T09:05:25.161Z"
   },
   {
    "duration": 211,
    "start_time": "2024-09-26T09:05:25.206Z"
   },
   {
    "duration": 199,
    "start_time": "2024-09-26T09:05:25.418Z"
   },
   {
    "duration": 527,
    "start_time": "2024-09-26T09:05:25.619Z"
   },
   {
    "duration": 205,
    "start_time": "2024-09-26T09:05:26.148Z"
   },
   {
    "duration": 5,
    "start_time": "2024-09-26T09:05:26.356Z"
   },
   {
    "duration": 56,
    "start_time": "2024-09-26T09:05:26.362Z"
   },
   {
    "duration": 8,
    "start_time": "2024-09-26T09:05:26.421Z"
   },
   {
    "duration": 48,
    "start_time": "2024-09-26T09:05:26.431Z"
   },
   {
    "duration": 5,
    "start_time": "2024-09-26T09:05:26.481Z"
   },
   {
    "duration": 30,
    "start_time": "2024-09-26T09:05:26.488Z"
   },
   {
    "duration": 3,
    "start_time": "2024-09-26T09:05:26.520Z"
   },
   {
    "duration": 202,
    "start_time": "2024-09-26T09:05:26.524Z"
   },
   {
    "duration": 625,
    "start_time": "2024-09-26T09:05:26.728Z"
   },
   {
    "duration": 31,
    "start_time": "2024-09-26T09:05:27.354Z"
   },
   {
    "duration": 8,
    "start_time": "2024-09-26T09:05:27.387Z"
   },
   {
    "duration": 465617,
    "start_time": "2024-09-26T09:05:27.397Z"
   },
   {
    "duration": 380,
    "start_time": "2024-09-26T09:13:13.017Z"
   },
   {
    "duration": 123,
    "start_time": "2024-09-26T09:13:13.399Z"
   },
   {
    "duration": 504,
    "start_time": "2024-09-26T09:13:13.525Z"
   },
   {
    "duration": 648,
    "start_time": "2024-09-26T09:13:14.031Z"
   },
   {
    "duration": 662642,
    "start_time": "2024-09-26T09:13:14.681Z"
   },
   {
    "duration": 0,
    "start_time": "2024-09-26T09:24:17.325Z"
   },
   {
    "duration": 5840,
    "start_time": "2024-09-26T09:25:09.136Z"
   },
   {
    "duration": 3762,
    "start_time": "2024-09-26T09:25:14.980Z"
   },
   {
    "duration": 31,
    "start_time": "2024-09-26T09:25:18.743Z"
   },
   {
    "duration": 7,
    "start_time": "2024-09-26T09:25:18.777Z"
   },
   {
    "duration": 59,
    "start_time": "2024-09-26T09:25:18.787Z"
   },
   {
    "duration": 260,
    "start_time": "2024-09-26T09:25:18.847Z"
   },
   {
    "duration": 230,
    "start_time": "2024-09-26T09:25:19.108Z"
   },
   {
    "duration": 590,
    "start_time": "2024-09-26T09:25:19.340Z"
   },
   {
    "duration": 218,
    "start_time": "2024-09-26T09:25:19.931Z"
   },
   {
    "duration": 5,
    "start_time": "2024-09-26T09:25:20.152Z"
   },
   {
    "duration": 21,
    "start_time": "2024-09-26T09:25:20.159Z"
   },
   {
    "duration": 8,
    "start_time": "2024-09-26T09:25:20.182Z"
   },
   {
    "duration": 46,
    "start_time": "2024-09-26T09:25:20.193Z"
   },
   {
    "duration": 5,
    "start_time": "2024-09-26T09:25:20.240Z"
   },
   {
    "duration": 73,
    "start_time": "2024-09-26T09:25:20.246Z"
   },
   {
    "duration": 3,
    "start_time": "2024-09-26T09:25:20.321Z"
   },
   {
    "duration": 207,
    "start_time": "2024-09-26T09:25:20.325Z"
   },
   {
    "duration": 677,
    "start_time": "2024-09-26T09:25:20.534Z"
   },
   {
    "duration": 25,
    "start_time": "2024-09-26T09:25:21.213Z"
   },
   {
    "duration": 3,
    "start_time": "2024-09-26T09:25:21.240Z"
   },
   {
    "duration": 748991,
    "start_time": "2024-09-26T09:25:21.245Z"
   },
   {
    "duration": 420,
    "start_time": "2024-09-26T09:37:50.238Z"
   },
   {
    "duration": 88,
    "start_time": "2024-09-26T09:37:50.661Z"
   },
   {
    "duration": 522,
    "start_time": "2024-09-26T09:37:50.751Z"
   },
   {
    "duration": 711,
    "start_time": "2024-09-26T09:37:51.275Z"
   },
   {
    "duration": 470808,
    "start_time": "2024-09-26T09:37:51.989Z"
   },
   {
    "duration": 0,
    "start_time": "2024-09-26T09:45:42.798Z"
   },
   {
    "duration": 5969,
    "start_time": "2024-09-26T09:47:00.477Z"
   },
   {
    "duration": 3883,
    "start_time": "2024-09-26T09:47:06.449Z"
   },
   {
    "duration": 32,
    "start_time": "2024-09-26T09:47:10.334Z"
   },
   {
    "duration": 5,
    "start_time": "2024-09-26T09:47:10.368Z"
   },
   {
    "duration": 54,
    "start_time": "2024-09-26T09:47:10.375Z"
   },
   {
    "duration": 287,
    "start_time": "2024-09-26T09:47:10.431Z"
   },
   {
    "duration": 222,
    "start_time": "2024-09-26T09:47:10.719Z"
   },
   {
    "duration": 609,
    "start_time": "2024-09-26T09:47:10.942Z"
   },
   {
    "duration": 217,
    "start_time": "2024-09-26T09:47:11.554Z"
   },
   {
    "duration": 6,
    "start_time": "2024-09-26T09:47:11.775Z"
   },
   {
    "duration": 9,
    "start_time": "2024-09-26T09:47:11.783Z"
   },
   {
    "duration": 61,
    "start_time": "2024-09-26T09:47:11.795Z"
   },
   {
    "duration": 51,
    "start_time": "2024-09-26T09:47:11.858Z"
   },
   {
    "duration": 4,
    "start_time": "2024-09-26T09:47:11.911Z"
   },
   {
    "duration": 33,
    "start_time": "2024-09-26T09:47:11.917Z"
   },
   {
    "duration": 3,
    "start_time": "2024-09-26T09:47:11.952Z"
   },
   {
    "duration": 195,
    "start_time": "2024-09-26T09:47:11.975Z"
   },
   {
    "duration": 664,
    "start_time": "2024-09-26T09:47:12.172Z"
   },
   {
    "duration": 26,
    "start_time": "2024-09-26T09:47:12.837Z"
   },
   {
    "duration": 11,
    "start_time": "2024-09-26T09:47:12.865Z"
   },
   {
    "duration": 325175,
    "start_time": "2024-09-26T09:47:12.878Z"
   },
   {
    "duration": 478,
    "start_time": "2024-09-26T09:52:38.055Z"
   },
   {
    "duration": 531,
    "start_time": "2024-09-26T09:52:38.534Z"
   },
   {
    "duration": 728,
    "start_time": "2024-09-26T09:52:39.067Z"
   },
   {
    "duration": 1533987,
    "start_time": "2024-09-26T09:52:39.797Z"
   },
   {
    "duration": 0,
    "start_time": "2024-09-26T10:18:13.787Z"
   },
   {
    "duration": 6085,
    "start_time": "2024-09-26T10:23:16.946Z"
   },
   {
    "duration": 3568,
    "start_time": "2024-09-26T10:23:23.034Z"
   },
   {
    "duration": 31,
    "start_time": "2024-09-26T10:23:26.604Z"
   },
   {
    "duration": 11,
    "start_time": "2024-09-26T10:23:26.637Z"
   },
   {
    "duration": 46,
    "start_time": "2024-09-26T10:23:26.650Z"
   },
   {
    "duration": 267,
    "start_time": "2024-09-26T10:23:26.698Z"
   },
   {
    "duration": 222,
    "start_time": "2024-09-26T10:23:26.967Z"
   },
   {
    "duration": 550,
    "start_time": "2024-09-26T10:23:27.192Z"
   },
   {
    "duration": 211,
    "start_time": "2024-09-26T10:23:27.744Z"
   },
   {
    "duration": 5,
    "start_time": "2024-09-26T10:23:27.957Z"
   },
   {
    "duration": 5,
    "start_time": "2024-09-26T10:23:27.975Z"
   },
   {
    "duration": 12,
    "start_time": "2024-09-26T10:23:27.981Z"
   },
   {
    "duration": 59,
    "start_time": "2024-09-26T10:23:27.995Z"
   },
   {
    "duration": 21,
    "start_time": "2024-09-26T10:23:28.055Z"
   },
   {
    "duration": 30,
    "start_time": "2024-09-26T10:23:28.078Z"
   },
   {
    "duration": 3,
    "start_time": "2024-09-26T10:23:28.110Z"
   },
   {
    "duration": 235,
    "start_time": "2024-09-26T10:23:28.115Z"
   },
   {
    "duration": 673,
    "start_time": "2024-09-26T10:23:28.352Z"
   },
   {
    "duration": 31,
    "start_time": "2024-09-26T10:23:29.027Z"
   },
   {
    "duration": 633020,
    "start_time": "2024-09-26T10:23:29.075Z"
   },
   {
    "duration": 0,
    "start_time": "2024-09-26T10:34:02.097Z"
   },
   {
    "duration": 0,
    "start_time": "2024-09-26T10:34:02.098Z"
   },
   {
    "duration": 0,
    "start_time": "2024-09-26T10:34:02.099Z"
   },
   {
    "duration": 0,
    "start_time": "2024-09-26T10:34:02.100Z"
   },
   {
    "duration": 0,
    "start_time": "2024-09-26T10:34:02.100Z"
   },
   {
    "duration": 5854,
    "start_time": "2024-09-26T10:35:54.035Z"
   },
   {
    "duration": 3620,
    "start_time": "2024-09-26T10:35:59.892Z"
   },
   {
    "duration": 34,
    "start_time": "2024-09-26T10:36:03.519Z"
   },
   {
    "duration": 5,
    "start_time": "2024-09-26T10:36:03.555Z"
   },
   {
    "duration": 67,
    "start_time": "2024-09-26T10:36:03.563Z"
   },
   {
    "duration": 260,
    "start_time": "2024-09-26T10:36:03.632Z"
   },
   {
    "duration": 228,
    "start_time": "2024-09-26T10:36:03.894Z"
   },
   {
    "duration": 573,
    "start_time": "2024-09-26T10:36:04.125Z"
   },
   {
    "duration": 269,
    "start_time": "2024-09-26T10:36:04.702Z"
   },
   {
    "duration": 6,
    "start_time": "2024-09-26T10:36:04.975Z"
   },
   {
    "duration": 11,
    "start_time": "2024-09-26T10:36:04.982Z"
   },
   {
    "duration": 6,
    "start_time": "2024-09-26T10:36:04.995Z"
   },
   {
    "duration": 78,
    "start_time": "2024-09-26T10:36:05.003Z"
   },
   {
    "duration": 6,
    "start_time": "2024-09-26T10:36:05.083Z"
   },
   {
    "duration": 36,
    "start_time": "2024-09-26T10:36:05.092Z"
   },
   {
    "duration": 4,
    "start_time": "2024-09-26T10:36:05.130Z"
   },
   {
    "duration": 239,
    "start_time": "2024-09-26T10:36:05.137Z"
   },
   {
    "duration": 652,
    "start_time": "2024-09-26T10:36:05.377Z"
   },
   {
    "duration": 52,
    "start_time": "2024-09-26T10:36:06.031Z"
   },
   {
    "duration": 415804,
    "start_time": "2024-09-26T10:36:06.086Z"
   },
   {
    "duration": 0,
    "start_time": "2024-09-26T10:43:01.892Z"
   },
   {
    "duration": 0,
    "start_time": "2024-09-26T10:43:01.893Z"
   },
   {
    "duration": 0,
    "start_time": "2024-09-26T10:43:01.894Z"
   },
   {
    "duration": 0,
    "start_time": "2024-09-26T10:43:01.896Z"
   },
   {
    "duration": 0,
    "start_time": "2024-09-26T10:43:01.897Z"
   },
   {
    "duration": 5561,
    "start_time": "2024-09-26T10:54:54.206Z"
   },
   {
    "duration": 3652,
    "start_time": "2024-09-26T10:54:59.769Z"
   },
   {
    "duration": 31,
    "start_time": "2024-09-26T10:55:03.422Z"
   },
   {
    "duration": 5,
    "start_time": "2024-09-26T10:55:03.456Z"
   },
   {
    "duration": 50,
    "start_time": "2024-09-26T10:55:03.462Z"
   },
   {
    "duration": 237,
    "start_time": "2024-09-26T10:55:03.514Z"
   },
   {
    "duration": 218,
    "start_time": "2024-09-26T10:55:03.752Z"
   },
   {
    "duration": 575,
    "start_time": "2024-09-26T10:55:03.975Z"
   },
   {
    "duration": 208,
    "start_time": "2024-09-26T10:55:04.551Z"
   },
   {
    "duration": 5,
    "start_time": "2024-09-26T10:55:04.762Z"
   },
   {
    "duration": 5,
    "start_time": "2024-09-26T10:55:04.777Z"
   },
   {
    "duration": 14,
    "start_time": "2024-09-26T10:55:04.784Z"
   },
   {
    "duration": 44,
    "start_time": "2024-09-26T10:55:04.800Z"
   },
   {
    "duration": 4,
    "start_time": "2024-09-26T10:55:04.846Z"
   },
   {
    "duration": 65,
    "start_time": "2024-09-26T10:55:04.853Z"
   },
   {
    "duration": 3,
    "start_time": "2024-09-26T10:55:04.920Z"
   },
   {
    "duration": 212,
    "start_time": "2024-09-26T10:55:04.925Z"
   },
   {
    "duration": 651,
    "start_time": "2024-09-26T10:55:05.139Z"
   },
   {
    "duration": 34,
    "start_time": "2024-09-26T10:55:05.792Z"
   },
   {
    "duration": 493971,
    "start_time": "2024-09-26T10:55:05.829Z"
   },
   {
    "duration": 423,
    "start_time": "2024-09-26T11:03:19.802Z"
   },
   {
    "duration": 525,
    "start_time": "2024-09-26T11:03:20.227Z"
   },
   {
    "duration": 634,
    "start_time": "2024-09-26T11:03:20.754Z"
   },
   {
    "duration": 1895625,
    "start_time": "2024-09-26T11:03:21.390Z"
   },
   {
    "duration": 1573,
    "start_time": "2024-09-26T11:34:57.017Z"
   },
   {
    "duration": 25,
    "start_time": "2024-09-26T11:39:39.844Z"
   },
   {
    "duration": 233442,
    "start_time": "2024-09-26T11:39:41.209Z"
   },
   {
    "duration": 390,
    "start_time": "2024-09-26T11:43:34.654Z"
   },
   {
    "duration": 411,
    "start_time": "2024-09-26T11:43:35.047Z"
   },
   {
    "duration": 2176,
    "start_time": "2024-09-26T11:43:35.461Z"
   },
   {
    "duration": 4842,
    "start_time": "2024-09-26T11:43:37.639Z"
   },
   {
    "duration": 0,
    "start_time": "2024-09-26T11:43:42.483Z"
   },
   {
    "duration": 23,
    "start_time": "2024-09-26T11:43:56.158Z"
   },
   {
    "duration": 40413,
    "start_time": "2024-09-26T11:43:56.902Z"
   },
   {
    "duration": 0,
    "start_time": "2024-09-26T11:44:37.316Z"
   },
   {
    "duration": 0,
    "start_time": "2024-09-26T11:44:37.317Z"
   },
   {
    "duration": 0,
    "start_time": "2024-09-26T11:44:37.318Z"
   },
   {
    "duration": 341852,
    "start_time": "2024-09-26T11:44:43.746Z"
   },
   {
    "duration": 397,
    "start_time": "2024-09-26T11:50:25.600Z"
   },
   {
    "duration": 26,
    "start_time": "2024-09-26T11:50:50.668Z"
   },
   {
    "duration": 618530,
    "start_time": "2024-09-26T11:50:51.574Z"
   },
   {
    "duration": 399,
    "start_time": "2024-09-26T12:01:10.106Z"
   },
   {
    "duration": 5395,
    "start_time": "2024-09-26T12:01:54.612Z"
   },
   {
    "duration": 3540,
    "start_time": "2024-09-26T12:02:00.010Z"
   },
   {
    "duration": 32,
    "start_time": "2024-09-26T12:02:03.552Z"
   },
   {
    "duration": 6,
    "start_time": "2024-09-26T12:02:03.586Z"
   },
   {
    "duration": 66,
    "start_time": "2024-09-26T12:02:03.595Z"
   },
   {
    "duration": 228,
    "start_time": "2024-09-26T12:02:03.664Z"
   },
   {
    "duration": 205,
    "start_time": "2024-09-26T12:02:03.894Z"
   },
   {
    "duration": 546,
    "start_time": "2024-09-26T12:02:04.101Z"
   },
   {
    "duration": 219,
    "start_time": "2024-09-26T12:02:04.649Z"
   },
   {
    "duration": 10,
    "start_time": "2024-09-26T12:02:04.869Z"
   },
   {
    "duration": 60,
    "start_time": "2024-09-26T12:02:04.881Z"
   },
   {
    "duration": 7,
    "start_time": "2024-09-26T12:02:04.943Z"
   },
   {
    "duration": 64,
    "start_time": "2024-09-26T12:02:04.952Z"
   },
   {
    "duration": 6,
    "start_time": "2024-09-26T12:02:05.020Z"
   },
   {
    "duration": 49,
    "start_time": "2024-09-26T12:02:05.027Z"
   },
   {
    "duration": 3,
    "start_time": "2024-09-26T12:02:05.079Z"
   },
   {
    "duration": 189,
    "start_time": "2024-09-26T12:02:05.083Z"
   },
   {
    "duration": 603,
    "start_time": "2024-09-26T12:02:05.274Z"
   },
   {
    "duration": 26,
    "start_time": "2024-09-26T12:02:05.879Z"
   },
   {
    "duration": 642877,
    "start_time": "2024-09-26T12:02:05.907Z"
   },
   {
    "duration": 392,
    "start_time": "2024-09-26T12:12:48.786Z"
   },
   {
    "duration": 385,
    "start_time": "2024-09-26T12:12:49.180Z"
   },
   {
    "duration": 335,
    "start_time": "2024-09-26T12:12:49.567Z"
   },
   {
    "duration": 189548,
    "start_time": "2024-09-26T12:12:49.904Z"
   },
   {
    "duration": 0,
    "start_time": "2024-09-26T12:15:59.453Z"
   },
   {
    "duration": 3104514,
    "start_time": "2024-09-26T12:16:07.219Z"
   },
   {
    "duration": 913,
    "start_time": "2024-09-26T13:07:51.735Z"
   },
   {
    "duration": 5998,
    "start_time": "2024-09-26T13:12:13.558Z"
   },
   {
    "duration": 3742,
    "start_time": "2024-09-26T13:12:19.558Z"
   },
   {
    "duration": 31,
    "start_time": "2024-09-26T13:12:23.302Z"
   },
   {
    "duration": 4,
    "start_time": "2024-09-26T13:12:23.335Z"
   },
   {
    "duration": 61,
    "start_time": "2024-09-26T13:12:23.341Z"
   },
   {
    "duration": 227,
    "start_time": "2024-09-26T13:12:23.404Z"
   },
   {
    "duration": 211,
    "start_time": "2024-09-26T13:12:23.633Z"
   },
   {
    "duration": 550,
    "start_time": "2024-09-26T13:12:23.846Z"
   },
   {
    "duration": 214,
    "start_time": "2024-09-26T13:12:24.398Z"
   },
   {
    "duration": 5,
    "start_time": "2024-09-26T13:12:24.615Z"
   },
   {
    "duration": 6,
    "start_time": "2024-09-26T13:12:24.622Z"
   },
   {
    "duration": 7,
    "start_time": "2024-09-26T13:12:24.630Z"
   },
   {
    "duration": 69,
    "start_time": "2024-09-26T13:12:24.638Z"
   },
   {
    "duration": 5,
    "start_time": "2024-09-26T13:12:24.709Z"
   },
   {
    "duration": 85,
    "start_time": "2024-09-26T13:12:24.716Z"
   },
   {
    "duration": 3,
    "start_time": "2024-09-26T13:12:24.802Z"
   },
   {
    "duration": 184,
    "start_time": "2024-09-26T13:12:24.807Z"
   },
   {
    "duration": 635,
    "start_time": "2024-09-26T13:12:24.994Z"
   },
   {
    "duration": 26,
    "start_time": "2024-09-26T13:12:25.631Z"
   },
   {
    "duration": 681130,
    "start_time": "2024-09-26T13:12:25.659Z"
   },
   {
    "duration": 405,
    "start_time": "2024-09-26T13:23:46.792Z"
   },
   {
    "duration": 362,
    "start_time": "2024-09-26T13:23:47.199Z"
   },
   {
    "duration": 341,
    "start_time": "2024-09-26T13:23:47.563Z"
   },
   {
    "duration": 1118240,
    "start_time": "2024-09-26T13:23:47.906Z"
   },
   {
    "duration": 0,
    "start_time": "2024-09-26T13:42:26.149Z"
   },
   {
    "duration": 5080,
    "start_time": "2024-09-26T13:42:55.364Z"
   },
   {
    "duration": 3347,
    "start_time": "2024-09-26T13:43:00.446Z"
   },
   {
    "duration": 31,
    "start_time": "2024-09-26T13:43:03.794Z"
   },
   {
    "duration": 19,
    "start_time": "2024-09-26T13:43:03.827Z"
   },
   {
    "duration": 44,
    "start_time": "2024-09-26T13:43:03.847Z"
   },
   {
    "duration": 208,
    "start_time": "2024-09-26T13:43:03.892Z"
   },
   {
    "duration": 193,
    "start_time": "2024-09-26T13:43:04.101Z"
   },
   {
    "duration": 513,
    "start_time": "2024-09-26T13:43:04.296Z"
   },
   {
    "duration": 190,
    "start_time": "2024-09-26T13:43:04.811Z"
   },
   {
    "duration": 4,
    "start_time": "2024-09-26T13:43:05.004Z"
   },
   {
    "duration": 6,
    "start_time": "2024-09-26T13:43:05.009Z"
   },
   {
    "duration": 20,
    "start_time": "2024-09-26T13:43:05.016Z"
   },
   {
    "duration": 43,
    "start_time": "2024-09-26T13:43:05.038Z"
   },
   {
    "duration": 3,
    "start_time": "2024-09-26T13:43:05.083Z"
   },
   {
    "duration": 37,
    "start_time": "2024-09-26T13:43:05.088Z"
   },
   {
    "duration": 3,
    "start_time": "2024-09-26T13:43:05.127Z"
   },
   {
    "duration": 175,
    "start_time": "2024-09-26T13:43:05.131Z"
   },
   {
    "duration": 622,
    "start_time": "2024-09-26T13:43:05.308Z"
   },
   {
    "duration": 24,
    "start_time": "2024-09-26T13:43:05.931Z"
   },
   {
    "duration": 208124,
    "start_time": "2024-09-26T13:43:05.957Z"
   },
   {
    "duration": 0,
    "start_time": "2024-09-26T13:46:34.083Z"
   },
   {
    "duration": 0,
    "start_time": "2024-09-26T13:46:34.084Z"
   },
   {
    "duration": 0,
    "start_time": "2024-09-26T13:46:34.087Z"
   },
   {
    "duration": 0,
    "start_time": "2024-09-26T13:46:34.089Z"
   },
   {
    "duration": 0,
    "start_time": "2024-09-26T13:46:34.090Z"
   },
   {
    "duration": 5295,
    "start_time": "2024-09-26T13:47:07.832Z"
   },
   {
    "duration": 3180,
    "start_time": "2024-09-26T13:47:13.129Z"
   },
   {
    "duration": 30,
    "start_time": "2024-09-26T13:47:16.310Z"
   },
   {
    "duration": 4,
    "start_time": "2024-09-26T13:47:16.342Z"
   },
   {
    "duration": 44,
    "start_time": "2024-09-26T13:47:16.348Z"
   },
   {
    "duration": 206,
    "start_time": "2024-09-26T13:47:16.393Z"
   },
   {
    "duration": 191,
    "start_time": "2024-09-26T13:47:16.600Z"
   },
   {
    "duration": 510,
    "start_time": "2024-09-26T13:47:16.793Z"
   },
   {
    "duration": 183,
    "start_time": "2024-09-26T13:47:17.305Z"
   },
   {
    "duration": 4,
    "start_time": "2024-09-26T13:47:17.491Z"
   },
   {
    "duration": 65,
    "start_time": "2024-09-26T13:47:17.496Z"
   },
   {
    "duration": 27,
    "start_time": "2024-09-26T13:47:17.562Z"
   },
   {
    "duration": 41,
    "start_time": "2024-09-26T13:47:17.590Z"
   },
   {
    "duration": 4,
    "start_time": "2024-09-26T13:47:17.633Z"
   },
   {
    "duration": 63,
    "start_time": "2024-09-26T13:47:17.639Z"
   },
   {
    "duration": 3,
    "start_time": "2024-09-26T13:47:17.704Z"
   },
   {
    "duration": 168,
    "start_time": "2024-09-26T13:47:17.708Z"
   },
   {
    "duration": 592,
    "start_time": "2024-09-26T13:47:17.877Z"
   },
   {
    "duration": 24,
    "start_time": "2024-09-26T13:47:18.471Z"
   },
   {
    "duration": 460502,
    "start_time": "2024-09-26T13:47:18.497Z"
   },
   {
    "duration": 414,
    "start_time": "2024-09-26T13:54:59.001Z"
   },
   {
    "duration": 339,
    "start_time": "2024-09-26T13:54:59.417Z"
   },
   {
    "duration": 320,
    "start_time": "2024-09-26T13:54:59.759Z"
   },
   {
    "duration": 2161609,
    "start_time": "2024-09-26T13:55:00.081Z"
   },
   {
    "duration": 1203,
    "start_time": "2024-09-26T14:31:01.692Z"
   },
   {
    "duration": 653,
    "start_time": "2024-09-26T14:31:43.362Z"
   },
   {
    "duration": 58,
    "start_time": "2024-09-26T14:32:48.864Z"
   }
  ],
  "kernelspec": {
   "display_name": "Python 3 (ipykernel)",
   "language": "python",
   "name": "python3"
  },
  "language_info": {
   "codemirror_mode": {
    "name": "ipython",
    "version": 3
   },
   "file_extension": ".py",
   "mimetype": "text/x-python",
   "name": "python",
   "nbconvert_exporter": "python",
   "pygments_lexer": "ipython3",
   "version": "3.9.5"
  },
  "toc": {
   "base_numbering": 1,
   "nav_menu": {},
   "number_sections": false,
   "sideBar": true,
   "skip_h1_title": false,
   "title_cell": "Table of Contents",
   "title_sidebar": "Contents",
   "toc_cell": false,
   "toc_position": {},
   "toc_section_display": true,
   "toc_window_display": false
  },
  "varInspector": {
   "cols": {
    "lenName": 16,
    "lenType": 16,
    "lenVar": 40
   },
   "kernels_config": {
    "python": {
     "delete_cmd_postfix": "",
     "delete_cmd_prefix": "del ",
     "library": "var_list.py",
     "varRefreshCmd": "print(var_dic_list())"
    },
    "r": {
     "delete_cmd_postfix": ") ",
     "delete_cmd_prefix": "rm(",
     "library": "var_list.r",
     "varRefreshCmd": "cat(var_dic_list()) "
    }
   },
   "types_to_exclude": [
    "module",
    "function",
    "builtin_function_or_method",
    "instance",
    "_Feature"
   ],
   "window_display": false
  }
 },
 "nbformat": 4,
 "nbformat_minor": 5
}
